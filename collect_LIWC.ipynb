{
 "cells": [
  {
   "cell_type": "code",
   "execution_count": 1,
   "id": "seeing-glass",
   "metadata": {},
   "outputs": [],
   "source": [
    "import requests\n",
    "import json\n",
    "import pandas as pd\n",
    "import time\n",
    "from tqdm import tqdm\n",
    "from datetime import datetime\n",
    "import os\n",
    "import csv"
   ]
  },
  {
   "cell_type": "code",
   "execution_count": 2,
   "id": "placed-brisbane",
   "metadata": {},
   "outputs": [],
   "source": [
    "#change this to be whatever subreddit you want to scrape\n",
    "subreddit = 'Depression_Help'"
   ]
  },
  {
   "cell_type": "code",
   "execution_count": 3,
   "id": "divine-motivation",
   "metadata": {},
   "outputs": [
    {
     "data": {
      "text/html": [
       "<div>\n",
       "<style scoped>\n",
       "    .dataframe tbody tr th:only-of-type {\n",
       "        vertical-align: middle;\n",
       "    }\n",
       "\n",
       "    .dataframe tbody tr th {\n",
       "        vertical-align: top;\n",
       "    }\n",
       "\n",
       "    .dataframe thead th {\n",
       "        text-align: right;\n",
       "    }\n",
       "</style>\n",
       "<table border=\"1\" class=\"dataframe\">\n",
       "  <thead>\n",
       "    <tr style=\"text-align: right;\">\n",
       "      <th></th>\n",
       "      <th>text</th>\n",
       "      <th>time</th>\n",
       "      <th>score</th>\n",
       "    </tr>\n",
       "  </thead>\n",
       "  <tbody>\n",
       "    <tr>\n",
       "      <th>0</th>\n",
       "      <td>I don't even know where to begin. I've never ...</td>\n",
       "      <td>01Jan2017</td>\n",
       "      <td>7</td>\n",
       "    </tr>\n",
       "    <tr>\n",
       "      <th>1</th>\n",
       "      <td>Earlier this year I lost a pillar in my life t...</td>\n",
       "      <td>01Jan2017</td>\n",
       "      <td>2</td>\n",
       "    </tr>\n",
       "    <tr>\n",
       "      <th>2</th>\n",
       "      <td>I am so filled with anger and rage I can't kee...</td>\n",
       "      <td>01Jan2017</td>\n",
       "      <td>3</td>\n",
       "    </tr>\n",
       "    <tr>\n",
       "      <th>3</th>\n",
       "      <td>I drink, to excess, then I get sad. Really sad...</td>\n",
       "      <td>01Jan2017</td>\n",
       "      <td>2</td>\n",
       "    </tr>\n",
       "    <tr>\n",
       "      <th>4</th>\n",
       "      <td>My closest childhood friend has had a rough se...</td>\n",
       "      <td>01Jan2017</td>\n",
       "      <td>3</td>\n",
       "    </tr>\n",
       "  </tbody>\n",
       "</table>\n",
       "</div>"
      ],
      "text/plain": [
       "                                                text       time score\n",
       "0   I don't even know where to begin. I've never ...  01Jan2017     7\n",
       "1  Earlier this year I lost a pillar in my life t...  01Jan2017     2\n",
       "2  I am so filled with anger and rage I can't kee...  01Jan2017     3\n",
       "3  I drink, to excess, then I get sad. Really sad...  01Jan2017     2\n",
       "4  My closest childhood friend has had a rough se...  01Jan2017     3"
      ]
     },
     "execution_count": 3,
     "metadata": {},
     "output_type": "execute_result"
    }
   ],
   "source": [
    "#read all of the data in from \n",
    "df = pd.read_csv(f'{subreddit}_data/raw_data_2017/01Jan2017.csv').drop(['Unnamed: 0'], axis = 1)\n",
    "for year in range(2017,2021):\n",
    "    #TODO: Change when changing subreddit\n",
    "    for file in os.listdir(f'{subreddit}_data/raw_data_{year}'):\n",
    "        if file[-3:] == 'csv':\n",
    "            #TODO: Change when changing subreddit\n",
    "            df_new = pd.read_csv(f'{subreddit}_data/raw_data_{year}/{file}').drop(['Unnamed: 0'], axis=1)\n",
    "            df_new.time = df_new.time.apply(lambda x: file[:-4])\n",
    "            df = pd.concat([df, df_new]).reset_index(drop=True)\n",
    "df.head()"
   ]
  },
  {
   "cell_type": "code",
   "execution_count": 4,
   "id": "listed-miller",
   "metadata": {},
   "outputs": [
    {
     "name": "stdout",
     "output_type": "stream",
     "text": [
      "                                                    text       time\n",
      "0       I don't even know where to begin. I've never ...  01Jan2017\n",
      "1      Earlier this year I lost a pillar in my life t...  01Jan2017\n",
      "2      I am so filled with anger and rage I can't kee...  01Jan2017\n",
      "3      I drink, to excess, then I get sad. Really sad...  01Jan2017\n",
      "4      My closest childhood friend has had a rough se...  01Jan2017\n",
      "...                                                  ...        ...\n",
      "14317  My life is not going how I thought it would or...  15Jul2020\n",
      "14318  I've been depressed for as long as I can remem...  15Jul2020\n",
      "14319  Hello fellow redditors, I literally always use...  15Jul2020\n",
      "14320  My boyfriend is so depressed and I just don’t ...  15Jul2020\n",
      "14321  Therapy costs too much and my parents won't le...  15Jul2020\n",
      "\n",
      "[14322 rows x 2 columns]\n"
     ]
    }
   ],
   "source": [
    "df = df.drop(columns=['score'])\n",
    "print(df)"
   ]
  },
  {
   "cell_type": "code",
   "execution_count": 5,
   "id": "equipped-situation",
   "metadata": {},
   "outputs": [],
   "source": [
    "df.to_csv(f'{subreddit}_data/all_years_data.csv')"
   ]
  }
 ],
 "metadata": {
  "kernelspec": {
   "display_name": "Python 3",
   "language": "python",
   "name": "python3"
  },
  "language_info": {
   "codemirror_mode": {
    "name": "ipython",
    "version": 3
   },
   "file_extension": ".py",
   "mimetype": "text/x-python",
   "name": "python",
   "nbconvert_exporter": "python",
   "pygments_lexer": "ipython3",
   "version": "3.7.9"
  }
 },
 "nbformat": 4,
 "nbformat_minor": 5
}
