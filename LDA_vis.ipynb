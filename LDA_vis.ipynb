{
 "cells": [
  {
   "cell_type": "code",
   "execution_count": 1,
   "id": "analyzed-executive",
   "metadata": {},
   "outputs": [],
   "source": [
    "import csv\n",
    "import pandas as pd\n",
    "from tqdm import tqdm\n",
    "from nltk.corpus import stopwords\n",
    "from nltk.tokenize import word_tokenize\n",
    "from nltk.stem import PorterStemmer\n",
    "\n",
    "import warnings\n",
    "warnings.filterwarnings('ignore')"
   ]
  },
  {
   "cell_type": "code",
   "execution_count": 2,
   "id": "defined-galaxy",
   "metadata": {},
   "outputs": [],
   "source": [
    "file_names = ['Feb1', 'Feb2', 'Mar1', 'Mar2', 'Apr1', 'Apr2', 'May1', 'May2', 'Jun1', 'Jun2', 'Jul1', 'Jul2', \n",
    "              'Aug1', 'Aug2', 'Sep1', 'Sep2', 'Oct1', 'Oct2', 'Nov1', 'Nov2', 'Dec1', 'Dec2', 'Jan1', 'Jan2']"
   ]
  },
  {
   "cell_type": "code",
   "execution_count": 3,
   "id": "dressed-bundle",
   "metadata": {},
   "outputs": [],
   "source": [
    "# data will be stored as a list of 24 dataframes (one for each period above)\n",
    "# only load in self text -- titles are too sparse!\n",
    "data = []\n",
    "\n",
    "for file_name in file_names:\n",
    "    df = pd.read_csv(f'raw_data/{file_name}.csv')['text'].astype(str)\n",
    "    data.append(df)"
   ]
  },
  {
   "cell_type": "markdown",
   "id": "saved-harvey",
   "metadata": {},
   "source": [
    "## Data Cleaning"
   ]
  },
  {
   "cell_type": "code",
   "execution_count": 4,
   "id": "creative-relation",
   "metadata": {},
   "outputs": [],
   "source": [
    "stopeng = stopwords.words('english')\n",
    "ps = PorterStemmer()\n",
    "\n",
    "def clean_data(x):\n",
    "    # convert to lowercase\n",
    "    x = x.lower()\n",
    "    \n",
    "    # tokenize sentence\n",
    "    x = word_tokenize(x)\n",
    "#     x = x.split(' ')\n",
    "    \n",
    "    # remove stop words\n",
    "    x = [word for word in x if word not in stopeng]\n",
    "\n",
    "    # remove punctuation\n",
    "    x = [word for word in x if any(letter.isalnum() for letter in word)]\n",
    "    \n",
    "    # stemming\n",
    "#     x = [ps.stem(word) for word in x] \n",
    "    \n",
    "    # rejoin text\n",
    "    x = ' '.join(x)\n",
    "    \n",
    "    return x"
   ]
  },
  {
   "cell_type": "code",
   "execution_count": 5,
   "id": "rocky-destiny",
   "metadata": {
    "scrolled": true
   },
   "outputs": [
    {
     "name": "stderr",
     "output_type": "stream",
     "text": [
      "100%|██████████| 24/24 [03:18<00:00,  8.26s/it]\n"
     ]
    }
   ],
   "source": [
    "for df in tqdm(data):\n",
    "    df= df.apply(clean_data)"
   ]
  },
  {
   "cell_type": "markdown",
   "id": "indian-universe",
   "metadata": {},
   "source": [
    "#### Comparison: Clean vs. Raw Data"
   ]
  },
  {
   "cell_type": "code",
   "execution_count": 7,
   "id": "welcome-admission",
   "metadata": {},
   "outputs": [
    {
     "data": {
      "text/plain": [
       "0    everyone I know is either struggling themself ...\n",
       "1    So I wanna know if the guy who raped me was an...\n",
       "2                                            [removed]\n",
       "3    I have come to the conclusion I have way to hi...\n",
       "4    So I’ve gone to my parents about anxiety and a...\n",
       "Name: text, dtype: object"
      ]
     },
     "execution_count": 7,
     "metadata": {},
     "output_type": "execute_result"
    }
   ],
   "source": [
    "# clean data\n",
    "data[0].head()"
   ]
  },
  {
   "cell_type": "code",
   "execution_count": 8,
   "id": "departmental-playlist",
   "metadata": {},
   "outputs": [
    {
     "data": {
      "text/plain": [
       "0    everyone I know is either struggling themself ...\n",
       "1    So I wanna know if the guy who raped me was an...\n",
       "2                                            [removed]\n",
       "3    I have come to the conclusion I have way to hi...\n",
       "4    So I’ve gone to my parents about anxiety and a...\n",
       "Name: text, dtype: object"
      ]
     },
     "execution_count": 8,
     "metadata": {},
     "output_type": "execute_result"
    }
   ],
   "source": [
    "# raw data\n",
    "pd.read_csv(f'raw_data/Feb1.csv').head()['text']"
   ]
  },
  {
   "cell_type": "markdown",
   "id": "specialized-flight",
   "metadata": {},
   "source": [
    "## Latent Dirichlet Allocation "
   ]
  },
  {
   "cell_type": "code",
   "execution_count": 9,
   "id": "separated-cowboy",
   "metadata": {},
   "outputs": [],
   "source": [
    "from sklearn.feature_extraction.text import CountVectorizer\n",
    "from sklearn.decomposition import LatentDirichletAllocation as LDA\n",
    "from pyLDAvis import sklearn as sklearn_lda\n",
    "import pickle \n",
    "import pyLDAvis"
   ]
  },
  {
   "cell_type": "code",
   "execution_count": 10,
   "id": "elder-limitation",
   "metadata": {},
   "outputs": [
    {
     "name": "stderr",
     "output_type": "stream",
     "text": [
      "/home/ericch/.local/lib/python3.8/site-packages/ipykernel/ipkernel.py:283: DeprecationWarning: `should_run_async` will not call `transform_cell` automatically in the future. Please pass the result to `transformed_cell` argument and any exception that happen during thetransform in `preprocessing_exc_tuple` in IPython 7.17 and above.\n",
      "  and should_run_async(code)\n"
     ]
    }
   ],
   "source": [
    "def print_topics(model, count_vectorizer, n_top_words):\n",
    "    words = count_vectorizer.get_feature_names()\n",
    "    for topic_idx, topic in enumerate(model.components_):\n",
    "        print(f\"\\nTopic {topic_idx + 1}:\")\n",
    "        print(\" \".join([words[i] for i in topic.argsort()[:-n_top_words - 1:-1]]))"
   ]
  },
  {
   "cell_type": "code",
   "execution_count": 15,
   "id": "seventh-casting",
   "metadata": {},
   "outputs": [
    {
     "name": "stderr",
     "output_type": "stream",
     "text": [
      "/home/ericch/.local/lib/python3.8/site-packages/ipykernel/ipkernel.py:283: DeprecationWarning: `should_run_async` will not call `transform_cell` automatically in the future. Please pass the result to `transformed_cell` argument and any exception that happen during thetransform in `preprocessing_exc_tuple` in IPython 7.17 and above.\n",
      "  and should_run_async(code)\n",
      "100%|██████████| 24/24 [03:28<00:00,  8.70s/it]\n"
     ]
    }
   ],
   "source": [
    "# Tweak the two parameters below\n",
    "num_topics = 6\n",
    "num_words = 12\n",
    "stopeng.extend(['like'])\n",
    "\n",
    "for df, date in tqdm(zip(data, file_names), total=24):\n",
    "    count_vectorizer = CountVectorizer(stop_words=stopeng)\n",
    "    count_data = count_vectorizer.fit_transform(df)\n",
    "    \n",
    "    lda = LDA(n_components=num_topics, random_state=42, n_jobs=-1)\n",
    "    lda.fit(count_data)\n",
    "    \n",
    "    LDAvis_prepared = sklearn_lda.prepare(lda, count_data, count_vectorizer)\n",
    "    pyLDAvis.save_html(LDAvis_prepared, f'figures/LDA/{date}_LDA.html')\n",
    "    pyLDAvis.display(LDAvis_prepared)"
   ]
  },
  {
   "cell_type": "code",
   "execution_count": 16,
   "id": "representative-diploma",
   "metadata": {
    "scrolled": true
   },
   "outputs": [
    {
     "name": "stdout",
     "output_type": "stream",
     "text": [
      "\n",
      "Topics found via LDA - self text =============================\n",
      "\n",
      "Topic 1:\n",
      "feel people want know even life help time get need much think\n",
      "\n",
      "Topic 2:\n",
      "get time want one know feel never go life even years really\n",
      "\n",
      "Topic 3:\n",
      "feel know even really people life time want get help mental something\n",
      "\n",
      "Topic 4:\n",
      "feel know really get im even anxiety would want something things day\n",
      "\n",
      "Topic 5:\n",
      "https health mental com www youtube feeling time youtu sandy work us\n",
      "\n",
      "Topic 6:\n",
      "feel know time get people really would want life think things always\n"
     ]
    },
    {
     "name": "stderr",
     "output_type": "stream",
     "text": [
      "/home/ericch/.local/lib/python3.8/site-packages/ipykernel/ipkernel.py:283: DeprecationWarning: `should_run_async` will not call `transform_cell` automatically in the future. Please pass the result to `transformed_cell` argument and any exception that happen during thetransform in `preprocessing_exc_tuple` in IPython 7.17 and above.\n",
      "  and should_run_async(code)\n"
     ]
    }
   ],
   "source": [
    "# Print the topics found by the LDA model\n",
    "print(\"\\nTopics found via LDA - self text =============================\")\n",
    "print_topics(lda, count_vectorizer, num_words)"
   ]
  },
  {
   "cell_type": "code",
   "execution_count": null,
   "id": "isolated-membrane",
   "metadata": {},
   "outputs": [],
   "source": []
  }
 ],
 "metadata": {
  "kernelspec": {
   "display_name": "Python 3",
   "language": "python",
   "name": "python3"
  },
  "language_info": {
   "codemirror_mode": {
    "name": "ipython",
    "version": 3
   },
   "file_extension": ".py",
   "mimetype": "text/x-python",
   "name": "python",
   "nbconvert_exporter": "python",
   "pygments_lexer": "ipython3",
   "version": "3.8.5"
  }
 },
 "nbformat": 4,
 "nbformat_minor": 5
}
