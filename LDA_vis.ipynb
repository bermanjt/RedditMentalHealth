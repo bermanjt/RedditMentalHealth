{
 "cells": [
  {
   "cell_type": "code",
   "execution_count": 3,
   "id": "analyzed-executive",
   "metadata": {},
   "outputs": [],
   "source": [
    "import os\n",
    "import csv\n",
    "import pandas as pd\n",
    "from tqdm import tqdm\n",
    "from nltk.corpus import stopwords\n",
    "from nltk.tokenize import word_tokenize\n",
    "from nltk.stem import PorterStemmer\n",
    "\n",
    "import warnings\n",
    "warnings.filterwarnings('ignore')"
   ]
  },
  {
   "cell_type": "code",
   "execution_count": 7,
   "id": "dressed-bundle",
   "metadata": {},
   "outputs": [
    {
     "data": {
      "text/html": [
       "<div>\n",
       "<style scoped>\n",
       "    .dataframe tbody tr th:only-of-type {\n",
       "        vertical-align: middle;\n",
       "    }\n",
       "\n",
       "    .dataframe tbody tr th {\n",
       "        vertical-align: top;\n",
       "    }\n",
       "\n",
       "    .dataframe thead th {\n",
       "        text-align: right;\n",
       "    }\n",
       "</style>\n",
       "<table border=\"1\" class=\"dataframe\">\n",
       "  <thead>\n",
       "    <tr style=\"text-align: right;\">\n",
       "      <th></th>\n",
       "      <th>text</th>\n",
       "      <th>time</th>\n",
       "      <th>score</th>\n",
       "    </tr>\n",
       "  </thead>\n",
       "  <tbody>\n",
       "    <tr>\n",
       "      <th>0</th>\n",
       "      <td>I don't know how many of you read it, but a fe...</td>\n",
       "      <td>01Jan2017</td>\n",
       "      <td>6</td>\n",
       "    </tr>\n",
       "    <tr>\n",
       "      <th>2</th>\n",
       "      <td>The reason that it occurred to me that I may h...</td>\n",
       "      <td>01Jan2017</td>\n",
       "      <td>1</td>\n",
       "    </tr>\n",
       "    <tr>\n",
       "      <th>3</th>\n",
       "      <td>Sometimes I don't really feel like a participa...</td>\n",
       "      <td>01Jan2017</td>\n",
       "      <td>5</td>\n",
       "    </tr>\n",
       "    <tr>\n",
       "      <th>6</th>\n",
       "      <td>Hi, and thanks for reading this post. I'm look...</td>\n",
       "      <td>01Jan2017</td>\n",
       "      <td>1</td>\n",
       "    </tr>\n",
       "    <tr>\n",
       "      <th>8</th>\n",
       "      <td>Loaded question I know, trying to scribble thi...</td>\n",
       "      <td>01Jan2017</td>\n",
       "      <td>7</td>\n",
       "    </tr>\n",
       "  </tbody>\n",
       "</table>\n",
       "</div>"
      ],
      "text/plain": [
       "                                                text       time  score\n",
       "0  I don't know how many of you read it, but a fe...  01Jan2017      6\n",
       "2  The reason that it occurred to me that I may h...  01Jan2017      1\n",
       "3  Sometimes I don't really feel like a participa...  01Jan2017      5\n",
       "6  Hi, and thanks for reading this post. I'm look...  01Jan2017      1\n",
       "8  Loaded question I know, trying to scribble thi...  01Jan2017      7"
      ]
     },
     "execution_count": 7,
     "metadata": {},
     "output_type": "execute_result"
    }
   ],
   "source": [
    "df = pd.read_csv('raw_data_2017/01Jan2017.csv').drop(['Unnamed: 0'], axis=1)\n",
    "for year in range(2017, 2021):\n",
    "    for file in os.listdir(f'raw_data_{year}'):\n",
    "        if file[-3:] == 'csv':\n",
    "            df_new = pd.read_csv(f'raw_data_{year}/{file}').drop(['Unnamed: 0'], axis=1)\n",
    "            df_new.time = df_new.time.apply(lambda x: file[:-4])\n",
    "            df = pd.concat([df, df_new]).reset_index(drop=True)\n",
    "df = df[df['text'] != '[deleted]']\n",
    "df.head()"
   ]
  },
  {
   "cell_type": "markdown",
   "id": "saved-harvey",
   "metadata": {},
   "source": [
    "## Data Cleaning"
   ]
  },
  {
   "cell_type": "code",
   "execution_count": 4,
   "id": "creative-relation",
   "metadata": {},
   "outputs": [],
   "source": [
    "stopeng = stopwords.words('english')\n",
    "ps = PorterStemmer()\n",
    "\n",
    "def clean_data(x):\n",
    "    # convert to lowercase\n",
    "    x = x.lower()\n",
    "    \n",
    "    # tokenize sentence\n",
    "    x = word_tokenize(x)\n",
    "#     x = x.split(' ')\n",
    "    \n",
    "    # remove stop words\n",
    "    x = [word for word in x if word not in stopeng]\n",
    "\n",
    "    # remove punctuation\n",
    "    x = [word for word in x if any(letter.isalnum() for letter in word)]\n",
    "    \n",
    "    # stemming\n",
    "#     x = [ps.stem(word) for word in x] \n",
    "    \n",
    "    # rejoin text\n",
    "    x = ' '.join(x)\n",
    "    \n",
    "    return x"
   ]
  },
  {
   "cell_type": "code",
   "execution_count": 5,
   "id": "rocky-destiny",
   "metadata": {
    "scrolled": true
   },
   "outputs": [
    {
     "name": "stderr",
     "output_type": "stream",
     "text": [
      "100%|██████████| 24/24 [03:18<00:00,  8.26s/it]\n"
     ]
    }
   ],
   "source": [
    "df = df.apply(clean_data)"
   ]
  },
  {
   "cell_type": "markdown",
   "id": "indian-universe",
   "metadata": {},
   "source": [
    "#### Comparison: Clean vs. Raw Data"
   ]
  },
  {
   "cell_type": "code",
   "execution_count": 7,
   "id": "welcome-admission",
   "metadata": {},
   "outputs": [
    {
     "data": {
      "text/plain": [
       "0    everyone I know is either struggling themself ...\n",
       "1    So I wanna know if the guy who raped me was an...\n",
       "2                                            [removed]\n",
       "3    I have come to the conclusion I have way to hi...\n",
       "4    So I’ve gone to my parents about anxiety and a...\n",
       "Name: text, dtype: object"
      ]
     },
     "execution_count": 7,
     "metadata": {},
     "output_type": "execute_result"
    }
   ],
   "source": [
    "# clean data\n",
    "data[0].head()"
   ]
  },
  {
   "cell_type": "code",
   "execution_count": 8,
   "id": "departmental-playlist",
   "metadata": {},
   "outputs": [
    {
     "data": {
      "text/plain": [
       "0    everyone I know is either struggling themself ...\n",
       "1    So I wanna know if the guy who raped me was an...\n",
       "2                                            [removed]\n",
       "3    I have come to the conclusion I have way to hi...\n",
       "4    So I’ve gone to my parents about anxiety and a...\n",
       "Name: text, dtype: object"
      ]
     },
     "execution_count": 8,
     "metadata": {},
     "output_type": "execute_result"
    }
   ],
   "source": [
    "# raw data\n",
    "pd.read_csv(f'raw_data/Feb1.csv').head()['text']"
   ]
  },
  {
   "cell_type": "markdown",
   "id": "specialized-flight",
   "metadata": {},
   "source": [
    "## Latent Dirichlet Allocation "
   ]
  },
  {
   "cell_type": "code",
   "execution_count": 9,
   "id": "separated-cowboy",
   "metadata": {},
   "outputs": [],
   "source": [
    "from sklearn.feature_extraction.text import CountVectorizer\n",
    "from sklearn.decomposition import LatentDirichletAllocation as LDA\n",
    "from pyLDAvis import sklearn as sklearn_lda\n",
    "import pickle \n",
    "import pyLDAvis"
   ]
  },
  {
   "cell_type": "code",
   "execution_count": 10,
   "id": "elder-limitation",
   "metadata": {},
   "outputs": [
    {
     "name": "stderr",
     "output_type": "stream",
     "text": [
      "/home/ericch/.local/lib/python3.8/site-packages/ipykernel/ipkernel.py:283: DeprecationWarning: `should_run_async` will not call `transform_cell` automatically in the future. Please pass the result to `transformed_cell` argument and any exception that happen during thetransform in `preprocessing_exc_tuple` in IPython 7.17 and above.\n",
      "  and should_run_async(code)\n"
     ]
    }
   ],
   "source": [
    "def print_topics(model, count_vectorizer, n_top_words):\n",
    "    words = count_vectorizer.get_feature_names()\n",
    "    for topic_idx, topic in enumerate(model.components_):\n",
    "        print(f\"\\nTopic {topic_idx + 1}:\")\n",
    "        print(\" \".join([words[i] for i in topic.argsort()[:-n_top_words - 1:-1]]))"
   ]
  },
  {
   "cell_type": "code",
   "execution_count": 15,
   "id": "seventh-casting",
   "metadata": {},
   "outputs": [
    {
     "name": "stderr",
     "output_type": "stream",
     "text": [
      "/home/ericch/.local/lib/python3.8/site-packages/ipykernel/ipkernel.py:283: DeprecationWarning: `should_run_async` will not call `transform_cell` automatically in the future. Please pass the result to `transformed_cell` argument and any exception that happen during thetransform in `preprocessing_exc_tuple` in IPython 7.17 and above.\n",
      "  and should_run_async(code)\n",
      "100%|██████████| 24/24 [03:28<00:00,  8.70s/it]\n"
     ]
    }
   ],
   "source": [
    "# Tweak the two parameters below\n",
    "num_topics = 6\n",
    "num_words = 12\n",
    "stopeng.extend(['like'])\n",
    "\n",
    "for df, date in tqdm(zip(data, file_names), total=24):\n",
    "    count_vectorizer = CountVectorizer(stop_words=stopeng)\n",
    "    count_data = count_vectorizer.fit_transform(df)\n",
    "    \n",
    "    lda = LDA(n_components=num_topics, random_state=42, n_jobs=-1)\n",
    "    lda.fit(count_data)\n",
    "    \n",
    "    LDAvis_prepared = sklearn_lda.prepare(lda, count_data, count_vectorizer)\n",
    "    pyLDAvis.save_html(LDAvis_prepared, f'figures/LDA/{date}_LDA.html')\n",
    "    pyLDAvis.display(LDAvis_prepared)"
   ]
  },
  {
   "cell_type": "code",
   "execution_count": 16,
   "id": "representative-diploma",
   "metadata": {
    "scrolled": true
   },
   "outputs": [
    {
     "name": "stdout",
     "output_type": "stream",
     "text": [
      "\n",
      "Topics found via LDA - self text =============================\n",
      "\n",
      "Topic 1:\n",
      "feel people want know even life help time get need much think\n",
      "\n",
      "Topic 2:\n",
      "get time want one know feel never go life even years really\n",
      "\n",
      "Topic 3:\n",
      "feel know even really people life time want get help mental something\n",
      "\n",
      "Topic 4:\n",
      "feel know really get im even anxiety would want something things day\n",
      "\n",
      "Topic 5:\n",
      "https health mental com www youtube feeling time youtu sandy work us\n",
      "\n",
      "Topic 6:\n",
      "feel know time get people really would want life think things always\n"
     ]
    },
    {
     "name": "stderr",
     "output_type": "stream",
     "text": [
      "/home/ericch/.local/lib/python3.8/site-packages/ipykernel/ipkernel.py:283: DeprecationWarning: `should_run_async` will not call `transform_cell` automatically in the future. Please pass the result to `transformed_cell` argument and any exception that happen during thetransform in `preprocessing_exc_tuple` in IPython 7.17 and above.\n",
      "  and should_run_async(code)\n"
     ]
    }
   ],
   "source": [
    "# Print the topics found by the LDA model\n",
    "print(\"\\nTopics found via LDA - self text =============================\")\n",
    "print_topics(lda, count_vectorizer, num_words)"
   ]
  },
  {
   "cell_type": "code",
   "execution_count": null,
   "id": "isolated-membrane",
   "metadata": {},
   "outputs": [],
   "source": []
  }
 ],
 "metadata": {
  "kernelspec": {
   "display_name": "Python 3",
   "language": "python",
   "name": "python3"
  },
  "language_info": {
   "codemirror_mode": {
    "name": "ipython",
    "version": 3
   },
   "file_extension": ".py",
   "mimetype": "text/x-python",
   "name": "python",
   "nbconvert_exporter": "python",
   "pygments_lexer": "ipython3",
   "version": "3.8.5"
  }
 },
 "nbformat": 4,
 "nbformat_minor": 5
}
