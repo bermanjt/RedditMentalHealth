{
 "cells": [
  {
   "cell_type": "code",
   "execution_count": 6,
   "id": "included-tulsa",
   "metadata": {},
   "outputs": [],
   "source": [
    "import requests\n",
    "import json\n",
    "import pandas as pd\n",
    "import time\n",
    "from tqdm import tqdm"
   ]
  },
  {
   "cell_type": "code",
   "execution_count": 7,
   "id": "valid-fossil",
   "metadata": {},
   "outputs": [],
   "source": [
    "def get_pushshift_data(data_type, **kwargs):\n",
    "    \"\"\"\n",
    "    Gets data from the pushshift api.\n",
    " \n",
    "    data_type can be 'comment' or 'submission'\n",
    "    The rest of the args are interpreted as payload.\n",
    " \n",
    "    Read more: https://github.com/pushshift/api\n",
    "    \n",
    "    Credit: https://www.jcchouinard.com/how-to-use-reddit-api-with-python/\n",
    "    \"\"\"\n",
    " \n",
    "    base_url = f\"https://api.pushshift.io/reddit/search/{data_type}/\"\n",
    "    payload = kwargs\n",
    "    request = requests.get(base_url, params=payload)\n",
    "    return request.json()"
   ]
  },
  {
   "cell_type": "code",
   "execution_count": 8,
   "id": "broke-norman",
   "metadata": {},
   "outputs": [],
   "source": [
    "def extract_title(x):\n",
    "    try:\n",
    "        title = x['title']\n",
    "        return title\n",
    "    except:\n",
    "        return 0\n",
    "    \n",
    "def extract_text(x):\n",
    "    try:\n",
    "        text = x['selftext']\n",
    "        return text\n",
    "    except:\n",
    "        return 0"
   ]
  },
  {
   "cell_type": "code",
   "execution_count": 9,
   "id": "english-workstation",
   "metadata": {},
   "outputs": [],
   "source": [
    "# specify posts from [1st-8th) and [15-22) of every month (every other week)\n",
    "dates = {\n",
    "         'Feb1': ['1580515200', '1581120000'],\n",
    "         'Feb2': ['1581724800', '1582329600'],\n",
    "         'Mar1': ['1583020800', '1583625600'],\n",
    "         'Mar2': ['1584230400', '1584835200'],\n",
    "         'Apr1': ['1585699200', '1586304000'],\n",
    "         'Apr2': ['1586908800', '1587513600'],\n",
    "         'May1': ['1588291200', '1588896000'],\n",
    "         'May2': ['1589500800', '1590105600'],\n",
    "         'Jun1': ['1590969600', '1591574400'],\n",
    "         'Jun2': ['1592179200', '1592784000'],\n",
    "         'Jul1': ['1593561600', '1594166400'],\n",
    "         'Jul2': ['1594771200', '1595376000'],\n",
    "         'Aug1': ['1596240000', '1596844800'],\n",
    "         'Aug2': ['1597449600', '1598054400'],\n",
    "         'Sep1': ['1598918400', '1599523200'],\n",
    "         'Sep2': ['1600128000', '1600732800'],\n",
    "         'Oct1': ['1601510400', '1602115200'],\n",
    "         'Oct2': ['1602720000', '1603324800'],\n",
    "         'Nov1': ['1604188800', '1604793600'],\n",
    "         'Nov2': ['1605398400', '1606003200'],\n",
    "         'Dec1': ['1606780800', '1607385600'],\n",
    "         'Dec2': ['1607990400', '1608595200'],\n",
    "         'Jan1': ['1609459200', '1610064000'],\n",
    "         'Jan2': ['1610668800', '1611273600']\n",
    "        }"
   ]
  },
  {
   "cell_type": "code",
   "execution_count": null,
   "id": "formal-theater",
   "metadata": {},
   "outputs": [
    {
     "name": "stderr",
     "output_type": "stream",
     "text": [
      "\r",
      "  0%|          | 0/24 [00:00<?, ?it/s]"
     ]
    },
    {
     "name": "stdout",
     "output_type": "stream",
     "text": [
      "SCRAPING Feb1 =====================================\n",
      "1580578465\n"
     ]
    },
    {
     "name": "stderr",
     "output_type": "stream",
     "text": [
      "\r",
      "  4%|▍         | 1/24 [00:40<15:35, 40.67s/it]"
     ]
    },
    {
     "name": "stdout",
     "output_type": "stream",
     "text": [
      "SCRAPING Feb2 =====================================\n",
      "1581764085\n"
     ]
    },
    {
     "name": "stderr",
     "output_type": "stream",
     "text": [
      "\r",
      "  8%|▊         | 2/24 [01:38<18:40, 50.95s/it]"
     ]
    },
    {
     "name": "stdout",
     "output_type": "stream",
     "text": [
      "SCRAPING Mar1 =====================================\n",
      "1583068948\n"
     ]
    },
    {
     "name": "stderr",
     "output_type": "stream",
     "text": [
      "\r",
      " 12%|█▎        | 3/24 [02:16<15:45, 45.04s/it]"
     ]
    },
    {
     "name": "stdout",
     "output_type": "stream",
     "text": [
      "SCRAPING Mar2 =====================================\n",
      "1584281082\n"
     ]
    },
    {
     "name": "stderr",
     "output_type": "stream",
     "text": [
      "\r",
      " 17%|█▋        | 4/24 [02:52<13:49, 41.45s/it]"
     ]
    },
    {
     "name": "stdout",
     "output_type": "stream",
     "text": [
      "SCRAPING Apr1 =====================================\n",
      "1585741792\n"
     ]
    },
    {
     "name": "stderr",
     "output_type": "stream",
     "text": [
      "\r",
      " 21%|██        | 5/24 [03:39<13:45, 43.46s/it]"
     ]
    },
    {
     "name": "stdout",
     "output_type": "stream",
     "text": [
      "SCRAPING Apr2 =====================================\n",
      "1586950996\n"
     ]
    },
    {
     "name": "stderr",
     "output_type": "stream",
     "text": [
      "\r",
      " 25%|██▌       | 6/24 [04:23<13:04, 43.58s/it]"
     ]
    },
    {
     "name": "stdout",
     "output_type": "stream",
     "text": [
      "SCRAPING May1 =====================================\n",
      "1588327428\n"
     ]
    },
    {
     "name": "stderr",
     "output_type": "stream",
     "text": [
      "\r",
      " 29%|██▉       | 7/24 [05:16<13:12, 46.64s/it]"
     ]
    },
    {
     "name": "stdout",
     "output_type": "stream",
     "text": [
      "SCRAPING May2 =====================================\n",
      "1589532715\n"
     ]
    },
    {
     "name": "stderr",
     "output_type": "stream",
     "text": [
      "\r",
      " 33%|███▎      | 8/24 [06:10<13:05, 49.09s/it]"
     ]
    },
    {
     "name": "stdout",
     "output_type": "stream",
     "text": [
      "SCRAPING Jun1 =====================================\n",
      "1591009458\n"
     ]
    },
    {
     "name": "stderr",
     "output_type": "stream",
     "text": [
      "\r",
      " 38%|███▊      | 9/24 [07:03<12:31, 50.08s/it]"
     ]
    },
    {
     "name": "stdout",
     "output_type": "stream",
     "text": [
      "SCRAPING Jun2 =====================================\n",
      "1592210391\n"
     ]
    },
    {
     "name": "stderr",
     "output_type": "stream",
     "text": [
      "\r",
      " 42%|████▏     | 10/24 [07:51<11:32, 49.47s/it]"
     ]
    },
    {
     "name": "stdout",
     "output_type": "stream",
     "text": [
      "SCRAPING Jul1 =====================================\n",
      "1593589018\n"
     ]
    },
    {
     "name": "stderr",
     "output_type": "stream",
     "text": [
      "\r",
      " 46%|████▌     | 11/24 [08:48<11:13, 51.78s/it]"
     ]
    },
    {
     "name": "stdout",
     "output_type": "stream",
     "text": [
      "SCRAPING Jul2 =====================================\n",
      "1594807401\n"
     ]
    },
    {
     "name": "stderr",
     "output_type": "stream",
     "text": [
      "\r",
      " 50%|█████     | 12/24 [09:50<10:59, 54.98s/it]"
     ]
    },
    {
     "name": "stdout",
     "output_type": "stream",
     "text": [
      "SCRAPING Aug1 =====================================\n",
      "1596274772\n"
     ]
    },
    {
     "name": "stderr",
     "output_type": "stream",
     "text": [
      "\r",
      " 54%|█████▍    | 13/24 [10:51<10:23, 56.69s/it]"
     ]
    },
    {
     "name": "stdout",
     "output_type": "stream",
     "text": [
      "SCRAPING Aug2 =====================================\n",
      "1597480399\n"
     ]
    },
    {
     "name": "stderr",
     "output_type": "stream",
     "text": [
      "\r",
      " 58%|█████▊    | 14/24 [11:47<09:24, 56.44s/it]"
     ]
    },
    {
     "name": "stdout",
     "output_type": "stream",
     "text": [
      "SCRAPING Sep1 =====================================\n",
      "1598940128\n"
     ]
    },
    {
     "name": "stderr",
     "output_type": "stream",
     "text": [
      "\r",
      " 62%|██████▎   | 15/24 [12:54<08:56, 59.61s/it]"
     ]
    },
    {
     "name": "stdout",
     "output_type": "stream",
     "text": [
      "SCRAPING Sep2 =====================================\n",
      "1600154060\n"
     ]
    },
    {
     "name": "stderr",
     "output_type": "stream",
     "text": [
      "\r",
      " 67%|██████▋   | 16/24 [13:49<07:47, 58.48s/it]"
     ]
    },
    {
     "name": "stdout",
     "output_type": "stream",
     "text": [
      "SCRAPING Oct1 =====================================\n",
      "1601539301\n"
     ]
    },
    {
     "name": "stderr",
     "output_type": "stream",
     "text": [
      "\r",
      " 71%|███████   | 17/24 [14:41<06:34, 56.42s/it]"
     ]
    },
    {
     "name": "stdout",
     "output_type": "stream",
     "text": [
      "SCRAPING Oct2 =====================================\n",
      "1602755759\n"
     ]
    },
    {
     "name": "stderr",
     "output_type": "stream",
     "text": [
      "\r",
      " 75%|███████▌  | 18/24 [15:35<05:33, 55.62s/it]"
     ]
    },
    {
     "name": "stdout",
     "output_type": "stream",
     "text": [
      "SCRAPING Nov1 =====================================\n",
      "1604224779\n"
     ]
    },
    {
     "name": "stderr",
     "output_type": "stream",
     "text": [
      "\r",
      " 79%|███████▉  | 19/24 [16:26<04:30, 54.20s/it]"
     ]
    },
    {
     "name": "stdout",
     "output_type": "stream",
     "text": [
      "SCRAPING Nov2 =====================================\n",
      "1605437639\n"
     ]
    },
    {
     "name": "stderr",
     "output_type": "stream",
     "text": [
      "\r",
      " 83%|████████▎ | 20/24 [17:18<03:34, 53.74s/it]"
     ]
    },
    {
     "name": "stdout",
     "output_type": "stream",
     "text": [
      "SCRAPING Dec1 =====================================\n",
      "1606808699\n"
     ]
    },
    {
     "name": "stderr",
     "output_type": "stream",
     "text": [
      "\r",
      " 88%|████████▊ | 21/24 [18:01<02:30, 50.33s/it]"
     ]
    },
    {
     "name": "stdout",
     "output_type": "stream",
     "text": [
      "SCRAPING Dec2 =====================================\n",
      "1608029906\n"
     ]
    }
   ],
   "source": [
    "for week in tqdm(dates.keys()):\n",
    "    print(f'SCRAPING {week} =====================================')\n",
    "    begin, end = dates[week]\n",
    "    success = False\n",
    "    while not success:\n",
    "        try:\n",
    "            data = get_pushshift_data(data_type='submission',\n",
    "                                          before=end,\n",
    "                                          after=begin,\n",
    "                                          subreddit='MentalHealth',\n",
    "                                          sort_type='created_utc',\n",
    "                                          sort='asc',\n",
    "                                          size=1000)\n",
    "            df = pd.DataFrame.from_dict(data)\n",
    "            success = True\n",
    "        except:\n",
    "            print('exception encountered...continuing')\n",
    "            time.sleep(1)\n",
    "            continue\n",
    "    \n",
    "    timestamp = str(df.data.iloc[-1]['created_utc'])\n",
    "    while timestamp < end:\n",
    "        try:\n",
    "            data = get_pushshift_data(data_type='submission',\n",
    "                                      before=end,\n",
    "                                      after=timestamp,\n",
    "                                      subreddit='MentalHealth',\n",
    "                                      sort_type='created_utc',\n",
    "                                      sort='asc',\n",
    "                                      size=1000)\n",
    "            df_new = df.append(pd.DataFrame.from_dict(data))\n",
    "            if df_new.data.iloc[-1]['created_utc'] == df.data.iloc[-1]['created_utc']:\n",
    "                break\n",
    "            else:\n",
    "                df = df_new\n",
    "                timestamp = str(df.data.iloc[-1]['created_utc'])\n",
    "                time.sleep(1)\n",
    "\n",
    "        except:\n",
    "            time.sleep(1)\n",
    "            continue\n",
    "\n",
    "    title_df = df.data.apply(extract_title).reset_index()['data'].rename('title')\n",
    "    text_df = df.data.apply(extract_text).reset_index()['data'].rename('text')\n",
    "    full_df = pd.concat([title_df, text_df], axis=1)\n",
    "    full_df.to_csv(f'raw_data/{week}.csv')"
   ]
  },
  {
   "cell_type": "code",
   "execution_count": null,
   "id": "marine-african",
   "metadata": {},
   "outputs": [],
   "source": []
  }
 ],
 "metadata": {
  "kernelspec": {
   "display_name": "Python 3",
   "language": "python",
   "name": "python3"
  },
  "language_info": {
   "codemirror_mode": {
    "name": "ipython",
    "version": 3
   },
   "file_extension": ".py",
   "mimetype": "text/x-python",
   "name": "python",
   "nbconvert_exporter": "python",
   "pygments_lexer": "ipython3",
   "version": "3.7.9"
  }
 },
 "nbformat": 4,
 "nbformat_minor": 5
}
