{
 "cells": [
  {
   "cell_type": "code",
   "execution_count": 1,
   "id": "swiss-envelope",
   "metadata": {},
   "outputs": [],
   "source": [
    "import os\n",
    "from datetime import datetime\n",
    "from tqdm import tqdm\n",
    "import numpy as np\n",
    "import pandas as pd\n",
    "import matplotlib.pyplot as plt\n",
    "import seaborn as sns\n",
    "import altair as alt\n",
    "import nltk\n",
    "# from wordcloud import WordCloud\n",
    "from nrclex import NRCLex\n",
    "\n",
    "sns.set(style='darkgrid')"
   ]
  },
  {
   "cell_type": "markdown",
   "id": "sapphire-census",
   "metadata": {},
   "source": [
    "# Daily Post Frequency\n",
    "\n",
    "Note: DataFrame is NOT already sorted by date!"
   ]
  },
  {
   "cell_type": "code",
   "execution_count": 2,
   "id": "excess-highland",
   "metadata": {},
   "outputs": [],
   "source": [
    "#change this to be whatever subreddit you want to analyze\n",
    "subreddit = 'MentalHealth'"
   ]
  },
  {
   "cell_type": "code",
   "execution_count": 3,
   "id": "legal-clone",
   "metadata": {
    "scrolled": true
   },
   "outputs": [
    {
     "data": {
      "text/html": [
       "<div>\n",
       "<style scoped>\n",
       "    .dataframe tbody tr th:only-of-type {\n",
       "        vertical-align: middle;\n",
       "    }\n",
       "\n",
       "    .dataframe tbody tr th {\n",
       "        vertical-align: top;\n",
       "    }\n",
       "\n",
       "    .dataframe thead th {\n",
       "        text-align: right;\n",
       "    }\n",
       "</style>\n",
       "<table border=\"1\" class=\"dataframe\">\n",
       "  <thead>\n",
       "    <tr style=\"text-align: right;\">\n",
       "      <th></th>\n",
       "      <th>text</th>\n",
       "      <th>time</th>\n",
       "      <th>score</th>\n",
       "    </tr>\n",
       "  </thead>\n",
       "  <tbody>\n",
       "    <tr>\n",
       "      <th>0</th>\n",
       "      <td>I don't know how many of you read it, but a fe...</td>\n",
       "      <td>01Jan2017</td>\n",
       "      <td>6</td>\n",
       "    </tr>\n",
       "    <tr>\n",
       "      <th>1</th>\n",
       "      <td>The reason that it occurred to me that I may h...</td>\n",
       "      <td>01Jan2017</td>\n",
       "      <td>1</td>\n",
       "    </tr>\n",
       "    <tr>\n",
       "      <th>2</th>\n",
       "      <td>Sometimes I don't really feel like a participa...</td>\n",
       "      <td>01Jan2017</td>\n",
       "      <td>5</td>\n",
       "    </tr>\n",
       "    <tr>\n",
       "      <th>3</th>\n",
       "      <td>Hi, and thanks for reading this post. I'm look...</td>\n",
       "      <td>01Jan2017</td>\n",
       "      <td>1</td>\n",
       "    </tr>\n",
       "    <tr>\n",
       "      <th>4</th>\n",
       "      <td>Loaded question I know, trying to scribble thi...</td>\n",
       "      <td>01Jan2017</td>\n",
       "      <td>7</td>\n",
       "    </tr>\n",
       "  </tbody>\n",
       "</table>\n",
       "</div>"
      ],
      "text/plain": [
       "                                                text       time  score\n",
       "0  I don't know how many of you read it, but a fe...  01Jan2017      6\n",
       "1  The reason that it occurred to me that I may h...  01Jan2017      1\n",
       "2  Sometimes I don't really feel like a participa...  01Jan2017      5\n",
       "3  Hi, and thanks for reading this post. I'm look...  01Jan2017      1\n",
       "4  Loaded question I know, trying to scribble thi...  01Jan2017      7"
      ]
     },
     "execution_count": 3,
     "metadata": {},
     "output_type": "execute_result"
    }
   ],
   "source": [
    "df = pd.read_csv(f'{subreddit}_data/raw_data_2017/01Jan2017.csv').drop(['Unnamed: 0'], axis=1)\n",
    "for year in range(2017, 2021):\n",
    "    for file in os.listdir(f'{subreddit}_data/raw_data_{year}'):\n",
    "        if file[-3:] == 'csv':\n",
    "            df_new = pd.read_csv(f'{subreddit}_data/raw_data_{year}/{file}').drop(['Unnamed: 0'], axis=1)\n",
    "            df_new.time = df_new.time.apply(lambda x: file[:-4])\n",
    "            df = pd.concat([df, df_new]).reset_index(drop=True)\n",
    "df.head()"
   ]
  },
  {
   "cell_type": "code",
   "execution_count": 4,
   "id": "exposed-austin",
   "metadata": {
    "scrolled": true
   },
   "outputs": [],
   "source": [
    "# reformat dates\n",
    "df.time = df.time.apply(lambda x: datetime.strptime(x, '%d%b%Y'))"
   ]
  },
  {
   "cell_type": "code",
   "execution_count": 5,
   "id": "answering-class",
   "metadata": {},
   "outputs": [],
   "source": [
    "# sort by date\n",
    "df = df.sort_values('time')"
   ]
  },
  {
   "cell_type": "code",
   "execution_count": 6,
   "id": "nervous-notice",
   "metadata": {},
   "outputs": [],
   "source": [
    "# calculate frequencies for each date\n",
    "sorted_dates = df.time.value_counts().sort_index()\n",
    "\n",
    "freq = pd.DataFrame(sorted_dates).reset_index().rename(columns={'time': 'num_posts', 'index': 'date'})\n",
    "\n",
    "# calculate SMOOTHED frequencies \n",
    "smoothed_freq = pd.DataFrame(sorted_dates).rolling(30).mean().reset_index().rename(columns={'time': 'num_posts',\n",
    "                                                                                            'index': 'date'})"
   ]
  },
  {
   "cell_type": "code",
   "execution_count": 7,
   "id": "supported-haven",
   "metadata": {},
   "outputs": [],
   "source": [
    "series = alt.Chart(freq).mark_line(opacity=0.3,\n",
    "                                  ).encode(x='date', y='num_posts'\n",
    "                                  ).properties(title=f'Frequency of r/{subreddit} Posts'\n",
    "                                  ).interactive(bind_y=False)\n",
    "\n",
    "smoothed = alt.Chart(smoothed_freq.reset_index()).mark_line(\n",
    "                                                           ).encode(x='date', y='num_posts', tooltip=['date', 'num_posts']\n",
    "                                                           ).properties(title=f'Frequency of r/{subreddit} Posts'\n",
    "                                                           ).interactive(bind_y=False)\n",
    "\n",
    "chart = (series + smoothed).properties(width=800, height=300)\n",
    "chart.save(f'figures/{subreddit}/post_freq.html')"
   ]
  },
  {
   "cell_type": "markdown",
   "id": "affected-cherry",
   "metadata": {},
   "source": [
    "### Normalized by Subscribers "
   ]
  },
  {
   "cell_type": "code",
   "execution_count": 8,
   "id": "suitable-heath",
   "metadata": {},
   "outputs": [],
   "source": [
    "trend = pd.read_csv(f'{subreddit}_data/subscriber_count.csv')\n",
    "trend['subscribers'] = trend['subscribers'].interpolate()\n",
    "trend['date'] = trend['date'].apply(lambda x: datetime.strptime(x, '%m/%d/%Y %H:%M').replace(hour=0, minute=0))\n",
    "\n",
    "overlap = pd.DataFrame()\n",
    "dates = freq[freq['date'].isin(trend.date)]['date']\n",
    "overlap['date'] = dates\n",
    "overlap_subs = trend[trend['date'].isin(dates)].reset_index().drop(['index'], axis=1)\n",
    "\n",
    "overlap['detrended'] = freq['num_posts'] / overlap_subs['subscribers']"
   ]
  },
  {
   "cell_type": "code",
   "execution_count": 9,
   "id": "august-metropolitan",
   "metadata": {},
   "outputs": [],
   "source": [
    "series = alt.Chart(overlap).mark_line(opacity=0.3,\n",
    "                                  ).encode(x='date:T', y='detrended:Q'\n",
    "                                  ).properties(title=f'Frequency of r/{subreddit} Posts, Normalized by Subscribers'\n",
    "                                  ).interactive(bind_y=False)\n",
    "series\n",
    "\n",
    "overlap['smoothed'] = overlap['detrended'].rolling(30).mean()\n",
    "smoothed = alt.Chart(overlap).mark_line(\n",
    "                                         ).encode(x='date:T', y='smoothed:Q', tooltip=['date', 'smoothed']\n",
    "                                         ).properties(title=f'Frequency of r/{subreddit} Posts, Normalized by Subscribers'\n",
    "                                         ).interactive(bind_y=False)\n",
    "\n",
    "\n",
    "chart = (series + smoothed).properties(width=800, height=300)\n",
    "chart.save(f'figures/{subreddit}/post_freq_normalized.html')"
   ]
  },
  {
   "cell_type": "markdown",
   "id": "discrete-pattern",
   "metadata": {},
   "source": [
    "# Scores"
   ]
  },
  {
   "cell_type": "code",
   "execution_count": 10,
   "id": "olive-trader",
   "metadata": {},
   "outputs": [
    {
     "name": "stderr",
     "output_type": "stream",
     "text": [
      "/Users/jberman/anaconda3/envs/EECS_Affective/lib/python3.7/site-packages/ipykernel_launcher.py:2: SettingWithCopyWarning: \n",
      "A value is trying to be set on a copy of a slice from a DataFrame.\n",
      "Try using .loc[row_indexer,col_indexer] = value instead\n",
      "\n",
      "See the caveats in the documentation: https://pandas.pydata.org/pandas-docs/stable/user_guide/indexing.html#returning-a-view-versus-a-copy\n",
      "  \n"
     ]
    },
    {
     "data": {
      "text/html": [
       "<div>\n",
       "<style scoped>\n",
       "    .dataframe tbody tr th:only-of-type {\n",
       "        vertical-align: middle;\n",
       "    }\n",
       "\n",
       "    .dataframe tbody tr th {\n",
       "        vertical-align: top;\n",
       "    }\n",
       "\n",
       "    .dataframe thead th {\n",
       "        text-align: right;\n",
       "    }\n",
       "</style>\n",
       "<table border=\"1\" class=\"dataframe\">\n",
       "  <thead>\n",
       "    <tr style=\"text-align: right;\">\n",
       "      <th></th>\n",
       "      <th>time</th>\n",
       "      <th>score</th>\n",
       "    </tr>\n",
       "  </thead>\n",
       "  <tbody>\n",
       "    <tr>\n",
       "      <th>4274</th>\n",
       "      <td>2017-02-02</td>\n",
       "      <td>1.098612</td>\n",
       "    </tr>\n",
       "    <tr>\n",
       "      <th>4277</th>\n",
       "      <td>2017-02-02</td>\n",
       "      <td>0.693147</td>\n",
       "    </tr>\n",
       "    <tr>\n",
       "      <th>4266</th>\n",
       "      <td>2017-02-02</td>\n",
       "      <td>0.693147</td>\n",
       "    </tr>\n",
       "    <tr>\n",
       "      <th>4265</th>\n",
       "      <td>2017-02-02</td>\n",
       "      <td>1.791759</td>\n",
       "    </tr>\n",
       "    <tr>\n",
       "      <th>4276</th>\n",
       "      <td>2017-02-02</td>\n",
       "      <td>0.693147</td>\n",
       "    </tr>\n",
       "    <tr>\n",
       "      <th>...</th>\n",
       "      <td>...</td>\n",
       "      <td>...</td>\n",
       "    </tr>\n",
       "    <tr>\n",
       "      <th>73100</th>\n",
       "      <td>2020-12-30</td>\n",
       "      <td>0.693147</td>\n",
       "    </tr>\n",
       "    <tr>\n",
       "      <th>73101</th>\n",
       "      <td>2020-12-30</td>\n",
       "      <td>0.693147</td>\n",
       "    </tr>\n",
       "    <tr>\n",
       "      <th>73102</th>\n",
       "      <td>2020-12-30</td>\n",
       "      <td>0.693147</td>\n",
       "    </tr>\n",
       "    <tr>\n",
       "      <th>73104</th>\n",
       "      <td>2020-12-30</td>\n",
       "      <td>0.693147</td>\n",
       "    </tr>\n",
       "    <tr>\n",
       "      <th>73267</th>\n",
       "      <td>2020-12-30</td>\n",
       "      <td>0.693147</td>\n",
       "    </tr>\n",
       "  </tbody>\n",
       "</table>\n",
       "<p>90649 rows × 2 columns</p>\n",
       "</div>"
      ],
      "text/plain": [
       "            time     score\n",
       "4274  2017-02-02  1.098612\n",
       "4277  2017-02-02  0.693147\n",
       "4266  2017-02-02  0.693147\n",
       "4265  2017-02-02  1.791759\n",
       "4276  2017-02-02  0.693147\n",
       "...          ...       ...\n",
       "73100 2020-12-30  0.693147\n",
       "73101 2020-12-30  0.693147\n",
       "73102 2020-12-30  0.693147\n",
       "73104 2020-12-30  0.693147\n",
       "73267 2020-12-30  0.693147\n",
       "\n",
       "[90649 rows x 2 columns]"
      ]
     },
     "execution_count": 10,
     "metadata": {},
     "output_type": "execute_result"
    }
   ],
   "source": [
    "scores = df[['time', 'score']]\n",
    "scores['score'] = scores['score'].apply(lambda x: np.log(x + 1))\n",
    "groups = scores.groupby([scores.time.dt.year, scores.time.dt.month])\n",
    "\n",
    "all_scores = pd.DataFrame(columns=['time', 'score'])\n",
    "for i, group in enumerate(groups):\n",
    "    if i == 0:\n",
    "        continue\n",
    "    all_scores = all_scores.append(group[1])\n",
    "all_scores"
   ]
  },
  {
   "cell_type": "markdown",
   "id": "threatened-guatemala",
   "metadata": {},
   "source": [
    "## By Month"
   ]
  },
  {
   "cell_type": "code",
   "execution_count": 11,
   "id": "turned-athletics",
   "metadata": {},
   "outputs": [],
   "source": [
    "def clean_time(x):\n",
    "    x = datetime.strftime(x, '%Y-%m')\n",
    "    return (int(x[:4]) - 2017) * 12 + int(x[5:7])"
   ]
  },
  {
   "cell_type": "code",
   "execution_count": 12,
   "id": "artificial-seattle",
   "metadata": {
    "scrolled": true
   },
   "outputs": [
    {
     "name": "stderr",
     "output_type": "stream",
     "text": [
      "/Users/jberman/anaconda3/envs/EECS_Affective/lib/python3.7/site-packages/ipykernel_launcher.py:2: SettingWithCopyWarning: \n",
      "A value is trying to be set on a copy of a slice from a DataFrame.\n",
      "Try using .loc[row_indexer,col_indexer] = value instead\n",
      "\n",
      "See the caveats in the documentation: https://pandas.pydata.org/pandas-docs/stable/user_guide/indexing.html#returning-a-view-versus-a-copy\n",
      "  \n"
     ]
    },
    {
     "data": {
      "text/html": [
       "<div>\n",
       "<style scoped>\n",
       "    .dataframe tbody tr th:only-of-type {\n",
       "        vertical-align: middle;\n",
       "    }\n",
       "\n",
       "    .dataframe tbody tr th {\n",
       "        vertical-align: top;\n",
       "    }\n",
       "\n",
       "    .dataframe thead th {\n",
       "        text-align: right;\n",
       "    }\n",
       "</style>\n",
       "<table border=\"1\" class=\"dataframe\">\n",
       "  <thead>\n",
       "    <tr style=\"text-align: right;\">\n",
       "      <th></th>\n",
       "      <th>time</th>\n",
       "      <th>score</th>\n",
       "    </tr>\n",
       "  </thead>\n",
       "  <tbody>\n",
       "    <tr>\n",
       "      <th>4274</th>\n",
       "      <td>2</td>\n",
       "      <td>1.098612</td>\n",
       "    </tr>\n",
       "    <tr>\n",
       "      <th>4277</th>\n",
       "      <td>2</td>\n",
       "      <td>0.693147</td>\n",
       "    </tr>\n",
       "    <tr>\n",
       "      <th>4266</th>\n",
       "      <td>2</td>\n",
       "      <td>0.693147</td>\n",
       "    </tr>\n",
       "    <tr>\n",
       "      <th>4265</th>\n",
       "      <td>2</td>\n",
       "      <td>1.791759</td>\n",
       "    </tr>\n",
       "    <tr>\n",
       "      <th>4276</th>\n",
       "      <td>2</td>\n",
       "      <td>0.693147</td>\n",
       "    </tr>\n",
       "    <tr>\n",
       "      <th>...</th>\n",
       "      <td>...</td>\n",
       "      <td>...</td>\n",
       "    </tr>\n",
       "    <tr>\n",
       "      <th>73100</th>\n",
       "      <td>48</td>\n",
       "      <td>0.693147</td>\n",
       "    </tr>\n",
       "    <tr>\n",
       "      <th>73101</th>\n",
       "      <td>48</td>\n",
       "      <td>0.693147</td>\n",
       "    </tr>\n",
       "    <tr>\n",
       "      <th>73102</th>\n",
       "      <td>48</td>\n",
       "      <td>0.693147</td>\n",
       "    </tr>\n",
       "    <tr>\n",
       "      <th>73104</th>\n",
       "      <td>48</td>\n",
       "      <td>0.693147</td>\n",
       "    </tr>\n",
       "    <tr>\n",
       "      <th>73267</th>\n",
       "      <td>48</td>\n",
       "      <td>0.693147</td>\n",
       "    </tr>\n",
       "  </tbody>\n",
       "</table>\n",
       "<p>90649 rows × 2 columns</p>\n",
       "</div>"
      ],
      "text/plain": [
       "       time     score\n",
       "4274      2  1.098612\n",
       "4277      2  0.693147\n",
       "4266      2  0.693147\n",
       "4265      2  1.791759\n",
       "4276      2  0.693147\n",
       "...     ...       ...\n",
       "73100    48  0.693147\n",
       "73101    48  0.693147\n",
       "73102    48  0.693147\n",
       "73104    48  0.693147\n",
       "73267    48  0.693147\n",
       "\n",
       "[90649 rows x 2 columns]"
      ]
     },
     "execution_count": 12,
     "metadata": {},
     "output_type": "execute_result"
    }
   ],
   "source": [
    "scores = df[['time', 'score']]\n",
    "scores['score'] = scores['score'].apply(lambda x: np.log(x + 1))\n",
    "groups = scores.groupby([scores.time.dt.year, scores.time.dt.month])\n",
    "\n",
    "all_scores = pd.DataFrame(columns=['time', 'score'])\n",
    "for i, group in enumerate(groups):\n",
    "    if i == 0:\n",
    "        continue\n",
    "    all_scores = all_scores.append(group[1])\n",
    "all_scores['time'] = all_scores['time'].apply(clean_time)\n",
    "all_scores"
   ]
  },
  {
   "cell_type": "code",
   "execution_count": 13,
   "id": "technological-zealand",
   "metadata": {
    "scrolled": true
   },
   "outputs": [],
   "source": [
    "slider = alt.binding_range(name='date: ', min=1, \n",
    "                                          max=48,\n",
    "                                          step=1)\n",
    "\n",
    "select_year = alt.selection_single(name='date', fields=['time'],\n",
    "                                   bind=slider, init={'time': 1})\n",
    "\n",
    "scores_chart = alt.Chart(all_scores).add_selection(\n",
    "    select_year\n",
    ").transform_filter(\n",
    "    select_year\n",
    ").properties(\n",
    "    width=700, height=300\n",
    ").encode(\n",
    "    x=alt.X('score:Q', bin=alt.Bin(extent=[0, 6], step=0.25)),\n",
    "    y=alt.Y('count()')\n",
    ").mark_bar().properties(title=f'Log-Score Distribution (r/{subreddit})')\n",
    "\n",
    "scores_chart.save(f'figures/{subreddit}/score_dist.html')"
   ]
  },
  {
   "cell_type": "markdown",
   "id": "antique-endorsement",
   "metadata": {},
   "source": [
    "## By Year"
   ]
  },
  {
   "cell_type": "code",
   "execution_count": 14,
   "id": "boring-intervention",
   "metadata": {},
   "outputs": [],
   "source": [
    "def clean_time_year(x):\n",
    "    x = datetime.strftime(x, '%Y-%m')\n",
    "    return int(x[:4])"
   ]
  },
  {
   "cell_type": "code",
   "execution_count": 15,
   "id": "advanced-indie",
   "metadata": {},
   "outputs": [
    {
     "name": "stderr",
     "output_type": "stream",
     "text": [
      "/Users/jberman/anaconda3/envs/EECS_Affective/lib/python3.7/site-packages/ipykernel_launcher.py:2: SettingWithCopyWarning: \n",
      "A value is trying to be set on a copy of a slice from a DataFrame.\n",
      "Try using .loc[row_indexer,col_indexer] = value instead\n",
      "\n",
      "See the caveats in the documentation: https://pandas.pydata.org/pandas-docs/stable/user_guide/indexing.html#returning-a-view-versus-a-copy\n",
      "  \n"
     ]
    },
    {
     "data": {
      "text/html": [
       "<div>\n",
       "<style scoped>\n",
       "    .dataframe tbody tr th:only-of-type {\n",
       "        vertical-align: middle;\n",
       "    }\n",
       "\n",
       "    .dataframe tbody tr th {\n",
       "        vertical-align: top;\n",
       "    }\n",
       "\n",
       "    .dataframe thead th {\n",
       "        text-align: right;\n",
       "    }\n",
       "</style>\n",
       "<table border=\"1\" class=\"dataframe\">\n",
       "  <thead>\n",
       "    <tr style=\"text-align: right;\">\n",
       "      <th></th>\n",
       "      <th>time</th>\n",
       "      <th>score</th>\n",
       "    </tr>\n",
       "  </thead>\n",
       "  <tbody>\n",
       "    <tr>\n",
       "      <th>14784</th>\n",
       "      <td>2018</td>\n",
       "      <td>0.000000</td>\n",
       "    </tr>\n",
       "    <tr>\n",
       "      <th>14783</th>\n",
       "      <td>2018</td>\n",
       "      <td>0.693147</td>\n",
       "    </tr>\n",
       "    <tr>\n",
       "      <th>14782</th>\n",
       "      <td>2018</td>\n",
       "      <td>0.693147</td>\n",
       "    </tr>\n",
       "    <tr>\n",
       "      <th>14781</th>\n",
       "      <td>2018</td>\n",
       "      <td>1.945910</td>\n",
       "    </tr>\n",
       "    <tr>\n",
       "      <th>14780</th>\n",
       "      <td>2018</td>\n",
       "      <td>2.197225</td>\n",
       "    </tr>\n",
       "    <tr>\n",
       "      <th>...</th>\n",
       "      <td>...</td>\n",
       "      <td>...</td>\n",
       "    </tr>\n",
       "    <tr>\n",
       "      <th>73100</th>\n",
       "      <td>2020</td>\n",
       "      <td>0.693147</td>\n",
       "    </tr>\n",
       "    <tr>\n",
       "      <th>73101</th>\n",
       "      <td>2020</td>\n",
       "      <td>0.693147</td>\n",
       "    </tr>\n",
       "    <tr>\n",
       "      <th>73102</th>\n",
       "      <td>2020</td>\n",
       "      <td>0.693147</td>\n",
       "    </tr>\n",
       "    <tr>\n",
       "      <th>73104</th>\n",
       "      <td>2020</td>\n",
       "      <td>0.693147</td>\n",
       "    </tr>\n",
       "    <tr>\n",
       "      <th>73267</th>\n",
       "      <td>2020</td>\n",
       "      <td>0.693147</td>\n",
       "    </tr>\n",
       "  </tbody>\n",
       "</table>\n",
       "<p>85517 rows × 2 columns</p>\n",
       "</div>"
      ],
      "text/plain": [
       "       time     score\n",
       "14784  2018  0.000000\n",
       "14783  2018  0.693147\n",
       "14782  2018  0.693147\n",
       "14781  2018  1.945910\n",
       "14780  2018  2.197225\n",
       "...     ...       ...\n",
       "73100  2020  0.693147\n",
       "73101  2020  0.693147\n",
       "73102  2020  0.693147\n",
       "73104  2020  0.693147\n",
       "73267  2020  0.693147\n",
       "\n",
       "[85517 rows x 2 columns]"
      ]
     },
     "execution_count": 15,
     "metadata": {},
     "output_type": "execute_result"
    }
   ],
   "source": [
    "scores = df[['time', 'score']]\n",
    "scores['score'] = scores['score'].apply(lambda x: np.log(x + 1))\n",
    "groups = scores.groupby([scores.time.dt.year])\n",
    "\n",
    "all_scores = pd.DataFrame(columns=['time', 'score'])\n",
    "for i, group in enumerate(groups):\n",
    "    if i == 0:\n",
    "        continue\n",
    "    all_scores = all_scores.append(group[1])\n",
    "all_scores['time'] = all_scores['time'].apply(clean_time_year)\n",
    "all_scores"
   ]
  },
  {
   "cell_type": "code",
   "execution_count": 16,
   "id": "thirty-excellence",
   "metadata": {},
   "outputs": [],
   "source": [
    "slider = alt.binding_range(name='date: ', min=2017, \n",
    "                                          max=2020,\n",
    "                                          step=1)\n",
    "\n",
    "select_year = alt.selection_single(name='date', fields=['time'],\n",
    "                                   bind=slider, init={'time': 2017})\n",
    "\n",
    "scores_chart = alt.Chart(all_scores).add_selection(\n",
    "    select_year\n",
    ").transform_filter(\n",
    "    select_year\n",
    ").properties(\n",
    "    width=700, height=300\n",
    ").encode(\n",
    "    x=alt.X('score:Q', bin=alt.Bin(extent=[0, 6], step=0.25)),\n",
    "    y=alt.Y('count()', scale=alt.Scale(type='log'))\n",
    ").mark_bar().properties(title=f'Log-Score Distribution (r/{subreddit})')\n",
    "\n",
    "scores_chart.save(f'figures/{subreddit}/score_dist_year.html')"
   ]
  },
  {
   "cell_type": "code",
   "execution_count": 17,
   "id": "infrared-columbus",
   "metadata": {},
   "outputs": [
    {
     "data": {
      "image/png": "[encoded data removed]",
      "text/plain": [
       "<Figure size 432x288 with 1 Axes>"
      ]
     },
     "metadata": {},
     "output_type": "display_data"
    }
   ],
   "source": [
    "for i, group in enumerate(groups):\n",
    "    if i == 0: \n",
    "        continue\n",
    "    plt.hist(group[1]['score'], alpha=0.2, density=True, bins=20, label=group[0])\n",
    "    plt.yscale('log')\n",
    "    plt.legend()"
   ]
  },
  {
   "cell_type": "markdown",
   "id": "center-guyana",
   "metadata": {},
   "source": [
    "# Emotion Content\n",
    "as measured by NRCLex."
   ]
  },
  {
   "cell_type": "markdown",
   "id": "patient-kingdom",
   "metadata": {},
   "source": [
    "**ONLY RUN THESE CELLS ONCE ============================================================================================**"
   ]
  },
  {
   "cell_type": "code",
   "execution_count": 18,
   "id": "optional-collect",
   "metadata": {},
   "outputs": [],
   "source": [
    "#more EDA using emotion data package NRCLex\n",
    "#question: should i standardize each post by number of tokens and then standardize whole weeks count by number of posts?\n",
    "features = {'anger': 0, 'anticipation': 1, 'disgust': 2, 'fear': 3, 'joy': 4, 'sadness': 5,\n",
    "            'surprise': 6, 'trust': 7, 'negative': 8, 'positive': 9}\n",
    "\n",
    "dates = sorted([datetime.strftime(datetime.strptime(file[:-4], '%d%b%Y'), '%Y-%m-%d') \\\n",
    "                for year in range(2017, 2021) \\\n",
    "                for file in os.listdir(f'{subreddit}_data/raw_data_{year}') \\\n",
    "                if file[-3:] == 'csv'])"
   ]
  },
  {
   "cell_type": "code",
   "execution_count": 19,
   "id": "conventional-nightmare",
   "metadata": {},
   "outputs": [],
   "source": [
    "data = []\n",
    "df_text = df[df['text'] != '[deleted]']\n",
    "\n",
    "for date in dates:\n",
    "    data.append(df_text[df_text['time'] == datetime.strptime(date, '%Y-%m-%d')])"
   ]
  },
  {
   "cell_type": "code",
   "execution_count": 20,
   "id": "amber-fairy",
   "metadata": {},
   "outputs": [
    {
     "name": "stderr",
     "output_type": "stream",
     "text": [
      "100%|██████████| 732/732 [09:15<00:00,  1.32it/s]\n"
     ]
    },
    {
     "data": {
      "text/html": [
       "<div>\n",
       "<style scoped>\n",
       "    .dataframe tbody tr th:only-of-type {\n",
       "        vertical-align: middle;\n",
       "    }\n",
       "\n",
       "    .dataframe tbody tr th {\n",
       "        vertical-align: top;\n",
       "    }\n",
       "\n",
       "    .dataframe thead th {\n",
       "        text-align: right;\n",
       "    }\n",
       "</style>\n",
       "<table border=\"1\" class=\"dataframe\">\n",
       "  <thead>\n",
       "    <tr style=\"text-align: right;\">\n",
       "      <th></th>\n",
       "      <th>anger</th>\n",
       "      <th>anticipation</th>\n",
       "      <th>disgust</th>\n",
       "      <th>fear</th>\n",
       "      <th>joy</th>\n",
       "      <th>sadness</th>\n",
       "      <th>surprise</th>\n",
       "      <th>trust</th>\n",
       "      <th>negative</th>\n",
       "      <th>positive</th>\n",
       "    </tr>\n",
       "  </thead>\n",
       "  <tbody>\n",
       "    <tr>\n",
       "      <th>2017-01-01</th>\n",
       "      <td>1.835547</td>\n",
       "      <td>2.238472</td>\n",
       "      <td>1.193852</td>\n",
       "      <td>2.313088</td>\n",
       "      <td>1.417699</td>\n",
       "      <td>2.208626</td>\n",
       "      <td>0.910312</td>\n",
       "      <td>2.029548</td>\n",
       "      <td>3.790479</td>\n",
       "      <td>3.521862</td>\n",
       "    </tr>\n",
       "    <tr>\n",
       "      <th>2017-01-03</th>\n",
       "      <td>1.708907</td>\n",
       "      <td>1.940623</td>\n",
       "      <td>1.071687</td>\n",
       "      <td>2.389573</td>\n",
       "      <td>1.332368</td>\n",
       "      <td>2.548878</td>\n",
       "      <td>0.897900</td>\n",
       "      <td>2.013034</td>\n",
       "      <td>4.069515</td>\n",
       "      <td>3.128168</td>\n",
       "    </tr>\n",
       "    <tr>\n",
       "      <th>2017-01-05</th>\n",
       "      <td>1.576069</td>\n",
       "      <td>2.315857</td>\n",
       "      <td>0.852364</td>\n",
       "      <td>1.913799</td>\n",
       "      <td>1.350917</td>\n",
       "      <td>2.058540</td>\n",
       "      <td>0.723705</td>\n",
       "      <td>2.315857</td>\n",
       "      <td>3.634609</td>\n",
       "      <td>3.216468</td>\n",
       "    </tr>\n",
       "    <tr>\n",
       "      <th>2017-01-07</th>\n",
       "      <td>1.590584</td>\n",
       "      <td>2.210911</td>\n",
       "      <td>1.081597</td>\n",
       "      <td>1.972324</td>\n",
       "      <td>1.845077</td>\n",
       "      <td>2.067759</td>\n",
       "      <td>0.970256</td>\n",
       "      <td>2.767616</td>\n",
       "      <td>3.562908</td>\n",
       "      <td>3.547002</td>\n",
       "    </tr>\n",
       "    <tr>\n",
       "      <th>2017-01-09</th>\n",
       "      <td>1.463148</td>\n",
       "      <td>1.613565</td>\n",
       "      <td>0.861480</td>\n",
       "      <td>1.750308</td>\n",
       "      <td>0.820457</td>\n",
       "      <td>1.627239</td>\n",
       "      <td>0.574320</td>\n",
       "      <td>1.818679</td>\n",
       "      <td>2.994667</td>\n",
       "      <td>2.693833</td>\n",
       "    </tr>\n",
       "  </tbody>\n",
       "</table>\n",
       "</div>"
      ],
      "text/plain": [
       "               anger  anticipation   disgust      fear       joy   sadness  \\\n",
       "2017-01-01  1.835547      2.238472  1.193852  2.313088  1.417699  2.208626   \n",
       "2017-01-03  1.708907      1.940623  1.071687  2.389573  1.332368  2.548878   \n",
       "2017-01-05  1.576069      2.315857  0.852364  1.913799  1.350917  2.058540   \n",
       "2017-01-07  1.590584      2.210911  1.081597  1.972324  1.845077  2.067759   \n",
       "2017-01-09  1.463148      1.613565  0.861480  1.750308  0.820457  1.627239   \n",
       "\n",
       "            surprise     trust  negative  positive  \n",
       "2017-01-01  0.910312  2.029548  3.790479  3.521862  \n",
       "2017-01-03  0.897900  2.013034  4.069515  3.128168  \n",
       "2017-01-05  0.723705  2.315857  3.634609  3.216468  \n",
       "2017-01-07  0.970256  2.767616  3.562908  3.547002  \n",
       "2017-01-09  0.574320  1.818679  2.994667  2.693833  "
      ]
     },
     "execution_count": 20,
     "metadata": {},
     "output_type": "execute_result"
    }
   ],
   "source": [
    "emotion_by_day = np.zeros((len(data), 10))\n",
    "for i in tqdm(range(0, len(data))):\n",
    "    texts = data[i]['text'].values\n",
    "    num_tokens_per_day = 0\n",
    "    for j in texts:\n",
    "        try:\n",
    "            tokens = nltk.word_tokenize(j.lower())\n",
    "            num_tokens_per_day += len(tokens)\n",
    "            emotion = NRCLex(j.lower())\n",
    "            emotion_dict = emotion.raw_emotion_scores\n",
    "            for key in emotion_dict:\n",
    "                col = features[key]\n",
    "                count = emotion_dict[key]\n",
    "                emotion_by_day[i, col] += count\n",
    "        except:\n",
    "            # skip over non-text posts\n",
    "            continue\n",
    "        \n",
    "    #normalize frequency of each emotion (over the 1 week period) by number of tokens (over the 1 week period)\n",
    "    emotion_by_day[i, :] = (emotion_by_day[i, :] / num_tokens_per_day) * 100\n",
    "            \n",
    "emotion_scores = pd.DataFrame(emotion_by_day, \n",
    "                              columns = ['anger', 'anticipation', 'disgust', 'fear', 'joy',\n",
    "                                         'sadness', 'surprise', 'trust', 'negative', 'positive'], \n",
    "                              index = dates)\n",
    "emotion_scores.head()"
   ]
  },
  {
   "cell_type": "code",
   "execution_count": 21,
   "id": "gentle-substance",
   "metadata": {},
   "outputs": [],
   "source": [
    "# make sure date is in the right format\n",
    "emotion_scores_new = emotion_scores.reset_index().rename({'index': 'date'}, axis=1)\n",
    "emotion_scores_new.date = emotion_scores_new.date.apply(lambda x: datetime.strptime(x, '%Y-%m-%d'))\n",
    "emotion_scores_new.to_json(f'clean_data/{subreddit}/emotion_scores.json')"
   ]
  },
  {
   "cell_type": "markdown",
   "id": "wound-accountability",
   "metadata": {},
   "source": [
    "**=======================================================================================================================**"
   ]
  },
  {
   "cell_type": "code",
   "execution_count": 22,
   "id": "answering-vintage",
   "metadata": {},
   "outputs": [],
   "source": [
    "# compute rolling mean to reduce noise\n",
    "emotion_scores = pd.read_json(f'clean_data/{subreddit}/emotion_scores.json')\n",
    "emotion_scores = pd.concat([emotion_scores.date, emotion_scores.rolling(7).mean()], axis=1).rename({0: 'date'}, axis=1)\n",
    "emotion_scores = emotion_scores.melt('date', var_name='emotion', value_name='score')\n",
    "# melt emotions for easier plotting if read in wide form\n",
    "emotion_scores.to_json(f'clean_data/{subreddit}/emotion_scores_long.json')"
   ]
  },
  {
   "cell_type": "code",
   "execution_count": 23,
   "id": "ancient-cookie",
   "metadata": {},
   "outputs": [
    {
     "data": {
      "text/plain": [
       "0      2017-01-01\n",
       "1      2017-01-03\n",
       "2      2017-01-05\n",
       "3      2017-01-07\n",
       "4      2017-01-09\n",
       "          ...    \n",
       "7315   2020-12-22\n",
       "7316   2020-12-24\n",
       "7317   2020-12-26\n",
       "7318   2020-12-28\n",
       "7319   2020-12-30\n",
       "Name: date, Length: 7320, dtype: datetime64[ns]"
      ]
     },
     "execution_count": 23,
     "metadata": {},
     "output_type": "execute_result"
    }
   ],
   "source": [
    "emotion_scores = pd.read_json(f'clean_data/{subreddit}/emotion_scores_long.json')\n",
    "emotion_scores.date"
   ]
  },
  {
   "cell_type": "code",
   "execution_count": 24,
   "id": "racial-receptor",
   "metadata": {},
   "outputs": [],
   "source": [
    "alt.data_transformers.enable('json')\n",
    "\n",
    "selection = alt.selection_multi(fields=['emotion'], bind='legend')\n",
    "series = alt.Chart(emotion_scores).mark_line(\n",
    "                                  ).encode(x='date:T', y='score:Q', color='emotion:N',\n",
    "                                           opacity=alt.condition(selection, alt.value(1), alt.value(0.2)),\n",
    "                                           tooltip=['score']\n",
    "                                  ).properties(title=f'Average Emotional Tokens per Post (r/{subreddit})', width=800, height=300\n",
    "                                  ).add_selection(selection\n",
    "                                  ).interactive(bind_y=False)\n",
    "\n",
    "alt.data_transformers.enable('default')\n",
    "series.save(f'figures/{subreddit}/emotion_freq.html')"
   ]
  },
  {
   "cell_type": "code",
   "execution_count": 25,
   "id": "under-stopping",
   "metadata": {},
   "outputs": [],
   "source": [
    "# # generating word clouds for each of the weeks\n",
    "# for i in range(0,24):\n",
    "#     titles = data[i]['title']\n",
    "#     texts = data[i]['text']\n",
    "#     list_of_words = ''\n",
    "#     for j in titles:\n",
    "#         tokens = nltk.word_tokenize(j.lower())\n",
    "#         list_of_words += \" \".join(tokens)+\" \"\n",
    "#     for k in texts:\n",
    "#         tokens = nltk.word_tokenize(k.lower())\n",
    "#         list_of_words += \" \".join(tokens)+\" \"\n",
    "#     wc = WordCloud().generate(list_of_words)   \n",
    "#     plt.imshow(wc)\n",
    "#     plt.show()"
   ]
  },
  {
   "cell_type": "code",
   "execution_count": null,
   "id": "broken-separate",
   "metadata": {},
   "outputs": [],
   "source": []
  }
 ],
 "metadata": {
  "kernelspec": {
   "display_name": "Python 3",
   "language": "python",
   "name": "python3"
  },
  "language_info": {
   "codemirror_mode": {
    "name": "ipython",
    "version": 3
   },
   "file_extension": ".py",
   "mimetype": "text/x-python",
   "name": "python",
   "nbconvert_exporter": "python",
   "pygments_lexer": "ipython3",
   "version": "3.7.9"
  }
 },
 "nbformat": 4,
 "nbformat_minor": 5
}
