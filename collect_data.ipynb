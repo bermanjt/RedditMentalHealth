{
 "cells": [
  {
   "cell_type": "markdown",
   "id": "wanted-membership",
   "metadata": {},
   "source": [
    "# Data Collection\n",
    "\n",
    "We used `pushshift.io`'s API to obtain Reddit posts from the subreddit r/MentalHealth. In each `.csv` file, the data are listed in ascending order based on timestamp (earliest to latest)."
   ]
  },
  {
   "cell_type": "code",
   "execution_count": 14,
   "id": "precious-leadership",
   "metadata": {},
   "outputs": [],
   "source": [
    "import time\n",
    "from tqdm import tqdm\n",
    "import requests\n",
    "import json\n",
    "import pandas as pd"
   ]
  },
  {
   "cell_type": "code",
   "execution_count": 15,
   "id": "killing-header",
   "metadata": {},
   "outputs": [],
   "source": [
    "def get_pushshift_data(data_type, **kwargs):\n",
    "    \"\"\"\n",
    "    Gets data from the pushshift api.\n",
    " \n",
    "    data_type can be 'comment' or 'submission'\n",
    "    The rest of the args are interpreted as payload.\n",
    " \n",
    "    Read more: https://github.com/pushshift/api\n",
    "    \n",
    "    Credit: https://www.jcchouinard.com/how-to-use-reddit-api-with-python/\n",
    "    \"\"\"\n",
    " \n",
    "    base_url = f\"https://api.pushshift.io/reddit/search/{data_type}/\"\n",
    "    payload = kwargs\n",
    "    request = requests.get(base_url, params=payload)\n",
    "    return request.json()"
   ]
  },
  {
   "cell_type": "code",
   "execution_count": 16,
   "id": "offshore-walnut",
   "metadata": {},
   "outputs": [],
   "source": [
    "def extract_title(x):\n",
    "    try:\n",
    "        title = x['title']\n",
    "        return title\n",
    "    except:\n",
    "        return 0\n",
    "    \n",
    "def extract_text(x):\n",
    "    try:\n",
    "        text = x['selftext']\n",
    "        return text\n",
    "    except:\n",
    "        return 0"
   ]
  },
  {
   "cell_type": "code",
   "execution_count": 17,
   "id": "international-burns",
   "metadata": {},
   "outputs": [],
   "source": [
    "# specify posts from [1st-8th) and [15-22) of every month (every other week)\n",
    "dates = {\n",
    "         'Feb1': ['1580515200', '1581120000'],\n",
    "         'Feb2': ['1581724800', '1582329600'],\n",
    "         'Mar1': ['1583020800', '1583625600'],\n",
    "         'Mar2': ['1584230400', '1584835200'],\n",
    "         'Apr1': ['1585699200', '1586304000'],\n",
    "         'Apr2': ['1586908800', '1587513600'],\n",
    "         'May1': ['1588291200', '1588896000'],\n",
    "         'May2': ['1589500800', '1590105600'],\n",
    "         'Jun1': ['1590969600', '1591574400'],\n",
    "         'Jun2': ['1592179200', '1592784000'],\n",
    "         'Jul1': ['1593561600', '1594166400'],\n",
    "         'Jul2': ['1594771200', '1595376000'],\n",
    "         'Aug1': ['1596240000', '1596844800'],\n",
    "         'Aug2': ['1597449600', '1598054400'],\n",
    "         'Sep1': ['1598918400', '1599523200'],\n",
    "         'Sep2': ['1600128000', '1600732800'],\n",
    "         'Oct1': ['1601510400', '1602115200'],\n",
    "         'Oct2': ['1602720000', '1603324800'],\n",
    "         'Nov1': ['1604188800', '1604793600'],\n",
    "         'Nov2': ['1605398400', '1606003200'],\n",
    "         'Dec1': ['1606780800', '1607385600'],\n",
    "         'Dec2': ['1607990400', '1608595200'],\n",
    "         'Jan1': ['1609459200', '1610064000'],\n",
    "         'Jan2': ['1610668800', '1611273600']\n",
    "        }"
   ]
  },
  {
   "cell_type": "code",
   "execution_count": 18,
   "id": "consistent-spiritual",
   "metadata": {
    "scrolled": false
   },
   "outputs": [
    {
     "name": "stderr",
     "output_type": "stream",
     "text": [
      "\r",
      "  0%|          | 0/24 [00:00<?, ?it/s]"
     ]
    },
    {
     "name": "stdout",
     "output_type": "stream",
     "text": [
      "SCRAPING Feb1 =====================================\n"
     ]
    },
    {
     "name": "stderr",
     "output_type": "stream",
     "text": [
      "\r",
      "  4%|▍         | 1/24 [00:36<14:05, 36.76s/it]"
     ]
    },
    {
     "name": "stdout",
     "output_type": "stream",
     "text": [
      "SCRAPING Feb2 =====================================\n"
     ]
    },
    {
     "name": "stderr",
     "output_type": "stream",
     "text": [
      "\r",
      "  8%|▊         | 2/24 [01:12<13:19, 36.34s/it]"
     ]
    },
    {
     "name": "stdout",
     "output_type": "stream",
     "text": [
      "SCRAPING Mar1 =====================================\n"
     ]
    },
    {
     "name": "stderr",
     "output_type": "stream",
     "text": [
      "\r",
      " 12%|█▎        | 3/24 [01:42<12:06, 34.62s/it]"
     ]
    },
    {
     "name": "stdout",
     "output_type": "stream",
     "text": [
      "SCRAPING Mar2 =====================================\n"
     ]
    },
    {
     "name": "stderr",
     "output_type": "stream",
     "text": [
      "\r",
      " 17%|█▋        | 4/24 [02:15<11:19, 33.97s/it]"
     ]
    },
    {
     "name": "stdout",
     "output_type": "stream",
     "text": [
      "SCRAPING Apr1 =====================================\n"
     ]
    },
    {
     "name": "stderr",
     "output_type": "stream",
     "text": [
      "\r",
      " 21%|██        | 5/24 [02:51<11:00, 34.77s/it]"
     ]
    },
    {
     "name": "stdout",
     "output_type": "stream",
     "text": [
      "SCRAPING Apr2 =====================================\n"
     ]
    },
    {
     "name": "stderr",
     "output_type": "stream",
     "text": [
      "\r",
      " 25%|██▌       | 6/24 [03:31<10:55, 36.39s/it]"
     ]
    },
    {
     "name": "stdout",
     "output_type": "stream",
     "text": [
      "SCRAPING May1 =====================================\n"
     ]
    },
    {
     "name": "stderr",
     "output_type": "stream",
     "text": [
      "\r",
      " 29%|██▉       | 7/24 [04:18<11:10, 39.45s/it]"
     ]
    },
    {
     "name": "stdout",
     "output_type": "stream",
     "text": [
      "SCRAPING May2 =====================================\n"
     ]
    },
    {
     "name": "stderr",
     "output_type": "stream",
     "text": [
      "\r",
      " 33%|███▎      | 8/24 [05:00<10:43, 40.21s/it]"
     ]
    },
    {
     "name": "stdout",
     "output_type": "stream",
     "text": [
      "SCRAPING Jun1 =====================================\n"
     ]
    },
    {
     "name": "stderr",
     "output_type": "stream",
     "text": [
      "\r",
      " 38%|███▊      | 9/24 [05:47<10:32, 42.14s/it]"
     ]
    },
    {
     "name": "stdout",
     "output_type": "stream",
     "text": [
      "SCRAPING Jun2 =====================================\n"
     ]
    },
    {
     "name": "stderr",
     "output_type": "stream",
     "text": [
      "\r",
      " 42%|████▏     | 10/24 [06:31<10:00, 42.87s/it]"
     ]
    },
    {
     "name": "stdout",
     "output_type": "stream",
     "text": [
      "SCRAPING Jul1 =====================================\n"
     ]
    },
    {
     "name": "stderr",
     "output_type": "stream",
     "text": [
      "\r",
      " 46%|████▌     | 11/24 [07:25<10:00, 46.20s/it]"
     ]
    },
    {
     "name": "stdout",
     "output_type": "stream",
     "text": [
      "SCRAPING Jul2 =====================================\n"
     ]
    },
    {
     "name": "stderr",
     "output_type": "stream",
     "text": [
      "\r",
      " 50%|█████     | 12/24 [08:20<09:44, 48.68s/it]"
     ]
    },
    {
     "name": "stdout",
     "output_type": "stream",
     "text": [
      "SCRAPING Aug1 =====================================\n"
     ]
    },
    {
     "name": "stderr",
     "output_type": "stream",
     "text": [
      "\r",
      " 54%|█████▍    | 13/24 [09:12<09:06, 49.68s/it]"
     ]
    },
    {
     "name": "stdout",
     "output_type": "stream",
     "text": [
      "SCRAPING Aug2 =====================================\n"
     ]
    },
    {
     "name": "stderr",
     "output_type": "stream",
     "text": [
      "\r",
      " 58%|█████▊    | 14/24 [10:02<08:18, 49.82s/it]"
     ]
    },
    {
     "name": "stdout",
     "output_type": "stream",
     "text": [
      "SCRAPING Sep1 =====================================\n"
     ]
    },
    {
     "name": "stderr",
     "output_type": "stream",
     "text": [
      "\r",
      " 62%|██████▎   | 15/24 [10:57<07:42, 51.39s/it]"
     ]
    },
    {
     "name": "stdout",
     "output_type": "stream",
     "text": [
      "SCRAPING Sep2 =====================================\n"
     ]
    },
    {
     "name": "stderr",
     "output_type": "stream",
     "text": [
      "\r",
      " 67%|██████▋   | 16/24 [11:52<07:01, 52.64s/it]"
     ]
    },
    {
     "name": "stdout",
     "output_type": "stream",
     "text": [
      "SCRAPING Oct1 =====================================\n"
     ]
    },
    {
     "name": "stderr",
     "output_type": "stream",
     "text": [
      "\r",
      " 71%|███████   | 17/24 [12:38<05:54, 50.65s/it]"
     ]
    },
    {
     "name": "stdout",
     "output_type": "stream",
     "text": [
      "SCRAPING Oct2 =====================================\n"
     ]
    },
    {
     "name": "stderr",
     "output_type": "stream",
     "text": [
      "\r",
      " 75%|███████▌  | 18/24 [13:15<04:38, 46.45s/it]"
     ]
    },
    {
     "name": "stdout",
     "output_type": "stream",
     "text": [
      "SCRAPING Nov1 =====================================\n"
     ]
    },
    {
     "name": "stderr",
     "output_type": "stream",
     "text": [
      "\r",
      " 79%|███████▉  | 19/24 [13:50<03:35, 43.10s/it]"
     ]
    },
    {
     "name": "stdout",
     "output_type": "stream",
     "text": [
      "SCRAPING Nov2 =====================================\n"
     ]
    },
    {
     "name": "stderr",
     "output_type": "stream",
     "text": [
      "\r",
      " 83%|████████▎ | 20/24 [14:31<02:49, 42.41s/it]"
     ]
    },
    {
     "name": "stdout",
     "output_type": "stream",
     "text": [
      "SCRAPING Dec1 =====================================\n"
     ]
    },
    {
     "name": "stderr",
     "output_type": "stream",
     "text": [
      "\r",
      " 88%|████████▊ | 21/24 [15:08<02:02, 40.86s/it]"
     ]
    },
    {
     "name": "stdout",
     "output_type": "stream",
     "text": [
      "SCRAPING Dec2 =====================================\n"
     ]
    },
    {
     "name": "stderr",
     "output_type": "stream",
     "text": [
      "\r",
      " 92%|█████████▏| 22/24 [15:45<01:19, 39.70s/it]"
     ]
    },
    {
     "name": "stdout",
     "output_type": "stream",
     "text": [
      "SCRAPING Jan1 =====================================\n"
     ]
    },
    {
     "name": "stderr",
     "output_type": "stream",
     "text": [
      "\r",
      " 96%|█████████▌| 23/24 [16:26<00:39, 40.00s/it]"
     ]
    },
    {
     "name": "stdout",
     "output_type": "stream",
     "text": [
      "SCRAPING Jan2 =====================================\n"
     ]
    },
    {
     "name": "stderr",
     "output_type": "stream",
     "text": [
      "100%|██████████| 24/24 [17:02<00:00, 42.59s/it]\n"
     ]
    }
   ],
   "source": [
    "for week in tqdm(dates.keys()):\n",
    "    print(f'SCRAPING {week} =====================================')\n",
    "    begin, end = dates[week]\n",
    "    success = False\n",
    "    while not success:\n",
    "        try:\n",
    "            data = get_pushshift_data(data_type='submission',\n",
    "                                          before=end,\n",
    "                                          after=begin,\n",
    "                                          subreddit='MentalHealth',\n",
    "                                          sort_type='created_utc',\n",
    "                                          sort='asc',\n",
    "                                          size=1000)\n",
    "            df = pd.DataFrame.from_dict(data)\n",
    "            success = True\n",
    "        except:\n",
    "            print('exception encountered...continuing')\n",
    "            time.sleep(1)\n",
    "            continue\n",
    "    \n",
    "    timestamp = str(df.data.iloc[-1]['created_utc'])\n",
    "    while timestamp < end:\n",
    "        try:\n",
    "            data = get_pushshift_data(data_type='submission',\n",
    "                                      before=end,\n",
    "                                      after=timestamp,\n",
    "                                      subreddit='MentalHealth',\n",
    "                                      sort_type='created_utc',\n",
    "                                      sort='asc',\n",
    "                                      size=1000)\n",
    "            df_new = df.append(pd.DataFrame.from_dict(data))\n",
    "            if df_new.data.iloc[-1]['created_utc'] == df.data.iloc[-1]['created_utc']:\n",
    "                break\n",
    "            else:\n",
    "                df = df_new\n",
    "                timestamp = str(df.data.iloc[-1]['created_utc'])\n",
    "                time.sleep(1)\n",
    "\n",
    "        except:\n",
    "            time.sleep(1)\n",
    "            continue\n",
    "\n",
    "    title_df = df.data.apply(extract_title).reset_index()['data'].rename('title')\n",
    "    text_df = df.data.apply(extract_text).reset_index()['data'].rename('text')\n",
    "    full_df = pd.concat([title_df, text_df], axis=1)\n",
    "    full_df.to_csv(f'raw_data/{week}.csv')"
   ]
  },
  {
   "cell_type": "code",
   "execution_count": 19,
   "id": "interested-encounter",
   "metadata": {},
   "outputs": [
    {
     "name": "stdout",
     "output_type": "stream",
     "text": [
      "Apr1.csv  Aug2.csv  Feb1.csv  Jan2.csv\tJun1.csv  Mar2.csv  Nov1.csv  Oct2.csv\r\n",
      "Apr2.csv  Dec1.csv  Feb2.csv  Jul1.csv\tJun2.csv  May1.csv  Nov2.csv  Sep1.csv\r\n",
      "Aug1.csv  Dec2.csv  Jan1.csv  Jul2.csv\tMar1.csv  May2.csv  Oct1.csv  Sep2.csv\r\n"
     ]
    }
   ],
   "source": [
    "!ls raw_data/"
   ]
  },
  {
   "cell_type": "code",
   "execution_count": null,
   "id": "level-representation",
   "metadata": {},
   "outputs": [],
   "source": []
  }
 ],
 "metadata": {
  "kernelspec": {
   "display_name": "Python 3",
   "language": "python",
   "name": "python3"
  },
  "language_info": {
   "codemirror_mode": {
    "name": "ipython",
    "version": 3
   },
   "file_extension": ".py",
   "mimetype": "text/x-python",
   "name": "python",
   "nbconvert_exporter": "python",
   "pygments_lexer": "ipython3",
   "version": "3.8.5"
  }
 },
 "nbformat": 4,
 "nbformat_minor": 5
}
