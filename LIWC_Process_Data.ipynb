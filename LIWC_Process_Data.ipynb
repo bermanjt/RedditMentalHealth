{
 "cells": [
  {
   "cell_type": "code",
   "execution_count": 1,
   "id": "digital-extra",
   "metadata": {},
   "outputs": [],
   "source": [
    "import pandas as pd\n",
    "from datetime import datetime\n",
    "from tqdm import tqdm\n",
    "import csv"
   ]
  },
  {
   "cell_type": "code",
   "execution_count": 2,
   "id": "starting-grenada",
   "metadata": {},
   "outputs": [],
   "source": [
    "#change this to be whatever subreddit you want to analyze\n",
    "subreddit = 'Depression_Help'"
   ]
  },
  {
   "cell_type": "code",
   "execution_count": 18,
   "id": "otherwise-programmer",
   "metadata": {},
   "outputs": [
    {
     "name": "stdout",
     "output_type": "stream",
     "text": [
      "                                                    text       date   WC  \\\n",
      "1       I don't even know where to begin. I've never ... 2017-01-01  886   \n",
      "2      Earlier this year I lost a pillar in my life t... 2017-01-01   86   \n",
      "3      I am so filled with anger and rage I can't kee... 2017-01-01   53   \n",
      "4      I drink, to excess, then I get sad. Really sad... 2017-01-01   57   \n",
      "5      My closest childhood friend has had a rough se... 2017-01-01  403   \n",
      "...                                                  ...        ...  ...   \n",
      "11682  It started in 8th grade. Back then, it was cle... 2020-12-30  307   \n",
      "11683  I don't know what to do and how to deal with. ... 2020-12-30   86   \n",
      "11684  My recent bout of depression has me wondering ... 2020-12-30  159   \n",
      "11704  Yesterday oldest sister says without me the fa... 2020-12-30   58   \n",
      "11676  I have lost the will to live. What is the poin... 2020-12-30   76   \n",
      "\n",
      "       Analytic  Clout  Authentic   Tone    WPS  Sixltr    Dic  ...  Comma  \\\n",
      "1         26.37  14.43      94.27   8.33  16.72    9.26  96.50  ...   4.85   \n",
      "2         59.90  63.65      34.47   3.52  14.33    6.98  94.19  ...   0.00   \n",
      "3          3.06   1.00      72.17   1.00   7.57    9.43  92.45  ...   0.00   \n",
      "4         18.82   1.81      99.00   1.00   6.33   12.28  89.47  ...   3.51   \n",
      "5         40.50  85.14      20.84  18.46  14.39   12.90  96.28  ...   2.98   \n",
      "...         ...    ...        ...    ...    ...     ...    ...  ...    ...   \n",
      "11682      9.38   5.18      97.90  20.81  11.37   10.75  93.49  ...   8.14   \n",
      "11683      9.23   8.15      91.06  10.92   9.56   13.95  89.53  ...   2.33   \n",
      "11684     13.37  10.44      99.00  61.55  15.90   15.72  91.19  ...   0.63   \n",
      "11704     11.27  15.04      69.96  58.39  11.60    8.62  93.10  ...   0.00   \n",
      "11676     28.39   2.46      59.00   9.56  15.20    5.26  89.47  ...  10.53   \n",
      "\n",
      "       Colon  SemiC  QMark  Exclam  Dash  Quote  Apostro  Parenth  OtherP  \n",
      "1       0.11   0.00   0.00     0.0  0.45   0.00     4.97     0.00    0.00  \n",
      "2       0.00   0.00   0.00     0.0  0.00   0.00     0.00     0.00    0.00  \n",
      "3       0.00   0.00   0.00     0.0  0.00   0.00     7.55     0.00    0.00  \n",
      "4       0.00   0.00   0.00     0.0  0.00   0.00     5.26     0.00    0.00  \n",
      "5       0.00   0.00   0.00     0.0  0.50   0.00     3.72     0.99    0.00  \n",
      "...      ...    ...    ...     ...   ...    ...      ...      ...     ...  \n",
      "11682   0.00   0.00   0.65     0.0  1.63   0.65     3.58     0.00    0.00  \n",
      "11683   0.00   0.00   0.00     0.0  0.00   0.00     5.81     0.00    0.00  \n",
      "11684   0.00   0.00   0.00     0.0  0.00   0.00     3.77     0.00    0.00  \n",
      "11704   0.00   0.00   0.00     0.0  0.00   0.00     3.45     0.00    0.00  \n",
      "11676   0.00   1.32   2.63     0.0  0.00   0.00     3.95     0.00    3.95  \n",
      "\n",
      "[14322 rows x 95 columns]\n"
     ]
    }
   ],
   "source": [
    "#read data in, preprocess and then sort\n",
    "df = pd.read_csv(f'{subreddit}_data/LIWC2015_Results.csv')\n",
    "df.drop(columns=['A'], inplace=True)\n",
    "df.rename(columns={'B':'text','C':'date'}, inplace=True)\n",
    "df.drop(labels=0, axis = 0, inplace=True)\n",
    "df.date = df.date.apply(lambda x: datetime.strptime(x, '%d%b%Y'))\n",
    "df = df.sort_values('date')"
   ]
  },
  {
   "cell_type": "code",
   "execution_count": null,
   "id": "shared-stable",
   "metadata": {},
   "outputs": [],
   "source": []
  }
 ],
 "metadata": {
  "kernelspec": {
   "display_name": "Python 3",
   "language": "python",
   "name": "python3"
  },
  "language_info": {
   "codemirror_mode": {
    "name": "ipython",
    "version": 3
   },
   "file_extension": ".py",
   "mimetype": "text/x-python",
   "name": "python",
   "nbconvert_exporter": "python",
   "pygments_lexer": "ipython3",
   "version": "3.7.9"
  }
 },
 "nbformat": 4,
 "nbformat_minor": 5
}
