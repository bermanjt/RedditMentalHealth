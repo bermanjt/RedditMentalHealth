{
 "cells": [
  {
   "cell_type": "code",
   "execution_count": 1,
   "id": "photographic-basics",
   "metadata": {},
   "outputs": [],
   "source": [
    "import pandas as pd\n",
    "import os\n",
    "from datetime import datetime\n",
    "from tqdm import tqdm\n",
    "from vaderSentiment.vaderSentiment import SentimentIntensityAnalyzer\n",
    "from fbprophet import Prophet\n",
    "import plotly\n",
    "from fbprophet.plot import plot_plotly, plot_components_plotly\n",
    "import matplotlib.pyplot as plt\n",
    "from matplotlib.pyplot import figure\n",
    "from scipy import signal\n",
    "import numpy as np\n",
    "import altair as alt"
   ]
  },
  {
   "cell_type": "code",
   "execution_count": 2,
   "id": "final-marsh",
   "metadata": {},
   "outputs": [
    {
     "data": {
      "text/html": [
       "<div>\n",
       "<style scoped>\n",
       "    .dataframe tbody tr th:only-of-type {\n",
       "        vertical-align: middle;\n",
       "    }\n",
       "\n",
       "    .dataframe tbody tr th {\n",
       "        vertical-align: top;\n",
       "    }\n",
       "\n",
       "    .dataframe thead th {\n",
       "        text-align: right;\n",
       "    }\n",
       "</style>\n",
       "<table border=\"1\" class=\"dataframe\">\n",
       "  <thead>\n",
       "    <tr style=\"text-align: right;\">\n",
       "      <th></th>\n",
       "      <th>text</th>\n",
       "      <th>time</th>\n",
       "      <th>score</th>\n",
       "    </tr>\n",
       "  </thead>\n",
       "  <tbody>\n",
       "    <tr>\n",
       "      <th>0</th>\n",
       "      <td>I don't know how many of you read it, but a fe...</td>\n",
       "      <td>01Jan2017</td>\n",
       "      <td>6</td>\n",
       "    </tr>\n",
       "    <tr>\n",
       "      <th>1</th>\n",
       "      <td>The reason that it occurred to me that I may h...</td>\n",
       "      <td>01Jan2017</td>\n",
       "      <td>1</td>\n",
       "    </tr>\n",
       "    <tr>\n",
       "      <th>2</th>\n",
       "      <td>Sometimes I don't really feel like a participa...</td>\n",
       "      <td>01Jan2017</td>\n",
       "      <td>5</td>\n",
       "    </tr>\n",
       "    <tr>\n",
       "      <th>3</th>\n",
       "      <td>Hi, and thanks for reading this post. I'm look...</td>\n",
       "      <td>01Jan2017</td>\n",
       "      <td>1</td>\n",
       "    </tr>\n",
       "    <tr>\n",
       "      <th>4</th>\n",
       "      <td>Loaded question I know, trying to scribble thi...</td>\n",
       "      <td>01Jan2017</td>\n",
       "      <td>7</td>\n",
       "    </tr>\n",
       "  </tbody>\n",
       "</table>\n",
       "</div>"
      ],
      "text/plain": [
       "                                                text       time  score\n",
       "0  I don't know how many of you read it, but a fe...  01Jan2017      6\n",
       "1  The reason that it occurred to me that I may h...  01Jan2017      1\n",
       "2  Sometimes I don't really feel like a participa...  01Jan2017      5\n",
       "3  Hi, and thanks for reading this post. I'm look...  01Jan2017      1\n",
       "4  Loaded question I know, trying to scribble thi...  01Jan2017      7"
      ]
     },
     "execution_count": 2,
     "metadata": {},
     "output_type": "execute_result"
    }
   ],
   "source": [
    "df = pd.read_csv('MentalHealth_data/raw_data_2017/01Jan2017.csv').drop(['Unnamed: 0'], axis = 1)\n",
    "for year in range(2017,2021):\n",
    "    for file in os.listdir(f'MentalHealth_data/raw_data_{year}'):\n",
    "        if file[-3:] == 'csv':\n",
    "            df_new = pd.read_csv(f'MentalHealth_data/raw_data_{year}/{file}').drop(['Unnamed: 0'], axis=1)\n",
    "            df_new.time = df_new.time.apply(lambda x: file[:-4])\n",
    "            df = pd.concat([df, df_new]).reset_index(drop=True)\n",
    "df.head()\n"
   ]
  },
  {
   "cell_type": "code",
   "execution_count": 3,
   "id": "golden-purse",
   "metadata": {},
   "outputs": [],
   "source": [
    "df.time = df.time.apply(lambda x: datetime.strptime(x, '%d%b%Y'))\n",
    "df = df.sort_values('time')"
   ]
  },
  {
   "cell_type": "code",
   "execution_count": 4,
   "id": "constitutional-mixer",
   "metadata": {},
   "outputs": [],
   "source": [
    "dates = sorted([datetime.strftime(datetime.strptime(file[:-4], '%d%b%Y'), '%Y-%m-%d') \\\n",
    "                for year in range(2017, 2021) \\\n",
    "                for file in os.listdir(f'MentalHealth_data/raw_data_{year}') \\\n",
    "                if file[-3:] == 'csv'])\n",
    "data = []\n",
    "df_text = df[df['text'] != '[deleted]']\n",
    "\n",
    "for date in dates:\n",
    "    data.append(df_text[df_text['time'] == datetime.strptime(date, '%Y-%m-%d')])"
   ]
  },
  {
   "cell_type": "code",
   "execution_count": 5,
   "id": "primary-christopher",
   "metadata": {
    "scrolled": true
   },
   "outputs": [
    {
     "name": "stderr",
     "output_type": "stream",
     "text": [
      "100%|██████████| 732/732 [20:58<00:00,  1.72s/it]\n"
     ]
    }
   ],
   "source": [
    "#prophet expects a dataframe with (date, value)\n",
    "prophet_input = pd.DataFrame(columns = ['ds','y'])\n",
    "analyzer = SentimentIntensityAnalyzer()\n",
    "for i in tqdm(range(0, len(data))):\n",
    "    texts = data[i]['text'].values\n",
    "#     if (len(texts) == 0): \n",
    "#         continue\n",
    "    date = data[i]['time'].iloc[0] #date will be the same for all values in list, just pick first\n",
    "    #iterate over the posts in the texts list\n",
    "    for j in texts:\n",
    "        try:\n",
    "            vs = analyzer.polarity_scores(j)\n",
    "            new_data = pd.DataFrame([[date, vs['compound']]], columns = ['ds','y'])\n",
    "            prophet_input = pd.concat([prophet_input, new_data], ignore_index = True)\n",
    "        except:\n",
    "            print(\"We couldn't process this post because it was: \", j)\n",
    "            continue\n"
   ]
  },
  {
   "cell_type": "code",
   "execution_count": 10,
   "id": "balanced-start",
   "metadata": {},
   "outputs": [],
   "source": [
    "#need to split dataframe that was created above into four chunks (based on year) and then groupby date\n",
    "data_2017 = prophet_input[prophet_input['ds'].dt.year == 2017] \n",
    "data_2018 = prophet_input[prophet_input['ds'].dt.year == 2018] \n",
    "data_2019 = prophet_input[prophet_input['ds'].dt.year == 2019] \n",
    "data_2020 = prophet_input[prophet_input['ds'].dt.year == 2020] \n",
    "grouped_2017 = data_2017.groupby([data_2017['ds'].dt.date]).mean()\n",
    "grouped_2018 = data_2018.groupby([data_2018['ds'].dt.date]).mean()\n",
    "grouped_2019 = data_2019.groupby([data_2019['ds'].dt.date]).mean()\n",
    "grouped_2020 = data_2020.groupby([data_2020['ds'].dt.date]).mean()\n",
    "df_2017 = grouped_2017.reset_index()\n",
    "df_2018 = grouped_2018.reset_index()\n",
    "df_2019 = grouped_2019.reset_index()\n",
    "df_2020 = grouped_2020.reset_index()\n",
    "df_all_years = pd.concat([df_2017,df_2018,df_2019,df_2020])\n",
    "df_all_years.set_index('ds', inplace = True)"
   ]
  },
  {
   "cell_type": "code",
   "execution_count": 11,
   "id": "standard-latest",
   "metadata": {},
   "outputs": [],
   "source": [
    "freq = df_all_years.reset_index().rename(columns ={'ds': 'date', 'y':'y'})\n",
    "#get rolling average of all data and plot it overtime\n",
    "smoothed_vader_score = df_all_years.rolling(7).mean().reset_index().rename(columns ={'ds': 'date', 'y':'y'})\n",
    "#convert to datetime because altair was being weird\n",
    "freq[\"date\"] = pd.to_datetime(freq[\"date\"])\n",
    "smoothed_vader_score[\"date\"] = pd.to_datetime(smoothed_vader_score[\"date\"])\n",
    "\n",
    "series = alt.Chart(freq).mark_line(opacity=0.3,\n",
    "                                  ).encode(x='date', y='y'\n",
    "                                  ).properties(title='VADER compound score of post on r/MentalHealth'\n",
    "                                  ).interactive(bind_y=False)\n",
    "\n",
    "smoothed = alt.Chart(smoothed_vader_score.reset_index()).mark_line(\n",
    "                                                           ).encode(x='date', y='y'\n",
    "                                                           ).properties(title='Vader score of r/MentalHealth Posts'\n",
    "                                                           ).interactive(bind_y=False)\n",
    "\n",
    "chart = (series + smoothed).properties(width=800, height=300)\n",
    "chart.save('figures/VADER_MentalHealth.html')\n"
   ]
  },
  {
   "cell_type": "code",
   "execution_count": 72,
   "id": "lyric-catalog",
   "metadata": {},
   "outputs": [
    {
     "name": "stdout",
     "output_type": "stream",
     "text": [
      "          date  subscribers\n",
      "0   2017-01-01      22354.0\n",
      "1   2017-01-03      22439.0\n",
      "2   2017-01-05      22514.0\n",
      "3   2017-01-07      22609.0\n",
      "4   2017-01-09      22685.0\n",
      "..         ...          ...\n",
      "727 2020-12-22     210962.0\n",
      "728 2020-12-24     211286.0\n",
      "729 2020-12-26     211713.0\n",
      "730 2020-12-28     212149.0\n",
      "731 2020-12-30     212625.0\n",
      "\n",
      "[732 rows x 2 columns]\n",
      "ds\n",
      "2017-01-01     30\n",
      "2017-01-03     12\n",
      "2017-01-05     11\n",
      "2017-01-07     11\n",
      "2017-01-09     15\n",
      "             ... \n",
      "2020-12-22    134\n",
      "2020-12-24    148\n",
      "2020-12-26    138\n",
      "2020-12-28    184\n",
      "2020-12-30    147\n",
      "Name: y, Length: 732, dtype: int64\n"
     ]
    },
    {
     "ename": "TypeError",
     "evalue": "cannot perform __rtruediv__ with this index type: DatetimeArray",
     "output_type": "error",
     "traceback": [
      "\u001b[0;31m---------------------------------------------------------------------------\u001b[0m",
      "\u001b[0;31mTypeError\u001b[0m                                 Traceback (most recent call last)",
      "\u001b[0;32m<ipython-input-72-f54c09db6338>\u001b[0m in \u001b[0;36m<module>\u001b[0;34m\u001b[0m\n\u001b[1;32m     29\u001b[0m \u001b[0mposts_per_day_low_VADER_new\u001b[0m \u001b[0;34m=\u001b[0m \u001b[0mposts_per_day_low_VADER\u001b[0m\u001b[0;34m.\u001b[0m\u001b[0my\u001b[0m\u001b[0;34m\u001b[0m\u001b[0;34m\u001b[0m\u001b[0m\n\u001b[1;32m     30\u001b[0m \u001b[0mprint\u001b[0m\u001b[0;34m(\u001b[0m\u001b[0mposts_per_day_low_VADER_new\u001b[0m\u001b[0;34m)\u001b[0m\u001b[0;34m\u001b[0m\u001b[0;34m\u001b[0m\u001b[0m\n\u001b[0;32m---> 31\u001b[0;31m \u001b[0mnormalized_VADER_subscribers\u001b[0m \u001b[0;34m=\u001b[0m \u001b[0;34m(\u001b[0m\u001b[0mposts_per_day_low_VADER\u001b[0m\u001b[0;34m.\u001b[0m\u001b[0my\u001b[0m\u001b[0;34m/\u001b[0m\u001b[0moverlap_subs\u001b[0m\u001b[0;34m)\u001b[0m\u001b[0;34m\u001b[0m\u001b[0;34m\u001b[0m\u001b[0m\n\u001b[0m",
      "\u001b[0;32m~/anaconda3/envs/EECS_Affective/lib/python3.7/site-packages/pandas/core/ops/common.py\u001b[0m in \u001b[0;36mnew_method\u001b[0;34m(self, other)\u001b[0m\n\u001b[1;32m     63\u001b[0m         \u001b[0mother\u001b[0m \u001b[0;34m=\u001b[0m \u001b[0mitem_from_zerodim\u001b[0m\u001b[0;34m(\u001b[0m\u001b[0mother\u001b[0m\u001b[0;34m)\u001b[0m\u001b[0;34m\u001b[0m\u001b[0;34m\u001b[0m\u001b[0m\n\u001b[1;32m     64\u001b[0m \u001b[0;34m\u001b[0m\u001b[0m\n\u001b[0;32m---> 65\u001b[0;31m         \u001b[0;32mreturn\u001b[0m \u001b[0mmethod\u001b[0m\u001b[0;34m(\u001b[0m\u001b[0mself\u001b[0m\u001b[0;34m,\u001b[0m \u001b[0mother\u001b[0m\u001b[0;34m)\u001b[0m\u001b[0;34m\u001b[0m\u001b[0;34m\u001b[0m\u001b[0m\n\u001b[0m\u001b[1;32m     66\u001b[0m \u001b[0;34m\u001b[0m\u001b[0m\n\u001b[1;32m     67\u001b[0m     \u001b[0;32mreturn\u001b[0m \u001b[0mnew_method\u001b[0m\u001b[0;34m\u001b[0m\u001b[0;34m\u001b[0m\u001b[0m\n",
      "\u001b[0;32m~/anaconda3/envs/EECS_Affective/lib/python3.7/site-packages/pandas/core/arraylike.py\u001b[0m in \u001b[0;36m__rtruediv__\u001b[0;34m(self, other)\u001b[0m\n\u001b[1;32m    115\u001b[0m     \u001b[0;34m@\u001b[0m\u001b[0munpack_zerodim_and_defer\u001b[0m\u001b[0;34m(\u001b[0m\u001b[0;34m\"__rtruediv__\"\u001b[0m\u001b[0;34m)\u001b[0m\u001b[0;34m\u001b[0m\u001b[0;34m\u001b[0m\u001b[0m\n\u001b[1;32m    116\u001b[0m     \u001b[0;32mdef\u001b[0m \u001b[0m__rtruediv__\u001b[0m\u001b[0;34m(\u001b[0m\u001b[0mself\u001b[0m\u001b[0;34m,\u001b[0m \u001b[0mother\u001b[0m\u001b[0;34m)\u001b[0m\u001b[0;34m:\u001b[0m\u001b[0;34m\u001b[0m\u001b[0;34m\u001b[0m\u001b[0m\n\u001b[0;32m--> 117\u001b[0;31m         \u001b[0;32mreturn\u001b[0m \u001b[0mself\u001b[0m\u001b[0;34m.\u001b[0m\u001b[0m_arith_method\u001b[0m\u001b[0;34m(\u001b[0m\u001b[0mother\u001b[0m\u001b[0;34m,\u001b[0m \u001b[0mroperator\u001b[0m\u001b[0;34m.\u001b[0m\u001b[0mrtruediv\u001b[0m\u001b[0;34m)\u001b[0m\u001b[0;34m\u001b[0m\u001b[0;34m\u001b[0m\u001b[0m\n\u001b[0m\u001b[1;32m    118\u001b[0m \u001b[0;34m\u001b[0m\u001b[0m\n\u001b[1;32m    119\u001b[0m     \u001b[0;34m@\u001b[0m\u001b[0munpack_zerodim_and_defer\u001b[0m\u001b[0;34m(\u001b[0m\u001b[0;34m\"__floordiv__\"\u001b[0m\u001b[0;34m)\u001b[0m\u001b[0;34m\u001b[0m\u001b[0;34m\u001b[0m\u001b[0m\n",
      "\u001b[0;32m~/anaconda3/envs/EECS_Affective/lib/python3.7/site-packages/pandas/core/frame.py\u001b[0m in \u001b[0;36m_arith_method\u001b[0;34m(self, other, op)\u001b[0m\n\u001b[1;32m   5977\u001b[0m         \u001b[0mself\u001b[0m\u001b[0;34m,\u001b[0m \u001b[0mother\u001b[0m \u001b[0;34m=\u001b[0m \u001b[0mops\u001b[0m\u001b[0;34m.\u001b[0m\u001b[0malign_method_FRAME\u001b[0m\u001b[0;34m(\u001b[0m\u001b[0mself\u001b[0m\u001b[0;34m,\u001b[0m \u001b[0mother\u001b[0m\u001b[0;34m,\u001b[0m \u001b[0maxis\u001b[0m\u001b[0;34m,\u001b[0m \u001b[0mflex\u001b[0m\u001b[0;34m=\u001b[0m\u001b[0;32mTrue\u001b[0m\u001b[0;34m,\u001b[0m \u001b[0mlevel\u001b[0m\u001b[0;34m=\u001b[0m\u001b[0;32mNone\u001b[0m\u001b[0;34m)\u001b[0m\u001b[0;34m\u001b[0m\u001b[0;34m\u001b[0m\u001b[0m\n\u001b[1;32m   5978\u001b[0m \u001b[0;34m\u001b[0m\u001b[0m\n\u001b[0;32m-> 5979\u001b[0;31m         \u001b[0mnew_data\u001b[0m \u001b[0;34m=\u001b[0m \u001b[0mself\u001b[0m\u001b[0;34m.\u001b[0m\u001b[0m_dispatch_frame_op\u001b[0m\u001b[0;34m(\u001b[0m\u001b[0mother\u001b[0m\u001b[0;34m,\u001b[0m \u001b[0mop\u001b[0m\u001b[0;34m,\u001b[0m \u001b[0maxis\u001b[0m\u001b[0;34m=\u001b[0m\u001b[0maxis\u001b[0m\u001b[0;34m)\u001b[0m\u001b[0;34m\u001b[0m\u001b[0;34m\u001b[0m\u001b[0m\n\u001b[0m\u001b[1;32m   5980\u001b[0m         \u001b[0;32mreturn\u001b[0m \u001b[0mself\u001b[0m\u001b[0;34m.\u001b[0m\u001b[0m_construct_result\u001b[0m\u001b[0;34m(\u001b[0m\u001b[0mnew_data\u001b[0m\u001b[0;34m)\u001b[0m\u001b[0;34m\u001b[0m\u001b[0;34m\u001b[0m\u001b[0m\n\u001b[1;32m   5981\u001b[0m \u001b[0;34m\u001b[0m\u001b[0m\n",
      "\u001b[0;32m~/anaconda3/envs/EECS_Affective/lib/python3.7/site-packages/pandas/core/frame.py\u001b[0m in \u001b[0;36m_dispatch_frame_op\u001b[0;34m(self, right, func, axis)\u001b[0m\n\u001b[1;32m   6013\u001b[0m             \u001b[0;31m#  _frame_arith_method_with_reindex\u001b[0m\u001b[0;34m\u001b[0m\u001b[0;34m\u001b[0m\u001b[0;34m\u001b[0m\u001b[0m\n\u001b[1;32m   6014\u001b[0m \u001b[0;34m\u001b[0m\u001b[0m\n\u001b[0;32m-> 6015\u001b[0;31m             \u001b[0mbm\u001b[0m \u001b[0;34m=\u001b[0m \u001b[0mself\u001b[0m\u001b[0;34m.\u001b[0m\u001b[0m_mgr\u001b[0m\u001b[0;34m.\u001b[0m\u001b[0moperate_blockwise\u001b[0m\u001b[0;34m(\u001b[0m\u001b[0mright\u001b[0m\u001b[0;34m.\u001b[0m\u001b[0m_mgr\u001b[0m\u001b[0;34m,\u001b[0m \u001b[0marray_op\u001b[0m\u001b[0;34m)\u001b[0m\u001b[0;34m\u001b[0m\u001b[0;34m\u001b[0m\u001b[0m\n\u001b[0m\u001b[1;32m   6016\u001b[0m             \u001b[0;32mreturn\u001b[0m \u001b[0mtype\u001b[0m\u001b[0;34m(\u001b[0m\u001b[0mself\u001b[0m\u001b[0;34m)\u001b[0m\u001b[0;34m(\u001b[0m\u001b[0mbm\u001b[0m\u001b[0;34m)\u001b[0m\u001b[0;34m\u001b[0m\u001b[0;34m\u001b[0m\u001b[0m\n\u001b[1;32m   6017\u001b[0m \u001b[0;34m\u001b[0m\u001b[0m\n",
      "\u001b[0;32m~/anaconda3/envs/EECS_Affective/lib/python3.7/site-packages/pandas/core/internals/managers.py\u001b[0m in \u001b[0;36moperate_blockwise\u001b[0;34m(self, other, array_op)\u001b[0m\n\u001b[1;32m    372\u001b[0m         \u001b[0mApply\u001b[0m \u001b[0marray_op\u001b[0m \u001b[0mblockwise\u001b[0m \u001b[0;32mwith\u001b[0m \u001b[0manother\u001b[0m \u001b[0;34m(\u001b[0m\u001b[0maligned\u001b[0m\u001b[0;34m)\u001b[0m \u001b[0mBlockManager\u001b[0m\u001b[0;34m.\u001b[0m\u001b[0;34m\u001b[0m\u001b[0;34m\u001b[0m\u001b[0m\n\u001b[1;32m    373\u001b[0m         \"\"\"\n\u001b[0;32m--> 374\u001b[0;31m         \u001b[0;32mreturn\u001b[0m \u001b[0moperate_blockwise\u001b[0m\u001b[0;34m(\u001b[0m\u001b[0mself\u001b[0m\u001b[0;34m,\u001b[0m \u001b[0mother\u001b[0m\u001b[0;34m,\u001b[0m \u001b[0marray_op\u001b[0m\u001b[0;34m)\u001b[0m\u001b[0;34m\u001b[0m\u001b[0;34m\u001b[0m\u001b[0m\n\u001b[0m\u001b[1;32m    375\u001b[0m \u001b[0;34m\u001b[0m\u001b[0m\n\u001b[1;32m    376\u001b[0m     def apply(\n",
      "\u001b[0;32m~/anaconda3/envs/EECS_Affective/lib/python3.7/site-packages/pandas/core/internals/ops.py\u001b[0m in \u001b[0;36moperate_blockwise\u001b[0;34m(left, right, array_op)\u001b[0m\n\u001b[1;32m     52\u001b[0m     \u001b[0mres_blks\u001b[0m\u001b[0;34m:\u001b[0m \u001b[0mList\u001b[0m\u001b[0;34m[\u001b[0m\u001b[0;34m\"Block\"\u001b[0m\u001b[0;34m]\u001b[0m \u001b[0;34m=\u001b[0m \u001b[0;34m[\u001b[0m\u001b[0;34m]\u001b[0m\u001b[0;34m\u001b[0m\u001b[0;34m\u001b[0m\u001b[0m\n\u001b[1;32m     53\u001b[0m     \u001b[0;32mfor\u001b[0m \u001b[0mlvals\u001b[0m\u001b[0;34m,\u001b[0m \u001b[0mrvals\u001b[0m\u001b[0;34m,\u001b[0m \u001b[0mlocs\u001b[0m\u001b[0;34m,\u001b[0m \u001b[0mleft_ea\u001b[0m\u001b[0;34m,\u001b[0m \u001b[0mright_ea\u001b[0m\u001b[0;34m,\u001b[0m \u001b[0mrblk\u001b[0m \u001b[0;32min\u001b[0m \u001b[0m_iter_block_pairs\u001b[0m\u001b[0;34m(\u001b[0m\u001b[0mleft\u001b[0m\u001b[0;34m,\u001b[0m \u001b[0mright\u001b[0m\u001b[0;34m)\u001b[0m\u001b[0;34m:\u001b[0m\u001b[0;34m\u001b[0m\u001b[0;34m\u001b[0m\u001b[0m\n\u001b[0;32m---> 54\u001b[0;31m         \u001b[0mres_values\u001b[0m \u001b[0;34m=\u001b[0m \u001b[0marray_op\u001b[0m\u001b[0;34m(\u001b[0m\u001b[0mlvals\u001b[0m\u001b[0;34m,\u001b[0m \u001b[0mrvals\u001b[0m\u001b[0;34m)\u001b[0m\u001b[0;34m\u001b[0m\u001b[0;34m\u001b[0m\u001b[0m\n\u001b[0m\u001b[1;32m     55\u001b[0m         \u001b[0;32mif\u001b[0m \u001b[0mleft_ea\u001b[0m \u001b[0;32mand\u001b[0m \u001b[0;32mnot\u001b[0m \u001b[0mright_ea\u001b[0m \u001b[0;32mand\u001b[0m \u001b[0mhasattr\u001b[0m\u001b[0;34m(\u001b[0m\u001b[0mres_values\u001b[0m\u001b[0;34m,\u001b[0m \u001b[0;34m\"reshape\"\u001b[0m\u001b[0;34m)\u001b[0m\u001b[0;34m:\u001b[0m\u001b[0;34m\u001b[0m\u001b[0;34m\u001b[0m\u001b[0m\n\u001b[1;32m     56\u001b[0m             \u001b[0mres_values\u001b[0m \u001b[0;34m=\u001b[0m \u001b[0mres_values\u001b[0m\u001b[0;34m.\u001b[0m\u001b[0mreshape\u001b[0m\u001b[0;34m(\u001b[0m\u001b[0;36m1\u001b[0m\u001b[0;34m,\u001b[0m \u001b[0;34m-\u001b[0m\u001b[0;36m1\u001b[0m\u001b[0;34m)\u001b[0m\u001b[0;34m\u001b[0m\u001b[0;34m\u001b[0m\u001b[0m\n",
      "\u001b[0;32m~/anaconda3/envs/EECS_Affective/lib/python3.7/site-packages/pandas/core/ops/array_ops.py\u001b[0m in \u001b[0;36marithmetic_op\u001b[0;34m(left, right, op)\u001b[0m\n\u001b[1;32m    183\u001b[0m     \u001b[0;32mif\u001b[0m \u001b[0mshould_extension_dispatch\u001b[0m\u001b[0;34m(\u001b[0m\u001b[0mlvalues\u001b[0m\u001b[0;34m,\u001b[0m \u001b[0mrvalues\u001b[0m\u001b[0;34m)\u001b[0m \u001b[0;32mor\u001b[0m \u001b[0misinstance\u001b[0m\u001b[0;34m(\u001b[0m\u001b[0mrvalues\u001b[0m\u001b[0;34m,\u001b[0m \u001b[0mTimedelta\u001b[0m\u001b[0;34m)\u001b[0m\u001b[0;34m:\u001b[0m\u001b[0;34m\u001b[0m\u001b[0;34m\u001b[0m\u001b[0m\n\u001b[1;32m    184\u001b[0m         \u001b[0;31m# Timedelta is included because numexpr will fail on it, see GH#31457\u001b[0m\u001b[0;34m\u001b[0m\u001b[0;34m\u001b[0m\u001b[0;34m\u001b[0m\u001b[0m\n\u001b[0;32m--> 185\u001b[0;31m         \u001b[0mres_values\u001b[0m \u001b[0;34m=\u001b[0m \u001b[0mop\u001b[0m\u001b[0;34m(\u001b[0m\u001b[0mlvalues\u001b[0m\u001b[0;34m,\u001b[0m \u001b[0mrvalues\u001b[0m\u001b[0;34m)\u001b[0m\u001b[0;34m\u001b[0m\u001b[0;34m\u001b[0m\u001b[0m\n\u001b[0m\u001b[1;32m    186\u001b[0m \u001b[0;34m\u001b[0m\u001b[0m\n\u001b[1;32m    187\u001b[0m     \u001b[0;32melse\u001b[0m\u001b[0;34m:\u001b[0m\u001b[0;34m\u001b[0m\u001b[0;34m\u001b[0m\u001b[0m\n",
      "\u001b[0;32m~/anaconda3/envs/EECS_Affective/lib/python3.7/site-packages/pandas/core/ops/roperator.py\u001b[0m in \u001b[0;36mrtruediv\u001b[0;34m(left, right)\u001b[0m\n\u001b[1;32m     23\u001b[0m \u001b[0;34m\u001b[0m\u001b[0m\n\u001b[1;32m     24\u001b[0m \u001b[0;32mdef\u001b[0m \u001b[0mrtruediv\u001b[0m\u001b[0;34m(\u001b[0m\u001b[0mleft\u001b[0m\u001b[0;34m,\u001b[0m \u001b[0mright\u001b[0m\u001b[0;34m)\u001b[0m\u001b[0;34m:\u001b[0m\u001b[0;34m\u001b[0m\u001b[0;34m\u001b[0m\u001b[0m\n\u001b[0;32m---> 25\u001b[0;31m     \u001b[0;32mreturn\u001b[0m \u001b[0mright\u001b[0m \u001b[0;34m/\u001b[0m \u001b[0mleft\u001b[0m\u001b[0;34m\u001b[0m\u001b[0;34m\u001b[0m\u001b[0m\n\u001b[0m\u001b[1;32m     26\u001b[0m \u001b[0;34m\u001b[0m\u001b[0m\n\u001b[1;32m     27\u001b[0m \u001b[0;34m\u001b[0m\u001b[0m\n",
      "\u001b[0;32m~/anaconda3/envs/EECS_Affective/lib/python3.7/site-packages/pandas/core/ops/invalid.py\u001b[0m in \u001b[0;36minvalid_op\u001b[0;34m(self, other)\u001b[0m\n\u001b[1;32m     51\u001b[0m     \u001b[0;32mdef\u001b[0m \u001b[0minvalid_op\u001b[0m\u001b[0;34m(\u001b[0m\u001b[0mself\u001b[0m\u001b[0;34m,\u001b[0m \u001b[0mother\u001b[0m\u001b[0;34m=\u001b[0m\u001b[0;32mNone\u001b[0m\u001b[0;34m)\u001b[0m\u001b[0;34m:\u001b[0m\u001b[0;34m\u001b[0m\u001b[0;34m\u001b[0m\u001b[0m\n\u001b[1;32m     52\u001b[0m         \u001b[0mtyp\u001b[0m \u001b[0;34m=\u001b[0m \u001b[0mtype\u001b[0m\u001b[0;34m(\u001b[0m\u001b[0mself\u001b[0m\u001b[0;34m)\u001b[0m\u001b[0;34m.\u001b[0m\u001b[0m__name__\u001b[0m\u001b[0;34m\u001b[0m\u001b[0;34m\u001b[0m\u001b[0m\n\u001b[0;32m---> 53\u001b[0;31m         \u001b[0;32mraise\u001b[0m \u001b[0mTypeError\u001b[0m\u001b[0;34m(\u001b[0m\u001b[0;34mf\"cannot perform {name} with this index type: {typ}\"\u001b[0m\u001b[0;34m)\u001b[0m\u001b[0;34m\u001b[0m\u001b[0;34m\u001b[0m\u001b[0m\n\u001b[0m\u001b[1;32m     54\u001b[0m \u001b[0;34m\u001b[0m\u001b[0m\n\u001b[1;32m     55\u001b[0m     \u001b[0minvalid_op\u001b[0m\u001b[0;34m.\u001b[0m\u001b[0m__name__\u001b[0m \u001b[0;34m=\u001b[0m \u001b[0mname\u001b[0m\u001b[0;34m\u001b[0m\u001b[0;34m\u001b[0m\u001b[0m\n",
      "\u001b[0;31mTypeError\u001b[0m: cannot perform __rtruediv__ with this index type: DatetimeArray"
     ]
    }
   ],
   "source": [
    "df_all = pd.concat([data_2017,data_2018,data_2019,data_2020])\n",
    "df_low_VADER = df_all[df_all['y'] < -0.1]\n",
    "posts_per_day_low_VADER = df_low_VADER.groupby([df_low_VADER['ds'].dt.date]).count()\n",
    "posts_per_day = df_all.groupby([df_all['ds'].dt.date]).count()\n",
    "normalized_VADER_count = (posts_per_day_low_VADER/posts_per_day).y\n",
    "a = normalized_VADER_count.index.to_series()\n",
    "\n",
    "\n",
    "df = pd.DataFrame({'date': a, 'count': normalized_VADER_count}).reset_index().drop(columns=['ds'])\n",
    "df['date'] = pd.to_datetime(df['date'])\n",
    "\n",
    "VADER = alt.Chart(df).interactive(bind_y=False).mark_line(opacity=0.3).encode(x='date',y='count')\n",
    "chart = VADER.properties(width=800, height=300)\n",
    "chart.save('figures/Frequency_of_low_VADER.html')\n",
    "\n",
    "\n",
    "\n",
    "\n",
    "#try to import number of subscribers \n",
    "trend = pd.read_csv('subscriber_count.csv')\n",
    "trend['subscribers'] = trend['subscribers'].interpolate()\n",
    "trend['date'] = trend['date'].apply(lambda x: datetime.strptime(x, '%m/%d/%Y %H:%M').replace(hour=0, minute=0))\n",
    "\n",
    "overlap = pd.DataFrame()\n",
    "dates = freq[freq['date'].isin(trend.date)]['date']\n",
    "overlap['date'] = dates\n",
    "overlap_subs = trend[trend['date'].isin(dates)].reset_index().drop(['index'], axis=1)\n",
    "overlap_subs_series = \n",
    "posts_per_day_low_VADER_series = posts_per_day_low_VADER.y\n",
    "print(posts_per_day_low_VADER_new)\n",
    "normalized_VADER_subscribers = (posts_per_day_low_VADER.y/overlap_subs)\n"
   ]
  },
  {
   "cell_type": "markdown",
   "id": "awful-gates",
   "metadata": {},
   "source": [
    "## Everything below this line is for predicting with Prophet, TBD if this will still even be used"
   ]
  },
  {
   "cell_type": "code",
   "execution_count": null,
   "id": "crazy-dominant",
   "metadata": {},
   "outputs": [],
   "source": [
    "#periodgram of data\n",
    "f, Pxx_den = signal.periodogram(df_all_years['y'])\n",
    "plt.semilogy(f, Pxx_den)\n",
    "plt.ylim([1e-7, 1e2])\n",
    "plt.xlabel('frequency [Hz]')\n",
    "plt.ylabel('PSD [V**2/Hz]')\n",
    "plt.show()"
   ]
  },
  {
   "cell_type": "code",
   "execution_count": null,
   "id": "adopted-programming",
   "metadata": {},
   "outputs": [],
   "source": [
    "#start fitting data using Prophet model\n",
    "m_2017 = Prophet(weekly_seasonality=False)\n",
    "#fit model with 2017 data, use the to predict 2018 data\n",
    "m_2017.fit(df_2017)\n",
    "future_2018 = m_2017.make_future_dataframe(periods=365)[-365:]\n",
    "forecast_2018 = m_2017.predict(future_2018)\n",
    "y_hat_2018 = forecast_2018[['ds','yhat']]\n",
    "fig1 = m_2017.plot(forecast_2018)\n",
    "#m_2017.plot_components(forecast_2018)"
   ]
  },
  {
   "cell_type": "code",
   "execution_count": null,
   "id": "standard-acoustic",
   "metadata": {},
   "outputs": [],
   "source": [
    "#plot predicted_2018 vs true_2018 to check for similarities\n",
    "plt.plot(y_hat_2018['ds'], y_hat_2018['yhat'])\n",
    "plt.plot(df_2018['ds'],df_2018['y'])\n",
    "#find correlation between the two values as well\n",
    "y_hat_2018_trim = y_hat_2018.iloc[::2]\n",
    "print(np.corrcoef(y_hat_2018_trim['yhat'], df_2018['y']))"
   ]
  },
  {
   "cell_type": "code",
   "execution_count": null,
   "id": "prepared-jerusalem",
   "metadata": {},
   "outputs": [],
   "source": [
    "m_2018 = Prophet(weekly_seasonality=False)\n",
    "#fit model with 2018 data, use the to predict 2019 data\n",
    "m_2018.fit(df_2018)\n",
    "future_2019 = m_2018.make_future_dataframe(periods=365)[-365:]\n",
    "forecast_2019 = m_2018.predict(future_2019)\n",
    "y_hat_2019 = forecast_2019[['ds','yhat']]\n",
    "y_hat_2019 = y_hat_2019.iloc[::2]\n",
    "fig2 = m_2018.plot(forecast_2019)"
   ]
  },
  {
   "cell_type": "code",
   "execution_count": null,
   "id": "nominated-senegal",
   "metadata": {},
   "outputs": [],
   "source": [
    "#plot predicted_2019 vs true_2019 to check for similarities\n",
    "plt.plot(y_hat_2019['ds'], y_hat_2019['yhat'])\n",
    "plt.plot(df_2019['ds'],df_2019['y'])\n",
    "#find the correlation between y_hat and y_true\n",
    "y_hat_2019_trim = y_hat_2019.iloc[::2]\n",
    "np.corrcoef(y_hat_2019['yhat'], df_2019['y'])"
   ]
  },
  {
   "cell_type": "code",
   "execution_count": null,
   "id": "happy-spirit",
   "metadata": {},
   "outputs": [],
   "source": [
    "m_2019 = Prophet(weekly_seasonality=False)\n",
    "#fit model with 2018 data, use the to predict 2019 data\n",
    "m_2019.fit(df_2019)\n",
    "future_2020 = m_2019.make_future_dataframe(periods=365)[-365:]\n",
    "forecast_2020 = m_2019.predict(future_2020)\n",
    "y_hat_2020 = forecast_2020[['ds','yhat']]\n",
    "fig3 = m_2019.plot(forecast_2020)"
   ]
  },
  {
   "cell_type": "code",
   "execution_count": null,
   "id": "lyric-extension",
   "metadata": {},
   "outputs": [],
   "source": [
    "plt.plot(y_hat_2020['ds'], y_hat_2020['yhat'])\n",
    "plt.plot(df_2020['ds'],df_2020['y'])\n",
    "#find the correlation between y_hat and y_true\n",
    "y_hat_2020_trim = y_hat_2020.iloc[::2]\n",
    "np.corrcoef(y_hat_2020_trim['yhat'], df_2020['y'])"
   ]
  },
  {
   "cell_type": "code",
   "execution_count": null,
   "id": "living-cursor",
   "metadata": {},
   "outputs": [],
   "source": [
    "#try fitting 2017-2019 to predit 2020\n",
    "df_pre2020 = pd.concat([df_2017,df_2018,df_2019])\n",
    "m_2020 = Prophet(weekly_seasonality=False, yearly_seasonality=True)\n",
    "m_2020.fit(df_pre2020)\n",
    "future_all = m_2020.make_future_dataframe(periods=365)[-365:]\n",
    "forecast_2020_all = m_2020.predict(future_all)\n",
    "y_hat_2020_all = forecast_2020_all[['ds','yhat']]\n",
    "fig4 = m_2020.plot(forecast_2020_all)"
   ]
  },
  {
   "cell_type": "code",
   "execution_count": null,
   "id": "unlikely-stability",
   "metadata": {},
   "outputs": [],
   "source": [
    "plt.plot(y_hat_2020_all['ds'], y_hat_2020_all['yhat'])\n",
    "plt.plot(df_2020['ds'],df_2020['y'])\n",
    "#find correlation between true and predicted value\n",
    "y_hat_2020_all_trim = y_hat_2020_all.iloc[::2]\n",
    "np.corrcoef(y_hat_2020_all_trim['yhat'], df_2020['y'])"
   ]
  },
  {
   "cell_type": "code",
   "execution_count": null,
   "id": "inside-fifty",
   "metadata": {},
   "outputs": [],
   "source": [
    "#TODO: Check for correlation between these two years\n",
    "#TODO: investigate changepoints of the prophet model\n",
    "#TODO: Try to smooth initial data more\n"
   ]
  }
 ],
 "metadata": {
  "kernelspec": {
   "display_name": "Python 3",
   "language": "python",
   "name": "python3"
  },
  "language_info": {
   "codemirror_mode": {
    "name": "ipython",
    "version": 3
   },
   "file_extension": ".py",
   "mimetype": "text/x-python",
   "name": "python",
   "nbconvert_exporter": "python",
   "pygments_lexer": "ipython3",
   "version": "3.7.9"
  }
 },
 "nbformat": 4,
 "nbformat_minor": 5
}
