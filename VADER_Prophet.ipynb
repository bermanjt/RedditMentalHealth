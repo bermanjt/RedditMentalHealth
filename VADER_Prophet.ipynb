{
 "cells": [
  {
   "cell_type": "code",
   "execution_count": 67,
   "id": "photographic-basics",
   "metadata": {},
   "outputs": [],
   "source": [
    "import pandas as pd\n",
    "import os\n",
    "from datetime import datetime\n",
    "from tqdm import tqdm\n",
    "from vaderSentiment.vaderSentiment import SentimentIntensityAnalyzer\n",
    "from fbprophet import Prophet\n",
    "import plotly\n",
    "from fbprophet.plot import plot_plotly, plot_components_plotly\n",
    "import matplotlib.pyplot as plt\n",
    "from matplotlib.pyplot import figure\n",
    "from scipy import signal\n",
    "import numpy as np"
   ]
  },
  {
   "cell_type": "code",
   "execution_count": 2,
   "id": "final-marsh",
   "metadata": {},
   "outputs": [
    {
     "data": {
      "text/html": [
       "<div>\n",
       "<style scoped>\n",
       "    .dataframe tbody tr th:only-of-type {\n",
       "        vertical-align: middle;\n",
       "    }\n",
       "\n",
       "    .dataframe tbody tr th {\n",
       "        vertical-align: top;\n",
       "    }\n",
       "\n",
       "    .dataframe thead th {\n",
       "        text-align: right;\n",
       "    }\n",
       "</style>\n",
       "<table border=\"1\" class=\"dataframe\">\n",
       "  <thead>\n",
       "    <tr style=\"text-align: right;\">\n",
       "      <th></th>\n",
       "      <th>text</th>\n",
       "      <th>time</th>\n",
       "      <th>score</th>\n",
       "      <th>subscribers</th>\n",
       "    </tr>\n",
       "  </thead>\n",
       "  <tbody>\n",
       "    <tr>\n",
       "      <th>0</th>\n",
       "      <td>I don't know how many of you read it, but a fe...</td>\n",
       "      <td>01Jan2017</td>\n",
       "      <td>6</td>\n",
       "      <td>NaN</td>\n",
       "    </tr>\n",
       "    <tr>\n",
       "      <th>1</th>\n",
       "      <td>[deleted]</td>\n",
       "      <td>01Jan2017</td>\n",
       "      <td>10</td>\n",
       "      <td>NaN</td>\n",
       "    </tr>\n",
       "    <tr>\n",
       "      <th>2</th>\n",
       "      <td>The reason that it occurred to me that I may h...</td>\n",
       "      <td>01Jan2017</td>\n",
       "      <td>1</td>\n",
       "      <td>NaN</td>\n",
       "    </tr>\n",
       "    <tr>\n",
       "      <th>3</th>\n",
       "      <td>Sometimes I don't really feel like a participa...</td>\n",
       "      <td>01Jan2017</td>\n",
       "      <td>5</td>\n",
       "      <td>NaN</td>\n",
       "    </tr>\n",
       "    <tr>\n",
       "      <th>4</th>\n",
       "      <td>[deleted]</td>\n",
       "      <td>01Jan2017</td>\n",
       "      <td>3</td>\n",
       "      <td>NaN</td>\n",
       "    </tr>\n",
       "  </tbody>\n",
       "</table>\n",
       "</div>"
      ],
      "text/plain": [
       "                                                text       time  score  \\\n",
       "0  I don't know how many of you read it, but a fe...  01Jan2017      6   \n",
       "1                                          [deleted]  01Jan2017     10   \n",
       "2  The reason that it occurred to me that I may h...  01Jan2017      1   \n",
       "3  Sometimes I don't really feel like a participa...  01Jan2017      5   \n",
       "4                                          [deleted]  01Jan2017      3   \n",
       "\n",
       "   subscribers  \n",
       "0          NaN  \n",
       "1          NaN  \n",
       "2          NaN  \n",
       "3          NaN  \n",
       "4          NaN  "
      ]
     },
     "execution_count": 2,
     "metadata": {},
     "output_type": "execute_result"
    }
   ],
   "source": [
    "df = pd.read_csv('raw_data_2017/01Jan2017.csv').drop(['Unnamed: 0'], axis = 1)\n",
    "for year in range(2017,2021):\n",
    "    for file in os.listdir(f'raw_data_{year}'):\n",
    "        if file[-3:] == 'csv':\n",
    "            df_new = pd.read_csv(f'raw_data_{year}/{file}').drop(['Unnamed: 0'], axis=1)\n",
    "            df_new.time = df_new.time.apply(lambda x: file[:-4])\n",
    "            df = pd.concat([df, df_new]).reset_index(drop=True)\n",
    "df.head()\n"
   ]
  },
  {
   "cell_type": "code",
   "execution_count": 3,
   "id": "golden-purse",
   "metadata": {},
   "outputs": [],
   "source": [
    "df.time = df.time.apply(lambda x: datetime.strptime(x, '%d%b%Y'))\n",
    "df = df.sort_values('time')"
   ]
  },
  {
   "cell_type": "code",
   "execution_count": 4,
   "id": "constitutional-mixer",
   "metadata": {},
   "outputs": [],
   "source": [
    "dates = sorted([datetime.strftime(datetime.strptime(file[:-4], '%d%b%Y'), '%Y-%m-%d') \\\n",
    "                for year in range(2017, 2021) \\\n",
    "                for file in os.listdir(f'raw_data_{year}') \\\n",
    "                if file[-3:] == 'csv'])\n",
    "data = []\n",
    "df_text = df[df['text'] != '[deleted]']\n",
    "\n",
    "for date in dates:\n",
    "    data.append(df_text[df_text['time'] == datetime.strptime(date, '%Y-%m-%d')])"
   ]
  },
  {
   "cell_type": "code",
   "execution_count": 5,
   "id": "primary-christopher",
   "metadata": {
    "scrolled": true
   },
   "outputs": [
    {
     "name": "stderr",
     "output_type": "stream",
     "text": [
      "\r",
      "  0%|          | 0/732 [00:00<?, ?it/s]"
     ]
    },
    {
     "name": "stdout",
     "output_type": "stream",
     "text": [
      "We couldn't process this post because it was:  nan\n",
      "We couldn't process this post because it was:  nan\n",
      "We couldn't process this post because it was:  nan\n",
      "We couldn't process this post because it was:  nan\n",
      "We couldn't process this post because it was:  nan\n",
      "We couldn't process this post because it was:  nan\n",
      "We couldn't process this post because it was:  nan\n",
      "We couldn't process this post because it was:  nan\n",
      "We couldn't process this post because it was:  nan\n",
      "We couldn't process this post because it was:  nan\n",
      "We couldn't process this post because it was:  nan\n",
      "We couldn't process this post because it was:  nan\n",
      "We couldn't process this post because it was:  nan\n",
      "We couldn't process this post because it was:  nan\n",
      "We couldn't process this post because it was:  nan\n"
     ]
    },
    {
     "name": "stderr",
     "output_type": "stream",
     "text": [
      "\r",
      "  0%|          | 1/732 [00:00<07:12,  1.69it/s]"
     ]
    },
    {
     "name": "stdout",
     "output_type": "stream",
     "text": [
      "We couldn't process this post because it was:  nan\n",
      "We couldn't process this post because it was:  nan\n",
      "We couldn't process this post because it was:  nan\n",
      "We couldn't process this post because it was:  nan\n",
      "We couldn't process this post because it was:  nan\n",
      "We couldn't process this post because it was:  nan\n",
      "We couldn't process this post because it was:  nan\n",
      "We couldn't process this post because it was:  nan\n",
      "We couldn't process this post because it was:  nan\n",
      "We couldn't process this post because it was:  nan\n",
      "We couldn't process this post because it was:  nan\n",
      "We couldn't process this post because it was:  nan\n",
      "We couldn't process this post because it was:  nan\n",
      "We couldn't process this post because it was:  nan\n",
      "We couldn't process this post because it was:  nan\n"
     ]
    },
    {
     "name": "stderr",
     "output_type": "stream",
     "text": [
      "\r",
      "  0%|          | 2/732 [00:00<05:01,  2.42it/s]"
     ]
    },
    {
     "name": "stdout",
     "output_type": "stream",
     "text": [
      "We couldn't process this post because it was:  nan\n",
      "We couldn't process this post because it was:  nan\n",
      "We couldn't process this post because it was:  nan\n",
      "We couldn't process this post because it was:  nan\n",
      "We couldn't process this post because it was:  nan\n",
      "We couldn't process this post because it was:  nan\n",
      "We couldn't process this post because it was:  nan\n",
      "We couldn't process this post because it was:  nan\n",
      "We couldn't process this post because it was:  nan\n",
      "We couldn't process this post because it was:  nan\n"
     ]
    },
    {
     "name": "stderr",
     "output_type": "stream",
     "text": [
      "\r",
      "  0%|          | 3/732 [00:01<04:07,  2.95it/s]"
     ]
    },
    {
     "name": "stdout",
     "output_type": "stream",
     "text": [
      "We couldn't process this post because it was:  nan\n",
      "We couldn't process this post because it was:  nan\n",
      "We couldn't process this post because it was:  nan\n",
      "We couldn't process this post because it was:  nan\n",
      "We couldn't process this post because it was:  nan\n",
      "We couldn't process this post because it was:  nan\n",
      "We couldn't process this post because it was:  nan\n",
      "We couldn't process this post because it was:  nan\n",
      "We couldn't process this post because it was:  nan\n",
      "We couldn't process this post because it was:  nan\n",
      "We couldn't process this post because it was:  nan\n",
      "We couldn't process this post because it was:  nan\n",
      "We couldn't process this post because it was:  nan\n",
      "We couldn't process this post because it was:  nan\n",
      "We couldn't process this post because it was:  nan\n",
      "We couldn't process this post because it was:  nan\n",
      "We couldn't process this post because it was:  nan\n"
     ]
    },
    {
     "name": "stderr",
     "output_type": "stream",
     "text": [
      "\r",
      "  1%|          | 4/732 [00:01<04:11,  2.90it/s]"
     ]
    },
    {
     "name": "stdout",
     "output_type": "stream",
     "text": [
      "We couldn't process this post because it was:  nan\n",
      "We couldn't process this post because it was:  nan\n",
      "We couldn't process this post because it was:  nan\n",
      "We couldn't process this post because it was:  nan\n",
      "We couldn't process this post because it was:  nan\n",
      "We couldn't process this post because it was:  nan\n",
      "We couldn't process this post because it was:  nan\n",
      "We couldn't process this post because it was:  nan\n",
      "We couldn't process this post because it was:  nan\n",
      "We couldn't process this post because it was:  nan\n"
     ]
    },
    {
     "name": "stderr",
     "output_type": "stream",
     "text": [
      "\r",
      "  1%|          | 5/732 [00:01<04:02,  3.00it/s]"
     ]
    },
    {
     "name": "stdout",
     "output_type": "stream",
     "text": [
      "We couldn't process this post because it was:  nan\n",
      "We couldn't process this post because it was:  nan\n",
      "We couldn't process this post because it was:  nan\n",
      "We couldn't process this post because it was:  nan\n",
      "We couldn't process this post because it was:  nan\n",
      "We couldn't process this post because it was:  nan\n",
      "We couldn't process this post because it was:  nan\n",
      "We couldn't process this post because it was:  nan\n",
      "We couldn't process this post because it was:  nan\n",
      "We couldn't process this post because it was:  nan\n",
      "We couldn't process this post because it was:  nan\n",
      "We couldn't process this post because it was:  nan\n"
     ]
    },
    {
     "name": "stderr",
     "output_type": "stream",
     "text": [
      "\r",
      "  1%|          | 6/732 [00:02<04:15,  2.85it/s]"
     ]
    },
    {
     "name": "stdout",
     "output_type": "stream",
     "text": [
      "We couldn't process this post because it was:  nan\n",
      "We couldn't process this post because it was:  nan\n",
      "We couldn't process this post because it was:  nan\n",
      "We couldn't process this post because it was:  nan\n",
      "We couldn't process this post because it was:  nan\n",
      "We couldn't process this post because it was:  nan\n",
      "We couldn't process this post because it was:  nan\n",
      "We couldn't process this post because it was:  nan\n",
      "We couldn't process this post because it was:  nan\n",
      "We couldn't process this post because it was:  nan\n",
      "We couldn't process this post because it was:  nan\n",
      "We couldn't process this post because it was:  nan\n",
      "We couldn't process this post because it was:  nan\n",
      "We couldn't process this post because it was:  nan\n",
      "We couldn't process this post because it was:  nan\n",
      "We couldn't process this post because it was:  nan\n"
     ]
    },
    {
     "name": "stderr",
     "output_type": "stream",
     "text": [
      "\r",
      "  1%|          | 7/732 [00:02<03:27,  3.49it/s]"
     ]
    },
    {
     "name": "stdout",
     "output_type": "stream",
     "text": [
      "We couldn't process this post because it was:  nan\n",
      "We couldn't process this post because it was:  nan\n",
      "We couldn't process this post because it was:  nan\n",
      "We couldn't process this post because it was:  nan\n",
      "We couldn't process this post because it was:  nan\n",
      "We couldn't process this post because it was:  nan\n",
      "We couldn't process this post because it was:  nan\n",
      "We couldn't process this post because it was:  nan\n",
      "We couldn't process this post because it was:  nan\n",
      "We couldn't process this post because it was:  nan\n",
      "We couldn't process this post because it was:  nan\n",
      "We couldn't process this post because it was:  nan\n",
      "We couldn't process this post because it was:  nan\n",
      "We couldn't process this post because it was:  nan\n",
      "We couldn't process this post because it was:  nan\n",
      "We couldn't process this post because it was:  nan\n",
      "We couldn't process this post because it was:  nan\n",
      "We couldn't process this post because it was:  nan\n"
     ]
    },
    {
     "name": "stderr",
     "output_type": "stream",
     "text": [
      "\r",
      "  1%|          | 8/732 [00:02<03:20,  3.62it/s]"
     ]
    },
    {
     "name": "stdout",
     "output_type": "stream",
     "text": [
      "We couldn't process this post because it was:  nan\n",
      "We couldn't process this post because it was:  nan\n",
      "We couldn't process this post because it was:  nan\n",
      "We couldn't process this post because it was:  nan\n",
      "We couldn't process this post because it was:  nan\n",
      "We couldn't process this post because it was:  nan\n",
      "We couldn't process this post because it was:  nan\n",
      "We couldn't process this post because it was:  nan\n",
      "We couldn't process this post because it was:  nan\n",
      "We couldn't process this post because it was:  nan\n",
      "We couldn't process this post because it was:  nan\n"
     ]
    },
    {
     "name": "stderr",
     "output_type": "stream",
     "text": [
      "\r",
      "  1%|          | 9/732 [00:03<05:42,  2.11it/s]"
     ]
    },
    {
     "name": "stdout",
     "output_type": "stream",
     "text": [
      "We couldn't process this post because it was:  nan\n",
      "We couldn't process this post because it was:  nan\n",
      "We couldn't process this post because it was:  nan\n",
      "We couldn't process this post because it was:  nan\n",
      "We couldn't process this post because it was:  nan\n"
     ]
    },
    {
     "name": "stderr",
     "output_type": "stream",
     "text": [
      "\r",
      "  1%|▏         | 10/732 [00:03<04:32,  2.65it/s]"
     ]
    },
    {
     "name": "stdout",
     "output_type": "stream",
     "text": [
      "We couldn't process this post because it was:  nan\n",
      "We couldn't process this post because it was:  nan\n",
      "We couldn't process this post because it was:  nan\n",
      "We couldn't process this post because it was:  nan\n",
      "We couldn't process this post because it was:  nan\n",
      "We couldn't process this post because it was:  nan\n",
      "We couldn't process this post because it was:  nan\n",
      "We couldn't process this post because it was:  nan\n",
      "We couldn't process this post because it was:  nan\n",
      "We couldn't process this post because it was:  nan\n",
      "We couldn't process this post because it was:  nan\n",
      "We couldn't process this post because it was:  nan\n",
      "We couldn't process this post because it was:  nan\n",
      "We couldn't process this post because it was:  nan\n",
      "We couldn't process this post because it was:  nan\n",
      "We couldn't process this post because it was:  nan\n",
      "We couldn't process this post because it was:  nan\n",
      "We couldn't process this post because it was:  nan\n",
      "We couldn't process this post because it was:  nan\n"
     ]
    },
    {
     "name": "stderr",
     "output_type": "stream",
     "text": [
      "\r",
      "  2%|▏         | 11/732 [00:03<03:42,  3.24it/s]"
     ]
    },
    {
     "name": "stdout",
     "output_type": "stream",
     "text": [
      "We couldn't process this post because it was:  nan\n",
      "We couldn't process this post because it was:  nan\n",
      "We couldn't process this post because it was:  nan\n",
      "We couldn't process this post because it was:  nan\n",
      "We couldn't process this post because it was:  nan\n",
      "We couldn't process this post because it was:  nan\n",
      "We couldn't process this post because it was:  nan\n",
      "We couldn't process this post because it was:  nan\n",
      "We couldn't process this post because it was:  nan\n",
      "We couldn't process this post because it was:  nan\n",
      "We couldn't process this post because it was:  nan\n",
      "We couldn't process this post because it was:  nan\n",
      "We couldn't process this post because it was:  nan\n",
      "We couldn't process this post because it was:  nan\n",
      "We couldn't process this post because it was:  nan\n",
      "We couldn't process this post because it was:  nan\n",
      "We couldn't process this post because it was:  nan\n",
      "We couldn't process this post because it was:  nan\n",
      "We couldn't process this post because it was:  nan\n",
      "We couldn't process this post because it was:  nan\n",
      "We couldn't process this post because it was:  nan\n",
      "We couldn't process this post because it was:  nan\n",
      "We couldn't process this post because it was:  nan\n"
     ]
    },
    {
     "name": "stderr",
     "output_type": "stream",
     "text": [
      "\r",
      "  2%|▏         | 12/732 [00:04<03:40,  3.27it/s]"
     ]
    },
    {
     "name": "stdout",
     "output_type": "stream",
     "text": [
      "We couldn't process this post because it was:  nan\n",
      "We couldn't process this post because it was:  nan\n",
      "We couldn't process this post because it was:  nan\n",
      "We couldn't process this post because it was:  nan\n",
      "We couldn't process this post because it was:  nan\n",
      "We couldn't process this post because it was:  nan\n",
      "We couldn't process this post because it was:  nan\n",
      "We couldn't process this post because it was:  nan\n",
      "We couldn't process this post because it was:  nan\n",
      "We couldn't process this post because it was:  nan\n",
      "We couldn't process this post because it was:  nan\n",
      "We couldn't process this post because it was:  nan\n",
      "We couldn't process this post because it was:  nan\n",
      "We couldn't process this post because it was:  nan\n",
      "We couldn't process this post because it was:  nan\n",
      "We couldn't process this post because it was:  nan\n",
      "We couldn't process this post because it was:  nan\n",
      "We couldn't process this post because it was:  nan\n",
      "We couldn't process this post because it was:  nan\n",
      "We couldn't process this post because it was:  nan\n",
      "We couldn't process this post because it was:  nan\n",
      "We couldn't process this post because it was:  nan\n",
      "We couldn't process this post because it was:  nan\n",
      "We couldn't process this post because it was:  nan\n",
      "We couldn't process this post because it was:  nan\n",
      "We couldn't process this post because it was:  nan\n",
      "We couldn't process this post because it was:  nan\n",
      "We couldn't process this post because it was:  nan\n"
     ]
    },
    {
     "name": "stderr",
     "output_type": "stream",
     "text": [
      "\r",
      "  2%|▏         | 13/732 [00:04<04:39,  2.57it/s]"
     ]
    },
    {
     "name": "stdout",
     "output_type": "stream",
     "text": [
      "We couldn't process this post because it was:  nan\n",
      "We couldn't process this post because it was:  nan\n",
      "We couldn't process this post because it was:  nan\n",
      "We couldn't process this post because it was:  nan\n",
      "We couldn't process this post because it was:  nan\n",
      "We couldn't process this post because it was:  nan\n",
      "We couldn't process this post because it was:  nan\n",
      "We couldn't process this post because it was:  nan\n",
      "We couldn't process this post because it was:  nan\n",
      "We couldn't process this post because it was:  nan\n",
      "We couldn't process this post because it was:  nan\n",
      "We couldn't process this post because it was:  nan\n",
      "We couldn't process this post because it was:  nan\n"
     ]
    },
    {
     "name": "stderr",
     "output_type": "stream",
     "text": [
      "\r",
      "  2%|▏         | 14/732 [00:05<05:18,  2.25it/s]"
     ]
    },
    {
     "name": "stdout",
     "output_type": "stream",
     "text": [
      "We couldn't process this post because it was:  nan\n",
      "We couldn't process this post because it was:  nan\n",
      "We couldn't process this post because it was:  nan\n",
      "We couldn't process this post because it was:  nan\n",
      "We couldn't process this post because it was:  nan\n",
      "We couldn't process this post because it was:  nan\n",
      "We couldn't process this post because it was:  nan\n"
     ]
    },
    {
     "name": "stderr",
     "output_type": "stream",
     "text": [
      "\r",
      "  2%|▏         | 15/732 [00:05<04:49,  2.47it/s]"
     ]
    },
    {
     "name": "stdout",
     "output_type": "stream",
     "text": [
      "We couldn't process this post because it was:  nan\n",
      "We couldn't process this post because it was:  nan\n",
      "We couldn't process this post because it was:  nan\n",
      "We couldn't process this post because it was:  nan\n",
      "We couldn't process this post because it was:  nan\n",
      "We couldn't process this post because it was:  nan\n",
      "We couldn't process this post because it was:  nan\n",
      "We couldn't process this post because it was:  nan\n",
      "We couldn't process this post because it was:  nan\n",
      "We couldn't process this post because it was:  nan\n"
     ]
    },
    {
     "name": "stderr",
     "output_type": "stream",
     "text": [
      "\r",
      "  2%|▏         | 16/732 [00:06<05:27,  2.18it/s]"
     ]
    },
    {
     "name": "stdout",
     "output_type": "stream",
     "text": [
      "We couldn't process this post because it was:  nan\n",
      "We couldn't process this post because it was:  nan\n",
      "We couldn't process this post because it was:  nan\n",
      "We couldn't process this post because it was:  nan\n",
      "We couldn't process this post because it was:  nan\n",
      "We couldn't process this post because it was:  nan\n",
      "We couldn't process this post because it was:  nan\n",
      "We couldn't process this post because it was:  nan\n",
      "We couldn't process this post because it was:  nan\n",
      "We couldn't process this post because it was:  nan\n",
      "We couldn't process this post because it was:  nan\n",
      "We couldn't process this post because it was:  nan\n"
     ]
    },
    {
     "name": "stderr",
     "output_type": "stream",
     "text": [
      "\r",
      "  2%|▏         | 17/732 [00:06<06:09,  1.93it/s]"
     ]
    },
    {
     "name": "stdout",
     "output_type": "stream",
     "text": [
      "We couldn't process this post because it was:  nan\n",
      "We couldn't process this post because it was:  nan\n",
      "We couldn't process this post because it was:  nan\n",
      "We couldn't process this post because it was:  nan\n",
      "We couldn't process this post because it was:  nan\n",
      "We couldn't process this post because it was:  nan\n",
      "We couldn't process this post because it was:  nan\n",
      "We couldn't process this post because it was:  nan\n",
      "We couldn't process this post because it was:  nan\n",
      "We couldn't process this post because it was:  nan\n",
      "We couldn't process this post because it was:  nan\n",
      "We couldn't process this post because it was:  nan\n"
     ]
    },
    {
     "name": "stderr",
     "output_type": "stream",
     "text": [
      "\r",
      "  2%|▏         | 18/732 [00:07<05:07,  2.32it/s]"
     ]
    },
    {
     "name": "stdout",
     "output_type": "stream",
     "text": [
      "We couldn't process this post because it was:  nan\n",
      "We couldn't process this post because it was:  nan\n",
      "We couldn't process this post because it was:  nan\n",
      "We couldn't process this post because it was:  nan\n"
     ]
    },
    {
     "name": "stderr",
     "output_type": "stream",
     "text": [
      "\r",
      "  3%|▎         | 19/732 [00:07<04:57,  2.40it/s]"
     ]
    },
    {
     "name": "stdout",
     "output_type": "stream",
     "text": [
      "We couldn't process this post because it was:  nan\n",
      "We couldn't process this post because it was:  nan\n",
      "We couldn't process this post because it was:  nan\n",
      "We couldn't process this post because it was:  nan\n",
      "We couldn't process this post because it was:  nan\n",
      "We couldn't process this post because it was:  nan\n",
      "We couldn't process this post because it was:  nan\n",
      "We couldn't process this post because it was:  nan\n",
      "We couldn't process this post because it was:  nan\n",
      "We couldn't process this post because it was:  nan\n",
      "We couldn't process this post because it was:  nan\n",
      "We couldn't process this post because it was:  nan\n",
      "We couldn't process this post because it was:  nan\n",
      "We couldn't process this post because it was:  nan\n",
      "We couldn't process this post because it was:  nan\n",
      "We couldn't process this post because it was:  nan\n",
      "We couldn't process this post because it was:  nan\n",
      "We couldn't process this post because it was:  nan\n",
      "We couldn't process this post because it was:  nan\n",
      "We couldn't process this post because it was:  nan\n",
      "We couldn't process this post because it was:  nan\n",
      "We couldn't process this post because it was:  nan\n"
     ]
    },
    {
     "name": "stderr",
     "output_type": "stream",
     "text": [
      "\r",
      "  3%|▎         | 20/732 [00:07<03:58,  2.98it/s]"
     ]
    },
    {
     "name": "stdout",
     "output_type": "stream",
     "text": [
      "We couldn't process this post because it was:  nan\n",
      "We couldn't process this post because it was:  nan\n",
      "We couldn't process this post because it was:  nan\n",
      "We couldn't process this post because it was:  nan\n",
      "We couldn't process this post because it was:  nan\n",
      "We couldn't process this post because it was:  nan\n",
      "We couldn't process this post because it was:  nan\n",
      "We couldn't process this post because it was:  nan\n",
      "We couldn't process this post because it was:  nan\n",
      "We couldn't process this post because it was:  nan\n",
      "We couldn't process this post because it was:  nan\n",
      "We couldn't process this post because it was:  nan\n",
      "We couldn't process this post because it was:  nan\n",
      "We couldn't process this post because it was:  nan\n",
      "We couldn't process this post because it was:  nan\n",
      "We couldn't process this post because it was:  nan\n",
      "We couldn't process this post because it was:  nan\n",
      "We couldn't process this post because it was:  nan\n",
      "We couldn't process this post because it was:  nan\n",
      "We couldn't process this post because it was:  nan\n",
      "We couldn't process this post because it was:  nan\n",
      "We couldn't process this post because it was:  nan\n",
      "We couldn't process this post because it was:  nan\n",
      "We couldn't process this post because it was:  nan\n",
      "We couldn't process this post because it was:  nan\n"
     ]
    },
    {
     "name": "stderr",
     "output_type": "stream",
     "text": [
      "\r",
      "  3%|▎         | 21/732 [00:07<03:28,  3.41it/s]"
     ]
    },
    {
     "name": "stdout",
     "output_type": "stream",
     "text": [
      "We couldn't process this post because it was:  nan\n",
      "We couldn't process this post because it was:  nan\n",
      "We couldn't process this post because it was:  nan\n",
      "We couldn't process this post because it was:  nan\n",
      "We couldn't process this post because it was:  nan\n",
      "We couldn't process this post because it was:  nan\n",
      "We couldn't process this post because it was:  nan\n",
      "We couldn't process this post because it was:  nan\n",
      "We couldn't process this post because it was:  nan\n",
      "We couldn't process this post because it was:  nan\n",
      "We couldn't process this post because it was:  nan\n",
      "We couldn't process this post because it was:  nan\n",
      "We couldn't process this post because it was:  nan\n",
      "We couldn't process this post because it was:  nan\n",
      "We couldn't process this post because it was:  nan\n",
      "We couldn't process this post because it was:  nan\n",
      "We couldn't process this post because it was:  nan\n"
     ]
    },
    {
     "name": "stderr",
     "output_type": "stream",
     "text": [
      "\r",
      "  3%|▎         | 22/732 [00:08<04:09,  2.85it/s]"
     ]
    },
    {
     "name": "stdout",
     "output_type": "stream",
     "text": [
      "We couldn't process this post because it was:  nan\n",
      "We couldn't process this post because it was:  nan\n",
      "We couldn't process this post because it was:  nan\n",
      "We couldn't process this post because it was:  nan\n",
      "We couldn't process this post because it was:  nan\n",
      "We couldn't process this post because it was:  nan\n",
      "We couldn't process this post because it was:  nan\n",
      "We couldn't process this post because it was:  nan\n",
      "We couldn't process this post because it was:  nan\n"
     ]
    },
    {
     "name": "stderr",
     "output_type": "stream",
     "text": [
      "\r",
      "  3%|▎         | 23/732 [00:08<05:01,  2.35it/s]"
     ]
    },
    {
     "name": "stdout",
     "output_type": "stream",
     "text": [
      "We couldn't process this post because it was:  nan\n",
      "We couldn't process this post because it was:  nan\n",
      "We couldn't process this post because it was:  nan\n",
      "We couldn't process this post because it was:  nan\n",
      "We couldn't process this post because it was:  nan\n"
     ]
    },
    {
     "name": "stderr",
     "output_type": "stream",
     "text": [
      "\r",
      "  3%|▎         | 24/732 [00:09<05:56,  1.99it/s]"
     ]
    },
    {
     "name": "stdout",
     "output_type": "stream",
     "text": [
      "We couldn't process this post because it was:  nan\n",
      "We couldn't process this post because it was:  nan\n",
      "We couldn't process this post because it was:  nan\n",
      "We couldn't process this post because it was:  nan\n",
      "We couldn't process this post because it was:  nan\n",
      "We couldn't process this post because it was:  nan\n",
      "We couldn't process this post because it was:  nan\n",
      "We couldn't process this post because it was:  nan\n",
      "We couldn't process this post because it was:  nan\n"
     ]
    },
    {
     "name": "stderr",
     "output_type": "stream",
     "text": [
      "\r",
      "  3%|▎         | 25/732 [00:09<04:37,  2.55it/s]"
     ]
    },
    {
     "name": "stdout",
     "output_type": "stream",
     "text": [
      "We couldn't process this post because it was:  nan\n",
      "We couldn't process this post because it was:  nan\n",
      "We couldn't process this post because it was:  nan\n",
      "We couldn't process this post because it was:  nan\n",
      "We couldn't process this post because it was:  nan\n",
      "We couldn't process this post because it was:  nan\n",
      "We couldn't process this post because it was:  nan\n",
      "We couldn't process this post because it was:  nan\n",
      "We couldn't process this post because it was:  nan\n",
      "We couldn't process this post because it was:  nan\n",
      "We couldn't process this post because it was:  nan\n",
      "We couldn't process this post because it was:  nan\n",
      "We couldn't process this post because it was:  nan\n",
      "We couldn't process this post because it was:  nan\n",
      "We couldn't process this post because it was:  nan\n",
      "We couldn't process this post because it was:  nan\n",
      "We couldn't process this post because it was:  nan\n",
      "We couldn't process this post because it was:  nan\n",
      "We couldn't process this post because it was:  nan\n",
      "We couldn't process this post because it was:  nan\n",
      "We couldn't process this post because it was:  nan\n",
      "We couldn't process this post because it was:  nan\n",
      "We couldn't process this post because it was:  nan\n"
     ]
    },
    {
     "name": "stderr",
     "output_type": "stream",
     "text": [
      "\r",
      "  4%|▎         | 26/732 [00:09<03:54,  3.01it/s]"
     ]
    },
    {
     "name": "stdout",
     "output_type": "stream",
     "text": [
      "We couldn't process this post because it was:  nan\n",
      "We couldn't process this post because it was:  nan\n",
      "We couldn't process this post because it was:  nan\n",
      "We couldn't process this post because it was:  nan\n",
      "We couldn't process this post because it was:  nan\n",
      "We couldn't process this post because it was:  nan\n",
      "We couldn't process this post because it was:  nan\n",
      "We couldn't process this post because it was:  nan\n",
      "We couldn't process this post because it was:  nan\n"
     ]
    },
    {
     "name": "stderr",
     "output_type": "stream",
     "text": [
      "\r",
      "  4%|▎         | 27/732 [00:10<03:54,  3.01it/s]"
     ]
    },
    {
     "name": "stdout",
     "output_type": "stream",
     "text": [
      "We couldn't process this post because it was:  nan\n",
      "We couldn't process this post because it was:  nan\n",
      "We couldn't process this post because it was:  nan\n",
      "We couldn't process this post because it was:  nan\n",
      "We couldn't process this post because it was:  nan\n",
      "We couldn't process this post because it was:  nan\n",
      "We couldn't process this post because it was:  nan\n",
      "We couldn't process this post because it was:  nan\n",
      "We couldn't process this post because it was:  nan\n",
      "We couldn't process this post because it was:  nan\n",
      "We couldn't process this post because it was:  nan\n"
     ]
    },
    {
     "name": "stderr",
     "output_type": "stream",
     "text": [
      "\r",
      "  4%|▍         | 28/732 [00:10<04:27,  2.63it/s]"
     ]
    },
    {
     "name": "stdout",
     "output_type": "stream",
     "text": [
      "We couldn't process this post because it was:  nan\n",
      "We couldn't process this post because it was:  nan\n",
      "We couldn't process this post because it was:  nan\n",
      "We couldn't process this post because it was:  nan\n",
      "We couldn't process this post because it was:  nan\n",
      "We couldn't process this post because it was:  nan\n",
      "We couldn't process this post because it was:  nan\n",
      "We couldn't process this post because it was:  nan\n",
      "We couldn't process this post because it was:  nan\n",
      "We couldn't process this post because it was:  nan\n",
      "We couldn't process this post because it was:  nan\n",
      "We couldn't process this post because it was:  nan\n",
      "We couldn't process this post because it was:  nan\n",
      "We couldn't process this post because it was:  nan\n",
      "We couldn't process this post because it was:  nan\n",
      "We couldn't process this post because it was:  nan\n",
      "We couldn't process this post because it was:  nan\n",
      "We couldn't process this post because it was:  nan\n",
      "We couldn't process this post because it was:  nan\n",
      "We couldn't process this post because it was:  nan\n",
      "We couldn't process this post because it was:  nan\n",
      "We couldn't process this post because it was:  nan\n",
      "We couldn't process this post because it was:  nan\n",
      "We couldn't process this post because it was:  nan\n",
      "We couldn't process this post because it was:  nan\n",
      "We couldn't process this post because it was:  nan\n",
      "We couldn't process this post because it was:  nan\n",
      "We couldn't process this post because it was:  nan\n"
     ]
    },
    {
     "name": "stderr",
     "output_type": "stream",
     "text": [
      "\r",
      "  4%|▍         | 29/732 [00:11<04:41,  2.50it/s]"
     ]
    },
    {
     "name": "stdout",
     "output_type": "stream",
     "text": [
      "We couldn't process this post because it was:  nan\n",
      "We couldn't process this post because it was:  nan\n",
      "We couldn't process this post because it was:  nan\n",
      "We couldn't process this post because it was:  nan\n",
      "We couldn't process this post because it was:  nan\n",
      "We couldn't process this post because it was:  nan\n",
      "We couldn't process this post because it was:  nan\n",
      "We couldn't process this post because it was:  nan\n",
      "We couldn't process this post because it was:  nan\n",
      "We couldn't process this post because it was:  nan\n",
      "We couldn't process this post because it was:  nan\n"
     ]
    },
    {
     "name": "stderr",
     "output_type": "stream",
     "text": [
      "\r",
      "  4%|▍         | 30/732 [00:11<04:16,  2.74it/s]"
     ]
    },
    {
     "name": "stdout",
     "output_type": "stream",
     "text": [
      "We couldn't process this post because it was:  nan\n",
      "We couldn't process this post because it was:  nan\n",
      "We couldn't process this post because it was:  nan\n",
      "We couldn't process this post because it was:  nan\n",
      "We couldn't process this post because it was:  nan\n",
      "We couldn't process this post because it was:  nan\n",
      "We couldn't process this post because it was:  nan\n",
      "We couldn't process this post because it was:  nan\n",
      "We couldn't process this post because it was:  nan\n",
      "We couldn't process this post because it was:  nan\n",
      "We couldn't process this post because it was:  nan\n",
      "We couldn't process this post because it was:  nan\n",
      "We couldn't process this post because it was:  nan\n",
      "We couldn't process this post because it was:  nan\n",
      "We couldn't process this post because it was:  nan\n",
      "We couldn't process this post because it was:  nan\n",
      "We couldn't process this post because it was:  nan\n",
      "We couldn't process this post because it was:  nan\n"
     ]
    },
    {
     "name": "stderr",
     "output_type": "stream",
     "text": [
      "\r",
      "  4%|▍         | 31/732 [00:11<03:53,  3.00it/s]"
     ]
    },
    {
     "name": "stdout",
     "output_type": "stream",
     "text": [
      "We couldn't process this post because it was:  nan\n"
     ]
    },
    {
     "name": "stderr",
     "output_type": "stream",
     "text": [
      "\r",
      "  4%|▍         | 32/732 [00:11<03:41,  3.16it/s]"
     ]
    },
    {
     "name": "stdout",
     "output_type": "stream",
     "text": [
      "We couldn't process this post because it was:  nan\n",
      "We couldn't process this post because it was:  nan\n",
      "We couldn't process this post because it was:  nan\n",
      "We couldn't process this post because it was:  nan\n",
      "We couldn't process this post because it was:  nan\n",
      "We couldn't process this post because it was:  nan\n",
      "We couldn't process this post because it was:  nan\n",
      "We couldn't process this post because it was:  nan\n",
      "We couldn't process this post because it was:  nan\n",
      "We couldn't process this post because it was:  nan\n",
      "We couldn't process this post because it was:  nan\n",
      "We couldn't process this post because it was:  nan\n",
      "We couldn't process this post because it was:  nan\n",
      "We couldn't process this post because it was:  nan\n"
     ]
    },
    {
     "name": "stderr",
     "output_type": "stream",
     "text": [
      "\r",
      "  5%|▍         | 33/732 [00:12<05:57,  1.96it/s]"
     ]
    },
    {
     "name": "stdout",
     "output_type": "stream",
     "text": [
      "We couldn't process this post because it was:  nan\n",
      "We couldn't process this post because it was:  nan\n",
      "We couldn't process this post because it was:  nan\n",
      "We couldn't process this post because it was:  nan\n",
      "We couldn't process this post because it was:  nan\n",
      "We couldn't process this post because it was:  nan\n",
      "We couldn't process this post because it was:  nan\n",
      "We couldn't process this post because it was:  nan\n",
      "We couldn't process this post because it was:  nan\n",
      "We couldn't process this post because it was:  nan\n",
      "We couldn't process this post because it was:  nan\n",
      "We couldn't process this post because it was:  nan\n",
      "We couldn't process this post because it was:  nan\n",
      "We couldn't process this post because it was:  nan\n",
      "We couldn't process this post because it was:  nan\n",
      "We couldn't process this post because it was:  nan\n",
      "We couldn't process this post because it was:  nan\n",
      "We couldn't process this post because it was:  nan\n",
      "We couldn't process this post because it was:  nan\n",
      "We couldn't process this post because it was:  nan\n",
      "We couldn't process this post because it was:  nan\n",
      "We couldn't process this post because it was:  nan\n",
      "We couldn't process this post because it was:  nan\n",
      "We couldn't process this post because it was:  nan\n",
      "We couldn't process this post because it was:  nan\n",
      "We couldn't process this post because it was:  nan\n"
     ]
    },
    {
     "name": "stderr",
     "output_type": "stream",
     "text": [
      "\r",
      "  5%|▍         | 34/732 [00:13<04:53,  2.38it/s]"
     ]
    },
    {
     "name": "stdout",
     "output_type": "stream",
     "text": [
      "We couldn't process this post because it was:  nan\n",
      "We couldn't process this post because it was:  nan\n",
      "We couldn't process this post because it was:  nan\n",
      "We couldn't process this post because it was:  nan\n",
      "We couldn't process this post because it was:  nan\n",
      "We couldn't process this post because it was:  nan\n",
      "We couldn't process this post because it was:  nan\n",
      "We couldn't process this post because it was:  nan\n",
      "We couldn't process this post because it was:  nan\n",
      "We couldn't process this post because it was:  nan\n",
      "We couldn't process this post because it was:  nan\n"
     ]
    },
    {
     "name": "stderr",
     "output_type": "stream",
     "text": [
      "\r",
      "  5%|▍         | 35/732 [00:15<10:17,  1.13it/s]"
     ]
    },
    {
     "name": "stdout",
     "output_type": "stream",
     "text": [
      "We couldn't process this post because it was:  nan\n",
      "We couldn't process this post because it was:  nan\n",
      "We couldn't process this post because it was:  nan\n"
     ]
    },
    {
     "name": "stderr",
     "output_type": "stream",
     "text": [
      "\r",
      "  5%|▍         | 36/732 [00:15<09:54,  1.17it/s]"
     ]
    },
    {
     "name": "stdout",
     "output_type": "stream",
     "text": [
      "We couldn't process this post because it was:  nan\n",
      "We couldn't process this post because it was:  nan\n",
      "We couldn't process this post because it was:  nan\n",
      "We couldn't process this post because it was:  nan\n",
      "We couldn't process this post because it was:  nan\n",
      "We couldn't process this post because it was:  nan\n",
      "We couldn't process this post because it was:  nan\n",
      "We couldn't process this post because it was:  nan\n",
      "We couldn't process this post because it was:  nan\n",
      "We couldn't process this post because it was:  nan\n",
      "We couldn't process this post because it was:  nan\n",
      "We couldn't process this post because it was:  nan\n",
      "We couldn't process this post because it was:  nan\n",
      "We couldn't process this post because it was:  nan\n",
      "We couldn't process this post because it was:  nan\n",
      "We couldn't process this post because it was:  nan\n",
      "We couldn't process this post because it was:  nan\n"
     ]
    },
    {
     "name": "stderr",
     "output_type": "stream",
     "text": [
      "\r",
      "  5%|▌         | 37/732 [00:16<07:46,  1.49it/s]"
     ]
    },
    {
     "name": "stdout",
     "output_type": "stream",
     "text": [
      "We couldn't process this post because it was:  nan\n",
      "We couldn't process this post because it was:  nan\n",
      "We couldn't process this post because it was:  nan\n",
      "We couldn't process this post because it was:  nan\n",
      "We couldn't process this post because it was:  nan\n",
      "We couldn't process this post because it was:  nan\n",
      "We couldn't process this post because it was:  nan\n",
      "We couldn't process this post because it was:  nan\n",
      "We couldn't process this post because it was:  nan\n",
      "We couldn't process this post because it was:  nan\n",
      "We couldn't process this post because it was:  nan\n",
      "We couldn't process this post because it was:  nan\n",
      "We couldn't process this post because it was:  nan\n",
      "We couldn't process this post because it was:  nan\n",
      "We couldn't process this post because it was:  nan\n",
      "We couldn't process this post because it was:  nan\n"
     ]
    },
    {
     "name": "stderr",
     "output_type": "stream",
     "text": [
      "\r",
      "  5%|▌         | 38/732 [00:16<06:05,  1.90it/s]"
     ]
    },
    {
     "name": "stdout",
     "output_type": "stream",
     "text": [
      "We couldn't process this post because it was:  nan\n",
      "We couldn't process this post because it was:  nan\n",
      "We couldn't process this post because it was:  nan\n",
      "We couldn't process this post because it was:  nan\n",
      "We couldn't process this post because it was:  nan\n",
      "We couldn't process this post because it was:  nan\n",
      "We couldn't process this post because it was:  nan\n",
      "We couldn't process this post because it was:  nan\n",
      "We couldn't process this post because it was:  nan\n",
      "We couldn't process this post because it was:  nan\n",
      "We couldn't process this post because it was:  nan\n",
      "We couldn't process this post because it was:  nan\n",
      "We couldn't process this post because it was:  nan\n",
      "We couldn't process this post because it was:  nan\n",
      "We couldn't process this post because it was:  nan\n",
      "We couldn't process this post because it was:  nan\n",
      "We couldn't process this post because it was:  nan\n",
      "We couldn't process this post because it was:  nan\n",
      "We couldn't process this post because it was:  nan\n",
      "We couldn't process this post because it was:  nan\n",
      "We couldn't process this post because it was:  nan\n"
     ]
    },
    {
     "name": "stderr",
     "output_type": "stream",
     "text": [
      "\r",
      "  5%|▌         | 39/732 [00:16<04:52,  2.37it/s]"
     ]
    },
    {
     "name": "stdout",
     "output_type": "stream",
     "text": [
      "We couldn't process this post because it was:  nan\n",
      "We couldn't process this post because it was:  nan\n",
      "We couldn't process this post because it was:  nan\n",
      "We couldn't process this post because it was:  nan\n",
      "We couldn't process this post because it was:  nan\n",
      "We couldn't process this post because it was:  nan\n",
      "We couldn't process this post because it was:  nan\n",
      "We couldn't process this post because it was:  nan\n",
      "We couldn't process this post because it was:  nan\n",
      "We couldn't process this post because it was:  nan\n"
     ]
    },
    {
     "name": "stderr",
     "output_type": "stream",
     "text": [
      "  6%|▌         | 41/732 [00:16<03:26,  3.35it/s]"
     ]
    },
    {
     "name": "stdout",
     "output_type": "stream",
     "text": [
      "We couldn't process this post because it was:  nan\n",
      "We couldn't process this post because it was:  nan\n",
      "We couldn't process this post because it was:  nan\n",
      "We couldn't process this post because it was:  nan\n",
      "We couldn't process this post because it was:  nan\n",
      "We couldn't process this post because it was:  nan\n",
      "We couldn't process this post because it was:  nan\n",
      "We couldn't process this post because it was:  nan\n",
      "We couldn't process this post because it was:  nan\n",
      "We couldn't process this post because it was:  nan\n",
      "We couldn't process this post because it was:  nan\n",
      "We couldn't process this post because it was:  nan\n",
      "We couldn't process this post because it was:  nan\n",
      "We couldn't process this post because it was:  nan\n",
      "We couldn't process this post because it was:  nan\n",
      "We couldn't process this post because it was:  nan\n",
      "We couldn't process this post because it was:  nan\n",
      "We couldn't process this post because it was:  nan\n",
      "We couldn't process this post because it was:  nan\n",
      "We couldn't process this post because it was:  nan\n",
      "We couldn't process this post because it was:  nan\n",
      "We couldn't process this post because it was:  nan\n",
      "We couldn't process this post because it was:  nan\n",
      "We couldn't process this post because it was:  nan\n",
      "We couldn't process this post because it was:  nan\n",
      "We couldn't process this post because it was:  nan\n",
      "We couldn't process this post because it was:  nan\n",
      "We couldn't process this post because it was:  nan\n",
      "We couldn't process this post because it was:  nan\n",
      "We couldn't process this post because it was:  nan\n",
      "We couldn't process this post because it was:  nan\n",
      "We couldn't process this post because it was:  nan\n",
      "We couldn't process this post because it was:  nan\n",
      "We couldn't process this post because it was:  nan\n",
      "We couldn't process this post because it was:  nan\n",
      "We couldn't process this post because it was:  nan\n",
      "We couldn't process this post because it was:  nan\n",
      "We couldn't process this post because it was:  nan\n",
      "We couldn't process this post because it was:  nan\n",
      "We couldn't process this post because it was:  nan\n",
      "We couldn't process this post because it was:  nan\n",
      "We couldn't process this post because it was:  nan\n",
      "We couldn't process this post because it was:  nan\n",
      "We couldn't process this post because it was:  nan\n",
      "We couldn't process this post because it was:  nan\n",
      "We couldn't process this post because it was:  nan\n",
      "We couldn't process this post because it was:  nan\n",
      "We couldn't process this post because it was:  nan\n",
      "We couldn't process this post because it was:  nan\n",
      "We couldn't process this post because it was:  nan\n",
      "We couldn't process this post because it was:  nan\n",
      "We couldn't process this post because it was:  nan\n",
      "We couldn't process this post because it was:  nan\n"
     ]
    },
    {
     "name": "stderr",
     "output_type": "stream",
     "text": [
      "\r",
      "  6%|▌         | 42/732 [00:17<03:51,  2.98it/s]"
     ]
    },
    {
     "name": "stdout",
     "output_type": "stream",
     "text": [
      "We couldn't process this post because it was:  nan\n",
      "We couldn't process this post because it was:  nan\n",
      "We couldn't process this post because it was:  nan\n"
     ]
    },
    {
     "name": "stderr",
     "output_type": "stream",
     "text": [
      "\r",
      "  6%|▌         | 43/732 [00:17<03:32,  3.24it/s]"
     ]
    },
    {
     "name": "stdout",
     "output_type": "stream",
     "text": [
      "We couldn't process this post because it was:  nan\n",
      "We couldn't process this post because it was:  nan\n",
      "We couldn't process this post because it was:  nan\n"
     ]
    },
    {
     "name": "stderr",
     "output_type": "stream",
     "text": [
      "  6%|▌         | 45/732 [00:18<03:07,  3.67it/s]"
     ]
    },
    {
     "name": "stdout",
     "output_type": "stream",
     "text": [
      "We couldn't process this post because it was:  nan\n",
      "We couldn't process this post because it was:  nan\n",
      "We couldn't process this post because it was:  nan\n",
      "We couldn't process this post because it was:  nan\n",
      "We couldn't process this post because it was:  nan\n",
      "We couldn't process this post because it was:  nan\n",
      "We couldn't process this post because it was:  nan\n",
      "We couldn't process this post because it was:  nan\n",
      "We couldn't process this post because it was:  nan\n",
      "We couldn't process this post because it was:  nan\n",
      "We couldn't process this post because it was:  nan\n",
      "We couldn't process this post because it was:  nan\n",
      "We couldn't process this post because it was:  nan\n",
      "We couldn't process this post because it was:  nan\n",
      "We couldn't process this post because it was:  nan\n",
      "We couldn't process this post because it was:  nan\n",
      "We couldn't process this post because it was:  nan\n",
      "We couldn't process this post because it was:  nan\n",
      "We couldn't process this post because it was:  nan\n",
      "We couldn't process this post because it was:  nan\n",
      "We couldn't process this post because it was:  nan\n",
      "We couldn't process this post because it was:  nan\n",
      "We couldn't process this post because it was:  nan\n",
      "We couldn't process this post because it was:  nan\n",
      "We couldn't process this post because it was:  nan\n",
      "We couldn't process this post because it was:  nan\n",
      "We couldn't process this post because it was:  nan\n",
      "We couldn't process this post because it was:  nan\n",
      "We couldn't process this post because it was:  nan\n"
     ]
    },
    {
     "name": "stderr",
     "output_type": "stream",
     "text": [
      "\r",
      "  6%|▋         | 46/732 [00:18<02:35,  4.40it/s]"
     ]
    },
    {
     "name": "stdout",
     "output_type": "stream",
     "text": [
      "We couldn't process this post because it was:  nan\n",
      "We couldn't process this post because it was:  nan\n",
      "We couldn't process this post because it was:  nan\n",
      "We couldn't process this post because it was:  nan\n",
      "We couldn't process this post because it was:  nan\n",
      "We couldn't process this post because it was:  nan\n",
      "We couldn't process this post because it was:  nan\n",
      "We couldn't process this post because it was:  nan\n",
      "We couldn't process this post because it was:  nan\n",
      "We couldn't process this post because it was:  nan\n"
     ]
    },
    {
     "name": "stderr",
     "output_type": "stream",
     "text": [
      "  7%|▋         | 48/732 [00:19<04:03,  2.80it/s]"
     ]
    },
    {
     "name": "stdout",
     "output_type": "stream",
     "text": [
      "We couldn't process this post because it was:  nan\n",
      "We couldn't process this post because it was:  nan\n",
      "We couldn't process this post because it was:  nan\n",
      "We couldn't process this post because it was:  nan\n",
      "We couldn't process this post because it was:  nan\n",
      "We couldn't process this post because it was:  nan\n",
      "We couldn't process this post because it was:  nan\n",
      "We couldn't process this post because it was:  nan\n",
      "We couldn't process this post because it was:  nan\n",
      "We couldn't process this post because it was:  nan\n",
      "We couldn't process this post because it was:  nan\n",
      "We couldn't process this post because it was:  nan\n",
      "We couldn't process this post because it was:  nan\n",
      "We couldn't process this post because it was:  nan\n",
      "We couldn't process this post because it was:  nan\n",
      "We couldn't process this post because it was:  nan\n",
      "We couldn't process this post because it was:  nan\n",
      "We couldn't process this post because it was:  nan\n",
      "We couldn't process this post because it was:  nan\n",
      "We couldn't process this post because it was:  nan\n",
      "We couldn't process this post because it was:  nan\n",
      "We couldn't process this post because it was:  nan\n",
      "We couldn't process this post because it was:  nan\n",
      "We couldn't process this post because it was:  nan\n",
      "We couldn't process this post because it was:  nan\n",
      "We couldn't process this post because it was:  nan\n",
      "We couldn't process this post because it was:  nan\n",
      "We couldn't process this post because it was:  nan\n",
      "We couldn't process this post because it was:  nan\n",
      "We couldn't process this post because it was:  nan\n",
      "We couldn't process this post because it was:  nan\n",
      "We couldn't process this post because it was:  nan\n"
     ]
    },
    {
     "name": "stderr",
     "output_type": "stream",
     "text": [
      "\r",
      "  7%|▋         | 49/732 [00:19<04:02,  2.82it/s]"
     ]
    },
    {
     "name": "stdout",
     "output_type": "stream",
     "text": [
      "We couldn't process this post because it was:  nan\n",
      "We couldn't process this post because it was:  nan\n",
      "We couldn't process this post because it was:  nan\n",
      "We couldn't process this post because it was:  nan\n",
      "We couldn't process this post because it was:  nan\n",
      "We couldn't process this post because it was:  nan\n",
      "We couldn't process this post because it was:  nan\n",
      "We couldn't process this post because it was:  nan\n",
      "We couldn't process this post because it was:  nan\n",
      "We couldn't process this post because it was:  nan\n"
     ]
    },
    {
     "name": "stderr",
     "output_type": "stream",
     "text": [
      "\r",
      "  7%|▋         | 50/732 [00:20<04:17,  2.65it/s]"
     ]
    },
    {
     "name": "stdout",
     "output_type": "stream",
     "text": [
      "We couldn't process this post because it was:  nan\n",
      "We couldn't process this post because it was:  nan\n",
      "We couldn't process this post because it was:  nan\n",
      "We couldn't process this post because it was:  nan\n",
      "We couldn't process this post because it was:  nan\n",
      "We couldn't process this post because it was:  nan\n",
      "We couldn't process this post because it was:  nan\n",
      "We couldn't process this post because it was:  nan\n",
      "We couldn't process this post because it was:  nan\n",
      "We couldn't process this post because it was:  nan\n",
      "We couldn't process this post because it was:  nan\n",
      "We couldn't process this post because it was:  nan\n",
      "We couldn't process this post because it was:  nan\n",
      "We couldn't process this post because it was:  nan\n",
      "We couldn't process this post because it was:  nan\n",
      "We couldn't process this post because it was:  nan\n",
      "We couldn't process this post because it was:  nan\n",
      "We couldn't process this post because it was:  nan\n",
      "We couldn't process this post because it was:  nan\n",
      "We couldn't process this post because it was:  nan\n",
      "We couldn't process this post because it was:  nan\n",
      "We couldn't process this post because it was:  nan\n",
      "We couldn't process this post because it was:  nan\n",
      "We couldn't process this post because it was:  nan\n",
      "We couldn't process this post because it was:  nan\n",
      "We couldn't process this post because it was:  nan\n"
     ]
    },
    {
     "name": "stderr",
     "output_type": "stream",
     "text": [
      "\r",
      "  7%|▋         | 51/732 [00:20<04:38,  2.45it/s]"
     ]
    },
    {
     "name": "stdout",
     "output_type": "stream",
     "text": [
      "We couldn't process this post because it was:  nan\n",
      "We couldn't process this post because it was:  nan\n",
      "We couldn't process this post because it was:  nan\n",
      "We couldn't process this post because it was:  nan\n",
      "We couldn't process this post because it was:  nan\n",
      "We couldn't process this post because it was:  nan\n",
      "We couldn't process this post because it was:  nan\n",
      "We couldn't process this post because it was:  nan\n",
      "We couldn't process this post because it was:  nan\n",
      "We couldn't process this post because it was:  nan\n"
     ]
    },
    {
     "name": "stderr",
     "output_type": "stream",
     "text": [
      "\r",
      "  7%|▋         | 52/732 [00:20<04:23,  2.58it/s]"
     ]
    },
    {
     "name": "stdout",
     "output_type": "stream",
     "text": [
      "We couldn't process this post because it was:  nan\n",
      "We couldn't process this post because it was:  nan\n",
      "We couldn't process this post because it was:  nan\n",
      "We couldn't process this post because it was:  nan\n",
      "We couldn't process this post because it was:  nan\n",
      "We couldn't process this post because it was:  nan\n",
      "We couldn't process this post because it was:  nan\n",
      "We couldn't process this post because it was:  nan\n",
      "We couldn't process this post because it was:  nan\n",
      "We couldn't process this post because it was:  nan\n",
      "We couldn't process this post because it was:  nan\n",
      "We couldn't process this post because it was:  nan\n",
      "We couldn't process this post because it was:  nan\n",
      "We couldn't process this post because it was:  nan\n",
      "We couldn't process this post because it was:  nan\n",
      "We couldn't process this post because it was:  nan\n",
      "We couldn't process this post because it was:  nan\n",
      "We couldn't process this post because it was:  nan\n",
      "We couldn't process this post because it was:  nan\n",
      "We couldn't process this post because it was:  nan\n",
      "We couldn't process this post because it was:  nan\n"
     ]
    },
    {
     "name": "stderr",
     "output_type": "stream",
     "text": [
      "\r",
      "  7%|▋         | 53/732 [00:21<03:51,  2.93it/s]"
     ]
    },
    {
     "name": "stdout",
     "output_type": "stream",
     "text": [
      "We couldn't process this post because it was:  nan\n",
      "We couldn't process this post because it was:  nan\n",
      "We couldn't process this post because it was:  nan\n",
      "We couldn't process this post because it was:  nan\n",
      "We couldn't process this post because it was:  nan\n",
      "We couldn't process this post because it was:  nan\n",
      "We couldn't process this post because it was:  nan\n",
      "We couldn't process this post because it was:  nan\n",
      "We couldn't process this post because it was:  nan\n",
      "We couldn't process this post because it was:  nan\n",
      "We couldn't process this post because it was:  nan\n",
      "We couldn't process this post because it was:  nan\n",
      "We couldn't process this post because it was:  nan\n",
      "We couldn't process this post because it was:  nan\n"
     ]
    },
    {
     "name": "stderr",
     "output_type": "stream",
     "text": [
      "\r",
      "  7%|▋         | 54/732 [00:21<04:40,  2.42it/s]"
     ]
    },
    {
     "name": "stdout",
     "output_type": "stream",
     "text": [
      "We couldn't process this post because it was:  nan\n",
      "We couldn't process this post because it was:  nan\n",
      "We couldn't process this post because it was:  nan\n",
      "We couldn't process this post because it was:  nan\n",
      "We couldn't process this post because it was:  nan\n",
      "We couldn't process this post because it was:  nan\n",
      "We couldn't process this post because it was:  nan\n",
      "We couldn't process this post because it was:  nan\n",
      "We couldn't process this post because it was:  nan\n",
      "We couldn't process this post because it was:  nan\n",
      "We couldn't process this post because it was:  nan\n",
      "We couldn't process this post because it was:  nan\n",
      "We couldn't process this post because it was:  nan\n",
      "We couldn't process this post because it was:  nan\n",
      "We couldn't process this post because it was:  nan\n",
      "We couldn't process this post because it was:  nan\n",
      "We couldn't process this post because it was:  nan\n",
      "We couldn't process this post because it was:  nan\n",
      "We couldn't process this post because it was:  nan\n",
      "We couldn't process this post because it was:  nan\n",
      "We couldn't process this post because it was:  nan\n"
     ]
    },
    {
     "name": "stderr",
     "output_type": "stream",
     "text": [
      "\r",
      "  8%|▊         | 55/732 [00:22<04:26,  2.54it/s]"
     ]
    },
    {
     "name": "stdout",
     "output_type": "stream",
     "text": [
      "We couldn't process this post because it was:  nan\n",
      "We couldn't process this post because it was:  nan\n",
      "We couldn't process this post because it was:  nan\n",
      "We couldn't process this post because it was:  nan\n",
      "We couldn't process this post because it was:  nan\n",
      "We couldn't process this post because it was:  nan\n",
      "We couldn't process this post because it was:  nan\n",
      "We couldn't process this post because it was:  nan\n",
      "We couldn't process this post because it was:  nan\n",
      "We couldn't process this post because it was:  nan\n",
      "We couldn't process this post because it was:  nan\n",
      "We couldn't process this post because it was:  nan\n",
      "We couldn't process this post because it was:  nan\n",
      "We couldn't process this post because it was:  nan\n",
      "We couldn't process this post because it was:  nan\n",
      "We couldn't process this post because it was:  nan\n",
      "We couldn't process this post because it was:  nan\n",
      "We couldn't process this post because it was:  nan\n",
      "We couldn't process this post because it was:  nan\n",
      "We couldn't process this post because it was:  nan\n",
      "We couldn't process this post because it was:  nan\n",
      "We couldn't process this post because it was:  nan\n",
      "We couldn't process this post because it was:  nan\n",
      "We couldn't process this post because it was:  nan\n",
      "We couldn't process this post because it was:  nan\n",
      "We couldn't process this post because it was:  nan\n",
      "We couldn't process this post because it was:  nan\n",
      "We couldn't process this post because it was:  nan\n",
      "We couldn't process this post because it was:  nan\n",
      "We couldn't process this post because it was:  nan\n",
      "We couldn't process this post because it was:  nan\n",
      "We couldn't process this post because it was:  nan\n",
      "We couldn't process this post because it was:  nan\n"
     ]
    },
    {
     "name": "stderr",
     "output_type": "stream",
     "text": [
      "\r",
      "  8%|▊         | 56/732 [00:22<04:11,  2.69it/s]"
     ]
    },
    {
     "name": "stdout",
     "output_type": "stream",
     "text": [
      "We couldn't process this post because it was:  nan\n",
      "We couldn't process this post because it was:  nan\n",
      "We couldn't process this post because it was:  nan\n",
      "We couldn't process this post because it was:  nan\n",
      "We couldn't process this post because it was:  nan\n",
      "We couldn't process this post because it was:  nan\n",
      "We couldn't process this post because it was:  nan\n",
      "We couldn't process this post because it was:  nan\n",
      "We couldn't process this post because it was:  nan\n",
      "We couldn't process this post because it was:  nan\n",
      "We couldn't process this post because it was:  nan\n",
      "We couldn't process this post because it was:  nan\n",
      "We couldn't process this post because it was:  nan\n",
      "We couldn't process this post because it was:  nan\n",
      "We couldn't process this post because it was:  nan\n",
      "We couldn't process this post because it was:  nan\n"
     ]
    },
    {
     "name": "stderr",
     "output_type": "stream",
     "text": [
      "\r",
      "  8%|▊         | 57/732 [00:22<04:27,  2.52it/s]"
     ]
    },
    {
     "name": "stdout",
     "output_type": "stream",
     "text": [
      "We couldn't process this post because it was:  nan\n",
      "We couldn't process this post because it was:  nan\n",
      "We couldn't process this post because it was:  nan\n",
      "We couldn't process this post because it was:  nan\n",
      "We couldn't process this post because it was:  nan\n",
      "We couldn't process this post because it was:  nan\n",
      "We couldn't process this post because it was:  nan\n",
      "We couldn't process this post because it was:  nan\n",
      "We couldn't process this post because it was:  nan\n",
      "We couldn't process this post because it was:  nan\n",
      "We couldn't process this post because it was:  nan\n",
      "We couldn't process this post because it was:  nan\n",
      "We couldn't process this post because it was:  nan\n",
      "We couldn't process this post because it was:  nan\n"
     ]
    },
    {
     "name": "stderr",
     "output_type": "stream",
     "text": [
      "\r",
      "  8%|▊         | 58/732 [00:23<04:01,  2.79it/s]"
     ]
    },
    {
     "name": "stdout",
     "output_type": "stream",
     "text": [
      "We couldn't process this post because it was:  nan\n",
      "We couldn't process this post because it was:  nan\n",
      "We couldn't process this post because it was:  nan\n",
      "We couldn't process this post because it was:  nan\n",
      "We couldn't process this post because it was:  nan\n",
      "We couldn't process this post because it was:  nan\n",
      "We couldn't process this post because it was:  nan\n",
      "We couldn't process this post because it was:  nan\n"
     ]
    },
    {
     "name": "stderr",
     "output_type": "stream",
     "text": [
      "\r",
      "  8%|▊         | 59/732 [00:23<03:16,  3.42it/s]"
     ]
    },
    {
     "name": "stdout",
     "output_type": "stream",
     "text": [
      "We couldn't process this post because it was:  nan\n",
      "We couldn't process this post because it was:  nan\n",
      "We couldn't process this post because it was:  nan\n",
      "We couldn't process this post because it was:  nan\n",
      "We couldn't process this post because it was:  nan\n",
      "We couldn't process this post because it was:  nan\n",
      "We couldn't process this post because it was:  nan\n",
      "We couldn't process this post because it was:  nan\n",
      "We couldn't process this post because it was:  nan\n",
      "We couldn't process this post because it was:  nan\n",
      "We couldn't process this post because it was:  nan\n",
      "We couldn't process this post because it was:  nan\n",
      "We couldn't process this post because it was:  nan\n",
      "We couldn't process this post because it was:  nan\n",
      "We couldn't process this post because it was:  nan\n",
      "We couldn't process this post because it was:  nan\n",
      "We couldn't process this post because it was:  nan\n",
      "We couldn't process this post because it was:  nan\n",
      "We couldn't process this post because it was:  nan\n",
      "We couldn't process this post because it was:  nan\n"
     ]
    },
    {
     "name": "stderr",
     "output_type": "stream",
     "text": [
      "\r",
      "  8%|▊         | 60/732 [00:23<04:50,  2.31it/s]"
     ]
    },
    {
     "name": "stdout",
     "output_type": "stream",
     "text": [
      "We couldn't process this post because it was:  nan\n",
      "We couldn't process this post because it was:  nan\n",
      "We couldn't process this post because it was:  nan\n",
      "We couldn't process this post because it was:  nan\n",
      "We couldn't process this post because it was:  nan\n",
      "We couldn't process this post because it was:  nan\n",
      "We couldn't process this post because it was:  nan\n",
      "We couldn't process this post because it was:  nan\n",
      "We couldn't process this post because it was:  nan\n",
      "We couldn't process this post because it was:  nan\n",
      "We couldn't process this post because it was:  nan\n",
      "We couldn't process this post because it was:  nan\n"
     ]
    },
    {
     "name": "stderr",
     "output_type": "stream",
     "text": [
      "\r",
      "  8%|▊         | 61/732 [00:24<04:10,  2.68it/s]"
     ]
    },
    {
     "name": "stdout",
     "output_type": "stream",
     "text": [
      "We couldn't process this post because it was:  nan\n",
      "We couldn't process this post because it was:  nan\n",
      "We couldn't process this post because it was:  nan\n",
      "We couldn't process this post because it was:  nan\n",
      "We couldn't process this post because it was:  nan\n",
      "We couldn't process this post because it was:  nan\n",
      "We couldn't process this post because it was:  nan\n",
      "We couldn't process this post because it was:  nan\n",
      "We couldn't process this post because it was:  nan\n",
      "We couldn't process this post because it was:  nan\n",
      "We couldn't process this post because it was:  nan\n",
      "We couldn't process this post because it was:  nan\n",
      "We couldn't process this post because it was:  nan\n",
      "We couldn't process this post because it was:  nan\n",
      "We couldn't process this post because it was:  nan\n",
      "We couldn't process this post because it was:  nan\n",
      "We couldn't process this post because it was:  nan\n",
      "We couldn't process this post because it was:  nan\n",
      "We couldn't process this post because it was:  nan\n",
      "We couldn't process this post because it was:  nan\n",
      "We couldn't process this post because it was:  nan\n"
     ]
    },
    {
     "name": "stderr",
     "output_type": "stream",
     "text": [
      "\r",
      "  8%|▊         | 62/732 [00:24<04:18,  2.59it/s]"
     ]
    },
    {
     "name": "stdout",
     "output_type": "stream",
     "text": [
      "We couldn't process this post because it was:  nan\n",
      "We couldn't process this post because it was:  nan\n",
      "We couldn't process this post because it was:  nan\n",
      "We couldn't process this post because it was:  nan\n",
      "We couldn't process this post because it was:  nan\n",
      "We couldn't process this post because it was:  nan\n",
      "We couldn't process this post because it was:  nan\n",
      "We couldn't process this post because it was:  nan\n",
      "We couldn't process this post because it was:  nan\n",
      "We couldn't process this post because it was:  nan\n",
      "We couldn't process this post because it was:  nan\n",
      "We couldn't process this post because it was:  nan\n",
      "We couldn't process this post because it was:  nan\n",
      "We couldn't process this post because it was:  nan\n",
      "We couldn't process this post because it was:  nan\n",
      "We couldn't process this post because it was:  nan\n"
     ]
    },
    {
     "name": "stderr",
     "output_type": "stream",
     "text": [
      "\r",
      "  9%|▊         | 63/732 [00:24<03:51,  2.89it/s]"
     ]
    },
    {
     "name": "stdout",
     "output_type": "stream",
     "text": [
      "We couldn't process this post because it was:  nan\n",
      "We couldn't process this post because it was:  nan\n",
      "We couldn't process this post because it was:  nan\n",
      "We couldn't process this post because it was:  nan\n",
      "We couldn't process this post because it was:  nan\n",
      "We couldn't process this post because it was:  nan\n",
      "We couldn't process this post because it was:  nan\n",
      "We couldn't process this post because it was:  nan\n",
      "We couldn't process this post because it was:  nan\n",
      "We couldn't process this post because it was:  nan\n",
      "We couldn't process this post because it was:  nan\n",
      "We couldn't process this post because it was:  nan\n",
      "We couldn't process this post because it was:  nan\n",
      "We couldn't process this post because it was:  nan\n",
      "We couldn't process this post because it was:  nan\n",
      "We couldn't process this post because it was:  nan\n"
     ]
    },
    {
     "name": "stderr",
     "output_type": "stream",
     "text": [
      "\r",
      "  9%|▊         | 64/732 [00:25<03:39,  3.04it/s]"
     ]
    },
    {
     "name": "stdout",
     "output_type": "stream",
     "text": [
      "We couldn't process this post because it was:  nan\n",
      "We couldn't process this post because it was:  nan\n",
      "We couldn't process this post because it was:  nan\n",
      "We couldn't process this post because it was:  nan\n",
      "We couldn't process this post because it was:  nan\n",
      "We couldn't process this post because it was:  nan\n",
      "We couldn't process this post because it was:  nan\n",
      "We couldn't process this post because it was:  nan\n",
      "We couldn't process this post because it was:  nan\n",
      "We couldn't process this post because it was:  nan\n",
      "We couldn't process this post because it was:  nan\n",
      "We couldn't process this post because it was:  nan\n",
      "We couldn't process this post because it was:  nan\n",
      "We couldn't process this post because it was:  nan\n",
      "We couldn't process this post because it was:  nan\n",
      "We couldn't process this post because it was:  nan\n",
      "We couldn't process this post because it was:  nan\n",
      "We couldn't process this post because it was:  nan\n",
      "We couldn't process this post because it was:  nan\n",
      "We couldn't process this post because it was:  nan\n",
      "We couldn't process this post because it was:  nan\n",
      "We couldn't process this post because it was:  nan\n",
      "We couldn't process this post because it was:  nan\n",
      "We couldn't process this post because it was:  nan\n",
      "We couldn't process this post because it was:  nan\n",
      "We couldn't process this post because it was:  nan\n",
      "We couldn't process this post because it was:  nan\n",
      "We couldn't process this post because it was:  nan\n"
     ]
    },
    {
     "name": "stderr",
     "output_type": "stream",
     "text": [
      "  9%|▉         | 66/732 [00:26<04:00,  2.77it/s]"
     ]
    },
    {
     "name": "stdout",
     "output_type": "stream",
     "text": [
      "We couldn't process this post because it was:  nan\n",
      "We couldn't process this post because it was:  nan\n",
      "We couldn't process this post because it was:  nan\n",
      "We couldn't process this post because it was:  nan\n",
      "We couldn't process this post because it was:  nan\n",
      "We couldn't process this post because it was:  nan\n",
      "We couldn't process this post because it was:  nan\n",
      "We couldn't process this post because it was:  nan\n",
      "We couldn't process this post because it was:  nan\n",
      "We couldn't process this post because it was:  nan\n",
      "We couldn't process this post because it was:  nan\n",
      "We couldn't process this post because it was:  nan\n",
      "We couldn't process this post because it was:  nan\n",
      "We couldn't process this post because it was:  nan\n",
      "We couldn't process this post because it was:  nan\n",
      "We couldn't process this post because it was:  nan\n",
      "We couldn't process this post because it was:  nan\n",
      "We couldn't process this post because it was:  nan\n",
      "We couldn't process this post because it was:  nan\n",
      "We couldn't process this post because it was:  nan\n",
      "We couldn't process this post because it was:  nan\n",
      "We couldn't process this post because it was:  nan\n",
      "We couldn't process this post because it was:  nan\n",
      "We couldn't process this post because it was:  nan\n"
     ]
    },
    {
     "name": "stderr",
     "output_type": "stream",
     "text": [
      "\r",
      "  9%|▉         | 67/732 [00:26<03:49,  2.90it/s]"
     ]
    },
    {
     "name": "stdout",
     "output_type": "stream",
     "text": [
      "We couldn't process this post because it was:  nan\n",
      "We couldn't process this post because it was:  nan\n",
      "We couldn't process this post because it was:  nan\n",
      "We couldn't process this post because it was:  nan\n",
      "We couldn't process this post because it was:  nan\n",
      "We couldn't process this post because it was:  nan\n",
      "We couldn't process this post because it was:  nan\n",
      "We couldn't process this post because it was:  nan\n",
      "We couldn't process this post because it was:  nan\n",
      "We couldn't process this post because it was:  nan\n",
      "We couldn't process this post because it was:  nan\n",
      "We couldn't process this post because it was:  nan\n",
      "We couldn't process this post because it was:  nan\n",
      "We couldn't process this post because it was:  nan\n",
      "We couldn't process this post because it was:  nan\n",
      "We couldn't process this post because it was:  nan\n",
      "We couldn't process this post because it was:  nan\n",
      "We couldn't process this post because it was:  nan\n",
      "We couldn't process this post because it was:  nan\n",
      "We couldn't process this post because it was:  nan\n",
      "We couldn't process this post because it was:  nan\n",
      "We couldn't process this post because it was:  nan\n",
      "We couldn't process this post because it was:  nan\n",
      "We couldn't process this post because it was:  nan\n",
      "We couldn't process this post because it was:  nan\n"
     ]
    },
    {
     "name": "stderr",
     "output_type": "stream",
     "text": [
      "\r",
      "  9%|▉         | 68/732 [00:27<05:12,  2.13it/s]"
     ]
    },
    {
     "name": "stdout",
     "output_type": "stream",
     "text": [
      "We couldn't process this post because it was:  nan\n",
      "We couldn't process this post because it was:  nan\n",
      "We couldn't process this post because it was:  nan\n",
      "We couldn't process this post because it was:  nan\n",
      "We couldn't process this post because it was:  nan\n",
      "We couldn't process this post because it was:  nan\n",
      "We couldn't process this post because it was:  nan\n",
      "We couldn't process this post because it was:  nan\n",
      "We couldn't process this post because it was:  nan\n",
      "We couldn't process this post because it was:  nan\n",
      "We couldn't process this post because it was:  nan\n",
      "We couldn't process this post because it was:  nan\n"
     ]
    },
    {
     "name": "stderr",
     "output_type": "stream",
     "text": [
      "\r",
      "  9%|▉         | 69/732 [00:27<05:15,  2.10it/s]"
     ]
    },
    {
     "name": "stdout",
     "output_type": "stream",
     "text": [
      "We couldn't process this post because it was:  nan\n",
      "We couldn't process this post because it was:  nan\n",
      "We couldn't process this post because it was:  nan\n",
      "We couldn't process this post because it was:  nan\n",
      "We couldn't process this post because it was:  nan\n",
      "We couldn't process this post because it was:  nan\n",
      "We couldn't process this post because it was:  nan\n"
     ]
    },
    {
     "name": "stderr",
     "output_type": "stream",
     "text": [
      "\r",
      " 10%|▉         | 70/732 [00:27<04:16,  2.58it/s]"
     ]
    },
    {
     "name": "stdout",
     "output_type": "stream",
     "text": [
      "We couldn't process this post because it was:  nan\n",
      "We couldn't process this post because it was:  nan\n",
      "We couldn't process this post because it was:  nan\n",
      "We couldn't process this post because it was:  nan\n",
      "We couldn't process this post because it was:  nan\n",
      "We couldn't process this post because it was:  nan\n",
      "We couldn't process this post because it was:  nan\n",
      "We couldn't process this post because it was:  nan\n",
      "We couldn't process this post because it was:  nan\n",
      "We couldn't process this post because it was:  nan\n",
      "We couldn't process this post because it was:  nan\n",
      "We couldn't process this post because it was:  nan\n",
      "We couldn't process this post because it was:  nan\n",
      "We couldn't process this post because it was:  nan\n",
      "We couldn't process this post because it was:  nan\n",
      "We couldn't process this post because it was:  nan\n",
      "We couldn't process this post because it was:  nan\n",
      "We couldn't process this post because it was:  nan\n",
      "We couldn't process this post because it was:  nan\n",
      "We couldn't process this post because it was:  nan\n",
      "We couldn't process this post because it was:  nan\n",
      "We couldn't process this post because it was:  nan\n",
      "We couldn't process this post because it was:  nan\n",
      "We couldn't process this post because it was:  nan\n",
      "We couldn't process this post because it was:  nan\n",
      "We couldn't process this post because it was:  nan\n",
      "We couldn't process this post because it was:  nan\n",
      "We couldn't process this post because it was:  nan\n",
      "We couldn't process this post because it was:  nan\n"
     ]
    },
    {
     "name": "stderr",
     "output_type": "stream",
     "text": [
      "\r",
      " 10%|▉         | 71/732 [00:28<04:18,  2.56it/s]"
     ]
    },
    {
     "name": "stdout",
     "output_type": "stream",
     "text": [
      "We couldn't process this post because it was:  nan\n",
      "We couldn't process this post because it was:  nan\n",
      "We couldn't process this post because it was:  nan\n",
      "We couldn't process this post because it was:  nan\n",
      "We couldn't process this post because it was:  nan\n",
      "We couldn't process this post because it was:  nan\n",
      "We couldn't process this post because it was:  nan\n",
      "We couldn't process this post because it was:  nan\n",
      "We couldn't process this post because it was:  nan\n",
      "We couldn't process this post because it was:  nan\n"
     ]
    },
    {
     "name": "stderr",
     "output_type": "stream",
     "text": [
      "\r",
      " 10%|▉         | 72/732 [00:28<04:24,  2.49it/s]"
     ]
    },
    {
     "name": "stdout",
     "output_type": "stream",
     "text": [
      "We couldn't process this post because it was:  nan\n",
      "We couldn't process this post because it was:  nan\n",
      "We couldn't process this post because it was:  nan\n",
      "We couldn't process this post because it was:  nan\n",
      "We couldn't process this post because it was:  nan\n",
      "We couldn't process this post because it was:  nan\n",
      "We couldn't process this post because it was:  nan\n",
      "We couldn't process this post because it was:  nan\n",
      "We couldn't process this post because it was:  nan\n",
      "We couldn't process this post because it was:  nan\n",
      "We couldn't process this post because it was:  nan\n",
      "We couldn't process this post because it was:  nan\n",
      "We couldn't process this post because it was:  nan\n",
      "We couldn't process this post because it was:  nan\n",
      "We couldn't process this post because it was:  nan\n",
      "We couldn't process this post because it was:  nan\n"
     ]
    },
    {
     "name": "stderr",
     "output_type": "stream",
     "text": [
      "\r",
      " 10%|▉         | 73/732 [00:28<04:22,  2.51it/s]"
     ]
    },
    {
     "name": "stdout",
     "output_type": "stream",
     "text": [
      "We couldn't process this post because it was:  nan\n",
      "We couldn't process this post because it was:  nan\n",
      "We couldn't process this post because it was:  nan\n",
      "We couldn't process this post because it was:  nan\n",
      "We couldn't process this post because it was:  nan\n",
      "We couldn't process this post because it was:  nan\n",
      "We couldn't process this post because it was:  nan\n",
      "We couldn't process this post because it was:  nan\n",
      "We couldn't process this post because it was:  nan\n",
      "We couldn't process this post because it was:  nan\n",
      "We couldn't process this post because it was:  nan\n",
      "We couldn't process this post because it was:  nan\n"
     ]
    },
    {
     "name": "stderr",
     "output_type": "stream",
     "text": [
      "\r",
      " 10%|█         | 74/732 [00:29<03:57,  2.77it/s]"
     ]
    },
    {
     "name": "stdout",
     "output_type": "stream",
     "text": [
      "We couldn't process this post because it was:  nan\n",
      "We couldn't process this post because it was:  nan\n",
      "We couldn't process this post because it was:  nan\n",
      "We couldn't process this post because it was:  nan\n",
      "We couldn't process this post because it was:  nan\n",
      "We couldn't process this post because it was:  nan\n",
      "We couldn't process this post because it was:  nan\n",
      "We couldn't process this post because it was:  nan\n",
      "We couldn't process this post because it was:  nan\n",
      "We couldn't process this post because it was:  nan\n",
      "We couldn't process this post because it was:  nan\n",
      "We couldn't process this post because it was:  nan\n",
      "We couldn't process this post because it was:  nan\n",
      "We couldn't process this post because it was:  nan\n",
      "We couldn't process this post because it was:  nan\n",
      "We couldn't process this post because it was:  nan\n",
      "We couldn't process this post because it was:  nan\n"
     ]
    },
    {
     "name": "stderr",
     "output_type": "stream",
     "text": [
      "\r",
      " 10%|█         | 75/732 [00:29<04:43,  2.31it/s]"
     ]
    },
    {
     "name": "stdout",
     "output_type": "stream",
     "text": [
      "We couldn't process this post because it was:  nan\n",
      "We couldn't process this post because it was:  nan\n",
      "We couldn't process this post because it was:  nan\n"
     ]
    },
    {
     "name": "stderr",
     "output_type": "stream",
     "text": [
      "\r",
      " 10%|█         | 76/732 [00:30<05:53,  1.85it/s]"
     ]
    },
    {
     "name": "stdout",
     "output_type": "stream",
     "text": [
      "We couldn't process this post because it was:  nan\n",
      "We couldn't process this post because it was:  nan\n",
      "We couldn't process this post because it was:  nan\n",
      "We couldn't process this post because it was:  nan\n",
      "We couldn't process this post because it was:  nan\n",
      "We couldn't process this post because it was:  nan\n",
      "We couldn't process this post because it was:  nan\n",
      "We couldn't process this post because it was:  nan\n",
      "We couldn't process this post because it was:  nan\n",
      "We couldn't process this post because it was:  nan\n",
      "We couldn't process this post because it was:  nan\n",
      "We couldn't process this post because it was:  nan\n",
      "We couldn't process this post because it was:  nan\n",
      "We couldn't process this post because it was:  nan\n",
      "We couldn't process this post because it was:  nan\n",
      "We couldn't process this post because it was:  nan\n",
      "We couldn't process this post because it was:  nan\n",
      "We couldn't process this post because it was:  nan\n",
      "We couldn't process this post because it was:  nan\n",
      "We couldn't process this post because it was:  nan\n",
      "We couldn't process this post because it was:  nan\n",
      "We couldn't process this post because it was:  nan\n",
      "We couldn't process this post because it was:  nan\n",
      "We couldn't process this post because it was:  nan\n",
      "We couldn't process this post because it was:  nan\n"
     ]
    },
    {
     "name": "stderr",
     "output_type": "stream",
     "text": [
      "\r",
      " 11%|█         | 77/732 [00:30<05:02,  2.17it/s]"
     ]
    },
    {
     "name": "stdout",
     "output_type": "stream",
     "text": [
      "We couldn't process this post because it was:  nan\n",
      "We couldn't process this post because it was:  nan\n",
      "We couldn't process this post because it was:  nan\n",
      "We couldn't process this post because it was:  nan\n",
      "We couldn't process this post because it was:  nan\n",
      "We couldn't process this post because it was:  nan\n",
      "We couldn't process this post because it was:  nan\n",
      "We couldn't process this post because it was:  nan\n",
      "We couldn't process this post because it was:  nan\n",
      "We couldn't process this post because it was:  nan\n",
      "We couldn't process this post because it was:  nan\n",
      "We couldn't process this post because it was:  nan\n",
      "We couldn't process this post because it was:  nan\n",
      "We couldn't process this post because it was:  nan\n",
      "We couldn't process this post because it was:  nan\n",
      "We couldn't process this post because it was:  nan\n",
      "We couldn't process this post because it was:  nan\n",
      "We couldn't process this post because it was:  nan\n",
      "We couldn't process this post because it was:  nan\n",
      "We couldn't process this post because it was:  nan\n",
      "We couldn't process this post because it was:  nan\n",
      "We couldn't process this post because it was:  nan\n",
      "We couldn't process this post because it was:  nan\n",
      "We couldn't process this post because it was:  nan\n",
      "We couldn't process this post because it was:  nan\n",
      "We couldn't process this post because it was:  nan\n",
      "We couldn't process this post because it was:  nan\n",
      "We couldn't process this post because it was:  nan\n",
      "We couldn't process this post because it was:  nan\n",
      "We couldn't process this post because it was:  nan\n"
     ]
    },
    {
     "name": "stderr",
     "output_type": "stream",
     "text": [
      "\r",
      " 11%|█         | 78/732 [00:31<04:43,  2.30it/s]"
     ]
    },
    {
     "name": "stdout",
     "output_type": "stream",
     "text": [
      "We couldn't process this post because it was:  nan\n",
      "We couldn't process this post because it was:  nan\n",
      "We couldn't process this post because it was:  nan\n",
      "We couldn't process this post because it was:  nan\n",
      "We couldn't process this post because it was:  nan\n",
      "We couldn't process this post because it was:  nan\n",
      "We couldn't process this post because it was:  nan\n",
      "We couldn't process this post because it was:  nan\n",
      "We couldn't process this post because it was:  nan\n",
      "We couldn't process this post because it was:  nan\n",
      "We couldn't process this post because it was:  nan\n"
     ]
    },
    {
     "name": "stderr",
     "output_type": "stream",
     "text": [
      "\r",
      " 11%|█         | 79/732 [00:31<04:10,  2.61it/s]"
     ]
    },
    {
     "name": "stdout",
     "output_type": "stream",
     "text": [
      "We couldn't process this post because it was:  nan\n",
      "We couldn't process this post because it was:  nan\n",
      "We couldn't process this post because it was:  nan\n",
      "We couldn't process this post because it was:  nan\n",
      "We couldn't process this post because it was:  nan\n",
      "We couldn't process this post because it was:  nan\n",
      "We couldn't process this post because it was:  nan\n",
      "We couldn't process this post because it was:  nan\n",
      "We couldn't process this post because it was:  nan\n",
      "We couldn't process this post because it was:  nan\n",
      "We couldn't process this post because it was:  nan\n",
      "We couldn't process this post because it was:  nan\n",
      "We couldn't process this post because it was:  nan\n",
      "We couldn't process this post because it was:  nan\n",
      "We couldn't process this post because it was:  nan\n",
      "We couldn't process this post because it was:  nan\n",
      "We couldn't process this post because it was:  nan\n",
      "We couldn't process this post because it was:  nan\n",
      "We couldn't process this post because it was:  nan\n",
      "We couldn't process this post because it was:  nan\n"
     ]
    },
    {
     "name": "stderr",
     "output_type": "stream",
     "text": [
      "\r",
      " 11%|█         | 80/732 [00:31<03:47,  2.86it/s]"
     ]
    },
    {
     "name": "stdout",
     "output_type": "stream",
     "text": [
      "We couldn't process this post because it was:  nan\n",
      "We couldn't process this post because it was:  nan\n",
      "We couldn't process this post because it was:  nan\n",
      "We couldn't process this post because it was:  nan\n",
      "We couldn't process this post because it was:  nan\n",
      "We couldn't process this post because it was:  nan\n",
      "We couldn't process this post because it was:  nan\n"
     ]
    },
    {
     "name": "stderr",
     "output_type": "stream",
     "text": [
      "\r",
      " 11%|█         | 81/732 [00:32<03:21,  3.23it/s]"
     ]
    },
    {
     "name": "stdout",
     "output_type": "stream",
     "text": [
      "We couldn't process this post because it was:  nan\n",
      "We couldn't process this post because it was:  nan\n",
      "We couldn't process this post because it was:  nan\n",
      "We couldn't process this post because it was:  nan\n",
      "We couldn't process this post because it was:  nan\n",
      "We couldn't process this post because it was:  nan\n",
      "We couldn't process this post because it was:  nan\n",
      "We couldn't process this post because it was:  nan\n",
      "We couldn't process this post because it was:  nan\n",
      "We couldn't process this post because it was:  nan\n",
      "We couldn't process this post because it was:  nan\n"
     ]
    },
    {
     "name": "stderr",
     "output_type": "stream",
     "text": [
      "\r",
      " 11%|█         | 82/732 [00:32<03:26,  3.14it/s]"
     ]
    },
    {
     "name": "stdout",
     "output_type": "stream",
     "text": [
      "We couldn't process this post because it was:  nan\n",
      "We couldn't process this post because it was:  nan\n",
      "We couldn't process this post because it was:  nan\n",
      "We couldn't process this post because it was:  nan\n",
      "We couldn't process this post because it was:  nan\n",
      "We couldn't process this post because it was:  nan\n",
      "We couldn't process this post because it was:  nan\n",
      "We couldn't process this post because it was:  nan\n",
      "We couldn't process this post because it was:  nan\n",
      "We couldn't process this post because it was:  nan\n",
      "We couldn't process this post because it was:  nan\n",
      "We couldn't process this post because it was:  nan\n",
      "We couldn't process this post because it was:  nan\n",
      "We couldn't process this post because it was:  nan\n",
      "We couldn't process this post because it was:  nan\n",
      "We couldn't process this post because it was:  nan\n",
      "We couldn't process this post because it was:  nan\n",
      "We couldn't process this post because it was:  nan\n"
     ]
    },
    {
     "name": "stderr",
     "output_type": "stream",
     "text": [
      "\r",
      " 11%|█▏        | 83/732 [00:32<03:53,  2.77it/s]"
     ]
    },
    {
     "name": "stdout",
     "output_type": "stream",
     "text": [
      "We couldn't process this post because it was:  nan\n",
      "We couldn't process this post because it was:  nan\n",
      "We couldn't process this post because it was:  nan\n",
      "We couldn't process this post because it was:  nan\n",
      "We couldn't process this post because it was:  nan\n",
      "We couldn't process this post because it was:  nan\n",
      "We couldn't process this post because it was:  nan\n",
      "We couldn't process this post because it was:  nan\n",
      "We couldn't process this post because it was:  nan\n",
      "We couldn't process this post because it was:  nan\n",
      "We couldn't process this post because it was:  nan\n",
      "We couldn't process this post because it was:  nan\n",
      "We couldn't process this post because it was:  nan\n"
     ]
    },
    {
     "name": "stderr",
     "output_type": "stream",
     "text": [
      "\r",
      " 11%|█▏        | 84/732 [00:33<04:57,  2.17it/s]"
     ]
    },
    {
     "name": "stdout",
     "output_type": "stream",
     "text": [
      "We couldn't process this post because it was:  nan\n",
      "We couldn't process this post because it was:  nan\n",
      "We couldn't process this post because it was:  nan\n",
      "We couldn't process this post because it was:  nan\n",
      "We couldn't process this post because it was:  nan\n"
     ]
    },
    {
     "name": "stderr",
     "output_type": "stream",
     "text": [
      "\r",
      " 12%|█▏        | 85/732 [00:33<04:56,  2.18it/s]"
     ]
    },
    {
     "name": "stdout",
     "output_type": "stream",
     "text": [
      "We couldn't process this post because it was:  nan\n",
      "We couldn't process this post because it was:  nan\n",
      "We couldn't process this post because it was:  nan\n",
      "We couldn't process this post because it was:  nan\n",
      "We couldn't process this post because it was:  nan\n",
      "We couldn't process this post because it was:  nan\n",
      "We couldn't process this post because it was:  nan\n",
      "We couldn't process this post because it was:  nan\n",
      "We couldn't process this post because it was:  nan\n",
      "We couldn't process this post because it was:  nan\n",
      "We couldn't process this post because it was:  nan\n",
      "We couldn't process this post because it was:  nan\n",
      "We couldn't process this post because it was:  nan\n",
      "We couldn't process this post because it was:  nan\n",
      "We couldn't process this post because it was:  nan\n",
      "We couldn't process this post because it was:  nan\n",
      "We couldn't process this post because it was:  nan\n",
      "We couldn't process this post because it was:  nan\n",
      "We couldn't process this post because it was:  nan\n"
     ]
    },
    {
     "name": "stderr",
     "output_type": "stream",
     "text": [
      "\r",
      " 12%|█▏        | 86/732 [00:34<05:03,  2.13it/s]"
     ]
    },
    {
     "name": "stdout",
     "output_type": "stream",
     "text": [
      "We couldn't process this post because it was:  nan\n",
      "We couldn't process this post because it was:  nan\n",
      "We couldn't process this post because it was:  nan\n",
      "We couldn't process this post because it was:  nan\n",
      "We couldn't process this post because it was:  nan\n",
      "We couldn't process this post because it was:  nan\n",
      "We couldn't process this post because it was:  nan\n",
      "We couldn't process this post because it was:  nan\n",
      "We couldn't process this post because it was:  nan\n",
      "We couldn't process this post because it was:  nan\n",
      "We couldn't process this post because it was:  nan\n",
      "We couldn't process this post because it was:  nan\n",
      "We couldn't process this post because it was:  nan\n",
      "We couldn't process this post because it was:  nan\n"
     ]
    },
    {
     "name": "stderr",
     "output_type": "stream",
     "text": [
      "\r",
      " 12%|█▏        | 87/732 [00:35<07:06,  1.51it/s]"
     ]
    },
    {
     "name": "stdout",
     "output_type": "stream",
     "text": [
      "We couldn't process this post because it was:  nan\n",
      "We couldn't process this post because it was:  nan\n",
      "We couldn't process this post because it was:  nan\n",
      "We couldn't process this post because it was:  nan\n",
      "We couldn't process this post because it was:  nan\n",
      "We couldn't process this post because it was:  nan\n",
      "We couldn't process this post because it was:  nan\n",
      "We couldn't process this post because it was:  nan\n",
      "We couldn't process this post because it was:  nan\n",
      "We couldn't process this post because it was:  nan\n",
      "We couldn't process this post because it was:  nan\n"
     ]
    },
    {
     "name": "stderr",
     "output_type": "stream",
     "text": [
      "\r",
      " 12%|█▏        | 88/732 [00:35<05:57,  1.80it/s]"
     ]
    },
    {
     "name": "stdout",
     "output_type": "stream",
     "text": [
      "We couldn't process this post because it was:  nan\n",
      "We couldn't process this post because it was:  nan\n",
      "We couldn't process this post because it was:  nan\n",
      "We couldn't process this post because it was:  nan\n",
      "We couldn't process this post because it was:  nan\n",
      "We couldn't process this post because it was:  nan\n",
      "We couldn't process this post because it was:  nan\n",
      "We couldn't process this post because it was:  nan\n"
     ]
    },
    {
     "name": "stderr",
     "output_type": "stream",
     "text": [
      "\r",
      " 12%|█▏        | 89/732 [00:36<05:18,  2.02it/s]"
     ]
    },
    {
     "name": "stdout",
     "output_type": "stream",
     "text": [
      "We couldn't process this post because it was:  nan\n",
      "We couldn't process this post because it was:  nan\n",
      "We couldn't process this post because it was:  nan\n",
      "We couldn't process this post because it was:  nan\n",
      "We couldn't process this post because it was:  nan\n",
      "We couldn't process this post because it was:  nan\n",
      "We couldn't process this post because it was:  nan\n"
     ]
    },
    {
     "name": "stderr",
     "output_type": "stream",
     "text": [
      "\r",
      " 12%|█▏        | 90/732 [00:36<05:21,  2.00it/s]"
     ]
    },
    {
     "name": "stdout",
     "output_type": "stream",
     "text": [
      "We couldn't process this post because it was:  nan\n",
      "We couldn't process this post because it was:  nan\n",
      "We couldn't process this post because it was:  nan\n",
      "We couldn't process this post because it was:  nan\n",
      "We couldn't process this post because it was:  nan\n",
      "We couldn't process this post because it was:  nan\n",
      "We couldn't process this post because it was:  nan\n",
      "We couldn't process this post because it was:  nan\n",
      "We couldn't process this post because it was:  nan\n",
      "We couldn't process this post because it was:  nan\n",
      "We couldn't process this post because it was:  nan\n",
      "We couldn't process this post because it was:  nan\n",
      "We couldn't process this post because it was:  nan\n"
     ]
    },
    {
     "name": "stderr",
     "output_type": "stream",
     "text": [
      " 13%|█▎        | 92/732 [00:37<03:38,  2.93it/s]"
     ]
    },
    {
     "name": "stdout",
     "output_type": "stream",
     "text": [
      "We couldn't process this post because it was:  nan\n",
      "We couldn't process this post because it was:  nan\n",
      "We couldn't process this post because it was:  nan\n",
      "We couldn't process this post because it was:  nan\n",
      "We couldn't process this post because it was:  nan\n",
      "We couldn't process this post because it was:  nan\n",
      "We couldn't process this post because it was:  nan\n",
      "We couldn't process this post because it was:  nan\n",
      "We couldn't process this post because it was:  nan\n",
      "We couldn't process this post because it was:  nan\n",
      "We couldn't process this post because it was:  nan\n",
      "We couldn't process this post because it was:  nan\n",
      "We couldn't process this post because it was:  nan\n",
      "We couldn't process this post because it was:  nan\n",
      "We couldn't process this post because it was:  nan\n",
      "We couldn't process this post because it was:  nan\n",
      "We couldn't process this post because it was:  nan\n",
      "We couldn't process this post because it was:  nan\n",
      "We couldn't process this post because it was:  nan\n",
      "We couldn't process this post because it was:  nan\n",
      "We couldn't process this post because it was:  nan\n",
      "We couldn't process this post because it was:  nan\n",
      "We couldn't process this post because it was:  nan\n",
      "We couldn't process this post because it was:  nan\n",
      "We couldn't process this post because it was:  nan\n"
     ]
    },
    {
     "name": "stderr",
     "output_type": "stream",
     "text": [
      "\r",
      " 13%|█▎        | 93/732 [00:37<03:31,  3.02it/s]"
     ]
    },
    {
     "name": "stdout",
     "output_type": "stream",
     "text": [
      "We couldn't process this post because it was:  nan\n",
      "We couldn't process this post because it was:  nan\n",
      "We couldn't process this post because it was:  nan\n",
      "We couldn't process this post because it was:  nan\n",
      "We couldn't process this post because it was:  nan\n",
      "We couldn't process this post because it was:  nan\n",
      "We couldn't process this post because it was:  nan\n",
      "We couldn't process this post because it was:  nan\n",
      "We couldn't process this post because it was:  nan\n",
      "We couldn't process this post because it was:  nan\n"
     ]
    },
    {
     "name": "stderr",
     "output_type": "stream",
     "text": [
      "\r",
      " 13%|█▎        | 94/732 [00:37<03:15,  3.26it/s]"
     ]
    },
    {
     "name": "stdout",
     "output_type": "stream",
     "text": [
      "We couldn't process this post because it was:  nan\n",
      "We couldn't process this post because it was:  nan\n",
      "We couldn't process this post because it was:  nan\n",
      "We couldn't process this post because it was:  nan\n",
      "We couldn't process this post because it was:  nan\n",
      "We couldn't process this post because it was:  nan\n",
      "We couldn't process this post because it was:  nan\n"
     ]
    },
    {
     "name": "stderr",
     "output_type": "stream",
     "text": [
      "\r",
      " 13%|█▎        | 95/732 [00:38<03:30,  3.03it/s]"
     ]
    },
    {
     "name": "stdout",
     "output_type": "stream",
     "text": [
      "We couldn't process this post because it was:  nan\n",
      "We couldn't process this post because it was:  nan\n",
      "We couldn't process this post because it was:  nan\n",
      "We couldn't process this post because it was:  nan\n",
      "We couldn't process this post because it was:  nan\n",
      "We couldn't process this post because it was:  nan\n",
      "We couldn't process this post because it was:  nan\n",
      "We couldn't process this post because it was:  nan\n",
      "We couldn't process this post because it was:  nan\n",
      "We couldn't process this post because it was:  nan\n",
      "We couldn't process this post because it was:  nan\n",
      "We couldn't process this post because it was:  nan\n",
      "We couldn't process this post because it was:  nan\n",
      "We couldn't process this post because it was:  nan\n",
      "We couldn't process this post because it was:  nan\n",
      "We couldn't process this post because it was:  nan\n",
      "We couldn't process this post because it was:  nan\n",
      "We couldn't process this post because it was:  nan\n"
     ]
    },
    {
     "name": "stderr",
     "output_type": "stream",
     "text": [
      "\r",
      " 13%|█▎        | 96/732 [00:38<03:32,  2.99it/s]"
     ]
    },
    {
     "name": "stdout",
     "output_type": "stream",
     "text": [
      "We couldn't process this post because it was:  nan\n",
      "We couldn't process this post because it was:  nan\n",
      "We couldn't process this post because it was:  nan\n",
      "We couldn't process this post because it was:  nan\n",
      "We couldn't process this post because it was:  nan\n",
      "We couldn't process this post because it was:  nan\n",
      "We couldn't process this post because it was:  nan\n",
      "We couldn't process this post because it was:  nan\n",
      "We couldn't process this post because it was:  nan\n",
      "We couldn't process this post because it was:  nan\n",
      "We couldn't process this post because it was:  nan\n",
      "We couldn't process this post because it was:  nan\n",
      "We couldn't process this post because it was:  nan\n",
      "We couldn't process this post because it was:  nan\n",
      "We couldn't process this post because it was:  nan\n",
      "We couldn't process this post because it was:  nan\n",
      "We couldn't process this post because it was:  nan\n",
      "We couldn't process this post because it was:  nan\n"
     ]
    },
    {
     "name": "stderr",
     "output_type": "stream",
     "text": [
      "\r",
      " 13%|█▎        | 97/732 [00:39<05:20,  1.98it/s]"
     ]
    },
    {
     "name": "stdout",
     "output_type": "stream",
     "text": [
      "We couldn't process this post because it was:  nan\n",
      "We couldn't process this post because it was:  nan\n",
      "We couldn't process this post because it was:  nan\n",
      "We couldn't process this post because it was:  nan\n",
      "We couldn't process this post because it was:  nan\n",
      "We couldn't process this post because it was:  nan\n",
      "We couldn't process this post because it was:  nan\n",
      "We couldn't process this post because it was:  nan\n",
      "We couldn't process this post because it was:  nan\n",
      "We couldn't process this post because it was:  nan\n",
      "We couldn't process this post because it was:  nan\n",
      "We couldn't process this post because it was:  nan\n",
      "We couldn't process this post because it was:  nan\n"
     ]
    },
    {
     "name": "stderr",
     "output_type": "stream",
     "text": [
      "\r",
      " 13%|█▎        | 98/732 [00:39<04:41,  2.25it/s]"
     ]
    },
    {
     "name": "stdout",
     "output_type": "stream",
     "text": [
      "We couldn't process this post because it was:  nan\n",
      "We couldn't process this post because it was:  nan\n",
      "We couldn't process this post because it was:  nan\n",
      "We couldn't process this post because it was:  nan\n",
      "We couldn't process this post because it was:  nan\n",
      "We couldn't process this post because it was:  nan\n",
      "We couldn't process this post because it was:  nan\n",
      "We couldn't process this post because it was:  nan\n",
      "We couldn't process this post because it was:  nan\n",
      "We couldn't process this post because it was:  nan\n"
     ]
    },
    {
     "name": "stderr",
     "output_type": "stream",
     "text": [
      "\r",
      " 14%|█▎        | 99/732 [00:39<03:48,  2.77it/s]"
     ]
    },
    {
     "name": "stdout",
     "output_type": "stream",
     "text": [
      "We couldn't process this post because it was:  nan\n",
      "We couldn't process this post because it was:  nan\n",
      "We couldn't process this post because it was:  nan\n",
      "We couldn't process this post because it was:  nan\n",
      "We couldn't process this post because it was:  nan\n",
      "We couldn't process this post because it was:  nan\n",
      "We couldn't process this post because it was:  nan\n",
      "We couldn't process this post because it was:  nan\n",
      "We couldn't process this post because it was:  nan\n",
      "We couldn't process this post because it was:  nan\n",
      "We couldn't process this post because it was:  nan\n",
      "We couldn't process this post because it was:  nan\n",
      "We couldn't process this post because it was:  nan\n",
      "We couldn't process this post because it was:  nan\n",
      "We couldn't process this post because it was:  nan\n",
      "We couldn't process this post because it was:  nan\n",
      "We couldn't process this post because it was:  nan\n"
     ]
    },
    {
     "name": "stderr",
     "output_type": "stream",
     "text": [
      "\r",
      " 14%|█▎        | 100/732 [00:40<03:18,  3.18it/s]"
     ]
    },
    {
     "name": "stdout",
     "output_type": "stream",
     "text": [
      "We couldn't process this post because it was:  nan\n",
      "We couldn't process this post because it was:  nan\n",
      "We couldn't process this post because it was:  nan\n",
      "We couldn't process this post because it was:  nan\n",
      "We couldn't process this post because it was:  nan\n",
      "We couldn't process this post because it was:  nan\n",
      "We couldn't process this post because it was:  nan\n",
      "We couldn't process this post because it was:  nan\n",
      "We couldn't process this post because it was:  nan\n",
      "We couldn't process this post because it was:  nan\n",
      "We couldn't process this post because it was:  nan\n",
      "We couldn't process this post because it was:  nan\n",
      "We couldn't process this post because it was:  nan\n",
      "We couldn't process this post because it was:  nan\n",
      "We couldn't process this post because it was:  nan\n",
      "We couldn't process this post because it was:  nan\n",
      "We couldn't process this post because it was:  nan\n",
      "We couldn't process this post because it was:  nan\n",
      "We couldn't process this post because it was:  nan\n"
     ]
    },
    {
     "name": "stderr",
     "output_type": "stream",
     "text": [
      "\r",
      " 14%|█▍        | 101/732 [00:40<02:52,  3.66it/s]"
     ]
    },
    {
     "name": "stdout",
     "output_type": "stream",
     "text": [
      "We couldn't process this post because it was:  nan\n",
      "We couldn't process this post because it was:  nan\n",
      "We couldn't process this post because it was:  nan\n",
      "We couldn't process this post because it was:  nan\n",
      "We couldn't process this post because it was:  nan\n",
      "We couldn't process this post because it was:  nan\n",
      "We couldn't process this post because it was:  nan\n",
      "We couldn't process this post because it was:  nan\n",
      "We couldn't process this post because it was:  nan\n",
      "We couldn't process this post because it was:  nan\n",
      "We couldn't process this post because it was:  nan\n",
      "We couldn't process this post because it was:  nan\n",
      "We couldn't process this post because it was:  nan\n",
      "We couldn't process this post because it was:  nan\n",
      "We couldn't process this post because it was:  nan\n"
     ]
    },
    {
     "name": "stderr",
     "output_type": "stream",
     "text": [
      "\r",
      " 14%|█▍        | 102/732 [00:40<02:45,  3.81it/s]"
     ]
    },
    {
     "name": "stdout",
     "output_type": "stream",
     "text": [
      "We couldn't process this post because it was:  nan\n",
      "We couldn't process this post because it was:  nan\n",
      "We couldn't process this post because it was:  nan\n",
      "We couldn't process this post because it was:  nan\n",
      "We couldn't process this post because it was:  nan\n",
      "We couldn't process this post because it was:  nan\n",
      "We couldn't process this post because it was:  nan\n",
      "We couldn't process this post because it was:  nan\n",
      "We couldn't process this post because it was:  nan\n",
      "We couldn't process this post because it was:  nan\n",
      "We couldn't process this post because it was:  nan\n"
     ]
    },
    {
     "name": "stderr",
     "output_type": "stream",
     "text": [
      "\r",
      " 14%|█▍        | 103/732 [00:42<07:35,  1.38it/s]"
     ]
    },
    {
     "name": "stdout",
     "output_type": "stream",
     "text": [
      "We couldn't process this post because it was:  nan\n",
      "We couldn't process this post because it was:  nan\n",
      "We couldn't process this post because it was:  nan\n",
      "We couldn't process this post because it was:  nan\n",
      "We couldn't process this post because it was:  nan\n",
      "We couldn't process this post because it was:  nan\n",
      "We couldn't process this post because it was:  nan\n",
      "We couldn't process this post because it was:  nan\n",
      "We couldn't process this post because it was:  nan\n",
      "We couldn't process this post because it was:  nan\n",
      "We couldn't process this post because it was:  nan\n",
      "We couldn't process this post because it was:  nan\n",
      "We couldn't process this post because it was:  nan\n",
      "We couldn't process this post because it was:  nan\n",
      "We couldn't process this post because it was:  nan\n",
      "We couldn't process this post because it was:  nan\n",
      "We couldn't process this post because it was:  nan\n",
      "We couldn't process this post because it was:  nan\n",
      "We couldn't process this post because it was:  nan\n",
      "We couldn't process this post because it was:  nan\n",
      "We couldn't process this post because it was:  nan\n",
      "We couldn't process this post because it was:  nan\n",
      "We couldn't process this post because it was:  nan\n",
      "We couldn't process this post because it was:  nan\n",
      "We couldn't process this post because it was:  nan\n",
      "We couldn't process this post because it was:  nan\n",
      "We couldn't process this post because it was:  nan\n",
      "We couldn't process this post because it was:  nan\n",
      "We couldn't process this post because it was:  nan\n",
      "We couldn't process this post because it was:  nan\n"
     ]
    },
    {
     "name": "stderr",
     "output_type": "stream",
     "text": [
      "\r",
      " 14%|█▍        | 104/732 [00:42<06:57,  1.51it/s]"
     ]
    },
    {
     "name": "stdout",
     "output_type": "stream",
     "text": [
      "We couldn't process this post because it was:  nan\n",
      "We couldn't process this post because it was:  nan\n",
      "We couldn't process this post because it was:  nan\n",
      "We couldn't process this post because it was:  nan\n",
      "We couldn't process this post because it was:  nan\n",
      "We couldn't process this post because it was:  nan\n",
      "We couldn't process this post because it was:  nan\n",
      "We couldn't process this post because it was:  nan\n",
      "We couldn't process this post because it was:  nan\n",
      "We couldn't process this post because it was:  nan\n",
      "We couldn't process this post because it was:  nan\n",
      "We couldn't process this post because it was:  nan\n",
      "We couldn't process this post because it was:  nan\n",
      "We couldn't process this post because it was:  nan\n",
      "We couldn't process this post because it was:  nan\n",
      "We couldn't process this post because it was:  nan\n",
      "We couldn't process this post because it was:  nan\n",
      "We couldn't process this post because it was:  nan\n",
      "We couldn't process this post because it was:  nan\n"
     ]
    },
    {
     "name": "stderr",
     "output_type": "stream",
     "text": [
      "\r",
      " 14%|█▍        | 105/732 [00:43<06:02,  1.73it/s]"
     ]
    },
    {
     "name": "stdout",
     "output_type": "stream",
     "text": [
      "We couldn't process this post because it was:  nan\n",
      "We couldn't process this post because it was:  nan\n",
      "We couldn't process this post because it was:  nan\n",
      "We couldn't process this post because it was:  nan\n",
      "We couldn't process this post because it was:  nan\n",
      "We couldn't process this post because it was:  nan\n",
      "We couldn't process this post because it was:  nan\n",
      "We couldn't process this post because it was:  nan\n",
      "We couldn't process this post because it was:  nan\n",
      "We couldn't process this post because it was:  nan\n"
     ]
    },
    {
     "name": "stderr",
     "output_type": "stream",
     "text": [
      "\r",
      " 14%|█▍        | 106/732 [00:43<05:53,  1.77it/s]"
     ]
    },
    {
     "name": "stdout",
     "output_type": "stream",
     "text": [
      "We couldn't process this post because it was:  nan\n",
      "We couldn't process this post because it was:  nan\n",
      "We couldn't process this post because it was:  nan\n",
      "We couldn't process this post because it was:  nan\n",
      "We couldn't process this post because it was:  nan\n",
      "We couldn't process this post because it was:  nan\n",
      "We couldn't process this post because it was:  nan\n",
      "We couldn't process this post because it was:  nan\n"
     ]
    },
    {
     "name": "stderr",
     "output_type": "stream",
     "text": [
      " 16%|█▌        | 114/732 [00:47<06:20,  1.62it/s]"
     ]
    },
    {
     "name": "stdout",
     "output_type": "stream",
     "text": [
      "We couldn't process this post because it was:  nan\n",
      "We couldn't process this post because it was:  nan\n",
      "We couldn't process this post because it was:  nan\n",
      "We couldn't process this post because it was:  nan\n",
      "We couldn't process this post because it was:  nan\n",
      "We couldn't process this post because it was:  nan\n",
      "We couldn't process this post because it was:  nan\n",
      "We couldn't process this post because it was:  nan\n",
      "We couldn't process this post because it was:  nan\n",
      "We couldn't process this post because it was:  nan\n",
      "We couldn't process this post because it was:  nan\n",
      "We couldn't process this post because it was:  nan\n",
      "We couldn't process this post because it was:  nan\n",
      "We couldn't process this post because it was:  nan\n",
      "We couldn't process this post because it was:  nan\n",
      "We couldn't process this post because it was:  nan\n",
      "We couldn't process this post because it was:  nan\n",
      "We couldn't process this post because it was:  nan\n"
     ]
    },
    {
     "name": "stderr",
     "output_type": "stream",
     "text": [
      "\r",
      " 16%|█▌        | 115/732 [00:48<06:47,  1.51it/s]"
     ]
    },
    {
     "name": "stdout",
     "output_type": "stream",
     "text": [
      "We couldn't process this post because it was:  nan\n",
      "We couldn't process this post because it was:  nan\n",
      "We couldn't process this post because it was:  nan\n",
      "We couldn't process this post because it was:  nan\n",
      "We couldn't process this post because it was:  nan\n",
      "We couldn't process this post because it was:  nan\n",
      "We couldn't process this post because it was:  nan\n",
      "We couldn't process this post because it was:  nan\n"
     ]
    },
    {
     "name": "stderr",
     "output_type": "stream",
     "text": [
      "\r",
      " 16%|█▌        | 116/732 [00:49<05:53,  1.74it/s]"
     ]
    },
    {
     "name": "stdout",
     "output_type": "stream",
     "text": [
      "We couldn't process this post because it was:  nan\n",
      "We couldn't process this post because it was:  nan\n",
      "We couldn't process this post because it was:  nan\n",
      "We couldn't process this post because it was:  nan\n",
      "We couldn't process this post because it was:  nan\n",
      "We couldn't process this post because it was:  nan\n",
      "We couldn't process this post because it was:  nan\n",
      "We couldn't process this post because it was:  nan\n",
      "We couldn't process this post because it was:  nan\n",
      "We couldn't process this post because it was:  nan\n",
      "We couldn't process this post because it was:  nan\n",
      "We couldn't process this post because it was:  nan\n",
      "We couldn't process this post because it was:  nan\n",
      "We couldn't process this post because it was:  nan\n",
      "We couldn't process this post because it was:  nan\n",
      "We couldn't process this post because it was:  nan\n",
      "We couldn't process this post because it was:  nan\n",
      "We couldn't process this post because it was:  nan\n",
      "We couldn't process this post because it was:  nan\n",
      "We couldn't process this post because it was:  nan\n"
     ]
    },
    {
     "name": "stderr",
     "output_type": "stream",
     "text": [
      "\r",
      " 16%|█▌        | 117/732 [00:49<05:42,  1.80it/s]"
     ]
    },
    {
     "name": "stdout",
     "output_type": "stream",
     "text": [
      "We couldn't process this post because it was:  nan\n",
      "We couldn't process this post because it was:  nan\n",
      "We couldn't process this post because it was:  nan\n",
      "We couldn't process this post because it was:  nan\n",
      "We couldn't process this post because it was:  nan\n",
      "We couldn't process this post because it was:  nan\n",
      "We couldn't process this post because it was:  nan\n",
      "We couldn't process this post because it was:  nan\n",
      "We couldn't process this post because it was:  nan\n",
      "We couldn't process this post because it was:  nan\n",
      "We couldn't process this post because it was:  nan\n",
      "We couldn't process this post because it was:  nan\n",
      "We couldn't process this post because it was:  nan\n",
      "We couldn't process this post because it was:  nan\n",
      "We couldn't process this post because it was: "
     ]
    },
    {
     "name": "stderr",
     "output_type": "stream",
     "text": [
      "\r",
      " 16%|█▌        | 118/732 [00:49<04:52,  2.10it/s]"
     ]
    },
    {
     "name": "stdout",
     "output_type": "stream",
     "text": [
      " nan\n",
      "We couldn't process this post because it was:  nan\n",
      "We couldn't process this post because it was:  nan\n",
      "We couldn't process this post because it was:  nan\n",
      "We couldn't process this post because it was:  nan\n",
      "We couldn't process this post because it was:  nan\n",
      "We couldn't process this post because it was:  nan\n",
      "We couldn't process this post because it was:  nan\n",
      "We couldn't process this post because it was:  nan\n",
      "We couldn't process this post because it was:  nan\n",
      "We couldn't process this post because it was:  nan\n",
      "We couldn't process this post because it was:  nan\n",
      "We couldn't process this post because it was:  nan\n",
      "We couldn't process this post because it was:  nan\n",
      "We couldn't process this post because it was:  nan\n"
     ]
    },
    {
     "name": "stderr",
     "output_type": "stream",
     "text": [
      "\r",
      " 16%|█▋        | 119/732 [00:50<04:18,  2.37it/s]"
     ]
    },
    {
     "name": "stdout",
     "output_type": "stream",
     "text": [
      "We couldn't process this post because it was:  nan\n",
      "We couldn't process this post because it was:  nan\n",
      "We couldn't process this post because it was:  nan\n",
      "We couldn't process this post because it was:  nan\n",
      "We couldn't process this post because it was:  nan\n",
      "We couldn't process this post because it was:  nan\n",
      "We couldn't process this post because it was:  nan\n",
      "We couldn't process this post because it was:  nan\n",
      "We couldn't process this post because it was:  nan\n",
      "We couldn't process this post because it was:  nan\n",
      "We couldn't process this post because it was:  nan\n",
      "We couldn't process this post because it was:  nan\n",
      "We couldn't process this post because it was:  nan\n",
      "We couldn't process this post because it was:  nan\n",
      "We couldn't process this post because it was:  nan\n"
     ]
    },
    {
     "name": "stderr",
     "output_type": "stream",
     "text": [
      "\r",
      " 16%|█▋        | 120/732 [00:50<03:45,  2.71it/s]"
     ]
    },
    {
     "name": "stdout",
     "output_type": "stream",
     "text": [
      "We couldn't process this post because it was:  nan\n",
      "We couldn't process this post because it was:  nan\n",
      "We couldn't process this post because it was:  nan\n",
      "We couldn't process this post because it was:  nan\n",
      "We couldn't process this post because it was:  nan\n",
      "We couldn't process this post because it was:  nan\n",
      "We couldn't process this post because it was:  nan\n",
      "We couldn't process this post because it was:  nan\n",
      "We couldn't process this post because it was:  nan\n",
      "We couldn't process this post because it was:  nan\n",
      "We couldn't process this post because it was:  nan\n",
      "We couldn't process this post because it was:  nan\n",
      "We couldn't process this post because it was:  nan\n",
      "We couldn't process this post because it was:  nan\n",
      "We couldn't process this post because it was:  nan\n",
      "We couldn't process this post because it was:  nan\n",
      "We couldn't process this post because it was:  nan\n",
      "We couldn't process this post because it was:  nan\n",
      "We couldn't process this post because it was:  nan\n",
      "We couldn't process this post because it was:  nan\n",
      "We couldn't process this post because it was:  nan\n",
      "We couldn't process this post because it was:  nan\n",
      "We couldn't process this post because it was:  nan\n",
      "We couldn't process this post because it was:  nan\n",
      "We couldn't process this post because it was:  nan\n",
      "We couldn't process this post because it was:  nan\n",
      "We couldn't process this post because it was:  nan\n",
      "We couldn't process this post because it was:  nan\n",
      "We couldn't process this post because it was:  nan\n",
      "We couldn't process this post because it was:  nan\n",
      "We couldn't process this post because it was:  nan\n"
     ]
    },
    {
     "name": "stderr",
     "output_type": "stream",
     "text": [
      "\r",
      " 17%|█▋        | 121/732 [00:51<05:14,  1.95it/s]"
     ]
    },
    {
     "name": "stdout",
     "output_type": "stream",
     "text": [
      "We couldn't process this post because it was:  nan\n",
      "We couldn't process this post because it was:  nan\n",
      "We couldn't process this post because it was:  nan\n",
      "We couldn't process this post because it was:  nan\n",
      "We couldn't process this post because it was:  nan\n",
      "We couldn't process this post because it was:  nan\n"
     ]
    },
    {
     "name": "stderr",
     "output_type": "stream",
     "text": [
      "\r",
      " 17%|█▋        | 122/732 [00:51<05:04,  2.00it/s]"
     ]
    },
    {
     "name": "stdout",
     "output_type": "stream",
     "text": [
      "We couldn't process this post because it was:  nan\n",
      "We couldn't process this post because it was:  nan\n",
      "We couldn't process this post because it was:  nan\n",
      "We couldn't process this post because it was:  nan\n",
      "We couldn't process this post because it was:  nan\n",
      "We couldn't process this post because it was:  nan\n",
      "We couldn't process this post because it was:  nan\n",
      "We couldn't process this post because it was:  nan\n",
      "We couldn't process this post because it was:  nan\n",
      "We couldn't process this post because it was:  nan\n",
      "We couldn't process this post because it was:  nan\n",
      "We couldn't process this post because it was:  nan\n",
      "We couldn't process this post because it was:  nan\n"
     ]
    },
    {
     "name": "stderr",
     "output_type": "stream",
     "text": [
      "\r",
      " 17%|█▋        | 123/732 [00:52<04:28,  2.27it/s]"
     ]
    },
    {
     "name": "stdout",
     "output_type": "stream",
     "text": [
      "We couldn't process this post because it was:  nan\n",
      "We couldn't process this post because it was:  nan\n",
      "We couldn't process this post because it was:  nan\n",
      "We couldn't process this post because it was:  nan\n",
      "We couldn't process this post because it was:  nan\n",
      "We couldn't process this post because it was:  nan\n",
      "We couldn't process this post because it was:  nan\n",
      "We couldn't process this post because it was:  nan\n",
      "We couldn't process this post because it was:  nan\n",
      "We couldn't process this post because it was:  nan\n",
      "We couldn't process this post because it was:  nan\n",
      "We couldn't process this post because it was:  nan\n",
      "We couldn't process this post because it was:  nan\n",
      "We couldn't process this post because it was:  nan\n",
      "We couldn't process this post because it was:  nan\n",
      "We couldn't process this post because it was:  nan\n"
     ]
    },
    {
     "name": "stderr",
     "output_type": "stream",
     "text": [
      "\r",
      " 17%|█▋        | 124/732 [00:52<04:24,  2.30it/s]"
     ]
    },
    {
     "name": "stdout",
     "output_type": "stream",
     "text": [
      "We couldn't process this post because it was:  nan\n",
      "We couldn't process this post because it was:  nan\n",
      "We couldn't process this post because it was:  nan\n",
      "We couldn't process this post because it was:  nan\n",
      "We couldn't process this post because it was:  nan\n",
      "We couldn't process this post because it was:  nan\n",
      "We couldn't process this post because it was:  nan\n",
      "We couldn't process this post because it was:  nan\n",
      "We couldn't process this post because it was:  nan\n",
      "We couldn't process this post because it was:  nan\n",
      "We couldn't process this post because it was:  nan\n"
     ]
    },
    {
     "name": "stderr",
     "output_type": "stream",
     "text": [
      "\r",
      " 17%|█▋        | 125/732 [00:52<04:26,  2.28it/s]"
     ]
    },
    {
     "name": "stdout",
     "output_type": "stream",
     "text": [
      "We couldn't process this post because it was:  nan\n",
      "We couldn't process this post because it was:  nan\n",
      "We couldn't process this post because it was:  nan\n",
      "We couldn't process this post because it was:  nan\n",
      "We couldn't process this post because it was:  nan\n",
      "We couldn't process this post because it was:  nan\n",
      "We couldn't process this post because it was:  nan\n"
     ]
    },
    {
     "name": "stderr",
     "output_type": "stream",
     "text": [
      "\r",
      " 17%|█▋        | 126/732 [00:53<03:46,  2.68it/s]"
     ]
    },
    {
     "name": "stdout",
     "output_type": "stream",
     "text": [
      "We couldn't process this post because it was:  nan\n",
      "We couldn't process this post because it was:  nan\n",
      "We couldn't process this post because it was:  nan\n",
      "We couldn't process this post because it was:  nan\n",
      "We couldn't process this post because it was:  nan\n",
      "We couldn't process this post because it was:  nan\n",
      "We couldn't process this post because it was:  nan\n",
      "We couldn't process this post because it was:  nan\n",
      "We couldn't process this post because it was:  nan\n",
      "We couldn't process this post because it was:  nan\n",
      "We couldn't process this post because it was:  nan\n",
      "We couldn't process this post because it was:  nan\n",
      "We couldn't process this post because it was:  nan\n",
      "We couldn't process this post because it was:  nan\n"
     ]
    },
    {
     "name": "stderr",
     "output_type": "stream",
     "text": [
      "\r",
      " 17%|█▋        | 127/732 [00:53<03:26,  2.93it/s]"
     ]
    },
    {
     "name": "stdout",
     "output_type": "stream",
     "text": [
      "We couldn't process this post because it was:  nan\n",
      "We couldn't process this post because it was:  nan\n",
      "We couldn't process this post because it was:  nan\n",
      "We couldn't process this post because it was:  nan\n",
      "We couldn't process this post because it was:  nan\n",
      "We couldn't process this post because it was:  nan\n",
      "We couldn't process this post because it was:  nan\n",
      "We couldn't process this post because it was:  nan\n",
      "We couldn't process this post because it was:  nan\n",
      "We couldn't process this post because it was:  nan\n",
      "We couldn't process this post because it was:  nan\n",
      "We couldn't process this post because it was:  nan\n",
      "We couldn't process this post because it was:  nan\n",
      "We couldn't process this post because it was:  nan\n",
      "We couldn't process this post because it was:  nan\n",
      "We couldn't process this post because it was:  nan\n",
      "We couldn't process this post because it was:  nan\n",
      "We couldn't process this post because it was:  nan\n",
      "We couldn't process this post because it was:  nan\n",
      "We couldn't process this post because it was:  nan\n",
      "We couldn't process this post because it was:  nan\n",
      "We couldn't process this post because it was:  nan\n",
      "We couldn't process this post because it was:  nan\n",
      "We couldn't process this post because it was:  nan\n"
     ]
    },
    {
     "name": "stderr",
     "output_type": "stream",
     "text": [
      "\r",
      " 17%|█▋        | 128/732 [00:53<03:29,  2.88it/s]"
     ]
    },
    {
     "name": "stdout",
     "output_type": "stream",
     "text": [
      "We couldn't process this post because it was:  nan\n",
      "We couldn't process this post because it was:  nan\n",
      "We couldn't process this post because it was:  nan\n",
      "We couldn't process this post because it was:  nan\n",
      "We couldn't process this post because it was:  nan\n",
      "We couldn't process this post because it was:  nan\n",
      "We couldn't process this post because it was:  nan\n",
      "We couldn't process this post because it was:  nan\n",
      "We couldn't process this post because it was:  nan\n",
      "We couldn't process this post because it was:  nan\n",
      "We couldn't process this post because it was:  nan\n",
      "We couldn't process this post because it was:  nan\n",
      "We couldn't process this post because it was:  nan\n",
      "We couldn't process this post because it was:  nan\n",
      "We couldn't process this post because it was:  nan\n",
      "We couldn't process this post because it was:  nan\n"
     ]
    },
    {
     "name": "stderr",
     "output_type": "stream",
     "text": [
      "\r",
      " 18%|█▊        | 129/732 [00:54<03:22,  2.98it/s]"
     ]
    },
    {
     "name": "stdout",
     "output_type": "stream",
     "text": [
      "We couldn't process this post because it was:  nan\n",
      "We couldn't process this post because it was:  nan\n",
      "We couldn't process this post because it was:  nan\n",
      "We couldn't process this post because it was:  nan\n",
      "We couldn't process this post because it was:  nan\n",
      "We couldn't process this post because it was:  nan\n",
      "We couldn't process this post because it was:  nan\n",
      "We couldn't process this post because it was:  nan\n",
      "We couldn't process this post because it was:  nan\n",
      "We couldn't process this post because it was:  nan\n",
      "We couldn't process this post because it was:  nan\n",
      "We couldn't process this post because it was:  nan\n",
      "We couldn't process this post because it was:  nan\n",
      "We couldn't process this post because it was:  nan\n"
     ]
    },
    {
     "name": "stderr",
     "output_type": "stream",
     "text": [
      "\r",
      " 18%|█▊        | 130/732 [00:54<03:08,  3.19it/s]"
     ]
    },
    {
     "name": "stdout",
     "output_type": "stream",
     "text": [
      "We couldn't process this post because it was:  nan\n",
      "We couldn't process this post because it was:  nan\n",
      "We couldn't process this post because it was:  nan\n",
      "We couldn't process this post because it was:  nan\n",
      "We couldn't process this post because it was:  nan\n",
      "We couldn't process this post because it was:  nan\n",
      "We couldn't process this post because it was:  nan\n",
      "We couldn't process this post because it was:  nan\n",
      "We couldn't process this post because it was:  nan\n",
      "We couldn't process this post because it was:  nan\n",
      "We couldn't process this post because it was:  nan\n",
      "We couldn't process this post because it was:  nan\n",
      "We couldn't process this post because it was:  nan\n",
      "We couldn't process this post because it was:  nan\n",
      "We couldn't process this post because it was:  nan\n"
     ]
    },
    {
     "name": "stderr",
     "output_type": "stream",
     "text": [
      "\r",
      " 18%|█▊        | 131/732 [00:54<03:37,  2.76it/s]"
     ]
    },
    {
     "name": "stdout",
     "output_type": "stream",
     "text": [
      "We couldn't process this post because it was:  nan\n",
      "We couldn't process this post because it was:  nan\n",
      "We couldn't process this post because it was:  nan\n",
      "We couldn't process this post because it was:  nan\n",
      "We couldn't process this post because it was:  nan\n",
      "We couldn't process this post because it was:  nan\n",
      "We couldn't process this post because it was:  nan\n",
      "We couldn't process this post because it was:  nan\n",
      "We couldn't process this post because it was:  nan\n",
      "We couldn't process this post because it was:  nan\n",
      "We couldn't process this post because it was:  nan\n",
      "We couldn't process this post because it was:  nan\n"
     ]
    },
    {
     "name": "stderr",
     "output_type": "stream",
     "text": [
      "\r",
      " 18%|█▊        | 132/732 [00:55<03:11,  3.13it/s]"
     ]
    },
    {
     "name": "stdout",
     "output_type": "stream",
     "text": [
      "We couldn't process this post because it was:  nan\n",
      "We couldn't process this post because it was:  nan\n",
      "We couldn't process this post because it was:  nan\n",
      "We couldn't process this post because it was:  nan\n",
      "We couldn't process this post because it was:  nan\n",
      "We couldn't process this post because it was:  nan\n",
      "We couldn't process this post because it was:  nan\n",
      "We couldn't process this post because it was:  nan\n",
      "We couldn't process this post because it was:  nan\n",
      "We couldn't process this post because it was:  nan\n",
      "We couldn't process this post because it was:  nan\n",
      "We couldn't process this post because it was:  nan\n",
      "We couldn't process this post because it was:  nan\n",
      "We couldn't process this post because it was:  nan\n",
      "We couldn't process this post because it was:  nan\n",
      "We couldn't process this post because it was:  nan\n",
      "We couldn't process this post because it was:  nan\n",
      "We couldn't process this post because it was:  nan\n",
      "We couldn't process this post because it was:  nan\n",
      "We couldn't process this post because it was:  nan\n",
      "We couldn't process this post because it was:  nan\n",
      "We couldn't process this post because it was:  nan\n",
      "We couldn't process this post because it was:  nan\n",
      "We couldn't process this post because it was:  nan\n",
      "We couldn't process this post because it was:  nan\n",
      "We couldn't process this post because it was:  nan\n",
      "We couldn't process this post because it was:  nan\n",
      "We couldn't process this post because it was:  nan\n",
      "We couldn't process this post because it was:  nan\n",
      "We couldn't process this post because it was:  nan\n",
      "We couldn't process this post because it was:  nan\n"
     ]
    },
    {
     "name": "stderr",
     "output_type": "stream",
     "text": [
      "\r",
      " 18%|█▊        | 133/732 [00:55<04:57,  2.02it/s]"
     ]
    },
    {
     "name": "stdout",
     "output_type": "stream",
     "text": [
      "We couldn't process this post because it was:  nan\n",
      "We couldn't process this post because it was:  nan\n",
      "We couldn't process this post because it was:  nan\n",
      "We couldn't process this post because it was:  nan\n",
      "We couldn't process this post because it was:  nan\n",
      "We couldn't process this post because it was:  nan\n",
      "We couldn't process this post because it was:  nan\n",
      "We couldn't process this post because it was:  nan\n",
      "We couldn't process this post because it was:  nan\n",
      "We couldn't process this post because it was:  nan\n",
      "We couldn't process this post because it was:  nan\n",
      "We couldn't process this post because it was:  nan\n",
      "We couldn't process this post because it was:  nan\n",
      "We couldn't process this post because it was:  nan\n",
      "We couldn't process this post because it was:  nan\n"
     ]
    },
    {
     "name": "stderr",
     "output_type": "stream",
     "text": [
      "\r",
      " 18%|█▊        | 134/732 [00:56<05:59,  1.66it/s]"
     ]
    },
    {
     "name": "stdout",
     "output_type": "stream",
     "text": [
      "We couldn't process this post because it was:  nan\n",
      "We couldn't process this post because it was:  nan\n",
      "We couldn't process this post because it was:  nan\n",
      "We couldn't process this post because it was:  nan\n",
      "We couldn't process this post because it was:  nan\n",
      "We couldn't process this post because it was:  nan\n",
      "We couldn't process this post because it was:  nan\n",
      "We couldn't process this post because it was:  nan\n",
      "We couldn't process this post because it was:  nan\n",
      "We couldn't process this post because it was:  nan\n",
      "We couldn't process this post because it was:  nan\n",
      "We couldn't process this post because it was:  nan\n",
      "We couldn't process this post because it was:  nan\n",
      "We couldn't process this post because it was:  nan\n",
      "We couldn't process this post because it was:  nan\n",
      "We couldn't process this post because it was:  nan\n",
      "We couldn't process this post because it was:  nan\n",
      "We couldn't process this post because it was:  nan\n",
      "We couldn't process this post because it was:  nan\n",
      "We couldn't process this post because it was:  nan\n",
      "We couldn't process this post because it was:  nan\n"
     ]
    },
    {
     "name": "stderr",
     "output_type": "stream",
     "text": [
      "\r",
      " 18%|█▊        | 135/732 [00:57<05:04,  1.96it/s]"
     ]
    },
    {
     "name": "stdout",
     "output_type": "stream",
     "text": [
      "We couldn't process this post because it was:  nan\n",
      "We couldn't process this post because it was:  nan\n",
      "We couldn't process this post because it was:  nan\n",
      "We couldn't process this post because it was:  nan\n",
      "We couldn't process this post because it was:  nan\n",
      "We couldn't process this post because it was:  nan\n",
      "We couldn't process this post because it was:  nan\n",
      "We couldn't process this post because it was:  nan\n",
      "We couldn't process this post because it was:  nan\n",
      "We couldn't process this post because it was:  nan\n",
      "We couldn't process this post because it was:  nan\n",
      "We couldn't process this post because it was:  nan\n",
      "We couldn't process this post because it was:  nan\n",
      "We couldn't process this post because it was:  nan\n",
      "We couldn't process this post because it was:  nan\n",
      "We couldn't process this post because it was:  nan\n",
      "We couldn't process this post because it was:  nan\n",
      "We couldn't process this post because it was:  nan\n",
      "We couldn't process this post because it was:  nan\n",
      "We couldn't process this post because it was:  nan\n",
      "We couldn't process this post because it was:  nan\n",
      "We couldn't process this post because it was:  nan\n",
      "We couldn't process this post because it was:  nan\n",
      "We couldn't process this post because it was:  nan\n",
      "We couldn't process this post because it was:  nan\n",
      "We couldn't process this post because it was:  nan\n",
      "We couldn't process this post because it was:  nan\n",
      "We couldn't process this post because it was:  nan\n",
      "We couldn't process this post because it was:  nan\n",
      "We couldn't process this post because it was:  nan\n",
      "We couldn't process this post because it was:  nan\n",
      "We couldn't process this post because it was:  nan\n"
     ]
    },
    {
     "name": "stderr",
     "output_type": "stream",
     "text": [
      "\r",
      " 19%|█▊        | 136/732 [00:57<05:03,  1.96it/s]"
     ]
    },
    {
     "name": "stdout",
     "output_type": "stream",
     "text": [
      "We couldn't process this post because it was:  nan\n",
      "We couldn't process this post because it was:  nan\n",
      "We couldn't process this post because it was:  nan\n",
      "We couldn't process this post because it was:  nan\n",
      "We couldn't process this post because it was:  nan\n",
      "We couldn't process this post because it was:  nan\n",
      "We couldn't process this post because it was:  nan\n",
      "We couldn't process this post because it was:  nan\n"
     ]
    },
    {
     "name": "stderr",
     "output_type": "stream",
     "text": [
      "\r",
      " 19%|█▊        | 137/732 [00:57<04:33,  2.17it/s]"
     ]
    },
    {
     "name": "stdout",
     "output_type": "stream",
     "text": [
      "We couldn't process this post because it was:  nan\n",
      "We couldn't process this post because it was:  nan\n",
      "We couldn't process this post because it was:  nan\n",
      "We couldn't process this post because it was:  nan\n",
      "We couldn't process this post because it was:  nan\n",
      "We couldn't process this post because it was:  nan\n",
      "We couldn't process this post because it was:  nan\n",
      "We couldn't process this post because it was:  nan\n",
      "We couldn't process this post because it was:  nan\n",
      "We couldn't process this post because it was:  nan\n",
      "We couldn't process this post because it was:  nan\n"
     ]
    },
    {
     "name": "stderr",
     "output_type": "stream",
     "text": [
      "\r",
      " 19%|█▉        | 138/732 [00:58<04:15,  2.33it/s]"
     ]
    },
    {
     "name": "stdout",
     "output_type": "stream",
     "text": [
      "We couldn't process this post because it was:  nan\n",
      "We couldn't process this post because it was:  nan\n",
      "We couldn't process this post because it was:  nan\n",
      "We couldn't process this post because it was:  nan\n",
      "We couldn't process this post because it was:  nan\n",
      "We couldn't process this post because it was:  nan\n",
      "We couldn't process this post because it was:  nan\n",
      "We couldn't process this post because it was:  nan\n",
      "We couldn't process this post because it was:  nan\n",
      "We couldn't process this post because it was:  nan\n",
      "We couldn't process this post because it was:  nan\n",
      "We couldn't process this post because it was:  nan\n",
      "We couldn't process this post because it was:  nan\n",
      "We couldn't process this post because it was:  nan\n",
      "We couldn't process this post because it was:  nan\n",
      "We couldn't process this post because it was:  nan\n",
      "We couldn't process this post because it was:  nan\n",
      "We couldn't process this post because it was:  nan\n",
      "We couldn't process this post because it was:  nan\n",
      "We couldn't process this post because it was:  nan\n",
      "We couldn't process this post because it was:  nan\n",
      "We couldn't process this post because it was:  nan\n",
      "We couldn't process this post because it was:  nan\n"
     ]
    },
    {
     "name": "stderr",
     "output_type": "stream",
     "text": [
      " 19%|█▉        | 140/732 [00:58<03:05,  3.19it/s]"
     ]
    },
    {
     "name": "stdout",
     "output_type": "stream",
     "text": [
      "We couldn't process this post because it was:  nan\n",
      "We couldn't process this post because it was:  nan\n",
      "We couldn't process this post because it was:  nan\n",
      "We couldn't process this post because it was:  nan\n",
      "We couldn't process this post because it was:  nan\n",
      "We couldn't process this post because it was:  nan\n",
      "We couldn't process this post because it was:  nan\n",
      "We couldn't process this post because it was:  nan\n",
      "We couldn't process this post because it was:  nan\n",
      "We couldn't process this post because it was:  nan\n",
      "We couldn't process this post because it was:  nan\n",
      "We couldn't process this post because it was:  nan\n",
      "We couldn't process this post because it was:  nan\n",
      "We couldn't process this post because it was:  nan\n",
      "We couldn't process this post because it was:  nan\n",
      "We couldn't process this post because it was:  nan\n",
      "We couldn't process this post because it was:  nan\n",
      "We couldn't process this post because it was:  nan\n",
      "We couldn't process this post because it was:  nan\n",
      "We couldn't process this post because it was:  nan\n",
      "We couldn't process this post because it was:  nan\n",
      "We couldn't process this post because it was:  nan\n",
      "We couldn't process this post because it was:  nan\n",
      "We couldn't process this post because it was:  nan\n",
      "We couldn't process this post because it was:  nan\n",
      "We couldn't process this post because it was:  nan\n"
     ]
    },
    {
     "name": "stderr",
     "output_type": "stream",
     "text": [
      "\r",
      " 19%|█▉        | 141/732 [00:59<03:01,  3.26it/s]"
     ]
    },
    {
     "name": "stdout",
     "output_type": "stream",
     "text": [
      "We couldn't process this post because it was:  nan\n",
      "We couldn't process this post because it was:  nan\n",
      "We couldn't process this post because it was:  nan\n",
      "We couldn't process this post because it was:  nan\n",
      "We couldn't process this post because it was:  nan\n",
      "We couldn't process this post because it was:  nan\n",
      "We couldn't process this post because it was:  nan\n",
      "We couldn't process this post because it was:  nan\n",
      "We couldn't process this post because it was:  nan\n",
      "We couldn't process this post because it was:  nan\n",
      "We couldn't process this post because it was:  nan\n",
      "We couldn't process this post because it was:  nan\n",
      "We couldn't process this post because it was:  nan\n",
      "We couldn't process this post because it was:  nan\n",
      "We couldn't process this post because it was:  nan\n",
      "We couldn't process this post because it was:  nan\n",
      "We couldn't process this post because it was:  nan\n",
      "We couldn't process this post because it was:  nan\n",
      "We couldn't process this post because it was:  nan\n",
      "We couldn't process this post because it was:  nan\n",
      "We couldn't process this post because it was:  nan\n",
      "We couldn't process this post because it was:  nan\n",
      "We couldn't process this post because it was:  nan\n",
      "We couldn't process this post because it was:  nan\n",
      "We couldn't process this post because it was:  nan\n",
      "We couldn't process this post because it was:  nan\n",
      "We couldn't process this post because it was:  nan\n",
      "We couldn't process this post because it was:  nan\n",
      "We couldn't process this post because it was:  nan\n",
      "We couldn't process this post because it was:  nan\n",
      "We couldn't process this post because it was:  nan\n",
      "We couldn't process this post because it was:  nan\n",
      "We couldn't process this post because it was:  nan\n",
      "We couldn't process this post because it was:  nan\n",
      "We couldn't process this post because it was:  nan\n"
     ]
    },
    {
     "name": "stderr",
     "output_type": "stream",
     "text": [
      "\r",
      " 19%|█▉        | 142/732 [00:59<03:43,  2.64it/s]"
     ]
    },
    {
     "name": "stdout",
     "output_type": "stream",
     "text": [
      "We couldn't process this post because it was:  nan\n",
      "We couldn't process this post because it was:  nan\n",
      "We couldn't process this post because it was:  nan\n",
      "We couldn't process this post because it was:  nan\n",
      "We couldn't process this post because it was:  nan\n",
      "We couldn't process this post because it was:  nan\n",
      "We couldn't process this post because it was:  nan\n",
      "We couldn't process this post because it was:  nan\n",
      "We couldn't process this post because it was:  nan\n",
      "We couldn't process this post because it was:  nan\n",
      "We couldn't process this post because it was:  nan\n",
      "We couldn't process this post because it was:  nan\n",
      "We couldn't process this post because it was:  nan\n",
      "We couldn't process this post because it was:  nan\n",
      "We couldn't process this post because it was:  nan\n",
      "We couldn't process this post because it was:  nan\n",
      "We couldn't process this post because it was:  nan\n",
      "We couldn't process this post because it was:  nan\n"
     ]
    },
    {
     "name": "stderr",
     "output_type": "stream",
     "text": [
      " 20%|█▉        | 144/732 [01:00<03:40,  2.66it/s]"
     ]
    },
    {
     "name": "stdout",
     "output_type": "stream",
     "text": [
      "We couldn't process this post because it was:  nan\n",
      "We couldn't process this post because it was:  nan\n",
      "We couldn't process this post because it was:  nan\n",
      "We couldn't process this post because it was:  nan\n",
      "We couldn't process this post because it was:  nan\n",
      "We couldn't process this post because it was:  nan\n",
      "We couldn't process this post because it was:  nan\n",
      "We couldn't process this post because it was:  nan\n",
      "We couldn't process this post because it was:  nan\n",
      "We couldn't process this post because it was:  nan\n",
      "We couldn't process this post because it was:  nan\n",
      "We couldn't process this post because it was:  nan\n",
      "We couldn't process this post because it was:  nan\n",
      "We couldn't process this post because it was:  nan\n",
      "We couldn't process this post because it was:  nan\n"
     ]
    },
    {
     "name": "stderr",
     "output_type": "stream",
     "text": [
      "\r",
      " 20%|█▉        | 145/732 [01:00<03:20,  2.93it/s]"
     ]
    },
    {
     "name": "stdout",
     "output_type": "stream",
     "text": [
      "We couldn't process this post because it was:  nan\n",
      "We couldn't process this post because it was:  nan\n",
      "We couldn't process this post because it was:  nan\n",
      "We couldn't process this post because it was:  nan\n",
      "We couldn't process this post because it was:  nan\n",
      "We couldn't process this post because it was:  nan\n",
      "We couldn't process this post because it was:  nan\n",
      "We couldn't process this post because it was:  nan\n",
      "We couldn't process this post because it was:  nan\n",
      "We couldn't process this post because it was:  nan\n",
      "We couldn't process this post because it was:  nan\n",
      "We couldn't process this post because it was:  nan\n",
      "We couldn't process this post because it was:  nan\n",
      "We couldn't process this post because it was:  nan\n",
      "We couldn't process this post because it was:  nan\n",
      "We couldn't process this post because it was:  nan\n"
     ]
    },
    {
     "name": "stderr",
     "output_type": "stream",
     "text": [
      "\r",
      " 20%|█▉        | 146/732 [01:00<03:03,  3.20it/s]"
     ]
    },
    {
     "name": "stdout",
     "output_type": "stream",
     "text": [
      "We couldn't process this post because it was:  nan\n",
      "We couldn't process this post because it was:  nan\n",
      "We couldn't process this post because it was:  nan\n",
      "We couldn't process this post because it was:  nan\n",
      "We couldn't process this post because it was:  nan\n",
      "We couldn't process this post because it was:  nan\n",
      "We couldn't process this post because it was:  nan\n",
      "We couldn't process this post because it was:  nan\n",
      "We couldn't process this post because it was:  nan\n",
      "We couldn't process this post because it was:  nan\n"
     ]
    },
    {
     "name": "stderr",
     "output_type": "stream",
     "text": [
      "\r",
      " 20%|██        | 147/732 [01:01<02:57,  3.29it/s]"
     ]
    },
    {
     "name": "stdout",
     "output_type": "stream",
     "text": [
      "We couldn't process this post because it was:  nan\n",
      "We couldn't process this post because it was:  nan\n",
      "We couldn't process this post because it was:  nan\n",
      "We couldn't process this post because it was:  nan\n",
      "We couldn't process this post because it was:  nan\n",
      "We couldn't process this post because it was:  nan\n",
      "We couldn't process this post because it was:  nan\n",
      "We couldn't process this post because it was:  nan\n",
      "We couldn't process this post because it was:  nan\n"
     ]
    },
    {
     "name": "stderr",
     "output_type": "stream",
     "text": [
      "\r",
      " 20%|██        | 148/732 [01:01<03:31,  2.76it/s]"
     ]
    },
    {
     "name": "stdout",
     "output_type": "stream",
     "text": [
      "We couldn't process this post because it was:  nan\n",
      "We couldn't process this post because it was:  nan\n",
      "We couldn't process this post because it was:  nan\n",
      "We couldn't process this post because it was:  nan\n",
      "We couldn't process this post because it was:  nan\n",
      "We couldn't process this post because it was:  nan\n",
      "We couldn't process this post because it was:  nan\n",
      "We couldn't process this post because it was:  nan\n",
      "We couldn't process this post because it was:  nan\n",
      "We couldn't process this post because it was:  nan\n",
      "We couldn't process this post because it was:  nan\n",
      "We couldn't process this post because it was:  nan\n",
      "We couldn't process this post because it was:  nan\n",
      "We couldn't process this post because it was:  nan\n",
      "We couldn't process this post because it was:  nan\n"
     ]
    },
    {
     "name": "stderr",
     "output_type": "stream",
     "text": [
      "\r",
      " 20%|██        | 149/732 [01:02<04:11,  2.32it/s]"
     ]
    },
    {
     "name": "stdout",
     "output_type": "stream",
     "text": [
      "We couldn't process this post because it was:  nan\n",
      "We couldn't process this post because it was:  nan\n",
      "We couldn't process this post because it was:  nan\n",
      "We couldn't process this post because it was:  nan\n",
      "We couldn't process this post because it was:  nan\n",
      "We couldn't process this post because it was:  nan\n",
      "We couldn't process this post because it was:  nan\n",
      "We couldn't process this post because it was:  nan\n",
      "We couldn't process this post because it was:  nan\n",
      "We couldn't process this post because it was:  nan\n",
      "We couldn't process this post because it was:  nan\n",
      "We couldn't process this post because it was:  nan\n",
      "We couldn't process this post because it was:  nan\n",
      "We couldn't process this post because it was:  nan\n",
      "We couldn't process this post because it was:  nan\n"
     ]
    },
    {
     "name": "stderr",
     "output_type": "stream",
     "text": [
      "\r",
      " 20%|██        | 150/732 [01:02<03:25,  2.83it/s]"
     ]
    },
    {
     "name": "stdout",
     "output_type": "stream",
     "text": [
      "We couldn't process this post because it was:  nan\n",
      "We couldn't process this post because it was:  nan\n",
      "We couldn't process this post because it was:  nan\n",
      "We couldn't process this post because it was:  nan\n",
      "We couldn't process this post because it was:  nan\n",
      "We couldn't process this post because it was:  nan\n",
      "We couldn't process this post because it was:  nan\n",
      "We couldn't process this post because it was:  nan\n"
     ]
    },
    {
     "name": "stderr",
     "output_type": "stream",
     "text": [
      "\r",
      " 21%|██        | 151/732 [01:02<03:33,  2.72it/s]"
     ]
    },
    {
     "name": "stdout",
     "output_type": "stream",
     "text": [
      "We couldn't process this post because it was:  nan\n",
      "We couldn't process this post because it was:  nan\n",
      "We couldn't process this post because it was:  nan\n",
      "We couldn't process this post because it was:  nan\n",
      "We couldn't process this post because it was:  nan\n",
      "We couldn't process this post because it was:  nan\n",
      "We couldn't process this post because it was:  nan\n",
      "We couldn't process this post because it was:  nan\n",
      "We couldn't process this post because it was:  nan\n",
      "We couldn't process this post because it was:  nan\n",
      "We couldn't process this post because it was:  nan\n",
      "We couldn't process this post because it was:  nan\n",
      "We couldn't process this post because it was:  nan\n"
     ]
    },
    {
     "name": "stderr",
     "output_type": "stream",
     "text": [
      "\r",
      " 21%|██        | 152/732 [01:03<05:09,  1.88it/s]"
     ]
    },
    {
     "name": "stdout",
     "output_type": "stream",
     "text": [
      "We couldn't process this post because it was:  nan\n",
      "We couldn't process this post because it was:  nan\n",
      "We couldn't process this post because it was:  nan\n",
      "We couldn't process this post because it was:  nan\n",
      "We couldn't process this post because it was:  nan\n",
      "We couldn't process this post because it was:  nan\n",
      "We couldn't process this post because it was:  nan\n",
      "We couldn't process this post because it was:  nan\n",
      "We couldn't process this post because it was:  nan\n",
      "We couldn't process this post because it was:  nan\n",
      "We couldn't process this post because it was:  nan\n",
      "We couldn't process this post because it was:  nan\n",
      "We couldn't process this post because it was:  nan\n",
      "We couldn't process this post because it was:  nan\n",
      "We couldn't process this post because it was:  nan\n"
     ]
    },
    {
     "name": "stderr",
     "output_type": "stream",
     "text": [
      "\r",
      " 21%|██        | 153/732 [01:04<06:06,  1.58it/s]"
     ]
    },
    {
     "name": "stdout",
     "output_type": "stream",
     "text": [
      "We couldn't process this post because it was:  nan\n",
      "We couldn't process this post because it was:  nan\n",
      "We couldn't process this post because it was:  nan\n",
      "We couldn't process this post because it was:  nan\n",
      "We couldn't process this post because it was:  nan\n",
      "We couldn't process this post because it was:  nan\n",
      "We couldn't process this post because it was:  nan\n"
     ]
    },
    {
     "name": "stderr",
     "output_type": "stream",
     "text": [
      "\r",
      " 21%|██        | 154/732 [01:04<05:09,  1.87it/s]"
     ]
    },
    {
     "name": "stdout",
     "output_type": "stream",
     "text": [
      "We couldn't process this post because it was:  nan\n",
      "We couldn't process this post because it was:  nan\n",
      "We couldn't process this post because it was:  nan\n",
      "We couldn't process this post because it was:  nan\n",
      "We couldn't process this post because it was:  nan\n",
      "We couldn't process this post because it was:  nan\n",
      "We couldn't process this post because it was:  nan\n",
      "We couldn't process this post because it was:  nan\n",
      "We couldn't process this post because it was:  nan\n"
     ]
    },
    {
     "name": "stderr",
     "output_type": "stream",
     "text": [
      "\r",
      " 21%|██        | 155/732 [01:05<05:51,  1.64it/s]"
     ]
    },
    {
     "name": "stdout",
     "output_type": "stream",
     "text": [
      "We couldn't process this post because it was:  nan\n",
      "We couldn't process this post because it was:  nan\n",
      "We couldn't process this post because it was:  nan\n",
      "We couldn't process this post because it was:  nan\n",
      "We couldn't process this post because it was:  nan\n",
      "We couldn't process this post because it was:  nan\n",
      "We couldn't process this post because it was:  nan\n",
      "We couldn't process this post because it was:  nan\n",
      "We couldn't process this post because it was:  nan\n",
      "We couldn't process this post because it was:  nan\n",
      "We couldn't process this post because it was:  nan\n",
      "We couldn't process this post because it was:  nan\n"
     ]
    },
    {
     "name": "stderr",
     "output_type": "stream",
     "text": [
      "\r",
      " 21%|██▏       | 156/732 [01:06<05:22,  1.79it/s]"
     ]
    },
    {
     "name": "stdout",
     "output_type": "stream",
     "text": [
      "We couldn't process this post because it was:  nan\n",
      "We couldn't process this post because it was:  nan\n",
      "We couldn't process this post because it was:  nan\n",
      "We couldn't process this post because it was:  nan\n",
      "We couldn't process this post because it was:  nan\n",
      "We couldn't process this post because it was:  nan\n",
      "We couldn't process this post because it was:  nan\n",
      "We couldn't process this post because it was:  nan\n",
      "We couldn't process this post because it was:  nan\n",
      "We couldn't process this post because it was:  nan\n",
      "We couldn't process this post because it was:  nan\n",
      "We couldn't process this post because it was:  nan\n",
      "We couldn't process this post because it was:  nan\n",
      "We couldn't process this post because it was:  nan\n",
      "We couldn't process this post because it was:  nan\n",
      "We couldn't process this post because it was:  nan\n",
      "We couldn't process this post because it was:  nan\n",
      "We couldn't process this post because it was:  nan\n",
      "We couldn't process this post because it was:  nan\n",
      "We couldn't process this post because it was:  nan\n",
      "We couldn't process this post because it was:  nan\n",
      "We couldn't process this post because it was:  nan\n",
      "We couldn't process this post because it was:  nan\n",
      "We couldn't process this post because it was:  nan\n",
      "We couldn't process this post because it was:  nan\n",
      "We couldn't process this post because it was:  nan\n",
      "We couldn't process this post because it was:  nan\n",
      "We couldn't process this post because it was:  nan\n",
      "We couldn't process this post because it was:  nan\n"
     ]
    },
    {
     "name": "stderr",
     "output_type": "stream",
     "text": [
      "\r",
      " 21%|██▏       | 157/732 [01:06<04:59,  1.92it/s]"
     ]
    },
    {
     "name": "stdout",
     "output_type": "stream",
     "text": [
      "We couldn't process this post because it was:  nan\n",
      "We couldn't process this post because it was:  nan\n",
      "We couldn't process this post because it was:  nan\n",
      "We couldn't process this post because it was:  nan\n",
      "We couldn't process this post because it was:  nan\n",
      "We couldn't process this post because it was:  nan\n",
      "We couldn't process this post because it was:  nan\n",
      "We couldn't process this post because it was:  nan\n"
     ]
    },
    {
     "name": "stderr",
     "output_type": "stream",
     "text": [
      "\r",
      " 22%|██▏       | 158/732 [01:07<05:28,  1.75it/s]"
     ]
    },
    {
     "name": "stdout",
     "output_type": "stream",
     "text": [
      "We couldn't process this post because it was:  nan\n",
      "We couldn't process this post because it was:  nan\n",
      "We couldn't process this post because it was:  nan\n"
     ]
    },
    {
     "name": "stderr",
     "output_type": "stream",
     "text": [
      "\r",
      " 22%|██▏       | 159/732 [01:07<04:43,  2.02it/s]"
     ]
    },
    {
     "name": "stdout",
     "output_type": "stream",
     "text": [
      "We couldn't process this post because it was:  nan\n",
      "We couldn't process this post because it was:  nan\n",
      "We couldn't process this post because it was:  nan\n",
      "We couldn't process this post because it was:  nan\n",
      "We couldn't process this post because it was:  nan\n",
      "We couldn't process this post because it was:  nan\n",
      "We couldn't process this post because it was:  nan\n",
      "We couldn't process this post because it was:  nan\n",
      "We couldn't process this post because it was:  nan\n",
      "We couldn't process this post because it was:  nan\n",
      "We couldn't process this post because it was:  nan\n",
      "We couldn't process this post because it was:  nan\n",
      "We couldn't process this post because it was:  nan\n",
      "We couldn't process this post because it was:  nan\n",
      "We couldn't process this post because it was:  nan\n",
      "We couldn't process this post because it was:  nan\n",
      "We couldn't process this post because it was:  nan\n",
      "We couldn't process this post because it was:  nan\n"
     ]
    },
    {
     "name": "stderr",
     "output_type": "stream",
     "text": [
      "\r",
      " 22%|██▏       | 160/732 [01:08<04:37,  2.06it/s]"
     ]
    },
    {
     "name": "stdout",
     "output_type": "stream",
     "text": [
      "We couldn't process this post because it was:  nan\n",
      "We couldn't process this post because it was:  nan\n",
      "We couldn't process this post because it was:  nan\n",
      "We couldn't process this post because it was:  nan\n",
      "We couldn't process this post because it was:  nan\n",
      "We couldn't process this post because it was:  nan\n",
      "We couldn't process this post because it was:  nan\n",
      "We couldn't process this post because it was:  nan\n",
      "We couldn't process this post because it was:  nan\n",
      "We couldn't process this post because it was:  nan\n",
      "We couldn't process this post because it was:  nan\n",
      "We couldn't process this post because it was:  nan\n"
     ]
    },
    {
     "name": "stderr",
     "output_type": "stream",
     "text": [
      "\r",
      " 22%|██▏       | 161/732 [01:08<04:46,  2.00it/s]"
     ]
    },
    {
     "name": "stdout",
     "output_type": "stream",
     "text": [
      "We couldn't process this post because it was:  nan\n"
     ]
    },
    {
     "name": "stderr",
     "output_type": "stream",
     "text": [
      "\r",
      " 22%|██▏       | 162/732 [01:09<04:32,  2.09it/s]"
     ]
    },
    {
     "name": "stdout",
     "output_type": "stream",
     "text": [
      "We couldn't process this post because it was:  nan\n",
      "We couldn't process this post because it was:  nan\n",
      "We couldn't process this post because it was:  nan\n",
      "We couldn't process this post because it was:  nan\n",
      "We couldn't process this post because it was:  nan\n",
      "We couldn't process this post because it was:  nan\n",
      "We couldn't process this post because it was:  nan\n",
      "We couldn't process this post because it was:  nan\n",
      "We couldn't process this post because it was:  nan\n",
      "We couldn't process this post because it was:  nan\n",
      "We couldn't process this post because it was:  nan\n",
      "We couldn't process this post because it was:  nan\n",
      "We couldn't process this post because it was:  nan\n",
      "We couldn't process this post because it was:  nan\n",
      "We couldn't process this post because it was:  nan\n",
      "We couldn't process this post because it was:  nan\n",
      "We couldn't process this post because it was:  nan\n",
      "We couldn't process this post because it was:  nan\n",
      "We couldn't process this post because it was:  nan\n"
     ]
    },
    {
     "name": "stderr",
     "output_type": "stream",
     "text": [
      " 22%|██▏       | 164/732 [01:09<03:22,  2.81it/s]"
     ]
    },
    {
     "name": "stdout",
     "output_type": "stream",
     "text": [
      "We couldn't process this post because it was:  nan\n",
      "We couldn't process this post because it was:  nan\n",
      "We couldn't process this post because it was:  nan\n",
      "We couldn't process this post because it was:  nan\n",
      "We couldn't process this post because it was:  nan\n",
      "We couldn't process this post because it was:  nan\n",
      "We couldn't process this post because it was:  nan\n",
      "We couldn't process this post because it was:  nan\n",
      "We couldn't process this post because it was:  nan\n",
      "We couldn't process this post because it was:  nan\n",
      "We couldn't process this post because it was:  nan\n",
      "We couldn't process this post because it was:  nan\n",
      "We couldn't process this post because it was:  nan\n",
      "We couldn't process this post because it was:  nan\n",
      "We couldn't process this post because it was:  nan\n",
      "We couldn't process this post because it was:  nan\n",
      "We couldn't process this post because it was:  nan\n",
      "We couldn't process this post because it was:  nan\n",
      "We couldn't process this post because it was:  nan\n"
     ]
    },
    {
     "name": "stderr",
     "output_type": "stream",
     "text": [
      "\r",
      " 23%|██▎       | 165/732 [01:09<03:13,  2.93it/s]"
     ]
    },
    {
     "name": "stdout",
     "output_type": "stream",
     "text": [
      "We couldn't process this post because it was:  nan\n",
      "We couldn't process this post because it was:  nan\n",
      "We couldn't process this post because it was:  nan\n",
      "We couldn't process this post because it was:  nan\n",
      "We couldn't process this post because it was:  nan\n",
      "We couldn't process this post because it was:  nan\n",
      "We couldn't process this post because it was:  nan\n",
      "We couldn't process this post because it was:  nan\n",
      "We couldn't process this post because it was:  nan\n",
      "We couldn't process this post because it was:  nan\n",
      "We couldn't process this post because it was:  nan\n",
      "We couldn't process this post because it was:  nan\n",
      "We couldn't process this post because it was:  nan\n",
      "We couldn't process this post because it was:  nan\n",
      "We couldn't process this post because it was:  nan\n"
     ]
    },
    {
     "name": "stderr",
     "output_type": "stream",
     "text": [
      "\r",
      " 23%|██▎       | 166/732 [01:10<03:38,  2.59it/s]"
     ]
    },
    {
     "name": "stdout",
     "output_type": "stream",
     "text": [
      "We couldn't process this post because it was:  nan\n",
      "We couldn't process this post because it was:  nan\n",
      "We couldn't process this post because it was:  nan\n",
      "We couldn't process this post because it was:  nan\n",
      "We couldn't process this post because it was:  nan\n",
      "We couldn't process this post because it was:  nan\n",
      "We couldn't process this post because it was:  nan\n",
      "We couldn't process this post because it was:  nan\n",
      "We couldn't process this post because it was:  nan\n",
      "We couldn't process this post because it was:  nan\n",
      "We couldn't process this post because it was:  nan\n",
      "We couldn't process this post because it was:  nan\n"
     ]
    },
    {
     "name": "stderr",
     "output_type": "stream",
     "text": [
      "\r",
      " 23%|██▎       | 167/732 [01:11<05:19,  1.77it/s]"
     ]
    },
    {
     "name": "stdout",
     "output_type": "stream",
     "text": [
      "We couldn't process this post because it was:  nan\n",
      "We couldn't process this post because it was:  nan\n",
      "We couldn't process this post because it was:  nan\n",
      "We couldn't process this post because it was:  nan\n",
      "We couldn't process this post because it was:  nan\n",
      "We couldn't process this post because it was:  nan\n",
      "We couldn't process this post because it was:  nan\n"
     ]
    },
    {
     "name": "stderr",
     "output_type": "stream",
     "text": [
      "\r",
      " 23%|██▎       | 168/732 [01:12<07:16,  1.29it/s]"
     ]
    },
    {
     "name": "stdout",
     "output_type": "stream",
     "text": [
      "We couldn't process this post because it was:  nan\n",
      "We couldn't process this post because it was:  nan\n",
      "We couldn't process this post because it was:  nan\n",
      "We couldn't process this post because it was:  nan\n",
      "We couldn't process this post because it was:  nan\n",
      "We couldn't process this post because it was:  nan\n",
      "We couldn't process this post because it was:  nan\n",
      "We couldn't process this post because it was:  nan\n",
      "We couldn't process this post because it was:  nan\n",
      "We couldn't process this post because it was:  nan\n",
      "We couldn't process this post because it was:  nan\n",
      "We couldn't process this post because it was:  nan\n",
      "We couldn't process this post because it was:  nan\n",
      "We couldn't process this post because it was:  nan\n"
     ]
    },
    {
     "name": "stderr",
     "output_type": "stream",
     "text": [
      "\r",
      " 23%|██▎       | 169/732 [01:12<06:06,  1.54it/s]"
     ]
    },
    {
     "name": "stdout",
     "output_type": "stream",
     "text": [
      "We couldn't process this post because it was:  nan\n",
      "We couldn't process this post because it was:  nan\n",
      "We couldn't process this post because it was:  nan\n",
      "We couldn't process this post because it was:  nan\n",
      "We couldn't process this post because it was:  nan\n",
      "We couldn't process this post because it was:  nan\n",
      "We couldn't process this post because it was:  nan\n",
      "We couldn't process this post because it was:  nan\n",
      "We couldn't process this post because it was:  nan\n",
      "We couldn't process this post because it was:  nan\n",
      "We couldn't process this post because it was:  nan\n",
      "We couldn't process this post because it was:  nan\n",
      "We couldn't process this post because it was:  nan\n"
     ]
    },
    {
     "name": "stderr",
     "output_type": "stream",
     "text": [
      "\r",
      " 23%|██▎       | 170/732 [01:13<05:21,  1.75it/s]"
     ]
    },
    {
     "name": "stdout",
     "output_type": "stream",
     "text": [
      "We couldn't process this post because it was:  nan\n",
      "We couldn't process this post because it was:  nan\n",
      "We couldn't process this post because it was:  nan\n",
      "We couldn't process this post because it was:  nan\n",
      "We couldn't process this post because it was:  nan\n",
      "We couldn't process this post because it was:  nan\n",
      "We couldn't process this post because it was:  nan\n",
      "We couldn't process this post because it was:  nan\n",
      "We couldn't process this post because it was:  nan\n",
      "We couldn't process this post because it was:  nan\n"
     ]
    },
    {
     "name": "stderr",
     "output_type": "stream",
     "text": [
      "\r",
      " 23%|██▎       | 171/732 [01:14<08:10,  1.14it/s]"
     ]
    },
    {
     "name": "stdout",
     "output_type": "stream",
     "text": [
      "We couldn't process this post because it was:  nan\n",
      "We couldn't process this post because it was:  nan\n",
      "We couldn't process this post because it was:  nan\n",
      "We couldn't process this post because it was:  nan\n",
      "We couldn't process this post because it was:  nan\n",
      "We couldn't process this post because it was:  nan\n",
      "We couldn't process this post because it was:  nan\n"
     ]
    },
    {
     "name": "stderr",
     "output_type": "stream",
     "text": [
      "\r",
      " 23%|██▎       | 172/732 [01:15<06:21,  1.47it/s]"
     ]
    },
    {
     "name": "stdout",
     "output_type": "stream",
     "text": [
      "We couldn't process this post because it was:  nan\n",
      "We couldn't process this post because it was:  nan\n",
      "We couldn't process this post because it was:  nan\n",
      "We couldn't process this post because it was:  nan\n",
      "We couldn't process this post because it was:  nan\n",
      "We couldn't process this post because it was:  nan\n",
      "We couldn't process this post because it was:  nan\n",
      "We couldn't process this post because it was:  nan\n",
      "We couldn't process this post because it was:  nan\n",
      "We couldn't process this post because it was:  nan\n",
      "We couldn't process this post because it was:  nan\n"
     ]
    },
    {
     "name": "stderr",
     "output_type": "stream",
     "text": [
      "\r",
      " 24%|██▎       | 173/732 [01:15<05:58,  1.56it/s]"
     ]
    },
    {
     "name": "stdout",
     "output_type": "stream",
     "text": [
      "We couldn't process this post because it was:  nan\n",
      "We couldn't process this post because it was:  nan\n",
      "We couldn't process this post because it was:  nan\n",
      "We couldn't process this post because it was:  nan\n",
      "We couldn't process this post because it was:  nan\n",
      "We couldn't process this post because it was:  nan\n",
      "We couldn't process this post because it was:  nan\n",
      "We couldn't process this post because it was:  nan\n",
      "We couldn't process this post because it was:  nan\n",
      "We couldn't process this post because it was:  nan\n",
      "We couldn't process this post because it was:  nan\n",
      "We couldn't process this post because it was:  nan\n",
      "We couldn't process this post because it was:  nan\n"
     ]
    },
    {
     "name": "stderr",
     "output_type": "stream",
     "text": [
      "\r",
      " 24%|██▍       | 174/732 [01:16<05:54,  1.57it/s]"
     ]
    },
    {
     "name": "stdout",
     "output_type": "stream",
     "text": [
      "We couldn't process this post because it was:  nan\n",
      "We couldn't process this post because it was:  nan\n",
      "We couldn't process this post because it was:  nan\n",
      "We couldn't process this post because it was:  nan\n",
      "We couldn't process this post because it was:  nan\n",
      "We couldn't process this post because it was:  nan\n",
      "We couldn't process this post because it was:  nan\n"
     ]
    },
    {
     "name": "stderr",
     "output_type": "stream",
     "text": [
      "\r",
      " 24%|██▍       | 175/732 [01:16<05:08,  1.81it/s]"
     ]
    },
    {
     "name": "stdout",
     "output_type": "stream",
     "text": [
      "We couldn't process this post because it was:  nan\n",
      "We couldn't process this post because it was:  nan\n",
      "We couldn't process this post because it was:  nan\n",
      "We couldn't process this post because it was:  nan\n",
      "We couldn't process this post because it was:  nan\n",
      "We couldn't process this post because it was:  nan\n",
      "We couldn't process this post because it was:  nan\n",
      "We couldn't process this post because it was:  nan\n",
      "We couldn't process this post because it was:  nan\n"
     ]
    },
    {
     "name": "stderr",
     "output_type": "stream",
     "text": [
      "\r",
      " 24%|██▍       | 176/732 [01:17<05:34,  1.66it/s]"
     ]
    },
    {
     "name": "stdout",
     "output_type": "stream",
     "text": [
      "We couldn't process this post because it was:  nan\n",
      "We couldn't process this post because it was:  nan\n",
      "We couldn't process this post because it was:  nan\n",
      "We couldn't process this post because it was:  nan\n",
      "We couldn't process this post because it was:  nan\n",
      "We couldn't process this post because it was:  nan\n",
      "We couldn't process this post because it was:  nan\n",
      "We couldn't process this post because it was:  nan\n",
      "We couldn't process this post because it was:  nan\n",
      "We couldn't process this post because it was:  nan\n",
      "We couldn't process this post because it was:  nan\n",
      "We couldn't process this post because it was:  nan\n"
     ]
    },
    {
     "name": "stderr",
     "output_type": "stream",
     "text": [
      "\r",
      " 24%|██▍       | 177/732 [01:18<06:38,  1.39it/s]"
     ]
    },
    {
     "name": "stdout",
     "output_type": "stream",
     "text": [
      "We couldn't process this post because it was:  nan\n",
      "We couldn't process this post because it was:  nan\n",
      "We couldn't process this post because it was:  nan\n",
      "We couldn't process this post because it was:  nan\n",
      "We couldn't process this post because it was:  nan\n"
     ]
    },
    {
     "name": "stderr",
     "output_type": "stream",
     "text": [
      "\r",
      " 24%|██▍       | 178/732 [01:18<05:40,  1.63it/s]"
     ]
    },
    {
     "name": "stdout",
     "output_type": "stream",
     "text": [
      "We couldn't process this post because it was:  nan\n",
      "We couldn't process this post because it was:  nan\n",
      "We couldn't process this post because it was:  nan\n",
      "We couldn't process this post because it was:  nan\n",
      "We couldn't process this post because it was:  nan\n",
      "We couldn't process this post because it was:  nan\n",
      "We couldn't process this post because it was:  nan\n",
      "We couldn't process this post because it was:  nan\n",
      "We couldn't process this post because it was:  nan\n",
      "We couldn't process this post because it was:  nan\n",
      "We couldn't process this post because it was:  nan\n"
     ]
    },
    {
     "name": "stderr",
     "output_type": "stream",
     "text": [
      "\r",
      " 24%|██▍       | 179/732 [01:19<04:56,  1.86it/s]"
     ]
    },
    {
     "name": "stdout",
     "output_type": "stream",
     "text": [
      "We couldn't process this post because it was:  nan\n",
      "We couldn't process this post because it was:  nan\n",
      "We couldn't process this post because it was:  nan\n",
      "We couldn't process this post because it was:  nan\n",
      "We couldn't process this post because it was:  nan\n",
      "We couldn't process this post because it was:  nan\n",
      "We couldn't process this post because it was:  nan\n",
      "We couldn't process this post because it was:  nan\n"
     ]
    },
    {
     "name": "stderr",
     "output_type": "stream",
     "text": [
      "\r",
      " 25%|██▍       | 180/732 [01:21<08:34,  1.07it/s]"
     ]
    },
    {
     "name": "stdout",
     "output_type": "stream",
     "text": [
      "We couldn't process this post because it was:  nan\n",
      "We couldn't process this post because it was:  nan\n",
      "We couldn't process this post because it was:  nan\n",
      "We couldn't process this post because it was:  nan\n",
      "We couldn't process this post because it was:  nan\n",
      "We couldn't process this post because it was:  nan\n",
      "We couldn't process this post because it was:  nan\n",
      "We couldn't process this post because it was:  nan\n",
      "We couldn't process this post because it was:  nan\n",
      "We couldn't process this post because it was:  nan\n"
     ]
    },
    {
     "name": "stderr",
     "output_type": "stream",
     "text": [
      "\r",
      " 25%|██▍       | 181/732 [01:21<08:23,  1.09it/s]"
     ]
    },
    {
     "name": "stdout",
     "output_type": "stream",
     "text": [
      "We couldn't process this post because it was:  nan\n",
      "We couldn't process this post because it was:  nan\n",
      "We couldn't process this post because it was:  nan\n",
      "We couldn't process this post because it was:  nan\n",
      "We couldn't process this post because it was:  nan\n",
      "We couldn't process this post because it was:  nan\n",
      "We couldn't process this post because it was:  nan\n",
      "We couldn't process this post because it was:  nan\n",
      "We couldn't process this post because it was:  nan\n",
      "We couldn't process this post because it was:  nan\n"
     ]
    },
    {
     "name": "stderr",
     "output_type": "stream",
     "text": [
      "\r",
      " 25%|██▍       | 182/732 [01:22<07:44,  1.18it/s]"
     ]
    },
    {
     "name": "stdout",
     "output_type": "stream",
     "text": [
      "We couldn't process this post because it was:  nan\n",
      "We couldn't process this post because it was:  nan\n",
      "We couldn't process this post because it was:  nan\n",
      "We couldn't process this post because it was:  nan\n",
      "We couldn't process this post because it was:  nan\n",
      "We couldn't process this post because it was:  nan\n",
      "We couldn't process this post because it was:  nan\n",
      "We couldn't process this post because it was:  nan\n",
      "We couldn't process this post because it was:  nan\n",
      "We couldn't process this post because it was:  nan\n",
      "We couldn't process this post because it was:  nan\n",
      "We couldn't process this post because it was:  nan\n",
      "We couldn't process this post because it was:  nan\n",
      "We couldn't process this post because it was:  nan\n",
      "We couldn't process this post because it was:  nan\n",
      "We couldn't process this post because it was:  nan\n"
     ]
    },
    {
     "name": "stderr",
     "output_type": "stream",
     "text": [
      "\r",
      " 25%|██▌       | 183/732 [01:23<07:22,  1.24it/s]"
     ]
    },
    {
     "name": "stdout",
     "output_type": "stream",
     "text": [
      "We couldn't process this post because it was:  nan\n",
      "We couldn't process this post because it was:  nan\n",
      "We couldn't process this post because it was:  nan\n",
      "We couldn't process this post because it was:  nan\n",
      "We couldn't process this post because it was:  nan\n",
      "We couldn't process this post because it was:  nan\n",
      "We couldn't process this post because it was:  nan\n",
      "We couldn't process this post because it was:  nan\n",
      "We couldn't process this post because it was:  nan\n"
     ]
    },
    {
     "name": "stderr",
     "output_type": "stream",
     "text": [
      "\r",
      " 25%|██▌       | 184/732 [01:23<05:59,  1.53it/s]"
     ]
    },
    {
     "name": "stdout",
     "output_type": "stream",
     "text": [
      "We couldn't process this post because it was:  nan\n",
      "We couldn't process this post because it was:  nan\n",
      "We couldn't process this post because it was:  nan\n",
      "We couldn't process this post because it was:  nan\n",
      "We couldn't process this post because it was:  nan\n",
      "We couldn't process this post because it was:  nan\n",
      "We couldn't process this post because it was:  nan\n",
      "We couldn't process this post because it was:  nan\n",
      "We couldn't process this post because it was:  nan\n",
      "We couldn't process this post because it was:  nan\n",
      "We couldn't process this post because it was:  nan\n",
      "We couldn't process this post because it was:  nan\n",
      "We couldn't process this post because it was:  nan\n",
      "We couldn't process this post because it was:  nan\n",
      "We couldn't process this post because it was:  nan\n",
      "We couldn't process this post because it was:  nan\n",
      "We couldn't process this post because it was:  nan\n",
      "We couldn't process this post because it was:  nan\n",
      "We couldn't process this post because it was:  nan\n",
      "We couldn't process this post because it was:  nan\n",
      "We couldn't process this post because it was:  nan\n",
      "We couldn't process this post because it was:  nan\n"
     ]
    },
    {
     "name": "stderr",
     "output_type": "stream",
     "text": [
      "\r",
      " 25%|██▌       | 185/732 [01:24<05:25,  1.68it/s]"
     ]
    },
    {
     "name": "stdout",
     "output_type": "stream",
     "text": [
      "We couldn't process this post because it was:  nan\n",
      "We couldn't process this post because it was:  nan\n",
      "We couldn't process this post because it was:  nan\n",
      "We couldn't process this post because it was:  nan\n",
      "We couldn't process this post because it was:  nan\n",
      "We couldn't process this post because it was:  nan\n",
      "We couldn't process this post because it was:  nan\n",
      "We couldn't process this post because it was:  nan\n",
      "We couldn't process this post because it was:  nan\n",
      "We couldn't process this post because it was:  nan\n",
      "We couldn't process this post because it was:  nan\n",
      "We couldn't process this post because it was:  nan\n",
      "We couldn't process this post because it was:  nan\n",
      "We couldn't process this post because it was:  nan\n",
      "We couldn't process this post because it was:  nan\n",
      "We couldn't process this post because it was:  nan\n",
      "We couldn't process this post because it was:  nan\n"
     ]
    },
    {
     "name": "stderr",
     "output_type": "stream",
     "text": [
      "\r",
      " 25%|██▌       | 186/732 [01:24<05:47,  1.57it/s]"
     ]
    },
    {
     "name": "stdout",
     "output_type": "stream",
     "text": [
      "We couldn't process this post because it was:  nan\n",
      "We couldn't process this post because it was:  nan\n",
      "We couldn't process this post because it was:  nan\n",
      "We couldn't process this post because it was:  nan\n",
      "We couldn't process this post because it was:  nan\n",
      "We couldn't process this post because it was:  nan\n",
      "We couldn't process this post because it was:  nan\n"
     ]
    },
    {
     "name": "stderr",
     "output_type": "stream",
     "text": [
      "\r",
      " 26%|██▌       | 187/732 [01:25<05:01,  1.81it/s]"
     ]
    },
    {
     "name": "stdout",
     "output_type": "stream",
     "text": [
      "We couldn't process this post because it was:  nan\n",
      "We couldn't process this post because it was:  nan\n",
      "We couldn't process this post because it was:  nan\n",
      "We couldn't process this post because it was:  nan\n",
      "We couldn't process this post because it was:  nan\n",
      "We couldn't process this post because it was:  nan\n",
      "We couldn't process this post because it was:  nan\n",
      "We couldn't process this post because it was:  nan\n",
      "We couldn't process this post because it was:  nan\n",
      "We couldn't process this post because it was:  nan\n",
      "We couldn't process this post because it was:  nan\n",
      "We couldn't process this post because it was:  nan\n",
      "We couldn't process this post because it was:  nan\n",
      "We couldn't process this post because it was:  nan\n"
     ]
    },
    {
     "name": "stderr",
     "output_type": "stream",
     "text": [
      "\r",
      " 26%|██▌       | 188/732 [01:25<04:33,  1.99it/s]"
     ]
    },
    {
     "name": "stdout",
     "output_type": "stream",
     "text": [
      "We couldn't process this post because it was:  nan\n",
      "We couldn't process this post because it was:  nan\n",
      "We couldn't process this post because it was:  nan\n",
      "We couldn't process this post because it was:  nan\n",
      "We couldn't process this post because it was:  nan\n",
      "We couldn't process this post because it was:  nan\n",
      "We couldn't process this post because it was:  nan\n",
      "We couldn't process this post because it was:  nan\n",
      "We couldn't process this post because it was:  nan\n",
      "We couldn't process this post because it was:  nan\n",
      "We couldn't process this post because it was:  nan\n",
      "We couldn't process this post because it was:  nan\n",
      "We couldn't process this post because it was:  nan\n",
      "We couldn't process this post because it was:  nan\n",
      "We couldn't process this post because it was:  nan\n",
      "We couldn't process this post because it was:  nan\n"
     ]
    },
    {
     "name": "stderr",
     "output_type": "stream",
     "text": [
      "\r",
      " 26%|██▌       | 189/732 [01:26<04:46,  1.90it/s]"
     ]
    },
    {
     "name": "stdout",
     "output_type": "stream",
     "text": [
      "We couldn't process this post because it was:  nan\n",
      "We couldn't process this post because it was:  nan\n",
      "We couldn't process this post because it was:  nan\n",
      "We couldn't process this post because it was:  nan\n",
      "We couldn't process this post because it was:  nan\n",
      "We couldn't process this post because it was:  nan\n",
      "We couldn't process this post because it was:  nan\n",
      "We couldn't process this post because it was:  nan\n",
      "We couldn't process this post because it was:  nan\n",
      "We couldn't process this post because it was:  nan\n",
      "We couldn't process this post because it was:  nan\n",
      "We couldn't process this post because it was:  nan\n"
     ]
    },
    {
     "name": "stderr",
     "output_type": "stream",
     "text": [
      "\r",
      " 26%|██▌       | 190/732 [01:26<04:48,  1.88it/s]"
     ]
    },
    {
     "name": "stdout",
     "output_type": "stream",
     "text": [
      "We couldn't process this post because it was:  nan\n",
      "We couldn't process this post because it was:  nan\n",
      "We couldn't process this post because it was:  nan\n",
      "We couldn't process this post because it was:  nan\n",
      "We couldn't process this post because it was:  nan\n",
      "We couldn't process this post because it was:  nan\n",
      "We couldn't process this post because it was:  nan\n",
      "We couldn't process this post because it was:  nan\n",
      "We couldn't process this post because it was:  nan\n",
      "We couldn't process this post because it was:  nan\n",
      "We couldn't process this post because it was:  nan\n"
     ]
    },
    {
     "name": "stderr",
     "output_type": "stream",
     "text": [
      "\r",
      " 26%|██▌       | 191/732 [01:27<04:49,  1.87it/s]"
     ]
    },
    {
     "name": "stdout",
     "output_type": "stream",
     "text": [
      "We couldn't process this post because it was:  nan\n",
      "We couldn't process this post because it was:  nan\n",
      "We couldn't process this post because it was:  nan\n",
      "We couldn't process this post because it was:  nan\n",
      "We couldn't process this post because it was:  nan\n",
      "We couldn't process this post because it was:  nan\n",
      "We couldn't process this post because it was:  nan\n",
      "We couldn't process this post because it was:  nan\n",
      "We couldn't process this post because it was:  nan\n",
      "We couldn't process this post because it was:  nan\n",
      "We couldn't process this post because it was:  nan\n",
      "We couldn't process this post because it was:  nan\n",
      "We couldn't process this post because it was:  nan\n",
      "We couldn't process this post because it was:  nan\n",
      "We couldn't process this post because it was:  nan\n",
      "We couldn't process this post because it was:  nan\n",
      "We couldn't process this post because it was:  nan\n",
      "We couldn't process this post because it was:  nan\n"
     ]
    },
    {
     "name": "stderr",
     "output_type": "stream",
     "text": [
      "\r",
      " 26%|██▌       | 192/732 [01:27<04:19,  2.08it/s]"
     ]
    },
    {
     "name": "stdout",
     "output_type": "stream",
     "text": [
      "We couldn't process this post because it was:  nan\n",
      "We couldn't process this post because it was:  nan\n",
      "We couldn't process this post because it was:  nan\n",
      "We couldn't process this post because it was:  nan\n",
      "We couldn't process this post because it was:  nan\n",
      "We couldn't process this post because it was:  nan\n",
      "We couldn't process this post because it was:  nan\n",
      "We couldn't process this post because it was:  nan\n",
      "We couldn't process this post because it was:  nan\n",
      "We couldn't process this post because it was:  nan\n",
      "We couldn't process this post because it was:  nan\n",
      "We couldn't process this post because it was:  nan\n"
     ]
    },
    {
     "name": "stderr",
     "output_type": "stream",
     "text": [
      "\r",
      " 26%|██▋       | 193/732 [01:28<04:52,  1.84it/s]"
     ]
    },
    {
     "name": "stdout",
     "output_type": "stream",
     "text": [
      "We couldn't process this post because it was:  nan\n",
      "We couldn't process this post because it was:  nan\n",
      "We couldn't process this post because it was:  nan\n",
      "We couldn't process this post because it was:  nan\n",
      "We couldn't process this post because it was:  nan\n",
      "We couldn't process this post because it was:  nan\n",
      "We couldn't process this post because it was:  nan\n",
      "We couldn't process this post because it was:  nan\n",
      "We couldn't process this post because it was:  nan\n",
      "We couldn't process this post because it was:  nan\n"
     ]
    },
    {
     "name": "stderr",
     "output_type": "stream",
     "text": [
      "\r",
      " 27%|██▋       | 194/732 [01:28<05:08,  1.75it/s]"
     ]
    },
    {
     "name": "stdout",
     "output_type": "stream",
     "text": [
      "We couldn't process this post because it was:  nan\n",
      "We couldn't process this post because it was:  nan\n",
      "We couldn't process this post because it was:  nan\n",
      "We couldn't process this post because it was:  nan\n",
      "We couldn't process this post because it was:  nan\n",
      "We couldn't process this post because it was:  nan\n",
      "We couldn't process this post because it was:  nan\n",
      "We couldn't process this post because it was:  nan\n",
      "We couldn't process this post because it was:  nan\n",
      "We couldn't process this post because it was:  nan\n",
      "We couldn't process this post because it was:  nan\n",
      "We couldn't process this post because it was:  nan\n",
      "We couldn't process this post because it was:  nan\n",
      "We couldn't process this post because it was:  nan\n",
      "We couldn't process this post because it was:  nan\n",
      "We couldn't process this post because it was:  nan\n",
      "We couldn't process this post because it was:  nan\n",
      "We couldn't process this post because it was:  nan\n",
      "We couldn't process this post because it was:  nan\n",
      "We couldn't process this post because it was:  nan\n",
      "We couldn't process this post because it was:  nan\n",
      "We couldn't process this post because it was:  nan\n",
      "We couldn't process this post because it was:  nan\n"
     ]
    },
    {
     "name": "stderr",
     "output_type": "stream",
     "text": [
      "\r",
      " 27%|██▋       | 195/732 [01:29<05:04,  1.76it/s]"
     ]
    },
    {
     "name": "stdout",
     "output_type": "stream",
     "text": [
      "We couldn't process this post because it was:  nan\n",
      "We couldn't process this post because it was:  nan\n",
      "We couldn't process this post because it was:  nan\n",
      "We couldn't process this post because it was:  nan\n",
      "We couldn't process this post because it was:  nan\n",
      "We couldn't process this post because it was:  nan\n",
      "We couldn't process this post because it was:  nan\n",
      "We couldn't process this post because it was:  nan\n",
      "We couldn't process this post because it was:  nan\n",
      "We couldn't process this post because it was:  nan\n"
     ]
    },
    {
     "name": "stderr",
     "output_type": "stream",
     "text": [
      "\r",
      " 27%|██▋       | 196/732 [01:30<05:22,  1.66it/s]"
     ]
    },
    {
     "name": "stdout",
     "output_type": "stream",
     "text": [
      "We couldn't process this post because it was:  nan\n",
      "We couldn't process this post because it was:  nan\n",
      "We couldn't process this post because it was:  nan\n",
      "We couldn't process this post because it was:  nan\n",
      "We couldn't process this post because it was:  nan\n",
      "We couldn't process this post because it was:  nan\n",
      "We couldn't process this post because it was:  nan\n",
      "We couldn't process this post because it was:  nan\n",
      "We couldn't process this post because it was:  nan\n",
      "We couldn't process this post because it was:  nan\n",
      "We couldn't process this post because it was:  nan\n",
      "We couldn't process this post because it was:  nan\n",
      "We couldn't process this post because it was:  nan\n",
      "We couldn't process this post because it was:  nan\n",
      "We couldn't process this post because it was:  nan\n",
      "We couldn't process this post because it was:  nan\n"
     ]
    },
    {
     "name": "stderr",
     "output_type": "stream",
     "text": [
      "\r",
      " 27%|██▋       | 197/732 [01:30<05:00,  1.78it/s]"
     ]
    },
    {
     "name": "stdout",
     "output_type": "stream",
     "text": [
      "We couldn't process this post because it was:  nan\n",
      "We couldn't process this post because it was:  nan\n",
      "We couldn't process this post because it was:  nan\n",
      "We couldn't process this post because it was:  nan\n",
      "We couldn't process this post because it was:  nan\n",
      "We couldn't process this post because it was:  nan\n",
      "We couldn't process this post because it was:  nan\n",
      "We couldn't process this post because it was:  nan\n",
      "We couldn't process this post because it was:  nan\n",
      "We couldn't process this post because it was:  nan\n"
     ]
    },
    {
     "name": "stderr",
     "output_type": "stream",
     "text": [
      "\r",
      " 27%|██▋       | 198/732 [01:31<05:30,  1.62it/s]"
     ]
    },
    {
     "name": "stdout",
     "output_type": "stream",
     "text": [
      "We couldn't process this post because it was:  nan\n",
      "We couldn't process this post because it was:  nan\n",
      "We couldn't process this post because it was:  nan\n",
      "We couldn't process this post because it was:  nan\n",
      "We couldn't process this post because it was:  nan\n",
      "We couldn't process this post because it was:  nan\n",
      "We couldn't process this post because it was:  nan\n",
      "We couldn't process this post because it was:  nan\n",
      "We couldn't process this post because it was:  nan\n",
      "We couldn't process this post because it was:  nan\n",
      "We couldn't process this post because it was:  nan\n",
      "We couldn't process this post because it was:  nan\n",
      "We couldn't process this post because it was:  nan\n",
      "We couldn't process this post because it was:  nan\n",
      "We couldn't process this post because it was:  nan\n",
      "We couldn't process this post because it was:  nan\n",
      "We couldn't process this post because it was:  nan\n",
      "We couldn't process this post because it was:  nan\n",
      "We couldn't process this post because it was:  nan\n",
      "We couldn't process this post because it was:  nan\n",
      "We couldn't process this post because it was:  nan\n",
      "We couldn't process this post because it was:  nan\n"
     ]
    },
    {
     "name": "stderr",
     "output_type": "stream",
     "text": [
      "\r",
      " 27%|██▋       | 199/732 [01:31<05:18,  1.68it/s]"
     ]
    },
    {
     "name": "stdout",
     "output_type": "stream",
     "text": [
      "We couldn't process this post because it was:  nan\n",
      "We couldn't process this post because it was:  nan\n",
      "We couldn't process this post because it was:  nan\n",
      "We couldn't process this post because it was:  nan\n",
      "We couldn't process this post because it was:  nan\n",
      "We couldn't process this post because it was:  nan\n",
      "We couldn't process this post because it was:  nan\n",
      "We couldn't process this post because it was:  nan\n",
      "We couldn't process this post because it was:  nan\n",
      "We couldn't process this post because it was:  nan\n",
      "We couldn't process this post because it was:  nan\n",
      "We couldn't process this post because it was:  nan\n"
     ]
    },
    {
     "name": "stderr",
     "output_type": "stream",
     "text": [
      "\r",
      " 27%|██▋       | 200/732 [01:32<04:55,  1.80it/s]"
     ]
    },
    {
     "name": "stdout",
     "output_type": "stream",
     "text": [
      "We couldn't process this post because it was:  nan\n",
      "We couldn't process this post because it was:  nan\n",
      "We couldn't process this post because it was:  nan\n",
      "We couldn't process this post because it was:  nan\n",
      "We couldn't process this post because it was:  nan\n",
      "We couldn't process this post because it was:  nan\n",
      "We couldn't process this post because it was:  nan\n",
      "We couldn't process this post because it was:  nan\n",
      "We couldn't process this post because it was:  nan\n",
      "We couldn't process this post because it was:  nan\n"
     ]
    },
    {
     "name": "stderr",
     "output_type": "stream",
     "text": [
      "\r",
      " 27%|██▋       | 201/732 [01:33<05:51,  1.51it/s]"
     ]
    },
    {
     "name": "stdout",
     "output_type": "stream",
     "text": [
      "We couldn't process this post because it was:  nan\n",
      "We couldn't process this post because it was:  nan\n",
      "We couldn't process this post because it was:  nan\n",
      "We couldn't process this post because it was:  nan\n",
      "We couldn't process this post because it was:  nan\n",
      "We couldn't process this post because it was:  nan\n",
      "We couldn't process this post because it was:  nan\n",
      "We couldn't process this post because it was:  nan\n",
      "We couldn't process this post because it was:  nan\n",
      "We couldn't process this post because it was:  nan\n",
      "We couldn't process this post because it was:  nan\n"
     ]
    },
    {
     "name": "stderr",
     "output_type": "stream",
     "text": [
      "\r",
      " 28%|██▊       | 202/732 [01:33<05:42,  1.55it/s]"
     ]
    },
    {
     "name": "stdout",
     "output_type": "stream",
     "text": [
      "We couldn't process this post because it was:  nan\n",
      "We couldn't process this post because it was:  nan\n",
      "We couldn't process this post because it was:  nan\n",
      "We couldn't process this post because it was:  nan\n",
      "We couldn't process this post because it was:  nan\n",
      "We couldn't process this post because it was:  nan\n",
      "We couldn't process this post because it was:  nan\n",
      "We couldn't process this post because it was:  nan\n",
      "We couldn't process this post because it was:  nan\n",
      "We couldn't process this post because it was:  nan\n",
      "We couldn't process this post because it was:  nan\n",
      "We couldn't process this post because it was:  nan\n",
      "We couldn't process this post because it was:  nan\n",
      "We couldn't process this post because it was:  nan\n",
      "We couldn't process this post because it was:  nan\n",
      "We couldn't process this post because it was:  nan\n",
      "We couldn't process this post because it was:  nan\n",
      "We couldn't process this post because it was:  nan\n",
      "We couldn't process this post because it was:  nan\n",
      "We couldn't process this post because it was:  nan\n",
      "We couldn't process this post because it was:  nan\n"
     ]
    },
    {
     "name": "stderr",
     "output_type": "stream",
     "text": [
      "\r",
      " 28%|██▊       | 203/732 [01:34<06:07,  1.44it/s]"
     ]
    },
    {
     "name": "stdout",
     "output_type": "stream",
     "text": [
      "We couldn't process this post because it was:  nan\n",
      "We couldn't process this post because it was:  nan\n",
      "We couldn't process this post because it was:  nan\n",
      "We couldn't process this post because it was:  nan\n",
      "We couldn't process this post because it was:  nan\n",
      "We couldn't process this post because it was:  nan\n",
      "We couldn't process this post because it was:  nan\n",
      "We couldn't process this post because it was:  nan\n",
      "We couldn't process this post because it was:  nan\n",
      "We couldn't process this post because it was:  nan\n"
     ]
    },
    {
     "name": "stderr",
     "output_type": "stream",
     "text": [
      "\r",
      " 28%|██▊       | 204/732 [01:34<04:52,  1.81it/s]"
     ]
    },
    {
     "name": "stdout",
     "output_type": "stream",
     "text": [
      "We couldn't process this post because it was:  nan\n",
      "We couldn't process this post because it was:  nan\n",
      "We couldn't process this post because it was:  nan\n",
      "We couldn't process this post because it was:  nan\n",
      "We couldn't process this post because it was:  nan\n",
      "We couldn't process this post because it was:  nan\n",
      "We couldn't process this post because it was:  nan\n",
      "We couldn't process this post because it was:  nan\n",
      "We couldn't process this post because it was:  nan\n",
      "We couldn't process this post because it was:  nan\n",
      "We couldn't process this post because it was:  nan\n",
      "We couldn't process this post because it was:  nan\n",
      "We couldn't process this post because it was:  nan\n",
      "We couldn't process this post because it was:  nan\n",
      "We couldn't process this post because it was:  nan\n",
      "We couldn't process this post because it was:  nan\n",
      "We couldn't process this post because it was:  nan\n",
      "We couldn't process this post because it was:  nan\n",
      "We couldn't process this post because it was:  nan\n",
      "We couldn't process this post because it was:  nan\n",
      "We couldn't process this post because it was:  nan\n",
      "We couldn't process this post because it was:  nan\n",
      "We couldn't process this post because it was:  nan\n"
     ]
    },
    {
     "name": "stderr",
     "output_type": "stream",
     "text": [
      "\r",
      " 28%|██▊       | 205/732 [01:35<05:13,  1.68it/s]"
     ]
    },
    {
     "name": "stdout",
     "output_type": "stream",
     "text": [
      "We couldn't process this post because it was:  nan\n",
      "We couldn't process this post because it was:  nan\n",
      "We couldn't process this post because it was:  nan\n",
      "We couldn't process this post because it was:  nan\n",
      "We couldn't process this post because it was:  nan\n",
      "We couldn't process this post because it was:  nan\n",
      "We couldn't process this post because it was:  nan\n",
      "We couldn't process this post because it was:  nan\n",
      "We couldn't process this post because it was:  nan\n",
      "We couldn't process this post because it was:  nan\n"
     ]
    },
    {
     "name": "stderr",
     "output_type": "stream",
     "text": [
      "\r",
      " 28%|██▊       | 206/732 [01:36<05:10,  1.70it/s]"
     ]
    },
    {
     "name": "stdout",
     "output_type": "stream",
     "text": [
      "We couldn't process this post because it was:  nan\n",
      "We couldn't process this post because it was:  nan\n",
      "We couldn't process this post because it was:  nan\n",
      "We couldn't process this post because it was:  nan\n",
      "We couldn't process this post because it was:  nan\n",
      "We couldn't process this post because it was:  nan\n",
      "We couldn't process this post because it was:  nan\n",
      "We couldn't process this post because it was:  nan\n",
      "We couldn't process this post because it was:  nan\n",
      "We couldn't process this post because it was:  nan\n",
      "We couldn't process this post because it was:  nan\n",
      "We couldn't process this post because it was:  nan\n",
      "We couldn't process this post because it was:  nan\n",
      "We couldn't process this post because it was:  nan\n",
      "We couldn't process this post because it was:  nan\n",
      "We couldn't process this post because it was:  nan\n",
      "We couldn't process this post because it was:  nan\n",
      "We couldn't process this post because it was:  nan\n",
      "We couldn't process this post because it was:  nan\n",
      "We couldn't process this post because it was:  nan\n",
      "We couldn't process this post because it was:  nan\n"
     ]
    },
    {
     "name": "stderr",
     "output_type": "stream",
     "text": [
      "\r",
      " 28%|██▊       | 207/732 [01:36<04:37,  1.89it/s]"
     ]
    },
    {
     "name": "stdout",
     "output_type": "stream",
     "text": [
      "We couldn't process this post because it was:  nan\n",
      "We couldn't process this post because it was:  nan\n",
      "We couldn't process this post because it was:  nan\n",
      "We couldn't process this post because it was:  nan\n"
     ]
    },
    {
     "name": "stderr",
     "output_type": "stream",
     "text": [
      "\r",
      " 28%|██▊       | 208/732 [01:37<04:40,  1.87it/s]"
     ]
    },
    {
     "name": "stdout",
     "output_type": "stream",
     "text": [
      "We couldn't process this post because it was:  nan\n",
      "We couldn't process this post because it was:  nan\n",
      "We couldn't process this post because it was:  nan\n",
      "We couldn't process this post because it was:  nan\n",
      "We couldn't process this post because it was:  nan\n",
      "We couldn't process this post because it was:  nan\n",
      "We couldn't process this post because it was:  nan\n",
      "We couldn't process this post because it was:  nan\n",
      "We couldn't process this post because it was:  nan\n",
      "We couldn't process this post because it was:  nan\n",
      "We couldn't process this post because it was:  nan\n",
      "We couldn't process this post because it was:  nan\n",
      "We couldn't process this post because it was:  nan\n",
      "We couldn't process this post because it was:  nan\n",
      "We couldn't process this post because it was:  nan\n",
      "We couldn't process this post because it was:  nan\n",
      "We couldn't process this post because it was:  nan\n",
      "We couldn't process this post because it was:  nan\n",
      "We couldn't process this post because it was:  nan\n",
      "We couldn't process this post because it was:  nan\n",
      "We couldn't process this post because it was:  nan\n",
      "We couldn't process this post because it was:  nan\n",
      "We couldn't process this post because it was:  nan\n"
     ]
    },
    {
     "name": "stderr",
     "output_type": "stream",
     "text": [
      "\r",
      " 29%|██▊       | 209/732 [01:37<05:01,  1.74it/s]"
     ]
    },
    {
     "name": "stdout",
     "output_type": "stream",
     "text": [
      "We couldn't process this post because it was:  nan\n",
      "We couldn't process this post because it was:  nan\n",
      "We couldn't process this post because it was:  nan\n",
      "We couldn't process this post because it was:  nan\n",
      "We couldn't process this post because it was:  nan\n",
      "We couldn't process this post because it was:  nan\n",
      "We couldn't process this post because it was:  nan\n",
      "We couldn't process this post because it was:  nan\n",
      "We couldn't process this post because it was:  nan\n",
      "We couldn't process this post because it was:  nan\n",
      "We couldn't process this post because it was:  nan\n",
      "We couldn't process this post because it was:  nan\n",
      "We couldn't process this post because it was:  nan\n",
      "We couldn't process this post because it was:  nan\n",
      "We couldn't process this post because it was:  nan\n",
      "We couldn't process this post because it was:  nan\n",
      "We couldn't process this post because it was:  nan\n",
      "We couldn't process this post because it was:  nan\n",
      "We couldn't process this post because it was:  nan\n"
     ]
    },
    {
     "name": "stderr",
     "output_type": "stream",
     "text": [
      "\r",
      " 29%|██▊       | 210/732 [01:38<05:07,  1.70it/s]"
     ]
    },
    {
     "name": "stdout",
     "output_type": "stream",
     "text": [
      "We couldn't process this post because it was:  nan\n",
      "We couldn't process this post because it was:  nan\n",
      "We couldn't process this post because it was:  nan\n",
      "We couldn't process this post because it was:  nan\n",
      "We couldn't process this post because it was:  nan\n",
      "We couldn't process this post because it was:  nan\n",
      "We couldn't process this post because it was:  nan\n",
      "We couldn't process this post because it was:  nan\n",
      "We couldn't process this post because it was:  nan\n",
      "We couldn't process this post because it was:  nan\n",
      "We couldn't process this post because it was:  nan\n",
      "We couldn't process this post because it was:  nan\n",
      "We couldn't process this post because it was:  nan\n",
      "We couldn't process this post because it was:  nan\n",
      "We couldn't process this post because it was:  nan\n",
      "We couldn't process this post because it was:  nan\n",
      "We couldn't process this post because it was:  nan\n"
     ]
    },
    {
     "name": "stderr",
     "output_type": "stream",
     "text": [
      "\r",
      " 29%|██▉       | 211/732 [01:39<05:31,  1.57it/s]"
     ]
    },
    {
     "name": "stdout",
     "output_type": "stream",
     "text": [
      "We couldn't process this post because it was:  nan\n",
      "We couldn't process this post because it was:  nan\n",
      "We couldn't process this post because it was:  nan\n",
      "We couldn't process this post because it was:  nan\n",
      "We couldn't process this post because it was:  nan\n",
      "We couldn't process this post because it was:  nan\n",
      "We couldn't process this post because it was:  nan\n",
      "We couldn't process this post because it was:  nan\n",
      "We couldn't process this post because it was:  nan\n",
      "We couldn't process this post because it was:  nan\n",
      "We couldn't process this post because it was:  nan\n",
      "We couldn't process this post because it was:  nan\n",
      "We couldn't process this post because it was:  nan\n",
      "We couldn't process this post because it was:  nan\n",
      "We couldn't process this post because it was:  nan\n",
      "We couldn't process this post because it was:  nan\n",
      "We couldn't process this post because it was:  nan\n",
      "We couldn't process this post because it was:  nan\n",
      "We couldn't process this post because it was:  nan\n",
      "We couldn't process this post because it was:  nan\n",
      "We couldn't process this post because it was:  nan\n",
      "We couldn't process this post because it was:  nan\n",
      "We couldn't process this post because it was:  nan\n",
      "We couldn't process this post because it was:  nan\n"
     ]
    },
    {
     "name": "stderr",
     "output_type": "stream",
     "text": [
      "\r",
      " 29%|██▉       | 212/732 [01:39<04:48,  1.80it/s]"
     ]
    },
    {
     "name": "stdout",
     "output_type": "stream",
     "text": [
      "We couldn't process this post because it was:  nan\n",
      "We couldn't process this post because it was:  nan\n",
      "We couldn't process this post because it was:  nan\n",
      "We couldn't process this post because it was:  nan\n",
      "We couldn't process this post because it was:  nan\n",
      "We couldn't process this post because it was:  nan\n",
      "We couldn't process this post because it was:  nan\n",
      "We couldn't process this post because it was:  nan\n",
      "We couldn't process this post because it was:  nan\n",
      "We couldn't process this post because it was:  nan\n",
      "We couldn't process this post because it was:  nan\n",
      "We couldn't process this post because it was:  nan\n",
      "We couldn't process this post because it was:  nan\n",
      "We couldn't process this post because it was:  nan\n",
      "We couldn't process this post because it was:  nan\n",
      "We couldn't process this post because it was:  nan\n",
      "We couldn't process this post because it was:  nan\n",
      "We couldn't process this post because it was:  nan\n",
      "We couldn't process this post because it was:  nan\n",
      "We couldn't process this post because it was:  nan\n",
      "We couldn't process this post because it was:  nan\n",
      "We couldn't process this post because it was:  nan\n",
      "We couldn't process this post because it was:  nan\n",
      "We couldn't process this post because it was:  nan\n",
      "We couldn't process this post because it was:  nan\n",
      "We couldn't process this post because it was:  nan\n"
     ]
    },
    {
     "name": "stderr",
     "output_type": "stream",
     "text": [
      "\r",
      " 29%|██▉       | 213/732 [01:40<05:05,  1.70it/s]"
     ]
    },
    {
     "name": "stdout",
     "output_type": "stream",
     "text": [
      "We couldn't process this post because it was:  nan\n",
      "We couldn't process this post because it was:  nan\n",
      "We couldn't process this post because it was:  nan\n",
      "We couldn't process this post because it was:  nan\n",
      "We couldn't process this post because it was:  nan\n",
      "We couldn't process this post because it was:  nan\n",
      "We couldn't process this post because it was:  nan\n",
      "We couldn't process this post because it was:  nan\n",
      "We couldn't process this post because it was:  nan\n",
      "We couldn't process this post because it was:  nan\n",
      "We couldn't process this post because it was:  nan\n",
      "We couldn't process this post because it was:  nan\n",
      "We couldn't process this post because it was:  nan\n"
     ]
    },
    {
     "name": "stderr",
     "output_type": "stream",
     "text": [
      "\r",
      " 29%|██▉       | 214/732 [01:40<05:16,  1.63it/s]"
     ]
    },
    {
     "name": "stdout",
     "output_type": "stream",
     "text": [
      "We couldn't process this post because it was:  nan\n",
      "We couldn't process this post because it was:  nan\n",
      "We couldn't process this post because it was:  nan\n",
      "We couldn't process this post because it was:  nan\n",
      "We couldn't process this post because it was:  nan\n",
      "We couldn't process this post because it was:  nan\n",
      "We couldn't process this post because it was:  nan\n",
      "We couldn't process this post because it was:  nan\n",
      "We couldn't process this post because it was:  nan\n",
      "We couldn't process this post because it was:  nan\n",
      "We couldn't process this post because it was:  nan\n",
      "We couldn't process this post because it was:  nan\n",
      "We couldn't process this post because it was:  nan\n",
      "We couldn't process this post because it was:  nan\n",
      "We couldn't process this post because it was:  nan\n",
      "We couldn't process this post because it was:  nan\n"
     ]
    },
    {
     "name": "stderr",
     "output_type": "stream",
     "text": [
      "\r",
      " 29%|██▉       | 215/732 [01:41<04:48,  1.79it/s]"
     ]
    },
    {
     "name": "stdout",
     "output_type": "stream",
     "text": [
      "We couldn't process this post because it was:  nan\n",
      "We couldn't process this post because it was:  nan\n",
      "We couldn't process this post because it was:  nan\n",
      "We couldn't process this post because it was:  nan\n"
     ]
    },
    {
     "name": "stderr",
     "output_type": "stream",
     "text": [
      "\r",
      " 30%|██▉       | 216/732 [01:41<04:18,  1.99it/s]"
     ]
    },
    {
     "name": "stdout",
     "output_type": "stream",
     "text": [
      "We couldn't process this post because it was:  nan\n",
      "We couldn't process this post because it was:  nan\n",
      "We couldn't process this post because it was:  nan\n",
      "We couldn't process this post because it was:  nan\n",
      "We couldn't process this post because it was:  nan\n",
      "We couldn't process this post because it was:  nan\n",
      "We couldn't process this post because it was:  nan\n",
      "We couldn't process this post because it was:  nan\n",
      "We couldn't process this post because it was:  nan\n",
      "We couldn't process this post because it was:  nan\n",
      "We couldn't process this post because it was:  nan\n",
      "We couldn't process this post because it was:  nan\n",
      "We couldn't process this post because it was:  nan\n",
      "We couldn't process this post because it was:  nan\n",
      "We couldn't process this post because it was:  nan\n",
      "We couldn't process this post because it was:  nan\n",
      "We couldn't process this post because it was:  nan\n",
      "We couldn't process this post because it was:  nan\n",
      "We couldn't process this post because it was:  nan\n",
      "We couldn't process this post because it was:  nan\n",
      "We couldn't process this post because it was:  nan\n",
      "We couldn't process this post because it was:  nan\n",
      "We couldn't process this post because it was:  nan\n",
      "We couldn't process this post because it was:  nan\n",
      "We couldn't process this post because it was:  nan\n",
      "We couldn't process this post because it was:  nan\n",
      "We couldn't process this post because it was:  nan\n",
      "We couldn't process this post because it was:  nan\n",
      "We couldn't process this post because it was:  nan\n",
      "We couldn't process this post because it was:  nan\n",
      "We couldn't process this post because it was:  nan\n",
      "We couldn't process this post because it was:  nan\n",
      "We couldn't process this post because it was:  nan\n"
     ]
    },
    {
     "name": "stderr",
     "output_type": "stream",
     "text": [
      "\r",
      " 30%|██▉       | 217/732 [01:42<04:08,  2.07it/s]"
     ]
    },
    {
     "name": "stdout",
     "output_type": "stream",
     "text": [
      "We couldn't process this post because it was:  nan\n",
      "We couldn't process this post because it was:  nan\n",
      "We couldn't process this post because it was:  nan\n",
      "We couldn't process this post because it was:  nan\n",
      "We couldn't process this post because it was:  nan\n",
      "We couldn't process this post because it was:  nan\n",
      "We couldn't process this post because it was:  nan\n",
      "We couldn't process this post because it was:  nan\n",
      "We couldn't process this post because it was:  nan\n",
      "We couldn't process this post because it was:  nan\n",
      "We couldn't process this post because it was:  nan\n",
      "We couldn't process this post because it was:  nan\n",
      "We couldn't process this post because it was:  nan\n",
      "We couldn't process this post because it was:  nan\n",
      "We couldn't process this post because it was:  nan\n",
      "We couldn't process this post because it was:  nan\n",
      "We couldn't process this post because it was:  nan\n",
      "We couldn't process this post because it was:  nan\n",
      "We couldn't process this post because it was:  nan\n"
     ]
    },
    {
     "name": "stderr",
     "output_type": "stream",
     "text": [
      "\r",
      " 30%|██▉       | 218/732 [01:44<10:22,  1.21s/it]"
     ]
    },
    {
     "name": "stdout",
     "output_type": "stream",
     "text": [
      "We couldn't process this post because it was:  nan\n",
      "We couldn't process this post because it was:  nan\n",
      "We couldn't process this post because it was:  nan\n",
      "We couldn't process this post because it was:  nan\n",
      "We couldn't process this post because it was:  nan\n",
      "We couldn't process this post because it was:  nan\n",
      "We couldn't process this post because it was:  nan\n",
      "We couldn't process this post because it was:  nan\n",
      "We couldn't process this post because it was:  nan\n",
      "We couldn't process this post because it was:  nan\n",
      "We couldn't process this post because it was:  nan\n",
      "We couldn't process this post because it was:  nan\n",
      "We couldn't process this post because it was:  nan\n",
      "We couldn't process this post because it was:  nan\n",
      "We couldn't process this post because it was:  nan\n",
      "We couldn't process this post because it was:  nan\n"
     ]
    },
    {
     "name": "stderr",
     "output_type": "stream",
     "text": [
      "\r",
      " 30%|██▉       | 219/732 [01:45<09:48,  1.15s/it]"
     ]
    },
    {
     "name": "stdout",
     "output_type": "stream",
     "text": [
      "We couldn't process this post because it was:  nan\n",
      "We couldn't process this post because it was:  nan\n",
      "We couldn't process this post because it was:  nan\n",
      "We couldn't process this post because it was:  nan\n",
      "We couldn't process this post because it was:  nan\n",
      "We couldn't process this post because it was:  nan\n",
      "We couldn't process this post because it was:  nan\n",
      "We couldn't process this post because it was:  nan\n",
      "We couldn't process this post because it was:  nan\n",
      "We couldn't process this post because it was:  nan\n",
      "We couldn't process this post because it was:  nan\n",
      "We couldn't process this post because it was:  nan\n"
     ]
    },
    {
     "name": "stderr",
     "output_type": "stream",
     "text": [
      "\r",
      " 30%|███       | 220/732 [01:46<08:04,  1.06it/s]"
     ]
    },
    {
     "name": "stdout",
     "output_type": "stream",
     "text": [
      "We couldn't process this post because it was:  nan\n",
      "We couldn't process this post because it was:  nan\n",
      "We couldn't process this post because it was:  nan\n",
      "We couldn't process this post because it was:  nan\n",
      "We couldn't process this post because it was:  nan\n",
      "We couldn't process this post because it was:  nan\n",
      "We couldn't process this post because it was:  nan\n",
      "We couldn't process this post because it was:  nan\n",
      "We couldn't process this post because it was:  nan\n",
      "We couldn't process this post because it was:  nan\n",
      "We couldn't process this post because it was:  nan\n",
      "We couldn't process this post because it was:  nan\n",
      "We couldn't process this post because it was:  nan\n",
      "We couldn't process this post because it was:  nan\n",
      "We couldn't process this post because it was:  nan\n",
      "We couldn't process this post because it was:  nan\n",
      "We couldn't process this post because it was:  nan\n",
      "We couldn't process this post because it was:  nan\n"
     ]
    },
    {
     "name": "stderr",
     "output_type": "stream",
     "text": [
      "\r",
      " 30%|███       | 221/732 [01:46<06:38,  1.28it/s]"
     ]
    },
    {
     "name": "stdout",
     "output_type": "stream",
     "text": [
      "We couldn't process this post because it was:  nan\n",
      "We couldn't process this post because it was:  nan\n",
      "We couldn't process this post because it was:  nan\n",
      "We couldn't process this post because it was:  nan\n",
      "We couldn't process this post because it was:  nan\n",
      "We couldn't process this post because it was:  nan\n",
      "We couldn't process this post because it was:  nan\n",
      "We couldn't process this post because it was:  nan\n",
      "We couldn't process this post because it was:  nan\n",
      "We couldn't process this post because it was:  nan\n",
      "We couldn't process this post because it was:  nan\n"
     ]
    },
    {
     "name": "stderr",
     "output_type": "stream",
     "text": [
      "\r",
      " 30%|███       | 222/732 [01:47<06:06,  1.39it/s]"
     ]
    },
    {
     "name": "stdout",
     "output_type": "stream",
     "text": [
      "We couldn't process this post because it was:  nan\n",
      "We couldn't process this post because it was:  nan\n",
      "We couldn't process this post because it was:  nan\n",
      "We couldn't process this post because it was:  nan\n",
      "We couldn't process this post because it was:  nan\n",
      "We couldn't process this post because it was:  nan\n",
      "We couldn't process this post because it was:  nan\n",
      "We couldn't process this post because it was:  nan\n",
      "We couldn't process this post because it was:  nan\n",
      "We couldn't process this post because it was:  nan\n",
      "We couldn't process this post because it was:  nan\n",
      "We couldn't process this post because it was:  nan\n",
      "We couldn't process this post because it was:  nan\n",
      "We couldn't process this post because it was:  nan\n",
      "We couldn't process this post because it was:  nan\n",
      "We couldn't process this post because it was:  nan\n",
      "We couldn't process this post because it was:  nan\n",
      "We couldn't process this post because it was:  nan\n",
      "We couldn't process this post because it was:  nan\n",
      "We couldn't process this post because it was:  nan\n",
      "We couldn't process this post because it was:  nan\n",
      "We couldn't process this post because it was:  nan\n",
      "We couldn't process this post because it was:  nan\n"
     ]
    },
    {
     "name": "stderr",
     "output_type": "stream",
     "text": [
      "\r",
      " 30%|███       | 223/732 [01:47<05:21,  1.58it/s]"
     ]
    },
    {
     "name": "stdout",
     "output_type": "stream",
     "text": [
      "We couldn't process this post because it was:  nan\n",
      "We couldn't process this post because it was:  nan\n",
      "We couldn't process this post because it was:  nan\n",
      "We couldn't process this post because it was:  nan\n",
      "We couldn't process this post because it was:  nan\n",
      "We couldn't process this post because it was:  nan\n",
      "We couldn't process this post because it was:  nan\n",
      "We couldn't process this post because it was:  nan\n",
      "We couldn't process this post because it was:  nan\n",
      "We couldn't process this post because it was:  nan\n",
      "We couldn't process this post because it was:  nan\n",
      "We couldn't process this post because it was:  nan\n",
      "We couldn't process this post because it was:  nan\n"
     ]
    },
    {
     "name": "stderr",
     "output_type": "stream",
     "text": [
      "\r",
      " 31%|███       | 224/732 [01:48<04:43,  1.79it/s]"
     ]
    },
    {
     "name": "stdout",
     "output_type": "stream",
     "text": [
      "We couldn't process this post because it was:  nan\n",
      "We couldn't process this post because it was:  nan\n",
      "We couldn't process this post because it was:  nan\n",
      "We couldn't process this post because it was:  nan\n",
      "We couldn't process this post because it was:  nan\n",
      "We couldn't process this post because it was:  nan\n",
      "We couldn't process this post because it was:  nan\n",
      "We couldn't process this post because it was:  nan\n",
      "We couldn't process this post because it was:  nan\n",
      "We couldn't process this post because it was:  nan\n",
      "We couldn't process this post because it was:  nan\n",
      "We couldn't process this post because it was:  nan\n",
      "We couldn't process this post because it was:  nan\n",
      "We couldn't process this post because it was:  nan\n",
      "We couldn't process this post because it was:  nan\n",
      "We couldn't process this post because it was:  nan\n",
      "We couldn't process this post because it was:  nan\n",
      "We couldn't process this post because it was:  nan\n",
      "We couldn't process this post because it was:  nan\n",
      "We couldn't process this post because it was:  nan\n",
      "We couldn't process this post because it was:  nan\n",
      "We couldn't process this post because it was:  nan\n",
      "We couldn't process this post because it was:  nan\n",
      "We couldn't process this post because it was:  nan\n",
      "We couldn't process this post because it was:  nan\n",
      "We couldn't process this post because it was:  nan\n",
      "We couldn't process this post because it was:  nan\n",
      "We couldn't process this post because it was:  nan\n",
      "We couldn't process this post because it was:  nan\n",
      "We couldn't process this post because it was:  nan\n",
      "We couldn't process this post because it was:  nan\n",
      "We couldn't process this post because it was:  nan\n",
      "We couldn't process this post because it was:  nan\n"
     ]
    },
    {
     "name": "stderr",
     "output_type": "stream",
     "text": [
      "\r",
      " 31%|███       | 225/732 [01:48<04:57,  1.70it/s]"
     ]
    },
    {
     "name": "stdout",
     "output_type": "stream",
     "text": [
      "We couldn't process this post because it was:  nan\n",
      "We couldn't process this post because it was:  nan\n",
      "We couldn't process this post because it was:  nan\n",
      "We couldn't process this post because it was:  nan\n",
      "We couldn't process this post because it was:  nan\n",
      "We couldn't process this post because it was:  nan\n",
      "We couldn't process this post because it was:  nan\n",
      "We couldn't process this post because it was:  nan\n",
      "We couldn't process this post because it was:  nan\n",
      "We couldn't process this post because it was:  nan\n",
      "We couldn't process this post because it was:  nan\n",
      "We couldn't process this post because it was:  nan\n"
     ]
    },
    {
     "name": "stderr",
     "output_type": "stream",
     "text": [
      "\r",
      " 31%|███       | 226/732 [01:49<04:57,  1.70it/s]"
     ]
    },
    {
     "name": "stdout",
     "output_type": "stream",
     "text": [
      "We couldn't process this post because it was:  nan\n",
      "We couldn't process this post because it was:  nan\n",
      "We couldn't process this post because it was:  nan\n",
      "We couldn't process this post because it was:  nan\n",
      "We couldn't process this post because it was:  nan\n",
      "We couldn't process this post because it was:  nan\n",
      "We couldn't process this post because it was:  nan\n",
      "We couldn't process this post because it was:  nan\n",
      "We couldn't process this post because it was:  nan\n",
      "We couldn't process this post because it was:  nan\n",
      "We couldn't process this post because it was:  nan\n",
      "We couldn't process this post because it was:  nan\n",
      "We couldn't process this post because it was:  nan\n",
      "We couldn't process this post because it was:  nan\n",
      "We couldn't process this post because it was:  nan\n",
      "We couldn't process this post because it was:  nan\n",
      "We couldn't process this post because it was:  nan\n",
      "We couldn't process this post because it was:  nan\n",
      "We couldn't process this post because it was:  nan\n",
      "We couldn't process this post because it was:  nan\n",
      "We couldn't process this post because it was:  nan\n",
      "We couldn't process this post because it was:  nan\n",
      "We couldn't process this post because it was:  nan\n",
      "We couldn't process this post because it was:  nan\n",
      "We couldn't process this post because it was:  nan\n",
      "We couldn't process this post because it was:  nan\n",
      "We couldn't process this post because it was:  nan\n"
     ]
    },
    {
     "name": "stderr",
     "output_type": "stream",
     "text": [
      "\r",
      " 31%|███       | 227/732 [01:49<04:36,  1.82it/s]"
     ]
    },
    {
     "name": "stdout",
     "output_type": "stream",
     "text": [
      "We couldn't process this post because it was:  nan\n",
      "We couldn't process this post because it was:  nan\n",
      "We couldn't process this post because it was:  nan\n",
      "We couldn't process this post because it was:  nan\n",
      "We couldn't process this post because it was:  nan\n",
      "We couldn't process this post because it was:  nan\n",
      "We couldn't process this post because it was:  nan\n",
      "We couldn't process this post because it was:  nan\n"
     ]
    },
    {
     "name": "stderr",
     "output_type": "stream",
     "text": [
      "\r",
      " 31%|███       | 228/732 [01:50<05:37,  1.50it/s]"
     ]
    },
    {
     "name": "stdout",
     "output_type": "stream",
     "text": [
      "We couldn't process this post because it was:  nan\n",
      "We couldn't process this post because it was:  nan\n",
      "We couldn't process this post because it was:  nan\n",
      "We couldn't process this post because it was:  nan\n",
      "We couldn't process this post because it was:  nan\n",
      "We couldn't process this post because it was:  nan\n"
     ]
    },
    {
     "name": "stderr",
     "output_type": "stream",
     "text": [
      "\r",
      " 31%|███▏      | 229/732 [01:51<05:24,  1.55it/s]"
     ]
    },
    {
     "name": "stdout",
     "output_type": "stream",
     "text": [
      "We couldn't process this post because it was:  nan\n",
      "We couldn't process this post because it was:  nan\n",
      "We couldn't process this post because it was:  nan\n",
      "We couldn't process this post because it was:  nan\n",
      "We couldn't process this post because it was:  nan\n",
      "We couldn't process this post because it was:  nan\n",
      "We couldn't process this post because it was:  nan\n",
      "We couldn't process this post because it was:  nan\n",
      "We couldn't process this post because it was:  nan\n",
      "We couldn't process this post because it was:  nan\n",
      "We couldn't process this post because it was:  nan\n",
      "We couldn't process this post because it was:  nan\n",
      "We couldn't process this post because it was:  nan\n",
      "We couldn't process this post because it was:  nan\n",
      "We couldn't process this post because it was:  nan\n",
      "We couldn't process this post because it was:  nan\n",
      "We couldn't process this post because it was:  nan\n",
      "We couldn't process this post because it was:  nan\n",
      "We couldn't process this post because it was:  nan\n"
     ]
    },
    {
     "name": "stderr",
     "output_type": "stream",
     "text": [
      "\r",
      " 31%|███▏      | 230/732 [01:52<05:31,  1.51it/s]"
     ]
    },
    {
     "name": "stdout",
     "output_type": "stream",
     "text": [
      "We couldn't process this post because it was:  nan\n",
      "We couldn't process this post because it was:  nan\n",
      "We couldn't process this post because it was:  nan\n",
      "We couldn't process this post because it was:  nan\n",
      "We couldn't process this post because it was:  nan\n",
      "We couldn't process this post because it was:  nan\n",
      "We couldn't process this post because it was:  nan\n",
      "We couldn't process this post because it was:  nan\n",
      "We couldn't process this post because it was:  nan\n",
      "We couldn't process this post because it was:  nan\n",
      "We couldn't process this post because it was:  nan\n",
      "We couldn't process this post because it was:  nan\n",
      "We couldn't process this post because it was:  nan\n",
      "We couldn't process this post because it was:  nan\n",
      "We couldn't process this post because it was:  nan\n",
      "We couldn't process this post because it was:  nan\n",
      "We couldn't process this post because it was:  nan\n",
      "We couldn't process this post because it was:  nan\n",
      "We couldn't process this post because it was:  nan\n",
      "We couldn't process this post because it was:  nan\n"
     ]
    },
    {
     "name": "stderr",
     "output_type": "stream",
     "text": [
      "\r",
      " 32%|███▏      | 231/732 [01:52<05:33,  1.50it/s]"
     ]
    },
    {
     "name": "stdout",
     "output_type": "stream",
     "text": [
      "We couldn't process this post because it was:  nan\n",
      "We couldn't process this post because it was:  nan\n",
      "We couldn't process this post because it was:  nan\n",
      "We couldn't process this post because it was:  nan\n",
      "We couldn't process this post because it was:  nan\n",
      "We couldn't process this post because it was:  nan\n",
      "We couldn't process this post because it was:  nan\n",
      "We couldn't process this post because it was:  nan\n",
      "We couldn't process this post because it was:  nan\n"
     ]
    },
    {
     "name": "stderr",
     "output_type": "stream",
     "text": [
      "\r",
      " 32%|███▏      | 232/732 [01:53<05:36,  1.49it/s]"
     ]
    },
    {
     "name": "stdout",
     "output_type": "stream",
     "text": [
      "We couldn't process this post because it was:  nan\n",
      "We couldn't process this post because it was:  nan\n",
      "We couldn't process this post because it was:  nan\n",
      "We couldn't process this post because it was:  nan\n",
      "We couldn't process this post because it was:  nan\n",
      "We couldn't process this post because it was:  nan\n",
      "We couldn't process this post because it was:  nan\n",
      "We couldn't process this post because it was:  nan\n",
      "We couldn't process this post because it was:  nan\n",
      "We couldn't process this post because it was:  nan\n",
      "We couldn't process this post because it was:  nan\n",
      "We couldn't process this post because it was:  nan\n",
      "We couldn't process this post because it was:  nan\n",
      "We couldn't process this post because it was:  nan\n",
      "We couldn't process this post because it was:  nan\n",
      "We couldn't process this post because it was:  nan\n",
      "We couldn't process this post because it was:  nan\n"
     ]
    },
    {
     "name": "stderr",
     "output_type": "stream",
     "text": [
      "\r",
      " 32%|███▏      | 233/732 [01:54<05:21,  1.55it/s]"
     ]
    },
    {
     "name": "stdout",
     "output_type": "stream",
     "text": [
      "We couldn't process this post because it was:  nan\n",
      "We couldn't process this post because it was:  nan\n",
      "We couldn't process this post because it was:  nan\n",
      "We couldn't process this post because it was:  nan\n",
      "We couldn't process this post because it was:  nan\n",
      "We couldn't process this post because it was:  nan\n",
      "We couldn't process this post because it was:  nan\n",
      "We couldn't process this post because it was:  nan\n",
      "We couldn't process this post because it was:  nan\n",
      "We couldn't process this post because it was:  nan\n",
      "We couldn't process this post because it was:  nan\n",
      "We couldn't process this post because it was:  nan\n",
      "We couldn't process this post because it was:  nan\n",
      "We couldn't process this post because it was:  nan\n",
      "We couldn't process this post because it was:  nan\n",
      "We couldn't process this post because it was:  nan\n",
      "We couldn't process this post because it was:  nan\n",
      "We couldn't process this post because it was:  nan\n",
      "We couldn't process this post because it was:  nan\n",
      "We couldn't process this post because it was:  nan\n",
      "We couldn't process this post because it was:  nan\n",
      "We couldn't process this post because it was:  nan\n",
      "We couldn't process this post because it was:  nan\n",
      "We couldn't process this post because it was:  nan\n",
      "We couldn't process this post because it was:  nan\n",
      "We couldn't process this post because it was:  nan\n",
      "We couldn't process this post because it was:  nan\n",
      "We couldn't process this post because it was:  nan\n",
      "We couldn't process this post because it was:  nan\n",
      "We couldn't process this post because it was:  nan\n",
      "We couldn't process this post because it was:  nan\n",
      "We couldn't process this post because it was:  nan\n",
      "We couldn't process this post because it was:  nan\n",
      "We couldn't process this post because it was:  nan\n",
      "We couldn't process this post because it was:  nan\n"
     ]
    },
    {
     "name": "stderr",
     "output_type": "stream",
     "text": [
      "\r",
      " 32%|███▏      | 234/732 [01:54<05:23,  1.54it/s]"
     ]
    },
    {
     "name": "stdout",
     "output_type": "stream",
     "text": [
      "We couldn't process this post because it was:  nan\n",
      "We couldn't process this post because it was:  nan\n",
      "We couldn't process this post because it was:  nan\n",
      "We couldn't process this post because it was:  nan\n",
      "We couldn't process this post because it was:  nan\n",
      "We couldn't process this post because it was:  nan\n",
      "We couldn't process this post because it was:  nan\n",
      "We couldn't process this post because it was:  nan\n",
      "We couldn't process this post because it was:  nan\n",
      "We couldn't process this post because it was:  nan\n",
      "We couldn't process this post because it was:  nan\n",
      "We couldn't process this post because it was:  nan\n",
      "We couldn't process this post because it was:  nan\n",
      "We couldn't process this post because it was:  nan\n",
      "We couldn't process this post because it was:  nan\n",
      "We couldn't process this post because it was:  nan\n",
      "We couldn't process this post because it was:  nan\n",
      "We couldn't process this post because it was:  nan\n",
      "We couldn't process this post because it was:  nan\n",
      "We couldn't process this post because it was:  nan\n",
      "We couldn't process this post because it was:  nan\n",
      "We couldn't process this post because it was:  nan\n",
      "We couldn't process this post because it was:  nan\n",
      "We couldn't process this post because it was:  nan\n",
      "We couldn't process this post because it was:  nan\n",
      "We couldn't process this post because it was:  nan\n",
      "We couldn't process this post because it was:  nan\n",
      "We couldn't process this post because it was:  nan\n",
      "We couldn't process this post because it was:  nan\n",
      "We couldn't process this post because it was:  nan\n",
      "We couldn't process this post because it was:  nan\n"
     ]
    },
    {
     "name": "stderr",
     "output_type": "stream",
     "text": [
      "\r",
      " 32%|███▏      | 235/732 [01:55<04:58,  1.66it/s]"
     ]
    },
    {
     "name": "stdout",
     "output_type": "stream",
     "text": [
      "We couldn't process this post because it was:  nan\n",
      "We couldn't process this post because it was:  nan\n",
      "We couldn't process this post because it was:  nan\n",
      "We couldn't process this post because it was:  nan\n",
      "We couldn't process this post because it was:  nan\n",
      "We couldn't process this post because it was:  nan\n",
      "We couldn't process this post because it was:  nan\n",
      "We couldn't process this post because it was:  nan\n",
      "We couldn't process this post because it was:  nan\n",
      "We couldn't process this post because it was:  nan\n",
      "We couldn't process this post because it was:  nan\n",
      "We couldn't process this post because it was:  nan\n"
     ]
    },
    {
     "name": "stderr",
     "output_type": "stream",
     "text": [
      "\r",
      " 32%|███▏      | 236/732 [01:56<05:22,  1.54it/s]"
     ]
    },
    {
     "name": "stdout",
     "output_type": "stream",
     "text": [
      "We couldn't process this post because it was:  nan\n",
      "We couldn't process this post because it was:  nan\n",
      "We couldn't process this post because it was:  nan\n",
      "We couldn't process this post because it was:  nan\n",
      "We couldn't process this post because it was:  nan\n",
      "We couldn't process this post because it was:  nan\n",
      "We couldn't process this post because it was:  nan\n",
      "We couldn't process this post because it was:  nan\n",
      "We couldn't process this post because it was:  nan\n",
      "We couldn't process this post because it was:  nan\n",
      "We couldn't process this post because it was:  nan\n",
      "We couldn't process this post because it was:  nan\n",
      "We couldn't process this post because it was:  nan\n",
      "We couldn't process this post because it was:  nan\n",
      "We couldn't process this post because it was:  nan\n",
      "We couldn't process this post because it was:  nan\n",
      "We couldn't process this post because it was:  nan\n",
      "We couldn't process this post because it was:  nan\n",
      "We couldn't process this post because it was:  nan\n",
      "We couldn't process this post because it was:  nan\n",
      "We couldn't process this post because it was:  nan\n",
      "We couldn't process this post because it was:  nan\n",
      "We couldn't process this post because it was:  nan\n",
      "We couldn't process this post because it was:  nan\n",
      "We couldn't process this post because it was:  nan\n",
      "We couldn't process this post because it was:  nan\n",
      "We couldn't process this post because it was:  nan\n",
      "We couldn't process this post because it was:  nan\n",
      "We couldn't process this post because it was:  nan\n",
      "We couldn't process this post because it was:  nan\n",
      "We couldn't process this post because it was:  nan\n"
     ]
    },
    {
     "name": "stderr",
     "output_type": "stream",
     "text": [
      "\r",
      " 32%|███▏      | 237/732 [01:57<06:24,  1.29it/s]"
     ]
    },
    {
     "name": "stdout",
     "output_type": "stream",
     "text": [
      "We couldn't process this post because it was:  nan\n",
      "We couldn't process this post because it was:  nan\n",
      "We couldn't process this post because it was:  nan\n",
      "We couldn't process this post because it was:  nan\n",
      "We couldn't process this post because it was:  nan\n",
      "We couldn't process this post because it was:  nan\n",
      "We couldn't process this post because it was:  nan\n",
      "We couldn't process this post because it was:  nan\n",
      "We couldn't process this post because it was:  nan\n",
      "We couldn't process this post because it was:  nan\n",
      "We couldn't process this post because it was:  nan\n",
      "We couldn't process this post because it was:  nan\n",
      "We couldn't process this post because it was:  nan\n",
      "We couldn't process this post because it was:  nan\n",
      "We couldn't process this post because it was:  nan\n",
      "We couldn't process this post because it was:  nan\n",
      "We couldn't process this post because it was:  nan\n",
      "We couldn't process this post because it was:  nan\n",
      "We couldn't process this post because it was:  nan\n",
      "We couldn't process this post because it was:  nan\n",
      "We couldn't process this post because it was:  nan\n",
      "We couldn't process this post because it was:  nan\n",
      "We couldn't process this post because it was:  nan\n",
      "We couldn't process this post because it was:  nan\n",
      "We couldn't process this post because it was:  nan\n",
      "We couldn't process this post because it was:  nan\n",
      "We couldn't process this post because it was:  nan\n"
     ]
    },
    {
     "name": "stderr",
     "output_type": "stream",
     "text": [
      "\r",
      " 33%|███▎      | 238/732 [01:57<06:15,  1.32it/s]"
     ]
    },
    {
     "name": "stdout",
     "output_type": "stream",
     "text": [
      "We couldn't process this post because it was:  nan\n",
      "We couldn't process this post because it was:  nan\n",
      "We couldn't process this post because it was:  nan\n",
      "We couldn't process this post because it was:  nan\n",
      "We couldn't process this post because it was:  nan\n",
      "We couldn't process this post because it was:  nan\n",
      "We couldn't process this post because it was:  nan\n",
      "We couldn't process this post because it was:  nan\n"
     ]
    },
    {
     "name": "stderr",
     "output_type": "stream",
     "text": [
      "\r",
      " 33%|███▎      | 239/732 [01:58<06:55,  1.19it/s]"
     ]
    },
    {
     "name": "stdout",
     "output_type": "stream",
     "text": [
      "We couldn't process this post because it was:  nan\n",
      "We couldn't process this post because it was:  nan\n",
      "We couldn't process this post because it was:  nan\n",
      "We couldn't process this post because it was:  nan\n",
      "We couldn't process this post because it was:  nan\n",
      "We couldn't process this post because it was:  nan\n",
      "We couldn't process this post because it was:  nan\n",
      "We couldn't process this post because it was:  nan\n",
      "We couldn't process this post because it was:  nan\n",
      "We couldn't process this post because it was:  nan\n",
      "We couldn't process this post because it was:  nan\n",
      "We couldn't process this post because it was:  nan\n",
      "We couldn't process this post because it was:  nan\n",
      "We couldn't process this post because it was:  nan\n",
      "We couldn't process this post because it was:  nan\n",
      "We couldn't process this post because it was:  nan\n",
      "We couldn't process this post because it was:  nan\n",
      "We couldn't process this post because it was:  nan\n",
      "We couldn't process this post because it was:  nan\n",
      "We couldn't process this post because it was:  nan\n",
      "We couldn't process this post because it was:  nan\n",
      "We couldn't process this post because it was:  nan\n",
      "We couldn't process this post because it was:  nan\n",
      "We couldn't process this post because it was:  nan\n",
      "We couldn't process this post because it was:  nan\n",
      "We couldn't process this post because it was:  nan\n",
      "We couldn't process this post because it was:  nan\n",
      "We couldn't process this post because it was:  nan\n",
      "We couldn't process this post because it was:  nan\n",
      "We couldn't process this post because it was:  nan\n",
      "We couldn't process this post because it was:  nan\n",
      "We couldn't process this post because it was:  nan\n",
      "We couldn't process this post because it was:  nan\n",
      "We couldn't process this post because it was:  nan\n",
      "We couldn't process this post because it was:  nan\n",
      "We couldn't process this post because it was:  nan\n",
      "We couldn't process this post because it was:  nan\n"
     ]
    },
    {
     "name": "stderr",
     "output_type": "stream",
     "text": [
      "\r",
      " 33%|███▎      | 240/732 [01:59<07:03,  1.16it/s]"
     ]
    },
    {
     "name": "stdout",
     "output_type": "stream",
     "text": [
      "We couldn't process this post because it was:  nan\n",
      "We couldn't process this post because it was:  nan\n",
      "We couldn't process this post because it was:  nan\n",
      "We couldn't process this post because it was:  nan\n",
      "We couldn't process this post because it was:  nan\n",
      "We couldn't process this post because it was:  nan\n",
      "We couldn't process this post because it was:  nan\n",
      "We couldn't process this post because it was:  nan\n",
      "We couldn't process this post because it was:  nan\n"
     ]
    },
    {
     "name": "stderr",
     "output_type": "stream",
     "text": [
      "\r",
      " 33%|███▎      | 241/732 [02:00<07:34,  1.08it/s]"
     ]
    },
    {
     "name": "stdout",
     "output_type": "stream",
     "text": [
      "We couldn't process this post because it was:  nan\n",
      "We couldn't process this post because it was:  nan\n",
      "We couldn't process this post because it was:  nan\n",
      "We couldn't process this post because it was:  nan\n",
      "We couldn't process this post because it was:  nan\n",
      "We couldn't process this post because it was:  nan\n",
      "We couldn't process this post because it was:  nan\n",
      "We couldn't process this post because it was:  nan\n",
      "We couldn't process this post because it was:  nan\n",
      "We couldn't process this post because it was:  nan\n",
      "We couldn't process this post because it was:  nan\n",
      "We couldn't process this post because it was:  nan\n",
      "We couldn't process this post because it was:  nan\n",
      "We couldn't process this post because it was:  nan\n",
      "We couldn't process this post because it was:  nan\n",
      "We couldn't process this post because it was:  nan\n",
      "We couldn't process this post because it was:  nan\n",
      "We couldn't process this post because it was:  nan\n",
      "We couldn't process this post because it was:  nan\n",
      "We couldn't process this post because it was:  nan\n",
      "We couldn't process this post because it was:  nan\n"
     ]
    },
    {
     "name": "stderr",
     "output_type": "stream",
     "text": [
      "\r",
      " 33%|███▎      | 242/732 [02:01<06:43,  1.22it/s]"
     ]
    },
    {
     "name": "stdout",
     "output_type": "stream",
     "text": [
      "We couldn't process this post because it was:  nan\n",
      "We couldn't process this post because it was:  nan\n",
      "We couldn't process this post because it was:  nan\n",
      "We couldn't process this post because it was:  nan\n",
      "We couldn't process this post because it was:  nan\n",
      "We couldn't process this post because it was:  nan\n",
      "We couldn't process this post because it was:  nan\n",
      "We couldn't process this post because it was:  nan\n",
      "We couldn't process this post because it was:  nan\n",
      "We couldn't process this post because it was:  nan\n",
      "We couldn't process this post because it was:  nan\n",
      "We couldn't process this post because it was:  nan\n"
     ]
    },
    {
     "name": "stderr",
     "output_type": "stream",
     "text": [
      "\r",
      " 33%|███▎      | 243/732 [02:02<06:32,  1.25it/s]"
     ]
    },
    {
     "name": "stdout",
     "output_type": "stream",
     "text": [
      "We couldn't process this post because it was:  nan\n",
      "We couldn't process this post because it was:  nan\n",
      "We couldn't process this post because it was:  nan\n",
      "We couldn't process this post because it was:  nan\n",
      "We couldn't process this post because it was:  nan\n",
      "We couldn't process this post because it was:  nan\n",
      "We couldn't process this post because it was:  nan\n",
      "We couldn't process this post because it was:  nan\n",
      "We couldn't process this post because it was:  nan\n",
      "We couldn't process this post because it was:  nan\n",
      "We couldn't process this post because it was:  nan\n",
      "We couldn't process this post because it was:  nan\n",
      "We couldn't process this post because it was:  nan\n"
     ]
    },
    {
     "name": "stderr",
     "output_type": "stream",
     "text": [
      "\r",
      " 33%|███▎      | 244/732 [02:02<05:53,  1.38it/s]"
     ]
    },
    {
     "name": "stdout",
     "output_type": "stream",
     "text": [
      "We couldn't process this post because it was:  nan\n",
      "We couldn't process this post because it was:  nan\n",
      "We couldn't process this post because it was:  nan\n",
      "We couldn't process this post because it was:  nan\n",
      "We couldn't process this post because it was:  nan\n",
      "We couldn't process this post because it was:  nan\n",
      "We couldn't process this post because it was:  nan\n",
      "We couldn't process this post because it was:  nan\n",
      "We couldn't process this post because it was:  nan\n",
      "We couldn't process this post because it was:  nan\n",
      "We couldn't process this post because it was:  nan\n",
      "We couldn't process this post because it was:  nan\n",
      "We couldn't process this post because it was:  nan\n",
      "We couldn't process this post because it was:  nan\n",
      "We couldn't process this post because it was:  nan\n"
     ]
    },
    {
     "name": "stderr",
     "output_type": "stream",
     "text": [
      "\r",
      " 33%|███▎      | 245/732 [02:03<05:11,  1.56it/s]"
     ]
    },
    {
     "name": "stdout",
     "output_type": "stream",
     "text": [
      "We couldn't process this post because it was:  nan\n",
      "We couldn't process this post because it was:  nan\n",
      "We couldn't process this post because it was:  nan\n",
      "We couldn't process this post because it was:  nan\n",
      "We couldn't process this post because it was:  nan\n",
      "We couldn't process this post because it was:  nan\n",
      "We couldn't process this post because it was:  nan\n",
      "We couldn't process this post because it was:  nan\n",
      "We couldn't process this post because it was:  nan\n",
      "We couldn't process this post because it was:  nan\n",
      "We couldn't process this post because it was:  nan\n",
      "We couldn't process this post because it was:  nan\n",
      "We couldn't process this post because it was:  nan\n",
      "We couldn't process this post because it was:  nan\n",
      "We couldn't process this post because it was:  nan\n",
      "We couldn't process this post because it was:  nan\n",
      "We couldn't process this post because it was:  nan\n",
      "We couldn't process this post because it was:  nan\n",
      "We couldn't process this post because it was:  nan\n",
      "We couldn't process this post because it was:  nan\n",
      "We couldn't process this post because it was:  nan\n",
      "We couldn't process this post because it was:  nan\n",
      "We couldn't process this post because it was:  nan\n",
      "We couldn't process this post because it was:  nan\n",
      "We couldn't process this post because it was:  nan\n",
      "We couldn't process this post because it was:  nan\n",
      "We couldn't process this post because it was:  nan\n",
      "We couldn't process this post because it was:  nan\n"
     ]
    },
    {
     "name": "stderr",
     "output_type": "stream",
     "text": [
      "\r",
      " 34%|███▎      | 246/732 [02:03<05:12,  1.55it/s]"
     ]
    },
    {
     "name": "stdout",
     "output_type": "stream",
     "text": [
      "We couldn't process this post because it was:  nan\n",
      "We couldn't process this post because it was:  nan\n",
      "We couldn't process this post because it was:  nan\n",
      "We couldn't process this post because it was:  nan\n",
      "We couldn't process this post because it was:  nan\n",
      "We couldn't process this post because it was:  nan\n",
      "We couldn't process this post because it was:  nan\n",
      "We couldn't process this post because it was:  nan\n",
      "We couldn't process this post because it was:  nan\n",
      "We couldn't process this post because it was:  nan\n",
      "We couldn't process this post because it was:  nan\n",
      "We couldn't process this post because it was:  nan\n",
      "We couldn't process this post because it was:  nan\n",
      "We couldn't process this post because it was:  nan\n",
      "We couldn't process this post because it was:  nan\n",
      "We couldn't process this post because it was:  nan\n",
      "We couldn't process this post because it was:  nan\n",
      "We couldn't process this post because it was:  nan\n",
      "We couldn't process this post because it was:  nan\n",
      "We couldn't process this post because it was:  nan\n",
      "We couldn't process this post because it was:  nan\n",
      "We couldn't process this post because it was:  nan\n"
     ]
    },
    {
     "name": "stderr",
     "output_type": "stream",
     "text": [
      "\r",
      " 34%|███▎      | 247/732 [02:04<05:03,  1.60it/s]"
     ]
    },
    {
     "name": "stdout",
     "output_type": "stream",
     "text": [
      "We couldn't process this post because it was:  nan\n",
      "We couldn't process this post because it was:  nan\n",
      "We couldn't process this post because it was:  nan\n",
      "We couldn't process this post because it was:  nan\n",
      "We couldn't process this post because it was:  nan\n",
      "We couldn't process this post because it was:  nan\n",
      "We couldn't process this post because it was:  nan\n",
      "We couldn't process this post because it was:  nan\n",
      "We couldn't process this post because it was:  nan\n",
      "We couldn't process this post because it was:  nan\n",
      "We couldn't process this post because it was:  nan\n",
      "We couldn't process this post because it was:  nan\n",
      "We couldn't process this post because it was:  nan\n",
      "We couldn't process this post because it was:  nan\n",
      "We couldn't process this post because it was:  nan\n",
      "We couldn't process this post because it was:  nan\n",
      "We couldn't process this post because it was:  nan\n",
      "We couldn't process this post because it was:  nan\n",
      "We couldn't process this post because it was:  nan\n",
      "We couldn't process this post because it was:  nan\n",
      "We couldn't process this post because it was:  nan\n",
      "We couldn't process this post because it was:  nan\n",
      "We couldn't process this post because it was:  nan\n",
      "We couldn't process this post because it was:  nan\n",
      "We couldn't process this post because it was:  nan\n",
      "We couldn't process this post because it was:  nan\n"
     ]
    },
    {
     "name": "stderr",
     "output_type": "stream",
     "text": [
      "\r",
      " 34%|███▍      | 248/732 [02:05<06:24,  1.26it/s]"
     ]
    },
    {
     "name": "stdout",
     "output_type": "stream",
     "text": [
      "We couldn't process this post because it was:  nan\n",
      "We couldn't process this post because it was:  nan\n",
      "We couldn't process this post because it was:  nan\n",
      "We couldn't process this post because it was:  nan\n",
      "We couldn't process this post because it was:  nan\n",
      "We couldn't process this post because it was:  nan\n",
      "We couldn't process this post because it was:  nan\n",
      "We couldn't process this post because it was:  nan\n",
      "We couldn't process this post because it was:  nan\n",
      "We couldn't process this post because it was:  nan\n",
      "We couldn't process this post because it was:  nan\n",
      "We couldn't process this post because it was:  nan\n",
      "We couldn't process this post because it was:  nan\n"
     ]
    },
    {
     "name": "stderr",
     "output_type": "stream",
     "text": [
      "\r",
      " 34%|███▍      | 249/732 [02:05<05:27,  1.48it/s]"
     ]
    },
    {
     "name": "stdout",
     "output_type": "stream",
     "text": [
      "We couldn't process this post because it was:  nan\n",
      "We couldn't process this post because it was:  nan\n",
      "We couldn't process this post because it was:  nan\n",
      "We couldn't process this post because it was:  nan\n",
      "We couldn't process this post because it was:  nan\n",
      "We couldn't process this post because it was:  nan\n",
      "We couldn't process this post because it was:  nan\n",
      "We couldn't process this post because it was:  nan\n",
      "We couldn't process this post because it was:  nan\n",
      "We couldn't process this post because it was:  nan\n",
      "We couldn't process this post because it was:  nan\n",
      "We couldn't process this post because it was:  nan\n",
      "We couldn't process this post because it was:  nan\n",
      "We couldn't process this post because it was:  nan\n",
      "We couldn't process this post because it was:  nan\n",
      "We couldn't process this post because it was:  nan\n",
      "We couldn't process this post because it was:  nan\n"
     ]
    },
    {
     "name": "stderr",
     "output_type": "stream",
     "text": [
      "\r",
      " 34%|███▍      | 250/732 [02:07<06:49,  1.18it/s]"
     ]
    },
    {
     "name": "stdout",
     "output_type": "stream",
     "text": [
      "We couldn't process this post because it was:  nan\n",
      "We couldn't process this post because it was:  nan\n",
      "We couldn't process this post because it was:  nan\n",
      "We couldn't process this post because it was:  nan\n",
      "We couldn't process this post because it was:  nan\n",
      "We couldn't process this post because it was:  nan\n",
      "We couldn't process this post because it was:  nan\n",
      "We couldn't process this post because it was:  nan\n",
      "We couldn't process this post because it was:  nan\n",
      "We couldn't process this post because it was:  nan\n",
      "We couldn't process this post because it was:  nan\n",
      "We couldn't process this post because it was:  nan\n",
      "We couldn't process this post because it was:  nan\n",
      "We couldn't process this post because it was:  nan\n",
      "We couldn't process this post because it was:  nan\n"
     ]
    },
    {
     "name": "stderr",
     "output_type": "stream",
     "text": [
      "\r",
      " 34%|███▍      | 251/732 [02:07<05:41,  1.41it/s]"
     ]
    },
    {
     "name": "stdout",
     "output_type": "stream",
     "text": [
      "We couldn't process this post because it was:  nan\n",
      "We couldn't process this post because it was:  nan\n",
      "We couldn't process this post because it was:  nan\n",
      "We couldn't process this post because it was:  nan\n",
      "We couldn't process this post because it was:  nan\n",
      "We couldn't process this post because it was:  nan\n",
      "We couldn't process this post because it was:  nan\n",
      "We couldn't process this post because it was:  nan\n",
      "We couldn't process this post because it was:  nan\n",
      "We couldn't process this post because it was:  nan\n",
      "We couldn't process this post because it was:  nan\n",
      "We couldn't process this post because it was:  nan\n",
      "We couldn't process this post because it was:  nan\n",
      "We couldn't process this post because it was:  nan\n",
      "We couldn't process this post because it was:  nan\n",
      "We couldn't process this post because it was:  nan\n",
      "We couldn't process this post because it was:  nan\n",
      "We couldn't process this post because it was:  nan\n",
      "We couldn't process this post because it was:  nan\n",
      "We couldn't process this post because it was:  nan\n",
      "We couldn't process this post because it was:  nan\n",
      "We couldn't process this post because it was:  nan\n",
      "We couldn't process this post because it was:  nan\n",
      "We couldn't process this post because it was:  nan\n",
      "We couldn't process this post because it was:  nan\n"
     ]
    },
    {
     "name": "stderr",
     "output_type": "stream",
     "text": [
      "\r",
      " 34%|███▍      | 252/732 [02:08<06:04,  1.32it/s]"
     ]
    },
    {
     "name": "stdout",
     "output_type": "stream",
     "text": [
      "We couldn't process this post because it was:  nan\n",
      "We couldn't process this post because it was:  nan\n",
      "We couldn't process this post because it was:  nan\n",
      "We couldn't process this post because it was:  nan\n",
      "We couldn't process this post because it was:  nan\n",
      "We couldn't process this post because it was:  nan\n",
      "We couldn't process this post because it was:  nan\n",
      "We couldn't process this post because it was:  nan\n",
      "We couldn't process this post because it was:  nan\n",
      "We couldn't process this post because it was:  nan\n",
      "We couldn't process this post because it was:  nan\n",
      "We couldn't process this post because it was:  nan\n",
      "We couldn't process this post because it was:  nan\n",
      "We couldn't process this post because it was:  nan\n",
      "We couldn't process this post because it was:  nan\n",
      "We couldn't process this post because it was:  nan\n",
      "We couldn't process this post because it was:  nan\n"
     ]
    },
    {
     "name": "stderr",
     "output_type": "stream",
     "text": [
      "\r",
      " 35%|███▍      | 253/732 [02:08<05:19,  1.50it/s]"
     ]
    },
    {
     "name": "stdout",
     "output_type": "stream",
     "text": [
      "We couldn't process this post because it was:  nan\n",
      "We couldn't process this post because it was:  nan\n",
      "We couldn't process this post because it was:  nan\n",
      "We couldn't process this post because it was:  nan\n",
      "We couldn't process this post because it was:  nan\n",
      "We couldn't process this post because it was:  nan\n",
      "We couldn't process this post because it was:  nan\n",
      "We couldn't process this post because it was:  nan\n",
      "We couldn't process this post because it was:  nan\n",
      "We couldn't process this post because it was:  nan\n",
      "We couldn't process this post because it was:  nan\n",
      "We couldn't process this post because it was:  nan\n"
     ]
    },
    {
     "name": "stderr",
     "output_type": "stream",
     "text": [
      "\r",
      " 35%|███▍      | 254/732 [02:09<05:24,  1.47it/s]"
     ]
    },
    {
     "name": "stdout",
     "output_type": "stream",
     "text": [
      "We couldn't process this post because it was:  nan\n",
      "We couldn't process this post because it was:  nan\n",
      "We couldn't process this post because it was:  nan\n",
      "We couldn't process this post because it was:  nan\n",
      "We couldn't process this post because it was:  nan\n",
      "We couldn't process this post because it was:  nan\n",
      "We couldn't process this post because it was:  nan\n",
      "We couldn't process this post because it was:  nan\n",
      "We couldn't process this post because it was:  nan\n",
      "We couldn't process this post because it was:  nan\n",
      "We couldn't process this post because it was:  nan\n",
      "We couldn't process this post because it was:  nan\n",
      "We couldn't process this post because it was:  nan\n",
      "We couldn't process this post because it was:  nan\n",
      "We couldn't process this post because it was:  nan\n",
      "We couldn't process this post because it was:  nan\n",
      "We couldn't process this post because it was:  nan\n",
      "We couldn't process this post because it was:  nan\n",
      "We couldn't process this post because it was:  nan\n",
      "We couldn't process this post because it was:  nan\n",
      "We couldn't process this post because it was:  nan\n",
      "We couldn't process this post because it was:  nan\n",
      "We couldn't process this post because it was:  nan\n",
      "We couldn't process this post because it was:  nan\n",
      "We couldn't process this post because it was:  nan\n",
      "We couldn't process this post because it was:  nan\n",
      "We couldn't process this post because it was:  nan\n",
      "We couldn't process this post because it was:  nan\n",
      "We couldn't process this post because it was:  nan\n"
     ]
    },
    {
     "name": "stderr",
     "output_type": "stream",
     "text": [
      "\r",
      " 35%|███▍      | 255/732 [02:10<06:10,  1.29it/s]"
     ]
    },
    {
     "name": "stdout",
     "output_type": "stream",
     "text": [
      "We couldn't process this post because it was:  nan\n",
      "We couldn't process this post because it was:  nan\n",
      "We couldn't process this post because it was:  nan\n",
      "We couldn't process this post because it was:  nan\n",
      "We couldn't process this post because it was:  nan\n",
      "We couldn't process this post because it was:  nan\n",
      "We couldn't process this post because it was:  nan\n",
      "We couldn't process this post because it was:  nan\n",
      "We couldn't process this post because it was:  nan\n",
      "We couldn't process this post because it was:  nan\n",
      "We couldn't process this post because it was:  nan\n",
      "We couldn't process this post because it was:  nan\n",
      "We couldn't process this post because it was:  nan\n",
      "We couldn't process this post because it was:  nan\n",
      "We couldn't process this post because it was:  nan\n",
      "We couldn't process this post because it was:  nan\n",
      "We couldn't process this post because it was:  nan\n",
      "We couldn't process this post because it was:  nan\n",
      "We couldn't process this post because it was:  nan\n",
      "We couldn't process this post because it was:  nan\n",
      "We couldn't process this post because it was:  nan\n",
      "We couldn't process this post because it was:  nan\n"
     ]
    },
    {
     "name": "stderr",
     "output_type": "stream",
     "text": [
      "\r",
      " 35%|███▍      | 256/732 [02:11<06:21,  1.25it/s]"
     ]
    },
    {
     "name": "stdout",
     "output_type": "stream",
     "text": [
      "We couldn't process this post because it was:  nan\n",
      "We couldn't process this post because it was:  nan\n",
      "We couldn't process this post because it was:  nan\n",
      "We couldn't process this post because it was:  nan\n",
      "We couldn't process this post because it was:  nan\n",
      "We couldn't process this post because it was:  nan\n",
      "We couldn't process this post because it was:  nan\n",
      "We couldn't process this post because it was:  nan\n",
      "We couldn't process this post because it was:  nan\n",
      "We couldn't process this post because it was:  nan\n",
      "We couldn't process this post because it was:  nan\n",
      "We couldn't process this post because it was:  nan\n",
      "We couldn't process this post because it was:  nan\n",
      "We couldn't process this post because it was:  nan\n",
      "We couldn't process this post because it was:  nan\n",
      "We couldn't process this post because it was:  nan\n"
     ]
    },
    {
     "name": "stderr",
     "output_type": "stream",
     "text": [
      "\r",
      " 35%|███▌      | 257/732 [02:12<06:27,  1.23it/s]"
     ]
    },
    {
     "name": "stdout",
     "output_type": "stream",
     "text": [
      "We couldn't process this post because it was:  nan\n",
      "We couldn't process this post because it was:  nan\n",
      "We couldn't process this post because it was:  nan\n",
      "We couldn't process this post because it was:  nan\n",
      "We couldn't process this post because it was:  nan\n",
      "We couldn't process this post because it was:  nan\n",
      "We couldn't process this post because it was:  nan\n",
      "We couldn't process this post because it was:  nan\n",
      "We couldn't process this post because it was:  nan\n",
      "We couldn't process this post because it was:  nan\n",
      "We couldn't process this post because it was:  nan\n",
      "We couldn't process this post because it was:  nan\n",
      "We couldn't process this post because it was:  nan\n"
     ]
    },
    {
     "name": "stderr",
     "output_type": "stream",
     "text": [
      "\r",
      " 35%|███▌      | 258/732 [02:13<06:18,  1.25it/s]"
     ]
    },
    {
     "name": "stdout",
     "output_type": "stream",
     "text": [
      "We couldn't process this post because it was:  nan\n",
      "We couldn't process this post because it was:  nan\n",
      "We couldn't process this post because it was:  nan\n",
      "We couldn't process this post because it was:  nan\n",
      "We couldn't process this post because it was:  nan\n"
     ]
    },
    {
     "name": "stderr",
     "output_type": "stream",
     "text": [
      "\r",
      " 35%|███▌      | 259/732 [02:14<07:28,  1.06it/s]"
     ]
    },
    {
     "name": "stdout",
     "output_type": "stream",
     "text": [
      "We couldn't process this post because it was:  nan\n",
      "We couldn't process this post because it was:  nan\n",
      "We couldn't process this post because it was:  nan\n"
     ]
    },
    {
     "name": "stderr",
     "output_type": "stream",
     "text": [
      "\r",
      " 36%|███▌      | 260/732 [02:15<07:30,  1.05it/s]"
     ]
    },
    {
     "name": "stdout",
     "output_type": "stream",
     "text": [
      "We couldn't process this post because it was:  nan\n"
     ]
    },
    {
     "name": "stderr",
     "output_type": "stream",
     "text": [
      "\r",
      " 36%|███▌      | 261/732 [02:15<06:35,  1.19it/s]"
     ]
    },
    {
     "name": "stdout",
     "output_type": "stream",
     "text": [
      "We couldn't process this post because it was:  nan\n",
      "We couldn't process this post because it was:  nan\n",
      "We couldn't process this post because it was:  nan\n"
     ]
    },
    {
     "name": "stderr",
     "output_type": "stream",
     "text": [
      "\r",
      " 36%|███▌      | 262/732 [02:17<07:19,  1.07it/s]"
     ]
    },
    {
     "name": "stdout",
     "output_type": "stream",
     "text": [
      "We couldn't process this post because it was:  nan\n",
      "We couldn't process this post because it was:  nan\n"
     ]
    },
    {
     "name": "stderr",
     "output_type": "stream",
     "text": [
      "\r",
      " 36%|███▌      | 263/732 [02:17<07:07,  1.10it/s]"
     ]
    },
    {
     "name": "stdout",
     "output_type": "stream",
     "text": [
      "We couldn't process this post because it was:  nan\n",
      "We couldn't process this post because it was:  nan\n",
      "We couldn't process this post because it was:  nan\n",
      "We couldn't process this post because it was:  nan\n",
      "We couldn't process this post because it was:  nan\n",
      "We couldn't process this post because it was:  nan\n",
      "We couldn't process this post because it was:  nan\n"
     ]
    },
    {
     "name": "stderr",
     "output_type": "stream",
     "text": [
      "\r",
      " 36%|███▌      | 264/732 [02:21<13:46,  1.77s/it]"
     ]
    },
    {
     "name": "stdout",
     "output_type": "stream",
     "text": [
      "We couldn't process this post because it was:  nan\n",
      "We couldn't process this post because it was:  nan\n",
      "We couldn't process this post because it was:  nan\n",
      "We couldn't process this post because it was:  nan\n",
      "We couldn't process this post because it was:  nan\n",
      "We couldn't process this post because it was:  nan\n"
     ]
    },
    {
     "name": "stderr",
     "output_type": "stream",
     "text": [
      "\r",
      " 36%|███▌      | 265/732 [02:22<11:45,  1.51s/it]"
     ]
    },
    {
     "name": "stdout",
     "output_type": "stream",
     "text": [
      "We couldn't process this post because it was:  nan\n",
      "We couldn't process this post because it was:  nan\n",
      "We couldn't process this post because it was:  nan\n"
     ]
    },
    {
     "name": "stderr",
     "output_type": "stream",
     "text": [
      "\r",
      " 36%|███▋      | 266/732 [02:23<10:35,  1.36s/it]"
     ]
    },
    {
     "name": "stdout",
     "output_type": "stream",
     "text": [
      "We couldn't process this post because it was:  nan\n"
     ]
    },
    {
     "name": "stderr",
     "output_type": "stream",
     "text": [
      "\r",
      " 36%|███▋      | 267/732 [02:24<09:30,  1.23s/it]"
     ]
    },
    {
     "name": "stdout",
     "output_type": "stream",
     "text": [
      "We couldn't process this post because it was:  nan\n",
      "We couldn't process this post because it was:  nan\n",
      "We couldn't process this post because it was:  nan\n",
      "We couldn't process this post because it was:  nan\n",
      "We couldn't process this post because it was:  nan\n",
      "We couldn't process this post because it was:  nan\n"
     ]
    },
    {
     "name": "stderr",
     "output_type": "stream",
     "text": [
      "\r",
      " 37%|███▋      | 268/732 [02:25<09:17,  1.20s/it]"
     ]
    },
    {
     "name": "stdout",
     "output_type": "stream",
     "text": [
      "We couldn't process this post because it was:  nan\n"
     ]
    },
    {
     "name": "stderr",
     "output_type": "stream",
     "text": [
      "\r",
      " 37%|███▋      | 269/732 [02:26<07:56,  1.03s/it]"
     ]
    },
    {
     "name": "stdout",
     "output_type": "stream",
     "text": [
      "We couldn't process this post because it was:  nan\n",
      "We couldn't process this post because it was:  nan\n"
     ]
    },
    {
     "name": "stderr",
     "output_type": "stream",
     "text": [
      " 37%|███▋      | 271/732 [02:28<07:49,  1.02s/it]"
     ]
    },
    {
     "name": "stdout",
     "output_type": "stream",
     "text": [
      "We couldn't process this post because it was:  nan\n",
      "We couldn't process this post because it was:  nan\n",
      "We couldn't process this post because it was:  nan\n",
      "We couldn't process this post because it was:  nan\n",
      "We couldn't process this post because it was:  nan\n",
      "We couldn't process this post because it was:  nan\n"
     ]
    },
    {
     "name": "stderr",
     "output_type": "stream",
     "text": [
      "\r",
      " 37%|███▋      | 272/732 [02:29<07:09,  1.07it/s]"
     ]
    },
    {
     "name": "stdout",
     "output_type": "stream",
     "text": [
      "We couldn't process this post because it was:  nan\n"
     ]
    },
    {
     "name": "stderr",
     "output_type": "stream",
     "text": [
      "\r",
      " 37%|███▋      | 273/732 [02:30<07:18,  1.05it/s]"
     ]
    },
    {
     "name": "stdout",
     "output_type": "stream",
     "text": [
      "We couldn't process this post because it was:  nan\n"
     ]
    },
    {
     "name": "stderr",
     "output_type": "stream",
     "text": [
      "\r",
      " 37%|███▋      | 274/732 [02:31<07:37,  1.00it/s]"
     ]
    },
    {
     "name": "stdout",
     "output_type": "stream",
     "text": [
      "We couldn't process this post because it was:  nan\n",
      "We couldn't process this post because it was:  nan\n",
      "We couldn't process this post because it was:  nan\n"
     ]
    },
    {
     "name": "stderr",
     "output_type": "stream",
     "text": [
      "\r",
      " 38%|███▊      | 275/732 [02:32<07:48,  1.03s/it]"
     ]
    },
    {
     "name": "stdout",
     "output_type": "stream",
     "text": [
      "We couldn't process this post because it was:  nan\n",
      "We couldn't process this post because it was:  nan\n",
      "We couldn't process this post because it was:  nan\n",
      "We couldn't process this post because it was:  nan\n"
     ]
    },
    {
     "name": "stderr",
     "output_type": "stream",
     "text": [
      "\r",
      " 38%|███▊      | 276/732 [02:33<08:04,  1.06s/it]"
     ]
    },
    {
     "name": "stdout",
     "output_type": "stream",
     "text": [
      "We couldn't process this post because it was:  nan\n"
     ]
    },
    {
     "name": "stderr",
     "output_type": "stream",
     "text": [
      "\r",
      " 38%|███▊      | 277/732 [02:34<08:52,  1.17s/it]"
     ]
    },
    {
     "name": "stdout",
     "output_type": "stream",
     "text": [
      "We couldn't process this post because it was:  nan\n",
      "We couldn't process this post because it was:  nan\n",
      "We couldn't process this post because it was:  nan\n"
     ]
    },
    {
     "name": "stderr",
     "output_type": "stream",
     "text": [
      "\r",
      " 38%|███▊      | 278/732 [02:35<07:36,  1.01s/it]"
     ]
    },
    {
     "name": "stdout",
     "output_type": "stream",
     "text": [
      "We couldn't process this post because it was:  nan\n",
      "We couldn't process this post because it was:  nan\n"
     ]
    },
    {
     "name": "stderr",
     "output_type": "stream",
     "text": [
      "\r",
      " 38%|███▊      | 279/732 [02:36<06:50,  1.10it/s]"
     ]
    },
    {
     "name": "stdout",
     "output_type": "stream",
     "text": [
      "We couldn't process this post because it was:  nan\n"
     ]
    },
    {
     "name": "stderr",
     "output_type": "stream",
     "text": [
      "\r",
      " 38%|███▊      | 280/732 [02:37<07:02,  1.07it/s]"
     ]
    },
    {
     "name": "stdout",
     "output_type": "stream",
     "text": [
      "We couldn't process this post because it was:  nan\n"
     ]
    },
    {
     "name": "stderr",
     "output_type": "stream",
     "text": [
      "\r",
      " 38%|███▊      | 281/732 [02:38<06:35,  1.14it/s]"
     ]
    },
    {
     "name": "stdout",
     "output_type": "stream",
     "text": [
      "We couldn't process this post because it was:  nan\n"
     ]
    },
    {
     "name": "stderr",
     "output_type": "stream",
     "text": [
      "\r",
      " 39%|███▊      | 282/732 [02:38<06:45,  1.11it/s]"
     ]
    },
    {
     "name": "stdout",
     "output_type": "stream",
     "text": [
      "We couldn't process this post because it was:  nan\n",
      "We couldn't process this post because it was:  nan\n",
      "We couldn't process this post because it was:  nan\n"
     ]
    },
    {
     "name": "stderr",
     "output_type": "stream",
     "text": [
      "\r",
      " 39%|███▊      | 283/732 [02:39<06:29,  1.15it/s]"
     ]
    },
    {
     "name": "stdout",
     "output_type": "stream",
     "text": [
      "We couldn't process this post because it was:  nan\n",
      "We couldn't process this post because it was:  nan\n",
      "We couldn't process this post because it was:  nan\n"
     ]
    },
    {
     "name": "stderr",
     "output_type": "stream",
     "text": [
      "\r",
      " 39%|███▉      | 284/732 [02:40<07:08,  1.05it/s]"
     ]
    },
    {
     "name": "stdout",
     "output_type": "stream",
     "text": [
      "We couldn't process this post because it was:  nan\n",
      "We couldn't process this post because it was:  nan\n"
     ]
    },
    {
     "name": "stderr",
     "output_type": "stream",
     "text": [
      "\r",
      " 39%|███▉      | 285/732 [02:43<10:01,  1.35s/it]"
     ]
    },
    {
     "name": "stdout",
     "output_type": "stream",
     "text": [
      "We couldn't process this post because it was:  nan\n",
      "We couldn't process this post because it was:  nan\n",
      "We couldn't process this post because it was:  nan\n",
      "We couldn't process this post because it was:  nan\n",
      "We couldn't process this post because it was:  nan\n"
     ]
    },
    {
     "name": "stderr",
     "output_type": "stream",
     "text": [
      "\r",
      " 39%|███▉      | 286/732 [02:44<10:02,  1.35s/it]"
     ]
    },
    {
     "name": "stdout",
     "output_type": "stream",
     "text": [
      "We couldn't process this post because it was:  nan\n",
      "We couldn't process this post because it was:  nan\n",
      "We couldn't process this post because it was:  nan\n",
      "We couldn't process this post because it was:  nan\n",
      "We couldn't process this post because it was:  nan\n"
     ]
    },
    {
     "name": "stderr",
     "output_type": "stream",
     "text": [
      "\r",
      " 39%|███▉      | 287/732 [02:45<08:52,  1.20s/it]"
     ]
    },
    {
     "name": "stdout",
     "output_type": "stream",
     "text": [
      "We couldn't process this post because it was:  nan\n"
     ]
    },
    {
     "name": "stderr",
     "output_type": "stream",
     "text": [
      "\r",
      " 39%|███▉      | 288/732 [02:46<07:45,  1.05s/it]"
     ]
    },
    {
     "name": "stdout",
     "output_type": "stream",
     "text": [
      "We couldn't process this post because it was:  nan\n",
      "We couldn't process this post because it was:  nan\n",
      "We couldn't process this post because it was:  nan\n"
     ]
    },
    {
     "name": "stderr",
     "output_type": "stream",
     "text": [
      "\r",
      " 39%|███▉      | 289/732 [02:46<07:19,  1.01it/s]"
     ]
    },
    {
     "name": "stdout",
     "output_type": "stream",
     "text": [
      "We couldn't process this post because it was:  nan\n",
      "We couldn't process this post because it was:  nan\n",
      "We couldn't process this post because it was:  nan\n",
      "We couldn't process this post because it was:  nan\n",
      "We couldn't process this post because it was:  nan\n",
      "We couldn't process this post because it was:  nan\n",
      "We couldn't process this post because it was:  nan\n"
     ]
    },
    {
     "name": "stderr",
     "output_type": "stream",
     "text": [
      "\r",
      " 40%|███▉      | 290/732 [02:47<06:41,  1.10it/s]"
     ]
    },
    {
     "name": "stdout",
     "output_type": "stream",
     "text": [
      "We couldn't process this post because it was:  nan\n",
      "We couldn't process this post because it was:  nan\n",
      "We couldn't process this post because it was:  nan\n",
      "We couldn't process this post because it was:  nan\n",
      "We couldn't process this post because it was:  nan\n",
      "We couldn't process this post because it was:  nan\n",
      "We couldn't process this post because it was:  nan\n",
      "We couldn't process this post because it was:  nan\n",
      "We couldn't process this post because it was:  nan\n"
     ]
    },
    {
     "name": "stderr",
     "output_type": "stream",
     "text": [
      "\r",
      " 40%|███▉      | 291/732 [02:48<06:31,  1.13it/s]"
     ]
    },
    {
     "name": "stdout",
     "output_type": "stream",
     "text": [
      "We couldn't process this post because it was:  nan\n"
     ]
    },
    {
     "name": "stderr",
     "output_type": "stream",
     "text": [
      "\r",
      " 40%|███▉      | 292/732 [02:49<06:21,  1.15it/s]"
     ]
    },
    {
     "name": "stdout",
     "output_type": "stream",
     "text": [
      "We couldn't process this post because it was:  nan\n",
      "We couldn't process this post because it was:  nan\n",
      "We couldn't process this post because it was:  nan\n"
     ]
    },
    {
     "name": "stderr",
     "output_type": "stream",
     "text": [
      "\r",
      " 40%|████      | 293/732 [02:50<08:01,  1.10s/it]"
     ]
    },
    {
     "name": "stdout",
     "output_type": "stream",
     "text": [
      "We couldn't process this post because it was:  nan\n",
      "We couldn't process this post because it was:  nan\n",
      "We couldn't process this post because it was:  nan\n",
      "We couldn't process this post because it was:  nan\n"
     ]
    },
    {
     "name": "stderr",
     "output_type": "stream",
     "text": [
      "\r",
      " 40%|████      | 294/732 [02:52<08:00,  1.10s/it]"
     ]
    },
    {
     "name": "stdout",
     "output_type": "stream",
     "text": [
      "We couldn't process this post because it was:  nan\n"
     ]
    },
    {
     "name": "stderr",
     "output_type": "stream",
     "text": [
      "\r",
      " 40%|████      | 295/732 [02:53<07:53,  1.08s/it]"
     ]
    },
    {
     "name": "stdout",
     "output_type": "stream",
     "text": [
      "We couldn't process this post because it was:  nan\n",
      "We couldn't process this post because it was:  nan\n",
      "We couldn't process this post because it was:  nan\n"
     ]
    },
    {
     "name": "stderr",
     "output_type": "stream",
     "text": [
      "\r",
      " 40%|████      | 296/732 [02:54<07:36,  1.05s/it]"
     ]
    },
    {
     "name": "stdout",
     "output_type": "stream",
     "text": [
      "We couldn't process this post because it was:  nan\n",
      "We couldn't process this post because it was:  nan\n",
      "We couldn't process this post because it was:  nan\n",
      "We couldn't process this post because it was:  nan\n",
      "We couldn't process this post because it was:  nan\n",
      "We couldn't process this post because it was:  nan\n",
      "We couldn't process this post because it was:  nan\n"
     ]
    },
    {
     "name": "stderr",
     "output_type": "stream",
     "text": [
      "\r",
      " 41%|████      | 297/732 [02:54<06:55,  1.05it/s]"
     ]
    },
    {
     "name": "stdout",
     "output_type": "stream",
     "text": [
      "We couldn't process this post because it was:  nan\n",
      "We couldn't process this post because it was:  nan\n",
      "We couldn't process this post because it was:  nan\n",
      "We couldn't process this post because it was:  nan\n",
      "We couldn't process this post because it was:  nan\n"
     ]
    },
    {
     "name": "stderr",
     "output_type": "stream",
     "text": [
      "\r",
      " 41%|████      | 298/732 [02:55<05:50,  1.24it/s]"
     ]
    },
    {
     "name": "stdout",
     "output_type": "stream",
     "text": [
      "We couldn't process this post because it was:  nan\n",
      "We couldn't process this post because it was:  nan\n",
      "We couldn't process this post because it was:  nan\n"
     ]
    },
    {
     "name": "stderr",
     "output_type": "stream",
     "text": [
      "\r",
      " 41%|████      | 299/732 [02:55<05:19,  1.36it/s]"
     ]
    },
    {
     "name": "stdout",
     "output_type": "stream",
     "text": [
      "We couldn't process this post because it was:  nan\n",
      "We couldn't process this post because it was:  nan\n",
      "We couldn't process this post because it was:  nan\n",
      "We couldn't process this post because it was:  nan\n"
     ]
    },
    {
     "name": "stderr",
     "output_type": "stream",
     "text": [
      "\r",
      " 41%|████      | 300/732 [02:56<05:12,  1.38it/s]"
     ]
    },
    {
     "name": "stdout",
     "output_type": "stream",
     "text": [
      "We couldn't process this post because it was:  nan\n",
      "We couldn't process this post because it was:  nan\n",
      "We couldn't process this post because it was:  nan\n",
      "We couldn't process this post because it was:  nan\n",
      "We couldn't process this post because it was:  nan\n"
     ]
    },
    {
     "name": "stderr",
     "output_type": "stream",
     "text": [
      "\r",
      " 41%|████      | 301/732 [02:57<05:08,  1.40it/s]"
     ]
    },
    {
     "name": "stdout",
     "output_type": "stream",
     "text": [
      "We couldn't process this post because it was:  nan\n",
      "We couldn't process this post because it was:  nan\n"
     ]
    },
    {
     "name": "stderr",
     "output_type": "stream",
     "text": [
      "\r",
      " 41%|████▏     | 302/732 [02:58<05:44,  1.25it/s]"
     ]
    },
    {
     "name": "stdout",
     "output_type": "stream",
     "text": [
      "We couldn't process this post because it was:  nan\n",
      "We couldn't process this post because it was:  nan\n",
      "We couldn't process this post because it was:  nan\n",
      "We couldn't process this post because it was:  nan\n",
      "We couldn't process this post because it was:  nan\n",
      "We couldn't process this post because it was:  nan\n"
     ]
    },
    {
     "name": "stderr",
     "output_type": "stream",
     "text": [
      "\r",
      " 41%|████▏     | 303/732 [03:00<08:13,  1.15s/it]"
     ]
    },
    {
     "name": "stdout",
     "output_type": "stream",
     "text": [
      "We couldn't process this post because it was:  nan\n",
      "We couldn't process this post because it was:  nan\n",
      "We couldn't process this post because it was:  nan\n",
      "We couldn't process this post because it was:  nan\n",
      "We couldn't process this post because it was:  nan\n"
     ]
    },
    {
     "name": "stderr",
     "output_type": "stream",
     "text": [
      "\r",
      " 42%|████▏     | 304/732 [03:01<08:01,  1.12s/it]"
     ]
    },
    {
     "name": "stdout",
     "output_type": "stream",
     "text": [
      "We couldn't process this post because it was:  nan\n",
      "We couldn't process this post because it was:  nan\n",
      "We couldn't process this post because it was:  nan\n"
     ]
    },
    {
     "name": "stderr",
     "output_type": "stream",
     "text": [
      "\r",
      " 42%|████▏     | 305/732 [03:03<09:47,  1.37s/it]"
     ]
    },
    {
     "name": "stdout",
     "output_type": "stream",
     "text": [
      "We couldn't process this post because it was:  nan\n"
     ]
    },
    {
     "name": "stderr",
     "output_type": "stream",
     "text": [
      "\r",
      " 42%|████▏     | 306/732 [03:04<08:51,  1.25s/it]"
     ]
    },
    {
     "name": "stdout",
     "output_type": "stream",
     "text": [
      "We couldn't process this post because it was:  nan\n",
      "We couldn't process this post because it was:  nan\n",
      "We couldn't process this post because it was:  nan\n",
      "We couldn't process this post because it was:  nan\n"
     ]
    },
    {
     "name": "stderr",
     "output_type": "stream",
     "text": [
      "\r",
      " 42%|████▏     | 307/732 [03:05<09:15,  1.31s/it]"
     ]
    },
    {
     "name": "stdout",
     "output_type": "stream",
     "text": [
      "We couldn't process this post because it was:  nan\n",
      "We couldn't process this post because it was:  nan\n",
      "We couldn't process this post because it was:  nan\n",
      "We couldn't process this post because it was:  nan\n",
      "We couldn't process this post because it was:  nan\n",
      "We couldn't process this post because it was:  nan\n",
      "We couldn't process this post because it was:  nan\n"
     ]
    },
    {
     "name": "stderr",
     "output_type": "stream",
     "text": [
      "\r",
      " 42%|████▏     | 308/732 [03:07<11:10,  1.58s/it]"
     ]
    },
    {
     "name": "stdout",
     "output_type": "stream",
     "text": [
      "We couldn't process this post because it was:  nan\n",
      "We couldn't process this post because it was:  nan\n",
      "We couldn't process this post because it was:  nan\n"
     ]
    },
    {
     "name": "stderr",
     "output_type": "stream",
     "text": [
      "\r",
      " 42%|████▏     | 309/732 [03:08<09:14,  1.31s/it]"
     ]
    },
    {
     "name": "stdout",
     "output_type": "stream",
     "text": [
      "We couldn't process this post because it was:  nan\n",
      "We couldn't process this post because it was:  nan\n",
      "We couldn't process this post because it was:  nan\n"
     ]
    },
    {
     "name": "stderr",
     "output_type": "stream",
     "text": [
      "\r",
      " 42%|████▏     | 310/732 [03:09<08:48,  1.25s/it]"
     ]
    },
    {
     "name": "stdout",
     "output_type": "stream",
     "text": [
      "We couldn't process this post because it was:  nan\n",
      "We couldn't process this post because it was:  nan\n",
      "We couldn't process this post because it was:  nan\n"
     ]
    },
    {
     "name": "stderr",
     "output_type": "stream",
     "text": [
      "\r",
      " 42%|████▏     | 311/732 [03:10<08:30,  1.21s/it]"
     ]
    },
    {
     "name": "stdout",
     "output_type": "stream",
     "text": [
      "We couldn't process this post because it was:  nan\n",
      "We couldn't process this post because it was:  nan\n"
     ]
    },
    {
     "name": "stderr",
     "output_type": "stream",
     "text": [
      "\r",
      " 43%|████▎     | 312/732 [03:11<07:23,  1.06s/it]"
     ]
    },
    {
     "name": "stdout",
     "output_type": "stream",
     "text": [
      "We couldn't process this post because it was:  nan\n",
      "We couldn't process this post because it was:  nan\n",
      "We couldn't process this post because it was:  nan\n",
      "We couldn't process this post because it was:  nan\n"
     ]
    },
    {
     "name": "stderr",
     "output_type": "stream",
     "text": [
      "\r",
      " 43%|████▎     | 313/732 [03:12<07:05,  1.01s/it]"
     ]
    },
    {
     "name": "stdout",
     "output_type": "stream",
     "text": [
      "We couldn't process this post because it was:  nan\n",
      "We couldn't process this post because it was:  nan\n",
      "We couldn't process this post because it was:  nan\n",
      "We couldn't process this post because it was:  nan\n"
     ]
    },
    {
     "name": "stderr",
     "output_type": "stream",
     "text": [
      "\r",
      " 43%|████▎     | 314/732 [03:13<06:55,  1.01it/s]"
     ]
    },
    {
     "name": "stdout",
     "output_type": "stream",
     "text": [
      "We couldn't process this post because it was:  nan\n",
      "We couldn't process this post because it was:  nan\n"
     ]
    },
    {
     "name": "stderr",
     "output_type": "stream",
     "text": [
      "\r",
      " 43%|████▎     | 315/732 [03:14<06:49,  1.02it/s]"
     ]
    },
    {
     "name": "stdout",
     "output_type": "stream",
     "text": [
      "We couldn't process this post because it was:  nan\n",
      "We couldn't process this post because it was:  nan\n",
      "We couldn't process this post because it was:  nan\n"
     ]
    },
    {
     "name": "stderr",
     "output_type": "stream",
     "text": [
      "\r",
      " 43%|████▎     | 316/732 [03:15<07:08,  1.03s/it]"
     ]
    },
    {
     "name": "stdout",
     "output_type": "stream",
     "text": [
      "We couldn't process this post because it was:  nan\n",
      "We couldn't process this post because it was:  nan\n",
      "We couldn't process this post because it was:  nan\n",
      "We couldn't process this post because it was:  nan\n",
      "We couldn't process this post because it was:  nan\n",
      "We couldn't process this post because it was:  nan\n",
      "We couldn't process this post because it was:  nan\n"
     ]
    },
    {
     "name": "stderr",
     "output_type": "stream",
     "text": [
      "\r",
      " 43%|████▎     | 317/732 [03:17<09:20,  1.35s/it]"
     ]
    },
    {
     "name": "stdout",
     "output_type": "stream",
     "text": [
      "We couldn't process this post because it was:  nan\n",
      "We couldn't process this post because it was:  nan\n",
      "We couldn't process this post because it was:  nan\n",
      "We couldn't process this post because it was:  nan\n",
      "We couldn't process this post because it was:  nan\n",
      "We couldn't process this post because it was:  nan\n",
      "We couldn't process this post because it was:  nan\n"
     ]
    },
    {
     "name": "stderr",
     "output_type": "stream",
     "text": [
      "\r",
      " 43%|████▎     | 318/732 [03:18<09:20,  1.35s/it]"
     ]
    },
    {
     "name": "stdout",
     "output_type": "stream",
     "text": [
      "We couldn't process this post because it was:  nan\n"
     ]
    },
    {
     "name": "stderr",
     "output_type": "stream",
     "text": [
      "\r",
      " 44%|████▎     | 319/732 [03:19<07:48,  1.13s/it]"
     ]
    },
    {
     "name": "stdout",
     "output_type": "stream",
     "text": [
      "We couldn't process this post because it was:  nan\n",
      "We couldn't process this post because it was:  nan\n"
     ]
    },
    {
     "name": "stderr",
     "output_type": "stream",
     "text": [
      "\r",
      " 44%|████▎     | 320/732 [03:20<07:36,  1.11s/it]"
     ]
    },
    {
     "name": "stdout",
     "output_type": "stream",
     "text": [
      "We couldn't process this post because it was:  nan\n",
      "We couldn't process this post because it was:  nan\n",
      "We couldn't process this post because it was:  nan\n",
      "We couldn't process this post because it was:  nan\n"
     ]
    },
    {
     "name": "stderr",
     "output_type": "stream",
     "text": [
      "\r",
      " 44%|████▍     | 321/732 [03:21<07:25,  1.08s/it]"
     ]
    },
    {
     "name": "stdout",
     "output_type": "stream",
     "text": [
      "We couldn't process this post because it was:  nan\n",
      "We couldn't process this post because it was:  nan\n",
      "We couldn't process this post because it was:  nan\n"
     ]
    },
    {
     "name": "stderr",
     "output_type": "stream",
     "text": [
      "\r",
      " 44%|████▍     | 322/732 [03:22<07:25,  1.09s/it]"
     ]
    },
    {
     "name": "stdout",
     "output_type": "stream",
     "text": [
      "We couldn't process this post because it was:  nan\n",
      "We couldn't process this post because it was:  nan\n",
      "We couldn't process this post because it was:  nan\n"
     ]
    },
    {
     "name": "stderr",
     "output_type": "stream",
     "text": [
      "\r",
      " 44%|████▍     | 323/732 [03:23<07:54,  1.16s/it]"
     ]
    },
    {
     "name": "stdout",
     "output_type": "stream",
     "text": [
      "We couldn't process this post because it was:  nan\n"
     ]
    },
    {
     "name": "stderr",
     "output_type": "stream",
     "text": [
      "\r",
      " 44%|████▍     | 324/732 [03:25<08:25,  1.24s/it]"
     ]
    },
    {
     "name": "stdout",
     "output_type": "stream",
     "text": [
      "We couldn't process this post because it was:  nan\n"
     ]
    },
    {
     "name": "stderr",
     "output_type": "stream",
     "text": [
      "\r",
      " 44%|████▍     | 325/732 [03:26<09:00,  1.33s/it]"
     ]
    },
    {
     "name": "stdout",
     "output_type": "stream",
     "text": [
      "We couldn't process this post because it was:  nan\n",
      "We couldn't process this post because it was:  nan\n",
      "We couldn't process this post because it was:  nan\n",
      "We couldn't process this post because it was:  nan\n",
      "We couldn't process this post because it was:  nan\n"
     ]
    },
    {
     "name": "stderr",
     "output_type": "stream",
     "text": [
      "\r",
      " 45%|████▍     | 326/732 [03:27<08:23,  1.24s/it]"
     ]
    },
    {
     "name": "stdout",
     "output_type": "stream",
     "text": [
      "We couldn't process this post because it was:  nan\n",
      "We couldn't process this post because it was:  nan\n",
      "We couldn't process this post because it was:  nan\n",
      "We couldn't process this post because it was:  nan\n",
      "We couldn't process this post because it was:  nan\n"
     ]
    },
    {
     "name": "stderr",
     "output_type": "stream",
     "text": [
      "\r",
      " 45%|████▍     | 327/732 [03:29<09:40,  1.43s/it]"
     ]
    },
    {
     "name": "stdout",
     "output_type": "stream",
     "text": [
      "We couldn't process this post because it was:  nan\n",
      "We couldn't process this post because it was:  nan\n",
      "We couldn't process this post because it was:  nan\n"
     ]
    },
    {
     "name": "stderr",
     "output_type": "stream",
     "text": [
      "\r",
      " 45%|████▍     | 328/732 [03:30<08:38,  1.28s/it]"
     ]
    },
    {
     "name": "stdout",
     "output_type": "stream",
     "text": [
      "We couldn't process this post because it was:  nan\n",
      "We couldn't process this post because it was:  nan\n",
      "We couldn't process this post because it was:  nan\n",
      "We couldn't process this post because it was:  nan\n",
      "We couldn't process this post because it was:  nan\n",
      "We couldn't process this post because it was:  nan\n",
      "We couldn't process this post because it was:  nan\n"
     ]
    },
    {
     "name": "stderr",
     "output_type": "stream",
     "text": [
      "\r",
      " 45%|████▍     | 329/732 [03:31<08:13,  1.23s/it]"
     ]
    },
    {
     "name": "stdout",
     "output_type": "stream",
     "text": [
      "We couldn't process this post because it was:  nan\n",
      "We couldn't process this post because it was:  nan\n",
      "We couldn't process this post because it was:  nan\n"
     ]
    },
    {
     "name": "stderr",
     "output_type": "stream",
     "text": [
      "\r",
      " 45%|████▌     | 330/732 [03:34<11:26,  1.71s/it]"
     ]
    },
    {
     "name": "stdout",
     "output_type": "stream",
     "text": [
      "We couldn't process this post because it was:  nan\n",
      "We couldn't process this post because it was:  nan\n",
      "We couldn't process this post because it was:  nan\n",
      "We couldn't process this post because it was:  nan\n",
      "We couldn't process this post because it was:  nan\n"
     ]
    },
    {
     "name": "stderr",
     "output_type": "stream",
     "text": [
      "\r",
      " 45%|████▌     | 331/732 [03:35<10:15,  1.54s/it]"
     ]
    },
    {
     "name": "stdout",
     "output_type": "stream",
     "text": [
      "We couldn't process this post because it was:  nan\n",
      "We couldn't process this post because it was:  nan\n",
      "We couldn't process this post because it was:  nan\n",
      "We couldn't process this post because it was:  nan\n",
      "We couldn't process this post because it was:  nan\n"
     ]
    },
    {
     "name": "stderr",
     "output_type": "stream",
     "text": [
      "\r",
      " 45%|████▌     | 332/732 [03:37<09:39,  1.45s/it]"
     ]
    },
    {
     "name": "stdout",
     "output_type": "stream",
     "text": [
      "We couldn't process this post because it was:  nan\n",
      "We couldn't process this post because it was:  nan\n"
     ]
    },
    {
     "name": "stderr",
     "output_type": "stream",
     "text": [
      "\r",
      " 45%|████▌     | 333/732 [03:38<08:55,  1.34s/it]"
     ]
    },
    {
     "name": "stdout",
     "output_type": "stream",
     "text": [
      "We couldn't process this post because it was:  nan\n"
     ]
    },
    {
     "name": "stderr",
     "output_type": "stream",
     "text": [
      "\r",
      " 46%|████▌     | 334/732 [03:39<08:07,  1.22s/it]"
     ]
    },
    {
     "name": "stdout",
     "output_type": "stream",
     "text": [
      "We couldn't process this post because it was:  nan\n",
      "We couldn't process this post because it was:  nan\n",
      "We couldn't process this post because it was:  nan\n"
     ]
    },
    {
     "name": "stderr",
     "output_type": "stream",
     "text": [
      "\r",
      " 46%|████▌     | 335/732 [03:40<08:25,  1.27s/it]"
     ]
    },
    {
     "name": "stdout",
     "output_type": "stream",
     "text": [
      "We couldn't process this post because it was:  nan\n",
      "We couldn't process this post because it was:  nan\n",
      "We couldn't process this post because it was:  nan\n",
      "We couldn't process this post because it was:  nan\n",
      "We couldn't process this post because it was:  nan\n",
      "We couldn't process this post because it was:  nan\n",
      "We couldn't process this post because it was:  nan\n"
     ]
    },
    {
     "name": "stderr",
     "output_type": "stream",
     "text": [
      "\r",
      " 46%|████▌     | 336/732 [03:41<08:22,  1.27s/it]"
     ]
    },
    {
     "name": "stdout",
     "output_type": "stream",
     "text": [
      "We couldn't process this post because it was:  nan\n",
      "We couldn't process this post because it was:  nan\n",
      "We couldn't process this post because it was:  nan\n"
     ]
    },
    {
     "name": "stderr",
     "output_type": "stream",
     "text": [
      "\r",
      " 46%|████▌     | 337/732 [03:43<10:01,  1.52s/it]"
     ]
    },
    {
     "name": "stdout",
     "output_type": "stream",
     "text": [
      "We couldn't process this post because it was:  nan\n",
      "We couldn't process this post because it was:  nan\n",
      "We couldn't process this post because it was:  nan\n",
      "We couldn't process this post because it was:  nan\n"
     ]
    },
    {
     "name": "stderr",
     "output_type": "stream",
     "text": [
      "\r",
      " 46%|████▌     | 338/732 [03:46<11:26,  1.74s/it]"
     ]
    },
    {
     "name": "stdout",
     "output_type": "stream",
     "text": [
      "We couldn't process this post because it was:  nan\n",
      "We couldn't process this post because it was:  nan\n",
      "We couldn't process this post because it was:  nan\n"
     ]
    },
    {
     "name": "stderr",
     "output_type": "stream",
     "text": [
      "\r",
      " 46%|████▋     | 339/732 [03:47<10:59,  1.68s/it]"
     ]
    },
    {
     "name": "stdout",
     "output_type": "stream",
     "text": [
      "We couldn't process this post because it was:  nan\n",
      "We couldn't process this post because it was:  nan\n",
      "We couldn't process this post because it was:  nan\n",
      "We couldn't process this post because it was:  nan\n",
      "We couldn't process this post because it was:  nan\n",
      "We couldn't process this post because it was:  nan\n"
     ]
    },
    {
     "name": "stderr",
     "output_type": "stream",
     "text": [
      "\r",
      " 46%|████▋     | 340/732 [03:48<09:25,  1.44s/it]"
     ]
    },
    {
     "name": "stdout",
     "output_type": "stream",
     "text": [
      "We couldn't process this post because it was:  nan\n",
      "We couldn't process this post because it was:  nan\n",
      "We couldn't process this post because it was:  nan\n",
      "We couldn't process this post because it was:  nan\n",
      "We couldn't process this post because it was:  nan\n"
     ]
    },
    {
     "name": "stderr",
     "output_type": "stream",
     "text": [
      "\r",
      " 47%|████▋     | 341/732 [03:49<09:17,  1.43s/it]"
     ]
    },
    {
     "name": "stdout",
     "output_type": "stream",
     "text": [
      "We couldn't process this post because it was:  nan\n",
      "We couldn't process this post because it was:  nan\n",
      "We couldn't process this post because it was:  nan\n",
      "We couldn't process this post because it was:  nan\n",
      "We couldn't process this post because it was:  nan\n",
      "We couldn't process this post because it was:  nan\n",
      "We couldn't process this post because it was:  nan\n",
      "We couldn't process this post because it was:  nan\n",
      "We couldn't process this post because it was:  nan\n",
      "We couldn't process this post because it was:  nan\n"
     ]
    },
    {
     "name": "stderr",
     "output_type": "stream",
     "text": [
      "\r",
      " 47%|████▋     | 342/732 [03:52<11:03,  1.70s/it]"
     ]
    },
    {
     "name": "stdout",
     "output_type": "stream",
     "text": [
      "We couldn't process this post because it was:  nan\n",
      "We couldn't process this post because it was:  nan\n",
      "We couldn't process this post because it was:  nan\n",
      "We couldn't process this post because it was:  nan\n",
      "We couldn't process this post because it was:  nan\n",
      "We couldn't process this post because it was:  nan\n",
      "We couldn't process this post because it was:  nan\n",
      "We couldn't process this post because it was:  nan\n",
      "We couldn't process this post because it was:  nan\n",
      "We couldn't process this post because it was:  nan\n"
     ]
    },
    {
     "name": "stderr",
     "output_type": "stream",
     "text": [
      "\r",
      " 47%|████▋     | 343/732 [03:53<10:34,  1.63s/it]"
     ]
    },
    {
     "name": "stdout",
     "output_type": "stream",
     "text": [
      "We couldn't process this post because it was:  nan\n",
      "We couldn't process this post because it was:  nan\n",
      "We couldn't process this post because it was:  nan\n",
      "We couldn't process this post because it was:  nan\n"
     ]
    },
    {
     "name": "stderr",
     "output_type": "stream",
     "text": [
      "\r",
      " 47%|████▋     | 344/732 [03:54<09:36,  1.49s/it]"
     ]
    },
    {
     "name": "stdout",
     "output_type": "stream",
     "text": [
      "We couldn't process this post because it was:  nan\n",
      "We couldn't process this post because it was:  nan\n",
      "We couldn't process this post because it was:  nan\n",
      "We couldn't process this post because it was:  nan\n",
      "We couldn't process this post because it was:  nan\n",
      "We couldn't process this post because it was:  nan\n"
     ]
    },
    {
     "name": "stderr",
     "output_type": "stream",
     "text": [
      "\r",
      " 47%|████▋     | 345/732 [03:56<10:17,  1.60s/it]"
     ]
    },
    {
     "name": "stdout",
     "output_type": "stream",
     "text": [
      "We couldn't process this post because it was:  nan\n",
      "We couldn't process this post because it was:  nan\n",
      "We couldn't process this post because it was:  nan\n",
      "We couldn't process this post because it was:  nan\n",
      "We couldn't process this post because it was:  nan\n",
      "We couldn't process this post because it was:  nan\n"
     ]
    },
    {
     "name": "stderr",
     "output_type": "stream",
     "text": [
      "\r",
      " 47%|████▋     | 346/732 [03:57<08:32,  1.33s/it]"
     ]
    },
    {
     "name": "stdout",
     "output_type": "stream",
     "text": [
      "We couldn't process this post because it was:  nan\n",
      "We couldn't process this post because it was:  nan\n",
      "We couldn't process this post because it was:  nan\n",
      "We couldn't process this post because it was:  nan\n"
     ]
    },
    {
     "name": "stderr",
     "output_type": "stream",
     "text": [
      "\r",
      " 47%|████▋     | 347/732 [03:58<08:19,  1.30s/it]"
     ]
    },
    {
     "name": "stdout",
     "output_type": "stream",
     "text": [
      "We couldn't process this post because it was:  nan\n",
      "We couldn't process this post because it was:  nan\n",
      "We couldn't process this post because it was:  nan\n",
      "We couldn't process this post because it was:  nan\n"
     ]
    },
    {
     "name": "stderr",
     "output_type": "stream",
     "text": [
      "\r",
      " 48%|████▊     | 348/732 [04:00<09:58,  1.56s/it]"
     ]
    },
    {
     "name": "stdout",
     "output_type": "stream",
     "text": [
      "We couldn't process this post because it was:  nan\n",
      "We couldn't process this post because it was:  nan\n"
     ]
    },
    {
     "name": "stderr",
     "output_type": "stream",
     "text": [
      "\r",
      " 48%|████▊     | 349/732 [04:01<08:38,  1.35s/it]"
     ]
    },
    {
     "name": "stdout",
     "output_type": "stream",
     "text": [
      "We couldn't process this post because it was:  nan\n",
      "We couldn't process this post because it was:  nan\n"
     ]
    },
    {
     "name": "stderr",
     "output_type": "stream",
     "text": [
      "\r",
      " 48%|████▊     | 350/732 [04:02<08:21,  1.31s/it]"
     ]
    },
    {
     "name": "stdout",
     "output_type": "stream",
     "text": [
      "We couldn't process this post because it was:  nan\n",
      "We couldn't process this post because it was:  nan\n"
     ]
    },
    {
     "name": "stderr",
     "output_type": "stream",
     "text": [
      "\r",
      " 48%|████▊     | 351/732 [04:03<07:08,  1.13s/it]"
     ]
    },
    {
     "name": "stdout",
     "output_type": "stream",
     "text": [
      "We couldn't process this post because it was:  nan\n",
      "We couldn't process this post because it was:  nan\n",
      "We couldn't process this post because it was:  nan\n"
     ]
    },
    {
     "name": "stderr",
     "output_type": "stream",
     "text": [
      "\r",
      " 48%|████▊     | 352/732 [04:05<08:01,  1.27s/it]"
     ]
    },
    {
     "name": "stdout",
     "output_type": "stream",
     "text": [
      "We couldn't process this post because it was:  nan\n",
      "We couldn't process this post because it was:  nan\n",
      "We couldn't process this post because it was:  nan\n",
      "We couldn't process this post because it was:  nan\n",
      "We couldn't process this post because it was:  nan\n",
      "We couldn't process this post because it was:  nan\n",
      "We couldn't process this post because it was:  nan\n"
     ]
    },
    {
     "name": "stderr",
     "output_type": "stream",
     "text": [
      "\r",
      " 48%|████▊     | 353/732 [04:06<07:40,  1.22s/it]"
     ]
    },
    {
     "name": "stdout",
     "output_type": "stream",
     "text": [
      "We couldn't process this post because it was:  nan\n",
      "We couldn't process this post because it was:  nan\n",
      "We couldn't process this post because it was:  nan\n",
      "We couldn't process this post because it was:  nan\n",
      "We couldn't process this post because it was:  nan\n",
      "We couldn't process this post because it was:  nan\n",
      "We couldn't process this post because it was:  nan\n",
      "We couldn't process this post because it was:  nan\n"
     ]
    },
    {
     "name": "stderr",
     "output_type": "stream",
     "text": [
      "\r",
      " 48%|████▊     | 354/732 [04:07<07:42,  1.22s/it]"
     ]
    },
    {
     "name": "stdout",
     "output_type": "stream",
     "text": [
      "We couldn't process this post because it was:  nan\n"
     ]
    },
    {
     "name": "stderr",
     "output_type": "stream",
     "text": [
      "\r",
      " 48%|████▊     | 355/732 [04:08<07:55,  1.26s/it]"
     ]
    },
    {
     "name": "stdout",
     "output_type": "stream",
     "text": [
      "We couldn't process this post because it was:  nan\n",
      "We couldn't process this post because it was:  nan\n",
      "We couldn't process this post because it was:  nan\n",
      "We couldn't process this post because it was:  nan\n",
      "We couldn't process this post because it was:  nan\n",
      "We couldn't process this post because it was:  nan\n"
     ]
    },
    {
     "name": "stderr",
     "output_type": "stream",
     "text": [
      "\r",
      " 49%|████▊     | 356/732 [04:10<08:42,  1.39s/it]"
     ]
    },
    {
     "name": "stdout",
     "output_type": "stream",
     "text": [
      "We couldn't process this post because it was:  nan\n",
      "We couldn't process this post because it was:  nan\n"
     ]
    },
    {
     "name": "stderr",
     "output_type": "stream",
     "text": [
      "\r",
      " 49%|████▉     | 357/732 [04:11<08:15,  1.32s/it]"
     ]
    },
    {
     "name": "stdout",
     "output_type": "stream",
     "text": [
      "We couldn't process this post because it was:  nan\n",
      "We couldn't process this post because it was:  nan\n",
      "We couldn't process this post because it was:  nan\n"
     ]
    },
    {
     "name": "stderr",
     "output_type": "stream",
     "text": [
      "\r",
      " 49%|████▉     | 358/732 [04:13<08:15,  1.32s/it]"
     ]
    },
    {
     "name": "stdout",
     "output_type": "stream",
     "text": [
      "We couldn't process this post because it was:  nan\n"
     ]
    },
    {
     "name": "stderr",
     "output_type": "stream",
     "text": [
      "\r",
      " 49%|████▉     | 359/732 [04:14<08:06,  1.30s/it]"
     ]
    },
    {
     "name": "stdout",
     "output_type": "stream",
     "text": [
      "We couldn't process this post because it was:  nan\n",
      "We couldn't process this post because it was:  nan\n",
      "We couldn't process this post because it was:  nan\n",
      "We couldn't process this post because it was:  nan\n",
      "We couldn't process this post because it was:  nan\n",
      "We couldn't process this post because it was:  nan\n"
     ]
    },
    {
     "name": "stderr",
     "output_type": "stream",
     "text": [
      "\r",
      " 49%|████▉     | 360/732 [04:15<07:44,  1.25s/it]"
     ]
    },
    {
     "name": "stdout",
     "output_type": "stream",
     "text": [
      "We couldn't process this post because it was:  nan\n",
      "We couldn't process this post because it was:  nan\n",
      "We couldn't process this post because it was:  nan\n",
      "We couldn't process this post because it was:  nan\n",
      "We couldn't process this post because it was:  nan\n",
      "We couldn't process this post because it was:  nan\n",
      "We couldn't process this post because it was:  nan\n",
      "We couldn't process this post because it was:  nan\n",
      "We couldn't process this post because it was:  nan\n"
     ]
    },
    {
     "name": "stderr",
     "output_type": "stream",
     "text": [
      "\r",
      " 49%|████▉     | 361/732 [04:16<06:38,  1.08s/it]"
     ]
    },
    {
     "name": "stdout",
     "output_type": "stream",
     "text": [
      "We couldn't process this post because it was:  nan\n"
     ]
    },
    {
     "name": "stderr",
     "output_type": "stream",
     "text": [
      "\r",
      " 49%|████▉     | 362/732 [04:16<06:02,  1.02it/s]"
     ]
    },
    {
     "name": "stdout",
     "output_type": "stream",
     "text": [
      "We couldn't process this post because it was:  nan\n",
      "We couldn't process this post because it was:  nan\n",
      "We couldn't process this post because it was:  nan\n",
      "We couldn't process this post because it was:  nan\n",
      "We couldn't process this post because it was:  nan\n"
     ]
    },
    {
     "name": "stderr",
     "output_type": "stream",
     "text": [
      "\r",
      " 50%|████▉     | 363/732 [04:17<06:08,  1.00it/s]"
     ]
    },
    {
     "name": "stdout",
     "output_type": "stream",
     "text": [
      "We couldn't process this post because it was:  nan\n",
      "We couldn't process this post because it was:  nan\n",
      "We couldn't process this post because it was:  nan\n",
      "We couldn't process this post because it was:  nan\n"
     ]
    },
    {
     "name": "stderr",
     "output_type": "stream",
     "text": [
      "\r",
      " 50%|████▉     | 364/732 [04:19<07:45,  1.26s/it]"
     ]
    },
    {
     "name": "stdout",
     "output_type": "stream",
     "text": [
      "We couldn't process this post because it was:  nan\n",
      "We couldn't process this post because it was:  nan\n",
      "We couldn't process this post because it was:  nan\n"
     ]
    },
    {
     "name": "stderr",
     "output_type": "stream",
     "text": [
      "\r",
      " 50%|████▉     | 365/732 [04:21<08:04,  1.32s/it]"
     ]
    },
    {
     "name": "stdout",
     "output_type": "stream",
     "text": [
      "We couldn't process this post because it was:  nan\n",
      "We couldn't process this post because it was:  nan\n"
     ]
    },
    {
     "name": "stderr",
     "output_type": "stream",
     "text": [
      "\r",
      " 50%|█████     | 366/732 [04:22<07:31,  1.23s/it]"
     ]
    },
    {
     "name": "stdout",
     "output_type": "stream",
     "text": [
      "We couldn't process this post because it was:  nan\n",
      "We couldn't process this post because it was:  nan\n",
      "We couldn't process this post because it was:  nan\n",
      "We couldn't process this post because it was:  nan\n",
      "We couldn't process this post because it was:  nan\n",
      "We couldn't process this post because it was:  nan\n"
     ]
    },
    {
     "name": "stderr",
     "output_type": "stream",
     "text": [
      "\r",
      " 50%|█████     | 367/732 [04:23<07:10,  1.18s/it]"
     ]
    },
    {
     "name": "stdout",
     "output_type": "stream",
     "text": [
      "We couldn't process this post because it was:  nan\n",
      "We couldn't process this post because it was:  nan\n",
      "We couldn't process this post because it was:  nan\n",
      "We couldn't process this post because it was:  nan\n",
      "We couldn't process this post because it was:  nan\n",
      "We couldn't process this post because it was:  nan\n"
     ]
    },
    {
     "name": "stderr",
     "output_type": "stream",
     "text": [
      "\r",
      " 50%|█████     | 368/732 [04:25<08:19,  1.37s/it]"
     ]
    },
    {
     "name": "stdout",
     "output_type": "stream",
     "text": [
      "We couldn't process this post because it was:  nan\n",
      "We couldn't process this post because it was:  nan\n",
      "We couldn't process this post because it was:  nan\n",
      "We couldn't process this post because it was:  nan\n"
     ]
    },
    {
     "name": "stderr",
     "output_type": "stream",
     "text": [
      "\r",
      " 50%|█████     | 369/732 [04:26<07:22,  1.22s/it]"
     ]
    },
    {
     "name": "stdout",
     "output_type": "stream",
     "text": [
      "We couldn't process this post because it was:  nan\n",
      "We couldn't process this post because it was:  nan\n"
     ]
    },
    {
     "name": "stderr",
     "output_type": "stream",
     "text": [
      "\r",
      " 51%|█████     | 370/732 [04:27<08:02,  1.33s/it]"
     ]
    },
    {
     "name": "stdout",
     "output_type": "stream",
     "text": [
      "We couldn't process this post because it was:  nan\n",
      "We couldn't process this post because it was:  nan\n",
      "We couldn't process this post because it was:  nan\n",
      "We couldn't process this post because it was:  nan\n",
      "We couldn't process this post because it was:  nan\n",
      "We couldn't process this post because it was:  nan\n"
     ]
    },
    {
     "name": "stderr",
     "output_type": "stream",
     "text": [
      "\r",
      " 51%|█████     | 371/732 [04:28<07:46,  1.29s/it]"
     ]
    },
    {
     "name": "stdout",
     "output_type": "stream",
     "text": [
      "We couldn't process this post because it was:  nan\n",
      "We couldn't process this post because it was:  nan\n"
     ]
    },
    {
     "name": "stderr",
     "output_type": "stream",
     "text": [
      "\r",
      " 51%|█████     | 372/732 [04:30<08:24,  1.40s/it]"
     ]
    },
    {
     "name": "stdout",
     "output_type": "stream",
     "text": [
      "We couldn't process this post because it was:  nan\n",
      "We couldn't process this post because it was:  nan\n",
      "We couldn't process this post because it was:  nan\n",
      "We couldn't process this post because it was:  nan\n",
      "We couldn't process this post because it was:  nan\n"
     ]
    },
    {
     "name": "stderr",
     "output_type": "stream",
     "text": [
      "\r",
      " 51%|█████     | 373/732 [04:32<08:56,  1.49s/it]"
     ]
    },
    {
     "name": "stdout",
     "output_type": "stream",
     "text": [
      "We couldn't process this post because it was:  nan\n",
      "We couldn't process this post because it was:  nan\n",
      "We couldn't process this post because it was:  nan\n",
      "We couldn't process this post because it was:  nan\n"
     ]
    },
    {
     "name": "stderr",
     "output_type": "stream",
     "text": [
      "\r",
      " 51%|█████     | 374/732 [04:33<08:33,  1.44s/it]"
     ]
    },
    {
     "name": "stdout",
     "output_type": "stream",
     "text": [
      "We couldn't process this post because it was:  nan\n",
      "We couldn't process this post because it was:  nan\n",
      "We couldn't process this post because it was:  nan\n",
      "We couldn't process this post because it was:  nan\n",
      "We couldn't process this post because it was:  nan\n",
      "We couldn't process this post because it was:  nan\n",
      "We couldn't process this post because it was:  nan\n"
     ]
    },
    {
     "name": "stderr",
     "output_type": "stream",
     "text": [
      "\r",
      " 51%|█████     | 375/732 [04:34<08:12,  1.38s/it]"
     ]
    },
    {
     "name": "stdout",
     "output_type": "stream",
     "text": [
      "We couldn't process this post because it was:  nan\n",
      "We couldn't process this post because it was:  nan\n",
      "We couldn't process this post because it was:  nan\n",
      "We couldn't process this post because it was:  nan\n"
     ]
    },
    {
     "name": "stderr",
     "output_type": "stream",
     "text": [
      "\r",
      " 51%|█████▏    | 376/732 [04:37<10:33,  1.78s/it]"
     ]
    },
    {
     "name": "stdout",
     "output_type": "stream",
     "text": [
      "We couldn't process this post because it was:  nan\n",
      "We couldn't process this post because it was:  nan\n",
      "We couldn't process this post because it was:  nan\n",
      "We couldn't process this post because it was:  nan\n",
      "We couldn't process this post because it was:  nan\n",
      "We couldn't process this post because it was:  nan\n"
     ]
    },
    {
     "name": "stderr",
     "output_type": "stream",
     "text": [
      "\r",
      " 52%|█████▏    | 377/732 [04:38<09:54,  1.67s/it]"
     ]
    },
    {
     "name": "stdout",
     "output_type": "stream",
     "text": [
      "We couldn't process this post because it was:  nan\n",
      "We couldn't process this post because it was:  nan\n",
      "We couldn't process this post because it was:  nan\n",
      "We couldn't process this post because it was:  nan\n",
      "We couldn't process this post because it was:  nan\n",
      "We couldn't process this post because it was:  nan\n",
      "We couldn't process this post because it was:  nan\n",
      "We couldn't process this post because it was:  nan\n"
     ]
    },
    {
     "name": "stderr",
     "output_type": "stream",
     "text": [
      "\r",
      " 52%|█████▏    | 378/732 [04:40<09:31,  1.61s/it]"
     ]
    },
    {
     "name": "stdout",
     "output_type": "stream",
     "text": [
      "We couldn't process this post because it was:  nan\n",
      "We couldn't process this post because it was:  nan\n"
     ]
    },
    {
     "name": "stderr",
     "output_type": "stream",
     "text": [
      "\r",
      " 52%|█████▏    | 379/732 [04:41<08:33,  1.46s/it]"
     ]
    },
    {
     "name": "stdout",
     "output_type": "stream",
     "text": [
      "We couldn't process this post because it was:  nan\n",
      "We couldn't process this post because it was:  nan\n",
      "We couldn't process this post because it was:  nan\n",
      "We couldn't process this post because it was:  nan\n",
      "We couldn't process this post because it was:  nan\n",
      "We couldn't process this post because it was:  nan\n"
     ]
    },
    {
     "name": "stderr",
     "output_type": "stream",
     "text": [
      "\r",
      " 52%|█████▏    | 380/732 [04:42<08:26,  1.44s/it]"
     ]
    },
    {
     "name": "stdout",
     "output_type": "stream",
     "text": [
      "We couldn't process this post because it was:  nan\n",
      "We couldn't process this post because it was:  nan\n",
      "We couldn't process this post because it was:  nan\n"
     ]
    },
    {
     "name": "stderr",
     "output_type": "stream",
     "text": [
      "\r",
      " 52%|█████▏    | 381/732 [04:44<08:16,  1.41s/it]"
     ]
    },
    {
     "name": "stdout",
     "output_type": "stream",
     "text": [
      "We couldn't process this post because it was:  nan\n",
      "We couldn't process this post because it was:  nan\n",
      "We couldn't process this post because it was:  nan\n"
     ]
    },
    {
     "name": "stderr",
     "output_type": "stream",
     "text": [
      " 52%|█████▏    | 383/732 [04:47<08:14,  1.42s/it]"
     ]
    },
    {
     "name": "stdout",
     "output_type": "stream",
     "text": [
      "We couldn't process this post because it was:  nan\n",
      "We couldn't process this post because it was:  nan\n",
      "We couldn't process this post because it was:  nan\n",
      "We couldn't process this post because it was:  nan\n",
      "We couldn't process this post because it was:  nan\n",
      "We couldn't process this post because it was:  nan\n",
      "We couldn't process this post because it was:  nan\n"
     ]
    },
    {
     "name": "stderr",
     "output_type": "stream",
     "text": [
      "\r",
      " 52%|█████▏    | 384/732 [04:52<14:35,  2.52s/it]"
     ]
    },
    {
     "name": "stdout",
     "output_type": "stream",
     "text": [
      "We couldn't process this post because it was:  nan\n",
      "We couldn't process this post because it was:  nan\n",
      "We couldn't process this post because it was:  nan\n",
      "We couldn't process this post because it was:  nan\n",
      "We couldn't process this post because it was:  nan\n",
      "We couldn't process this post because it was:  nan\n",
      "We couldn't process this post because it was:  nan\n",
      "We couldn't process this post because it was:  nan\n"
     ]
    },
    {
     "name": "stderr",
     "output_type": "stream",
     "text": [
      "\r",
      " 53%|█████▎    | 385/732 [04:54<14:40,  2.54s/it]"
     ]
    },
    {
     "name": "stdout",
     "output_type": "stream",
     "text": [
      "We couldn't process this post because it was:  nan\n",
      "We couldn't process this post because it was:  nan\n",
      "We couldn't process this post because it was:  nan\n",
      "We couldn't process this post because it was:  nan\n",
      "We couldn't process this post because it was:  nan\n",
      "We couldn't process this post because it was:  nan\n",
      "We couldn't process this post because it was:  nan\n",
      "We couldn't process this post because it was:  nan\n"
     ]
    },
    {
     "name": "stderr",
     "output_type": "stream",
     "text": [
      "\r",
      " 53%|█████▎    | 386/732 [04:56<13:46,  2.39s/it]"
     ]
    },
    {
     "name": "stdout",
     "output_type": "stream",
     "text": [
      "We couldn't process this post because it was:  nan\n",
      "We couldn't process this post because it was:  nan\n",
      "We couldn't process this post because it was:  nan\n",
      "We couldn't process this post because it was:  nan\n",
      "We couldn't process this post because it was:  nan\n",
      "We couldn't process this post because it was:  nan\n",
      "We couldn't process this post because it was:  nan\n",
      "We couldn't process this post because it was:  nan\n",
      "We couldn't process this post because it was:  nan\n",
      "We couldn't process this post because it was:  nan\n"
     ]
    },
    {
     "name": "stderr",
     "output_type": "stream",
     "text": [
      "\r",
      " 53%|█████▎    | 387/732 [04:58<12:40,  2.20s/it]"
     ]
    },
    {
     "name": "stdout",
     "output_type": "stream",
     "text": [
      "We couldn't process this post because it was:  nan\n",
      "We couldn't process this post because it was:  nan\n",
      "We couldn't process this post because it was:  nan\n",
      "We couldn't process this post because it was:  nan\n",
      "We couldn't process this post because it was:  nan\n",
      "We couldn't process this post because it was:  nan\n",
      "We couldn't process this post because it was:  nan\n",
      "We couldn't process this post because it was:  nan\n",
      "We couldn't process this post because it was:  nan\n"
     ]
    },
    {
     "name": "stderr",
     "output_type": "stream",
     "text": [
      "\r",
      " 53%|█████▎    | 388/732 [05:00<12:38,  2.21s/it]"
     ]
    },
    {
     "name": "stdout",
     "output_type": "stream",
     "text": [
      "We couldn't process this post because it was:  nan\n",
      "We couldn't process this post because it was:  nan\n",
      "We couldn't process this post because it was:  nan\n",
      "We couldn't process this post because it was:  nan\n"
     ]
    },
    {
     "name": "stderr",
     "output_type": "stream",
     "text": [
      "\r",
      " 53%|█████▎    | 389/732 [05:02<11:40,  2.04s/it]"
     ]
    },
    {
     "name": "stdout",
     "output_type": "stream",
     "text": [
      "We couldn't process this post because it was:  nan\n",
      "We couldn't process this post because it was:  nan\n",
      "We couldn't process this post because it was:  nan\n",
      "We couldn't process this post because it was:  nan\n"
     ]
    },
    {
     "name": "stderr",
     "output_type": "stream",
     "text": [
      "\r",
      " 53%|█████▎    | 390/732 [05:04<10:57,  1.92s/it]"
     ]
    },
    {
     "name": "stdout",
     "output_type": "stream",
     "text": [
      "We couldn't process this post because it was:  nan\n",
      "We couldn't process this post because it was:  nan\n",
      "We couldn't process this post because it was:  nan\n"
     ]
    },
    {
     "name": "stderr",
     "output_type": "stream",
     "text": [
      "\r",
      " 53%|█████▎    | 391/732 [05:05<10:30,  1.85s/it]"
     ]
    },
    {
     "name": "stdout",
     "output_type": "stream",
     "text": [
      "We couldn't process this post because it was:  nan\n",
      "We couldn't process this post because it was:  nan\n"
     ]
    },
    {
     "name": "stderr",
     "output_type": "stream",
     "text": [
      "\r",
      " 54%|█████▎    | 392/732 [05:07<09:38,  1.70s/it]"
     ]
    },
    {
     "name": "stdout",
     "output_type": "stream",
     "text": [
      "We couldn't process this post because it was:  nan\n",
      "We couldn't process this post because it was:  nan\n",
      "We couldn't process this post because it was:  nan\n",
      "We couldn't process this post because it was:  nan\n",
      "We couldn't process this post because it was:  nan\n",
      "We couldn't process this post because it was:  nan\n",
      "We couldn't process this post because it was:  nan\n",
      "We couldn't process this post because it was:  nan\n"
     ]
    },
    {
     "name": "stderr",
     "output_type": "stream",
     "text": [
      "\r",
      " 54%|█████▎    | 393/732 [05:09<09:42,  1.72s/it]"
     ]
    },
    {
     "name": "stdout",
     "output_type": "stream",
     "text": [
      "We couldn't process this post because it was:  nan\n",
      "We couldn't process this post because it was:  nan\n"
     ]
    },
    {
     "name": "stderr",
     "output_type": "stream",
     "text": [
      "\r",
      " 54%|█████▍    | 394/732 [05:11<10:05,  1.79s/it]"
     ]
    },
    {
     "name": "stdout",
     "output_type": "stream",
     "text": [
      "We couldn't process this post because it was:  nan\n",
      "We couldn't process this post because it was:  nan\n",
      "We couldn't process this post because it was:  nan\n",
      "We couldn't process this post because it was:  nan\n",
      "We couldn't process this post because it was:  nan\n"
     ]
    },
    {
     "name": "stderr",
     "output_type": "stream",
     "text": [
      "\r",
      " 54%|█████▍    | 395/732 [05:13<11:00,  1.96s/it]"
     ]
    },
    {
     "name": "stdout",
     "output_type": "stream",
     "text": [
      "We couldn't process this post because it was:  nan\n",
      "We couldn't process this post because it was:  nan\n",
      "We couldn't process this post because it was:  nan\n",
      "We couldn't process this post because it was:  nan\n",
      "We couldn't process this post because it was:  nan\n",
      "We couldn't process this post because it was:  nan\n",
      "We couldn't process this post because it was:  nan\n",
      "We couldn't process this post because it was:  nan\n",
      "We couldn't process this post because it was:  nan\n"
     ]
    },
    {
     "name": "stderr",
     "output_type": "stream",
     "text": [
      "\r",
      " 54%|█████▍    | 396/732 [05:15<10:36,  1.90s/it]"
     ]
    },
    {
     "name": "stdout",
     "output_type": "stream",
     "text": [
      "We couldn't process this post because it was:  nan\n"
     ]
    },
    {
     "name": "stderr",
     "output_type": "stream",
     "text": [
      "\r",
      " 54%|█████▍    | 397/732 [05:16<09:34,  1.72s/it]"
     ]
    },
    {
     "name": "stdout",
     "output_type": "stream",
     "text": [
      "We couldn't process this post because it was:  nan\n",
      "We couldn't process this post because it was:  nan\n",
      "We couldn't process this post because it was:  nan\n",
      "We couldn't process this post because it was:  nan\n",
      "We couldn't process this post because it was:  nan\n",
      "We couldn't process this post because it was:  nan\n",
      "We couldn't process this post because it was:  nan\n"
     ]
    },
    {
     "name": "stderr",
     "output_type": "stream",
     "text": [
      "\r",
      " 54%|█████▍    | 398/732 [05:20<13:32,  2.43s/it]"
     ]
    },
    {
     "name": "stdout",
     "output_type": "stream",
     "text": [
      "We couldn't process this post because it was:  nan\n",
      "We couldn't process this post because it was:  nan\n",
      "We couldn't process this post because it was:  nan\n",
      "We couldn't process this post because it was:  nan\n",
      "We couldn't process this post because it was:  nan\n",
      "We couldn't process this post because it was:  nan\n"
     ]
    },
    {
     "name": "stderr",
     "output_type": "stream",
     "text": [
      "\r",
      " 55%|█████▍    | 399/732 [05:23<13:42,  2.47s/it]"
     ]
    },
    {
     "name": "stdout",
     "output_type": "stream",
     "text": [
      "We couldn't process this post because it was:  nan\n",
      "We couldn't process this post because it was:  nan\n",
      "We couldn't process this post because it was:  nan\n",
      "We couldn't process this post because it was:  nan\n",
      "We couldn't process this post because it was:  nan\n",
      "We couldn't process this post because it was:  nan\n",
      "We couldn't process this post because it was:  nan\n",
      "We couldn't process this post because it was:  nan\n"
     ]
    },
    {
     "name": "stderr",
     "output_type": "stream",
     "text": [
      "\r",
      " 55%|█████▍    | 400/732 [05:27<16:05,  2.91s/it]"
     ]
    },
    {
     "name": "stdout",
     "output_type": "stream",
     "text": [
      "We couldn't process this post because it was:  nan\n",
      "We couldn't process this post because it was:  nan\n",
      "We couldn't process this post because it was:  nan\n",
      "We couldn't process this post because it was:  nan\n",
      "We couldn't process this post because it was:  nan\n",
      "We couldn't process this post because it was:  nan\n",
      "We couldn't process this post because it was:  nan\n",
      "We couldn't process this post because it was:  nan\n"
     ]
    },
    {
     "name": "stderr",
     "output_type": "stream",
     "text": [
      "\r",
      " 55%|█████▍    | 401/732 [05:30<16:57,  3.08s/it]"
     ]
    },
    {
     "name": "stdout",
     "output_type": "stream",
     "text": [
      "We couldn't process this post because it was:  nan\n",
      "We couldn't process this post because it was:  nan\n",
      "We couldn't process this post because it was:  nan\n",
      "We couldn't process this post because it was:  nan\n"
     ]
    },
    {
     "name": "stderr",
     "output_type": "stream",
     "text": [
      "\r",
      " 55%|█████▍    | 402/732 [05:34<17:58,  3.27s/it]"
     ]
    },
    {
     "name": "stdout",
     "output_type": "stream",
     "text": [
      "We couldn't process this post because it was:  nan\n",
      "We couldn't process this post because it was:  nan\n",
      "We couldn't process this post because it was:  nan\n",
      "We couldn't process this post because it was:  nan\n"
     ]
    },
    {
     "name": "stderr",
     "output_type": "stream",
     "text": [
      "\r",
      " 55%|█████▌    | 403/732 [05:37<17:21,  3.17s/it]"
     ]
    },
    {
     "name": "stdout",
     "output_type": "stream",
     "text": [
      "We couldn't process this post because it was:  nan\n",
      "We couldn't process this post because it was:  nan\n",
      "We couldn't process this post because it was:  nan\n",
      "We couldn't process this post because it was:  nan\n",
      "We couldn't process this post because it was:  nan\n"
     ]
    },
    {
     "name": "stderr",
     "output_type": "stream",
     "text": [
      "\r",
      " 55%|█████▌    | 404/732 [05:40<17:40,  3.23s/it]"
     ]
    },
    {
     "name": "stdout",
     "output_type": "stream",
     "text": [
      "We couldn't process this post because it was:  nan\n",
      "We couldn't process this post because it was:  nan\n",
      "We couldn't process this post because it was:  nan\n",
      "We couldn't process this post because it was:  nan\n",
      "We couldn't process this post because it was:  nan\n",
      "We couldn't process this post because it was:  nan\n",
      "We couldn't process this post because it was:  nan\n"
     ]
    },
    {
     "name": "stderr",
     "output_type": "stream",
     "text": [
      "\r",
      " 55%|█████▌    | 405/732 [05:44<18:57,  3.48s/it]"
     ]
    },
    {
     "name": "stdout",
     "output_type": "stream",
     "text": [
      "We couldn't process this post because it was:  nan\n",
      "We couldn't process this post because it was:  nan\n",
      "We couldn't process this post because it was:  nan\n",
      "We couldn't process this post because it was:  nan\n",
      "We couldn't process this post because it was:  nan\n",
      "We couldn't process this post because it was:  nan\n",
      "We couldn't process this post because it was:  nan\n",
      "We couldn't process this post because it was:  nan\n"
     ]
    },
    {
     "name": "stderr",
     "output_type": "stream",
     "text": [
      "\r",
      " 55%|█████▌    | 406/732 [05:47<18:17,  3.37s/it]"
     ]
    },
    {
     "name": "stdout",
     "output_type": "stream",
     "text": [
      "We couldn't process this post because it was:  nan\n",
      "We couldn't process this post because it was:  nan\n",
      "We couldn't process this post because it was:  nan\n",
      "We couldn't process this post because it was:  nan\n"
     ]
    },
    {
     "name": "stderr",
     "output_type": "stream",
     "text": [
      "\r",
      " 56%|█████▌    | 407/732 [05:49<16:21,  3.02s/it]"
     ]
    },
    {
     "name": "stdout",
     "output_type": "stream",
     "text": [
      "We couldn't process this post because it was:  nan\n",
      "We couldn't process this post because it was:  nan\n",
      "We couldn't process this post because it was:  nan\n",
      "We couldn't process this post because it was:  nan\n",
      "We couldn't process this post because it was:  nan\n",
      "We couldn't process this post because it was:  nan\n"
     ]
    },
    {
     "name": "stderr",
     "output_type": "stream",
     "text": [
      "\r",
      " 56%|█████▌    | 408/732 [05:51<13:57,  2.58s/it]"
     ]
    },
    {
     "name": "stdout",
     "output_type": "stream",
     "text": [
      "We couldn't process this post because it was:  nan\n",
      "We couldn't process this post because it was:  nan\n",
      "We couldn't process this post because it was:  nan\n",
      "We couldn't process this post because it was:  nan\n",
      "We couldn't process this post because it was:  nan\n",
      "We couldn't process this post because it was:  nan\n"
     ]
    },
    {
     "name": "stderr",
     "output_type": "stream",
     "text": [
      "\r",
      " 56%|█████▌    | 409/732 [05:53<13:17,  2.47s/it]"
     ]
    },
    {
     "name": "stdout",
     "output_type": "stream",
     "text": [
      "We couldn't process this post because it was:  nan\n"
     ]
    },
    {
     "name": "stderr",
     "output_type": "stream",
     "text": [
      "\r",
      " 56%|█████▌    | 410/732 [05:56<13:13,  2.46s/it]"
     ]
    },
    {
     "name": "stdout",
     "output_type": "stream",
     "text": [
      "We couldn't process this post because it was:  nan\n",
      "We couldn't process this post because it was:  nan\n"
     ]
    },
    {
     "name": "stderr",
     "output_type": "stream",
     "text": [
      "\r",
      " 56%|█████▌    | 411/732 [05:57<11:52,  2.22s/it]"
     ]
    },
    {
     "name": "stdout",
     "output_type": "stream",
     "text": [
      "We couldn't process this post because it was:  nan\n",
      "We couldn't process this post because it was:  nan\n",
      "We couldn't process this post because it was:  nan\n",
      "We couldn't process this post because it was:  nan\n",
      "We couldn't process this post because it was:  nan\n",
      "We couldn't process this post because it was:  nan\n",
      "We couldn't process this post because it was:  nan\n",
      "We couldn't process this post because it was:  nan\n"
     ]
    },
    {
     "name": "stderr",
     "output_type": "stream",
     "text": [
      "\r",
      " 56%|█████▋    | 412/732 [05:59<11:21,  2.13s/it]"
     ]
    },
    {
     "name": "stdout",
     "output_type": "stream",
     "text": [
      "We couldn't process this post because it was:  nan\n",
      "We couldn't process this post because it was:  nan\n",
      "We couldn't process this post because it was:  nan\n",
      "We couldn't process this post because it was:  nan\n",
      "We couldn't process this post because it was:  nan\n"
     ]
    },
    {
     "name": "stderr",
     "output_type": "stream",
     "text": [
      "\r",
      " 56%|█████▋    | 413/732 [06:02<11:45,  2.21s/it]"
     ]
    },
    {
     "name": "stdout",
     "output_type": "stream",
     "text": [
      "We couldn't process this post because it was:  nan\n",
      "We couldn't process this post because it was:  nan\n",
      "We couldn't process this post because it was:  nan\n",
      "We couldn't process this post because it was:  nan\n",
      "We couldn't process this post because it was:  nan\n",
      "We couldn't process this post because it was:  nan\n",
      "We couldn't process this post because it was:  nan\n",
      "We couldn't process this post because it was:  nan\n",
      "We couldn't process this post because it was:  nan\n",
      "We couldn't process this post because it was:  nan\n",
      "We couldn't process this post because it was:  nan\n"
     ]
    },
    {
     "name": "stderr",
     "output_type": "stream",
     "text": [
      "\r",
      " 57%|█████▋    | 414/732 [06:06<15:35,  2.94s/it]"
     ]
    },
    {
     "name": "stdout",
     "output_type": "stream",
     "text": [
      "We couldn't process this post because it was:  nan\n",
      "We couldn't process this post because it was:  nan\n",
      "We couldn't process this post because it was:  nan\n",
      "We couldn't process this post because it was:  nan\n",
      "We couldn't process this post because it was:  nan\n",
      "We couldn't process this post because it was:  nan\n",
      "We couldn't process this post because it was:  nan\n",
      "We couldn't process this post because it was:  nan\n",
      "We couldn't process this post because it was:  nan\n",
      "We couldn't process this post because it was:  nan\n",
      "We couldn't process this post because it was:  nan\n",
      "We couldn't process this post because it was:  nan\n",
      "We couldn't process this post because it was:  nan\n",
      "We couldn't process this post because it was:  nan\n",
      "We couldn't process this post because it was:  nan\n",
      "We couldn't process this post because it was:  nan\n",
      "We couldn't process this post because it was:  nan\n",
      "We couldn't process this post because it was:  nan\n",
      "We couldn't process this post because it was:  nan\n"
     ]
    },
    {
     "name": "stderr",
     "output_type": "stream",
     "text": [
      "\r",
      " 57%|█████▋    | 415/732 [06:10<16:27,  3.11s/it]"
     ]
    },
    {
     "name": "stdout",
     "output_type": "stream",
     "text": [
      "We couldn't process this post because it was:  nan\n",
      "We couldn't process this post because it was:  nan\n",
      "We couldn't process this post because it was:  nan\n",
      "We couldn't process this post because it was:  nan\n",
      "We couldn't process this post because it was:  nan\n",
      "We couldn't process this post because it was:  nan\n",
      "We couldn't process this post because it was:  nan\n"
     ]
    },
    {
     "name": "stderr",
     "output_type": "stream",
     "text": [
      "\r",
      " 57%|█████▋    | 416/732 [06:13<16:46,  3.19s/it]"
     ]
    },
    {
     "name": "stdout",
     "output_type": "stream",
     "text": [
      "We couldn't process this post because it was:  nan\n",
      "We couldn't process this post because it was:  nan\n",
      "We couldn't process this post because it was:  nan\n",
      "We couldn't process this post because it was:  nan\n",
      "We couldn't process this post because it was:  nan\n",
      "We couldn't process this post because it was:  nan\n",
      "We couldn't process this post because it was:  nan\n"
     ]
    },
    {
     "name": "stderr",
     "output_type": "stream",
     "text": [
      "\r",
      " 57%|█████▋    | 417/732 [06:16<15:41,  2.99s/it]"
     ]
    },
    {
     "name": "stdout",
     "output_type": "stream",
     "text": [
      "We couldn't process this post because it was:  nan\n",
      "We couldn't process this post because it was:  nan\n",
      "We couldn't process this post because it was:  nan\n",
      "We couldn't process this post because it was:  nan\n",
      "We couldn't process this post because it was:  nan\n",
      "We couldn't process this post because it was:  nan\n",
      "We couldn't process this post because it was:  nan\n"
     ]
    },
    {
     "name": "stderr",
     "output_type": "stream",
     "text": [
      "\r",
      " 57%|█████▋    | 418/732 [06:17<13:21,  2.55s/it]"
     ]
    },
    {
     "name": "stdout",
     "output_type": "stream",
     "text": [
      "We couldn't process this post because it was:  nan\n",
      "We couldn't process this post because it was:  nan\n",
      "We couldn't process this post because it was:  nan\n",
      "We couldn't process this post because it was:  nan\n",
      "We couldn't process this post because it was:  nan\n",
      "We couldn't process this post because it was:  nan\n",
      "We couldn't process this post because it was:  nan\n"
     ]
    },
    {
     "name": "stderr",
     "output_type": "stream",
     "text": [
      "\r",
      " 57%|█████▋    | 419/732 [06:20<13:02,  2.50s/it]"
     ]
    },
    {
     "name": "stdout",
     "output_type": "stream",
     "text": [
      "We couldn't process this post because it was:  nan\n",
      "We couldn't process this post because it was:  nan\n"
     ]
    },
    {
     "name": "stderr",
     "output_type": "stream",
     "text": [
      " 58%|█████▊    | 421/732 [06:23<10:25,  2.01s/it]"
     ]
    },
    {
     "name": "stdout",
     "output_type": "stream",
     "text": [
      "We couldn't process this post because it was:  nan\n",
      "We couldn't process this post because it was:  nan\n",
      "We couldn't process this post because it was:  nan\n"
     ]
    },
    {
     "name": "stderr",
     "output_type": "stream",
     "text": [
      "\r",
      " 58%|█████▊    | 422/732 [06:24<09:47,  1.90s/it]"
     ]
    },
    {
     "name": "stdout",
     "output_type": "stream",
     "text": [
      "We couldn't process this post because it was:  nan\n",
      "We couldn't process this post because it was:  nan\n",
      "We couldn't process this post because it was:  nan\n",
      "We couldn't process this post because it was:  nan\n"
     ]
    },
    {
     "name": "stderr",
     "output_type": "stream",
     "text": [
      "\r",
      " 58%|█████▊    | 423/732 [06:26<10:06,  1.96s/it]"
     ]
    },
    {
     "name": "stdout",
     "output_type": "stream",
     "text": [
      "We couldn't process this post because it was:  nan\n",
      "We couldn't process this post because it was:  nan\n",
      "We couldn't process this post because it was:  nan\n",
      "We couldn't process this post because it was:  nan\n",
      "We couldn't process this post because it was:  nan\n",
      "We couldn't process this post because it was:  nan\n",
      "We couldn't process this post because it was:  nan\n",
      "We couldn't process this post because it was:  nan\n",
      "We couldn't process this post because it was:  nan\n",
      "We couldn't process this post because it was:  nan\n",
      "We couldn't process this post because it was:  nan\n"
     ]
    },
    {
     "name": "stderr",
     "output_type": "stream",
     "text": [
      "\r",
      " 58%|█████▊    | 424/732 [06:29<10:28,  2.04s/it]"
     ]
    },
    {
     "name": "stdout",
     "output_type": "stream",
     "text": [
      "We couldn't process this post because it was:  nan\n",
      "We couldn't process this post because it was:  nan\n",
      "We couldn't process this post because it was:  nan\n",
      "We couldn't process this post because it was:  nan\n",
      "We couldn't process this post because it was:  nan\n",
      "We couldn't process this post because it was:  nan\n",
      "We couldn't process this post because it was:  nan\n"
     ]
    },
    {
     "name": "stderr",
     "output_type": "stream",
     "text": [
      "\r",
      " 58%|█████▊    | 425/732 [06:31<11:14,  2.20s/it]"
     ]
    },
    {
     "name": "stdout",
     "output_type": "stream",
     "text": [
      "We couldn't process this post because it was:  nan\n",
      "We couldn't process this post because it was:  nan\n",
      "We couldn't process this post because it was:  nan\n",
      "We couldn't process this post because it was:  nan\n",
      "We couldn't process this post because it was:  nan\n"
     ]
    },
    {
     "name": "stderr",
     "output_type": "stream",
     "text": [
      "\r",
      " 58%|█████▊    | 426/732 [06:33<10:49,  2.12s/it]"
     ]
    },
    {
     "name": "stdout",
     "output_type": "stream",
     "text": [
      "We couldn't process this post because it was:  nan\n",
      "We couldn't process this post because it was:  nan\n",
      "We couldn't process this post because it was:  nan\n",
      "We couldn't process this post because it was:  nan\n",
      "We couldn't process this post because it was:  nan\n",
      "We couldn't process this post because it was:  nan\n",
      "We couldn't process this post because it was:  nan\n",
      "We couldn't process this post because it was:  nan\n",
      "We couldn't process this post because it was:  nan\n",
      "We couldn't process this post because it was:  nan\n"
     ]
    },
    {
     "name": "stderr",
     "output_type": "stream",
     "text": [
      "\r",
      " 58%|█████▊    | 427/732 [06:35<10:42,  2.11s/it]"
     ]
    },
    {
     "name": "stdout",
     "output_type": "stream",
     "text": [
      "We couldn't process this post because it was:  nan\n",
      "We couldn't process this post because it was:  nan\n",
      "We couldn't process this post because it was:  nan\n",
      "We couldn't process this post because it was:  nan\n",
      "We couldn't process this post because it was:  nan\n",
      "We couldn't process this post because it was:  nan\n",
      "We couldn't process this post because it was:  nan\n",
      "We couldn't process this post because it was:  nan\n",
      "We couldn't process this post because it was:  nan\n",
      "We couldn't process this post because it was:  nan\n",
      "We couldn't process this post because it was:  nan\n",
      "We couldn't process this post because it was:  nan\n"
     ]
    },
    {
     "name": "stderr",
     "output_type": "stream",
     "text": [
      "\r",
      " 58%|█████▊    | 428/732 [06:39<12:24,  2.45s/it]"
     ]
    },
    {
     "name": "stdout",
     "output_type": "stream",
     "text": [
      "We couldn't process this post because it was:  nan\n",
      "We couldn't process this post because it was:  nan\n",
      "We couldn't process this post because it was:  nan\n",
      "We couldn't process this post because it was:  nan\n",
      "We couldn't process this post because it was:  nan\n",
      "We couldn't process this post because it was:  nan\n",
      "We couldn't process this post because it was:  nan\n",
      "We couldn't process this post because it was:  nan\n",
      "We couldn't process this post because it was:  nan\n",
      "We couldn't process this post because it was:  nan\n",
      "We couldn't process this post because it was:  nan\n",
      "We couldn't process this post because it was:  nan\n",
      "We couldn't process this post because it was:  nan\n"
     ]
    },
    {
     "name": "stderr",
     "output_type": "stream",
     "text": [
      "\r",
      " 59%|█████▊    | 429/732 [06:40<11:11,  2.22s/it]"
     ]
    },
    {
     "name": "stdout",
     "output_type": "stream",
     "text": [
      "We couldn't process this post because it was:  nan\n",
      "We couldn't process this post because it was:  nan\n",
      "We couldn't process this post because it was:  nan\n",
      "We couldn't process this post because it was:  nan\n",
      "We couldn't process this post because it was:  nan\n",
      "We couldn't process this post because it was:  nan\n",
      "We couldn't process this post because it was:  nan\n",
      "We couldn't process this post because it was:  nan\n"
     ]
    },
    {
     "name": "stderr",
     "output_type": "stream",
     "text": [
      "\r",
      " 59%|█████▊    | 430/732 [06:42<10:51,  2.16s/it]"
     ]
    },
    {
     "name": "stdout",
     "output_type": "stream",
     "text": [
      "We couldn't process this post because it was:  nan\n",
      "We couldn't process this post because it was:  nan\n",
      "We couldn't process this post because it was:  nan\n",
      "We couldn't process this post because it was:  nan\n",
      "We couldn't process this post because it was:  nan\n",
      "We couldn't process this post because it was:  nan\n",
      "We couldn't process this post because it was:  nan\n",
      "We couldn't process this post because it was:  nan\n",
      "We couldn't process this post because it was:  nan\n"
     ]
    },
    {
     "name": "stderr",
     "output_type": "stream",
     "text": [
      "\r",
      " 59%|█████▉    | 431/732 [06:44<09:51,  1.96s/it]"
     ]
    },
    {
     "name": "stdout",
     "output_type": "stream",
     "text": [
      "We couldn't process this post because it was:  nan\n",
      "We couldn't process this post because it was:  nan\n",
      "We couldn't process this post because it was:  nan\n",
      "We couldn't process this post because it was:  nan\n",
      "We couldn't process this post because it was:  nan\n",
      "We couldn't process this post because it was:  nan\n"
     ]
    },
    {
     "name": "stderr",
     "output_type": "stream",
     "text": [
      "\r",
      " 59%|█████▉    | 432/732 [06:47<12:14,  2.45s/it]"
     ]
    },
    {
     "name": "stdout",
     "output_type": "stream",
     "text": [
      "We couldn't process this post because it was:  nan\n",
      "We couldn't process this post because it was:  nan\n",
      "We couldn't process this post because it was:  nan\n",
      "We couldn't process this post because it was:  nan\n",
      "We couldn't process this post because it was:  nan\n",
      "We couldn't process this post because it was:  nan\n",
      "We couldn't process this post because it was:  nan\n"
     ]
    },
    {
     "name": "stderr",
     "output_type": "stream",
     "text": [
      "\r",
      " 59%|█████▉    | 433/732 [06:50<12:41,  2.55s/it]"
     ]
    },
    {
     "name": "stdout",
     "output_type": "stream",
     "text": [
      "We couldn't process this post because it was:  nan\n",
      "We couldn't process this post because it was:  nan\n",
      "We couldn't process this post because it was:  nan\n",
      "We couldn't process this post because it was:  nan\n",
      "We couldn't process this post because it was:  nan\n",
      "We couldn't process this post because it was:  nan\n",
      "We couldn't process this post because it was:  nan\n",
      "We couldn't process this post because it was:  nan\n",
      "We couldn't process this post because it was:  nan\n"
     ]
    },
    {
     "name": "stderr",
     "output_type": "stream",
     "text": [
      "\r",
      " 59%|█████▉    | 434/732 [06:53<12:36,  2.54s/it]"
     ]
    },
    {
     "name": "stdout",
     "output_type": "stream",
     "text": [
      "We couldn't process this post because it was:  nan\n",
      "We couldn't process this post because it was:  nan\n",
      "We couldn't process this post because it was:  nan\n",
      "We couldn't process this post because it was:  nan\n"
     ]
    },
    {
     "name": "stderr",
     "output_type": "stream",
     "text": [
      "\r",
      " 59%|█████▉    | 435/732 [06:54<11:05,  2.24s/it]"
     ]
    },
    {
     "name": "stdout",
     "output_type": "stream",
     "text": [
      "We couldn't process this post because it was:  nan\n",
      "We couldn't process this post because it was:  nan\n",
      "We couldn't process this post because it was:  nan\n",
      "We couldn't process this post because it was:  nan\n",
      "We couldn't process this post because it was:  nan\n",
      "We couldn't process this post because it was:  nan\n",
      "We couldn't process this post because it was:  nan\n"
     ]
    },
    {
     "name": "stderr",
     "output_type": "stream",
     "text": [
      "\r",
      " 60%|█████▉    | 436/732 [06:56<11:01,  2.24s/it]"
     ]
    },
    {
     "name": "stdout",
     "output_type": "stream",
     "text": [
      "We couldn't process this post because it was:  nan\n",
      "We couldn't process this post because it was:  nan\n",
      "We couldn't process this post because it was:  nan\n",
      "We couldn't process this post because it was:  nan\n"
     ]
    },
    {
     "name": "stderr",
     "output_type": "stream",
     "text": [
      "\r",
      " 60%|█████▉    | 437/732 [06:59<12:05,  2.46s/it]"
     ]
    },
    {
     "name": "stdout",
     "output_type": "stream",
     "text": [
      "We couldn't process this post because it was:  nan\n",
      "We couldn't process this post because it was:  nan\n",
      "We couldn't process this post because it was:  nan\n",
      "We couldn't process this post because it was:  nan\n",
      "We couldn't process this post because it was:  nan\n"
     ]
    },
    {
     "name": "stderr",
     "output_type": "stream",
     "text": [
      "\r",
      " 60%|█████▉    | 438/732 [07:01<10:25,  2.13s/it]"
     ]
    },
    {
     "name": "stdout",
     "output_type": "stream",
     "text": [
      "We couldn't process this post because it was:  nan\n",
      "We couldn't process this post because it was:  nan\n",
      "We couldn't process this post because it was:  nan\n",
      "We couldn't process this post because it was:  nan\n",
      "We couldn't process this post because it was:  nan\n",
      "We couldn't process this post because it was:  nan\n",
      "We couldn't process this post because it was:  nan\n",
      "We couldn't process this post because it was:  nan\n",
      "We couldn't process this post because it was:  nan\n",
      "We couldn't process this post because it was:  nan\n"
     ]
    },
    {
     "name": "stderr",
     "output_type": "stream",
     "text": [
      "\r",
      " 60%|█████▉    | 439/732 [07:02<09:20,  1.91s/it]"
     ]
    },
    {
     "name": "stdout",
     "output_type": "stream",
     "text": [
      "We couldn't process this post because it was:  nan\n",
      "We couldn't process this post because it was:  nan\n"
     ]
    },
    {
     "name": "stderr",
     "output_type": "stream",
     "text": [
      "\r",
      " 60%|██████    | 440/732 [07:05<10:10,  2.09s/it]"
     ]
    },
    {
     "name": "stdout",
     "output_type": "stream",
     "text": [
      "We couldn't process this post because it was:  nan\n",
      "We couldn't process this post because it was:  nan\n",
      "We couldn't process this post because it was:  nan\n",
      "We couldn't process this post because it was:  nan\n",
      "We couldn't process this post because it was:  nan\n",
      "We couldn't process this post because it was:  nan\n",
      "We couldn't process this post because it was:  nan\n",
      "We couldn't process this post because it was:  nan\n",
      "We couldn't process this post because it was:  nan\n"
     ]
    },
    {
     "name": "stderr",
     "output_type": "stream",
     "text": [
      "\r",
      " 60%|██████    | 441/732 [07:06<09:11,  1.90s/it]"
     ]
    },
    {
     "name": "stdout",
     "output_type": "stream",
     "text": [
      "We couldn't process this post because it was:  nan\n",
      "We couldn't process this post because it was:  nan\n",
      "We couldn't process this post because it was:  nan\n",
      "We couldn't process this post because it was:  nan\n",
      "We couldn't process this post because it was:  nan\n"
     ]
    },
    {
     "name": "stderr",
     "output_type": "stream",
     "text": [
      "\r",
      " 60%|██████    | 442/732 [07:08<08:36,  1.78s/it]"
     ]
    },
    {
     "name": "stdout",
     "output_type": "stream",
     "text": [
      "We couldn't process this post because it was:  nan\n",
      "We couldn't process this post because it was:  nan\n",
      "We couldn't process this post because it was:  nan\n",
      "We couldn't process this post because it was:  nan\n",
      "We couldn't process this post because it was:  nan\n",
      "We couldn't process this post because it was:  nan\n",
      "We couldn't process this post because it was:  nan\n",
      "We couldn't process this post because it was:  nan\n",
      "We couldn't process this post because it was:  nan\n"
     ]
    },
    {
     "name": "stderr",
     "output_type": "stream",
     "text": [
      "\r",
      " 61%|██████    | 443/732 [07:10<09:31,  1.98s/it]"
     ]
    },
    {
     "name": "stdout",
     "output_type": "stream",
     "text": [
      "We couldn't process this post because it was:  nan\n",
      "We couldn't process this post because it was:  nan\n",
      "We couldn't process this post because it was:  nan\n",
      "We couldn't process this post because it was:  nan\n",
      "We couldn't process this post because it was:  nan\n",
      "We couldn't process this post because it was:  nan\n",
      "We couldn't process this post because it was:  nan\n",
      "We couldn't process this post because it was:  nan\n",
      "We couldn't process this post because it was:  nan\n",
      "We couldn't process this post because it was:  nan\n"
     ]
    },
    {
     "name": "stderr",
     "output_type": "stream",
     "text": [
      "\r",
      " 61%|██████    | 444/732 [07:12<09:07,  1.90s/it]"
     ]
    },
    {
     "name": "stdout",
     "output_type": "stream",
     "text": [
      "We couldn't process this post because it was:  nan\n",
      "We couldn't process this post because it was:  nan\n",
      "We couldn't process this post because it was:  nan\n",
      "We couldn't process this post because it was:  nan\n",
      "We couldn't process this post because it was:  nan\n",
      "We couldn't process this post because it was:  nan\n",
      "We couldn't process this post because it was:  nan\n"
     ]
    },
    {
     "name": "stderr",
     "output_type": "stream",
     "text": [
      "\r",
      " 61%|██████    | 445/732 [07:14<09:58,  2.09s/it]"
     ]
    },
    {
     "name": "stdout",
     "output_type": "stream",
     "text": [
      "We couldn't process this post because it was:  nan\n",
      "We couldn't process this post because it was:  nan\n",
      "We couldn't process this post because it was:  nan\n",
      "We couldn't process this post because it was:  nan\n"
     ]
    },
    {
     "name": "stderr",
     "output_type": "stream",
     "text": [
      "\r",
      " 61%|██████    | 446/732 [07:18<11:52,  2.49s/it]"
     ]
    },
    {
     "name": "stdout",
     "output_type": "stream",
     "text": [
      "We couldn't process this post because it was:  nan\n",
      "We couldn't process this post because it was:  nan\n",
      "We couldn't process this post because it was:  nan\n",
      "We couldn't process this post because it was:  nan\n",
      "We couldn't process this post because it was:  nan\n",
      "We couldn't process this post because it was:  nan\n",
      "We couldn't process this post because it was:  nan\n",
      "We couldn't process this post because it was:  nan\n",
      "We couldn't process this post because it was:  nan\n",
      "We couldn't process this post because it was:  nan\n"
     ]
    },
    {
     "name": "stderr",
     "output_type": "stream",
     "text": [
      "\r",
      " 61%|██████    | 447/732 [07:20<10:59,  2.31s/it]"
     ]
    },
    {
     "name": "stdout",
     "output_type": "stream",
     "text": [
      "We couldn't process this post because it was:  nan\n",
      "We couldn't process this post because it was:  nan\n",
      "We couldn't process this post because it was:  nan\n",
      "We couldn't process this post because it was:  nan\n",
      "We couldn't process this post because it was:  nan\n"
     ]
    },
    {
     "name": "stderr",
     "output_type": "stream",
     "text": [
      "\r",
      " 61%|██████    | 448/732 [07:21<10:11,  2.15s/it]"
     ]
    },
    {
     "name": "stdout",
     "output_type": "stream",
     "text": [
      "We couldn't process this post because it was:  nan\n",
      "We couldn't process this post because it was:  nan\n",
      "We couldn't process this post because it was:  nan\n",
      "We couldn't process this post because it was:  nan\n",
      "We couldn't process this post because it was:  nan\n",
      "We couldn't process this post because it was:  nan\n",
      "We couldn't process this post because it was:  nan\n",
      "We couldn't process this post because it was:  nan\n"
     ]
    },
    {
     "name": "stderr",
     "output_type": "stream",
     "text": [
      "\r",
      " 61%|██████▏   | 449/732 [07:23<09:39,  2.05s/it]"
     ]
    },
    {
     "name": "stdout",
     "output_type": "stream",
     "text": [
      "We couldn't process this post because it was:  nan\n",
      "We couldn't process this post because it was:  nan\n",
      "We couldn't process this post because it was:  nan\n"
     ]
    },
    {
     "name": "stderr",
     "output_type": "stream",
     "text": [
      "\r",
      " 61%|██████▏   | 450/732 [07:25<09:09,  1.95s/it]"
     ]
    },
    {
     "name": "stdout",
     "output_type": "stream",
     "text": [
      "We couldn't process this post because it was:  nan\n",
      "We couldn't process this post because it was:  nan\n",
      "We couldn't process this post because it was:  nan\n",
      "We couldn't process this post because it was:  nan\n",
      "We couldn't process this post because it was:  nan\n",
      "We couldn't process this post because it was:  nan\n"
     ]
    },
    {
     "name": "stderr",
     "output_type": "stream",
     "text": [
      "\r",
      " 62%|██████▏   | 451/732 [07:27<08:47,  1.88s/it]"
     ]
    },
    {
     "name": "stdout",
     "output_type": "stream",
     "text": [
      "We couldn't process this post because it was:  nan\n",
      "We couldn't process this post because it was:  nan\n",
      "We couldn't process this post because it was:  nan\n",
      "We couldn't process this post because it was:  nan\n"
     ]
    },
    {
     "name": "stderr",
     "output_type": "stream",
     "text": [
      "\r",
      " 62%|██████▏   | 452/732 [07:28<08:22,  1.79s/it]"
     ]
    },
    {
     "name": "stdout",
     "output_type": "stream",
     "text": [
      "We couldn't process this post because it was:  nan\n",
      "We couldn't process this post because it was:  nan\n",
      "We couldn't process this post because it was:  nan\n",
      "We couldn't process this post because it was:  nan\n",
      "We couldn't process this post because it was:  nan\n"
     ]
    },
    {
     "name": "stderr",
     "output_type": "stream",
     "text": [
      "\r",
      " 62%|██████▏   | 453/732 [07:30<08:38,  1.86s/it]"
     ]
    },
    {
     "name": "stdout",
     "output_type": "stream",
     "text": [
      "We couldn't process this post because it was:  nan\n",
      "We couldn't process this post because it was:  nan\n",
      "We couldn't process this post because it was:  nan\n",
      "We couldn't process this post because it was:  nan\n",
      "We couldn't process this post because it was:  nan\n"
     ]
    },
    {
     "name": "stderr",
     "output_type": "stream",
     "text": [
      "\r",
      " 62%|██████▏   | 454/732 [07:32<08:46,  1.89s/it]"
     ]
    },
    {
     "name": "stdout",
     "output_type": "stream",
     "text": [
      "We couldn't process this post because it was:  nan\n",
      "We couldn't process this post because it was:  nan\n",
      "We couldn't process this post because it was:  nan\n",
      "We couldn't process this post because it was:  nan\n"
     ]
    },
    {
     "name": "stderr",
     "output_type": "stream",
     "text": [
      "\r",
      " 62%|██████▏   | 455/732 [07:34<08:55,  1.93s/it]"
     ]
    },
    {
     "name": "stdout",
     "output_type": "stream",
     "text": [
      "We couldn't process this post because it was:  nan\n",
      "We couldn't process this post because it was:  nan\n",
      "We couldn't process this post because it was:  nan\n",
      "We couldn't process this post because it was:  nan\n",
      "We couldn't process this post because it was:  nan\n",
      "We couldn't process this post because it was:  nan\n",
      "We couldn't process this post because it was:  nan\n",
      "We couldn't process this post because it was:  nan\n",
      "We couldn't process this post because it was:  nan\n",
      "We couldn't process this post because it was:  nan\n",
      "We couldn't process this post because it was:  nan\n",
      "We couldn't process this post because it was:  nan\n"
     ]
    },
    {
     "name": "stderr",
     "output_type": "stream",
     "text": [
      "\r",
      " 62%|██████▏   | 456/732 [07:36<08:39,  1.88s/it]"
     ]
    },
    {
     "name": "stdout",
     "output_type": "stream",
     "text": [
      "We couldn't process this post because it was:  nan\n",
      "We couldn't process this post because it was:  nan\n",
      "We couldn't process this post because it was:  nan\n",
      "We couldn't process this post because it was:  nan\n",
      "We couldn't process this post because it was:  nan\n"
     ]
    },
    {
     "name": "stderr",
     "output_type": "stream",
     "text": [
      "\r",
      " 62%|██████▏   | 457/732 [07:37<08:02,  1.75s/it]"
     ]
    },
    {
     "name": "stdout",
     "output_type": "stream",
     "text": [
      "We couldn't process this post because it was:  nan\n",
      "We couldn't process this post because it was:  nan\n",
      "We couldn't process this post because it was:  nan\n",
      "We couldn't process this post because it was:  nan\n",
      "We couldn't process this post because it was:  nan\n",
      "We couldn't process this post because it was:  nan\n",
      "We couldn't process this post because it was:  nan\n",
      "We couldn't process this post because it was:  nan\n"
     ]
    },
    {
     "name": "stderr",
     "output_type": "stream",
     "text": [
      "\r",
      " 63%|██████▎   | 458/732 [07:39<07:52,  1.72s/it]"
     ]
    },
    {
     "name": "stdout",
     "output_type": "stream",
     "text": [
      "We couldn't process this post because it was:  nan\n",
      "We couldn't process this post because it was:  nan\n",
      "We couldn't process this post because it was:  nan\n",
      "We couldn't process this post because it was:  nan\n"
     ]
    },
    {
     "name": "stderr",
     "output_type": "stream",
     "text": [
      "\r",
      " 63%|██████▎   | 459/732 [07:40<07:05,  1.56s/it]"
     ]
    },
    {
     "name": "stdout",
     "output_type": "stream",
     "text": [
      "We couldn't process this post because it was:  nan\n",
      "We couldn't process this post because it was:  nan\n",
      "We couldn't process this post because it was:  nan\n",
      "We couldn't process this post because it was:  nan\n",
      "We couldn't process this post because it was:  nan\n",
      "We couldn't process this post because it was:  nan\n"
     ]
    },
    {
     "name": "stderr",
     "output_type": "stream",
     "text": [
      "\r",
      " 63%|██████▎   | 460/732 [07:41<06:13,  1.37s/it]"
     ]
    },
    {
     "name": "stdout",
     "output_type": "stream",
     "text": [
      "We couldn't process this post because it was:  nan\n",
      "We couldn't process this post because it was:  nan\n",
      "We couldn't process this post because it was:  nan\n",
      "We couldn't process this post because it was:  nan\n"
     ]
    },
    {
     "name": "stderr",
     "output_type": "stream",
     "text": [
      "\r",
      " 63%|██████▎   | 461/732 [07:42<05:53,  1.30s/it]"
     ]
    },
    {
     "name": "stdout",
     "output_type": "stream",
     "text": [
      "We couldn't process this post because it was:  nan\n",
      "We couldn't process this post because it was:  nan\n",
      "We couldn't process this post because it was:  nan\n",
      "We couldn't process this post because it was:  nan\n",
      "We couldn't process this post because it was:  nan\n"
     ]
    },
    {
     "name": "stderr",
     "output_type": "stream",
     "text": [
      "\r",
      " 63%|██████▎   | 462/732 [07:45<07:04,  1.57s/it]"
     ]
    },
    {
     "name": "stdout",
     "output_type": "stream",
     "text": [
      "We couldn't process this post because it was:  nan\n",
      "We couldn't process this post because it was:  nan\n",
      "We couldn't process this post because it was:  nan\n",
      "We couldn't process this post because it was:  nan\n",
      "We couldn't process this post because it was:  nan\n"
     ]
    },
    {
     "name": "stderr",
     "output_type": "stream",
     "text": [
      "\r",
      " 63%|██████▎   | 463/732 [07:46<06:57,  1.55s/it]"
     ]
    },
    {
     "name": "stdout",
     "output_type": "stream",
     "text": [
      "We couldn't process this post because it was:  nan\n",
      "We couldn't process this post because it was:  nan\n",
      "We couldn't process this post because it was:  nan\n"
     ]
    },
    {
     "name": "stderr",
     "output_type": "stream",
     "text": [
      "\r",
      " 63%|██████▎   | 464/732 [07:47<06:18,  1.41s/it]"
     ]
    },
    {
     "name": "stdout",
     "output_type": "stream",
     "text": [
      "We couldn't process this post because it was:  nan\n",
      "We couldn't process this post because it was:  nan\n",
      "We couldn't process this post because it was:  nan\n",
      "We couldn't process this post because it was:  nan\n",
      "We couldn't process this post because it was:  nan\n",
      "We couldn't process this post because it was:  nan\n"
     ]
    },
    {
     "name": "stderr",
     "output_type": "stream",
     "text": [
      "\r",
      " 64%|██████▎   | 465/732 [07:48<05:41,  1.28s/it]"
     ]
    },
    {
     "name": "stdout",
     "output_type": "stream",
     "text": [
      "We couldn't process this post because it was:  nan\n",
      "We couldn't process this post because it was:  nan\n",
      "We couldn't process this post because it was:  nan\n",
      "We couldn't process this post because it was:  nan\n",
      "We couldn't process this post because it was:  nan\n"
     ]
    },
    {
     "name": "stderr",
     "output_type": "stream",
     "text": [
      "\r",
      " 64%|██████▎   | 466/732 [07:50<06:07,  1.38s/it]"
     ]
    },
    {
     "name": "stdout",
     "output_type": "stream",
     "text": [
      "We couldn't process this post because it was:  nan\n",
      "We couldn't process this post because it was:  nan\n",
      "We couldn't process this post because it was:  nan\n",
      "We couldn't process this post because it was:  nan\n",
      "We couldn't process this post because it was:  nan\n",
      "We couldn't process this post because it was:  nan\n",
      "We couldn't process this post because it was:  nan\n",
      "We couldn't process this post because it was:  nan\n",
      "We couldn't process this post because it was:  nan\n",
      "We couldn't process this post because it was:  nan\n"
     ]
    },
    {
     "name": "stderr",
     "output_type": "stream",
     "text": [
      "\r",
      " 64%|██████▍   | 467/732 [07:51<05:40,  1.28s/it]"
     ]
    },
    {
     "name": "stdout",
     "output_type": "stream",
     "text": [
      "We couldn't process this post because it was:  nan\n",
      "We couldn't process this post because it was:  nan\n"
     ]
    },
    {
     "name": "stderr",
     "output_type": "stream",
     "text": [
      "\r",
      " 64%|██████▍   | 468/732 [07:52<05:44,  1.30s/it]"
     ]
    },
    {
     "name": "stdout",
     "output_type": "stream",
     "text": [
      "We couldn't process this post because it was:  nan\n",
      "We couldn't process this post because it was:  nan\n",
      "We couldn't process this post because it was:  nan\n",
      "We couldn't process this post because it was:  nan\n",
      "We couldn't process this post because it was:  nan\n",
      "We couldn't process this post because it was:  nan\n",
      "We couldn't process this post because it was:  nan\n",
      "We couldn't process this post because it was:  nan\n"
     ]
    },
    {
     "name": "stderr",
     "output_type": "stream",
     "text": [
      "\r",
      " 64%|██████▍   | 469/732 [07:54<06:35,  1.50s/it]"
     ]
    },
    {
     "name": "stdout",
     "output_type": "stream",
     "text": [
      "We couldn't process this post because it was:  nan\n",
      "We couldn't process this post because it was:  nan\n",
      "We couldn't process this post because it was:  nan\n",
      "We couldn't process this post because it was:  nan\n",
      "We couldn't process this post because it was:  nan\n",
      "We couldn't process this post because it was:  nan\n",
      "We couldn't process this post because it was:  nan\n",
      "We couldn't process this post because it was:  nan\n",
      "We couldn't process this post because it was:  nan\n"
     ]
    },
    {
     "name": "stderr",
     "output_type": "stream",
     "text": [
      "\r",
      " 64%|██████▍   | 470/732 [07:55<06:01,  1.38s/it]"
     ]
    },
    {
     "name": "stdout",
     "output_type": "stream",
     "text": [
      "We couldn't process this post because it was:  nan\n",
      "We couldn't process this post because it was:  nan\n",
      "We couldn't process this post because it was:  nan\n",
      "We couldn't process this post because it was:  nan\n",
      "We couldn't process this post because it was:  nan\n"
     ]
    },
    {
     "name": "stderr",
     "output_type": "stream",
     "text": [
      "\r",
      " 64%|██████▍   | 471/732 [07:56<05:44,  1.32s/it]"
     ]
    },
    {
     "name": "stdout",
     "output_type": "stream",
     "text": [
      "We couldn't process this post because it was:  nan\n",
      "We couldn't process this post because it was:  nan\n",
      "We couldn't process this post because it was:  nan\n",
      "We couldn't process this post because it was:  nan\n",
      "We couldn't process this post because it was:  nan\n",
      "We couldn't process this post because it was:  nan\n",
      "We couldn't process this post because it was:  nan\n",
      "We couldn't process this post because it was:  nan\n"
     ]
    },
    {
     "name": "stderr",
     "output_type": "stream",
     "text": [
      "\r",
      " 64%|██████▍   | 472/732 [07:58<06:14,  1.44s/it]"
     ]
    },
    {
     "name": "stdout",
     "output_type": "stream",
     "text": [
      "We couldn't process this post because it was:  nan\n",
      "We couldn't process this post because it was:  nan\n",
      "We couldn't process this post because it was:  nan\n",
      "We couldn't process this post because it was:  nan\n",
      "We couldn't process this post because it was:  nan\n"
     ]
    },
    {
     "name": "stderr",
     "output_type": "stream",
     "text": [
      "\r",
      " 65%|██████▍   | 473/732 [07:59<06:08,  1.42s/it]"
     ]
    },
    {
     "name": "stdout",
     "output_type": "stream",
     "text": [
      "We couldn't process this post because it was:  nan\n",
      "We couldn't process this post because it was:  nan\n"
     ]
    },
    {
     "name": "stderr",
     "output_type": "stream",
     "text": [
      "\r",
      " 65%|██████▍   | 474/732 [08:00<05:22,  1.25s/it]"
     ]
    },
    {
     "name": "stdout",
     "output_type": "stream",
     "text": [
      "We couldn't process this post because it was:  nan\n",
      "We couldn't process this post because it was:  nan\n",
      "We couldn't process this post because it was:  nan\n",
      "We couldn't process this post because it was:  nan\n",
      "We couldn't process this post because it was:  nan\n",
      "We couldn't process this post because it was:  nan\n",
      "We couldn't process this post because it was:  nan\n"
     ]
    },
    {
     "name": "stderr",
     "output_type": "stream",
     "text": [
      "\r",
      " 65%|██████▍   | 475/732 [08:02<05:29,  1.28s/it]"
     ]
    },
    {
     "name": "stdout",
     "output_type": "stream",
     "text": [
      "We couldn't process this post because it was:  nan\n",
      "We couldn't process this post because it was:  nan\n",
      "We couldn't process this post because it was:  nan\n",
      "We couldn't process this post because it was:  nan\n",
      "We couldn't process this post because it was:  nan\n",
      "We couldn't process this post because it was:  nan\n"
     ]
    },
    {
     "name": "stderr",
     "output_type": "stream",
     "text": [
      "\r",
      " 65%|██████▌   | 476/732 [08:03<05:54,  1.38s/it]"
     ]
    },
    {
     "name": "stdout",
     "output_type": "stream",
     "text": [
      "We couldn't process this post because it was:  nan\n",
      "We couldn't process this post because it was:  nan\n",
      "We couldn't process this post because it was:  nan\n",
      "We couldn't process this post because it was:  nan\n",
      "We couldn't process this post because it was:  nan\n",
      "We couldn't process this post because it was:  nan\n",
      "We couldn't process this post because it was:  nan\n"
     ]
    },
    {
     "name": "stderr",
     "output_type": "stream",
     "text": [
      "\r",
      " 65%|██████▌   | 477/732 [08:05<06:11,  1.46s/it]"
     ]
    },
    {
     "name": "stdout",
     "output_type": "stream",
     "text": [
      "We couldn't process this post because it was:  nan\n",
      "We couldn't process this post because it was:  nan\n",
      "We couldn't process this post because it was:  nan\n"
     ]
    },
    {
     "name": "stderr",
     "output_type": "stream",
     "text": [
      "\r",
      " 65%|██████▌   | 478/732 [08:07<06:40,  1.58s/it]"
     ]
    },
    {
     "name": "stdout",
     "output_type": "stream",
     "text": [
      "We couldn't process this post because it was:  nan\n",
      "We couldn't process this post because it was:  nan\n",
      "We couldn't process this post because it was:  nan\n"
     ]
    },
    {
     "name": "stderr",
     "output_type": "stream",
     "text": [
      "\r",
      " 65%|██████▌   | 479/732 [08:08<06:35,  1.56s/it]"
     ]
    },
    {
     "name": "stdout",
     "output_type": "stream",
     "text": [
      "We couldn't process this post because it was:  nan\n",
      "We couldn't process this post because it was:  nan\n",
      "We couldn't process this post because it was:  nan\n"
     ]
    },
    {
     "name": "stderr",
     "output_type": "stream",
     "text": [
      "\r",
      " 66%|██████▌   | 480/732 [08:10<06:58,  1.66s/it]"
     ]
    },
    {
     "name": "stdout",
     "output_type": "stream",
     "text": [
      "We couldn't process this post because it was:  nan\n",
      "We couldn't process this post because it was:  nan\n",
      "We couldn't process this post because it was:  nan\n",
      "We couldn't process this post because it was:  nan\n"
     ]
    },
    {
     "name": "stderr",
     "output_type": "stream",
     "text": [
      "\r",
      " 66%|██████▌   | 481/732 [08:11<06:12,  1.48s/it]"
     ]
    },
    {
     "name": "stdout",
     "output_type": "stream",
     "text": [
      "We couldn't process this post because it was:  nan\n",
      "We couldn't process this post because it was:  nan\n",
      "We couldn't process this post because it was:  nan\n",
      "We couldn't process this post because it was:  nan\n",
      "We couldn't process this post because it was:  nan\n",
      "We couldn't process this post because it was:  nan\n",
      "We couldn't process this post because it was:  nan\n"
     ]
    },
    {
     "name": "stderr",
     "output_type": "stream",
     "text": [
      "\r",
      " 66%|██████▌   | 482/732 [08:15<08:20,  2.00s/it]"
     ]
    },
    {
     "name": "stdout",
     "output_type": "stream",
     "text": [
      "We couldn't process this post because it was:  nan\n",
      "We couldn't process this post because it was:  nan\n",
      "We couldn't process this post because it was:  nan\n",
      "We couldn't process this post because it was:  nan\n",
      "We couldn't process this post because it was:  nan\n",
      "We couldn't process this post because it was:  nan\n",
      "We couldn't process this post because it was:  nan\n"
     ]
    },
    {
     "name": "stderr",
     "output_type": "stream",
     "text": [
      "\r",
      " 66%|██████▌   | 483/732 [08:16<07:24,  1.79s/it]"
     ]
    },
    {
     "name": "stdout",
     "output_type": "stream",
     "text": [
      "We couldn't process this post because it was:  nan\n",
      "We couldn't process this post because it was:  nan\n",
      "We couldn't process this post because it was:  nan\n",
      "We couldn't process this post because it was:  nan\n"
     ]
    },
    {
     "name": "stderr",
     "output_type": "stream",
     "text": [
      "\r",
      " 66%|██████▌   | 484/732 [08:17<07:01,  1.70s/it]"
     ]
    },
    {
     "name": "stdout",
     "output_type": "stream",
     "text": [
      "We couldn't process this post because it was:  nan\n",
      "We couldn't process this post because it was:  nan\n",
      "We couldn't process this post because it was:  nan\n"
     ]
    },
    {
     "name": "stderr",
     "output_type": "stream",
     "text": [
      "\r",
      " 66%|██████▋   | 485/732 [08:19<07:10,  1.74s/it]"
     ]
    },
    {
     "name": "stdout",
     "output_type": "stream",
     "text": [
      "We couldn't process this post because it was:  nan\n",
      "We couldn't process this post because it was:  nan\n",
      "We couldn't process this post because it was:  nan\n",
      "We couldn't process this post because it was:  nan\n",
      "We couldn't process this post because it was:  nan\n",
      "We couldn't process this post because it was:  nan\n",
      "We couldn't process this post because it was:  nan\n",
      "We couldn't process this post because it was:  nan\n"
     ]
    },
    {
     "name": "stderr",
     "output_type": "stream",
     "text": [
      "\r",
      " 66%|██████▋   | 486/732 [08:21<07:37,  1.86s/it]"
     ]
    },
    {
     "name": "stdout",
     "output_type": "stream",
     "text": [
      "We couldn't process this post because it was:  nan\n",
      "We couldn't process this post because it was:  nan\n",
      "We couldn't process this post because it was:  nan\n",
      "We couldn't process this post because it was:  nan\n",
      "We couldn't process this post because it was:  nan\n",
      "We couldn't process this post because it was:  nan\n",
      "We couldn't process this post because it was:  nan\n"
     ]
    },
    {
     "name": "stderr",
     "output_type": "stream",
     "text": [
      "\r",
      " 67%|██████▋   | 487/732 [08:23<07:21,  1.80s/it]"
     ]
    },
    {
     "name": "stdout",
     "output_type": "stream",
     "text": [
      "We couldn't process this post because it was:  nan\n",
      "We couldn't process this post because it was:  nan\n",
      "We couldn't process this post because it was:  nan\n",
      "We couldn't process this post because it was:  nan\n",
      "We couldn't process this post because it was:  nan\n",
      "We couldn't process this post because it was:  nan\n",
      "We couldn't process this post because it was:  nan\n",
      "We couldn't process this post because it was:  nan\n",
      "We couldn't process this post because it was:  nan\n"
     ]
    },
    {
     "name": "stderr",
     "output_type": "stream",
     "text": [
      "\r",
      " 67%|██████▋   | 488/732 [08:24<06:42,  1.65s/it]"
     ]
    },
    {
     "name": "stdout",
     "output_type": "stream",
     "text": [
      "We couldn't process this post because it was:  nan\n",
      "We couldn't process this post because it was:  nan\n",
      "We couldn't process this post because it was:  nan\n",
      "We couldn't process this post because it was:  nan\n",
      "We couldn't process this post because it was:  nan\n",
      "We couldn't process this post because it was:  nan\n",
      "We couldn't process this post because it was:  nan\n",
      "We couldn't process this post because it was:  nan\n"
     ]
    },
    {
     "name": "stderr",
     "output_type": "stream",
     "text": [
      "\r",
      " 67%|██████▋   | 489/732 [08:26<06:43,  1.66s/it]"
     ]
    },
    {
     "name": "stdout",
     "output_type": "stream",
     "text": [
      "We couldn't process this post because it was:  nan\n",
      "We couldn't process this post because it was:  nan\n",
      "We couldn't process this post because it was:  nan\n",
      "We couldn't process this post because it was:  nan\n",
      "We couldn't process this post because it was:  nan\n",
      "We couldn't process this post because it was:  nan\n"
     ]
    },
    {
     "name": "stderr",
     "output_type": "stream",
     "text": [
      "\r",
      " 67%|██████▋   | 490/732 [08:28<07:17,  1.81s/it]"
     ]
    },
    {
     "name": "stdout",
     "output_type": "stream",
     "text": [
      "We couldn't process this post because it was:  nan\n",
      "We couldn't process this post because it was:  nan\n",
      "We couldn't process this post because it was:  nan\n",
      "We couldn't process this post because it was:  nan\n",
      "We couldn't process this post because it was:  nan\n",
      "We couldn't process this post because it was:  nan\n",
      "We couldn't process this post because it was:  nan\n",
      "We couldn't process this post because it was:  nan\n",
      "We couldn't process this post because it was:  nan\n",
      "We couldn't process this post because it was:  nan\n"
     ]
    },
    {
     "name": "stderr",
     "output_type": "stream",
     "text": [
      "\r",
      " 67%|██████▋   | 491/732 [08:30<06:59,  1.74s/it]"
     ]
    },
    {
     "name": "stdout",
     "output_type": "stream",
     "text": [
      "We couldn't process this post because it was:  nan\n",
      "We couldn't process this post because it was:  nan\n"
     ]
    },
    {
     "name": "stderr",
     "output_type": "stream",
     "text": [
      "\r",
      " 67%|██████▋   | 492/732 [08:32<07:11,  1.80s/it]"
     ]
    },
    {
     "name": "stdout",
     "output_type": "stream",
     "text": [
      "We couldn't process this post because it was:  nan\n",
      "We couldn't process this post because it was:  nan\n",
      "We couldn't process this post because it was:  nan\n",
      "We couldn't process this post because it was:  nan\n"
     ]
    },
    {
     "name": "stderr",
     "output_type": "stream",
     "text": [
      "\r",
      " 67%|██████▋   | 493/732 [08:34<07:24,  1.86s/it]"
     ]
    },
    {
     "name": "stdout",
     "output_type": "stream",
     "text": [
      "We couldn't process this post because it was:  nan\n",
      "We couldn't process this post because it was:  nan\n",
      "We couldn't process this post because it was:  nan\n",
      "We couldn't process this post because it was:  nan\n",
      "We couldn't process this post because it was:  nan\n",
      "We couldn't process this post because it was:  nan\n",
      "We couldn't process this post because it was:  nan\n",
      "We couldn't process this post because it was:  nan\n",
      "We couldn't process this post because it was:  nan\n"
     ]
    },
    {
     "name": "stderr",
     "output_type": "stream",
     "text": [
      "\r",
      " 67%|██████▋   | 494/732 [08:36<07:38,  1.93s/it]"
     ]
    },
    {
     "name": "stdout",
     "output_type": "stream",
     "text": [
      "We couldn't process this post because it was:  nan\n",
      "We couldn't process this post because it was:  nan\n",
      "We couldn't process this post because it was:  nan\n",
      "We couldn't process this post because it was:  nan\n"
     ]
    },
    {
     "name": "stderr",
     "output_type": "stream",
     "text": [
      "\r",
      " 68%|██████▊   | 495/732 [08:37<07:27,  1.89s/it]"
     ]
    },
    {
     "name": "stdout",
     "output_type": "stream",
     "text": [
      "We couldn't process this post because it was:  nan\n",
      "We couldn't process this post because it was:  nan\n",
      "We couldn't process this post because it was:  nan\n",
      "We couldn't process this post because it was:  nan\n",
      "We couldn't process this post because it was:  nan\n",
      "We couldn't process this post because it was:  nan\n",
      "We couldn't process this post because it was:  nan\n",
      "We couldn't process this post because it was:  nan\n",
      "We couldn't process this post because it was:  nan\n"
     ]
    },
    {
     "name": "stderr",
     "output_type": "stream",
     "text": [
      "\r",
      " 68%|██████▊   | 496/732 [08:40<08:24,  2.14s/it]"
     ]
    },
    {
     "name": "stdout",
     "output_type": "stream",
     "text": [
      "We couldn't process this post because it was:  nan\n",
      "We couldn't process this post because it was:  nan\n",
      "We couldn't process this post because it was:  nan\n",
      "We couldn't process this post because it was:  nan\n",
      "We couldn't process this post because it was:  nan\n",
      "We couldn't process this post because it was:  nan\n"
     ]
    },
    {
     "name": "stderr",
     "output_type": "stream",
     "text": [
      "\r",
      " 68%|██████▊   | 497/732 [08:42<07:46,  1.98s/it]"
     ]
    },
    {
     "name": "stdout",
     "output_type": "stream",
     "text": [
      "We couldn't process this post because it was:  nan\n",
      "We couldn't process this post because it was:  nan\n",
      "We couldn't process this post because it was:  nan\n",
      "We couldn't process this post because it was:  nan\n",
      "We couldn't process this post because it was:  nan\n",
      "We couldn't process this post because it was:  nan\n",
      "We couldn't process this post because it was:  nan\n",
      "We couldn't process this post because it was:  nan\n"
     ]
    },
    {
     "name": "stderr",
     "output_type": "stream",
     "text": [
      "\r",
      " 68%|██████▊   | 498/732 [08:44<08:11,  2.10s/it]"
     ]
    },
    {
     "name": "stdout",
     "output_type": "stream",
     "text": [
      "We couldn't process this post because it was:  nan\n",
      "We couldn't process this post because it was:  nan\n",
      "We couldn't process this post because it was:  nan\n",
      "We couldn't process this post because it was:  nan\n",
      "We couldn't process this post because it was:  nan\n",
      "We couldn't process this post because it was:  nan\n",
      "We couldn't process this post because it was:  nan\n"
     ]
    },
    {
     "name": "stderr",
     "output_type": "stream",
     "text": [
      "\r",
      " 68%|██████▊   | 499/732 [08:47<08:40,  2.23s/it]"
     ]
    },
    {
     "name": "stdout",
     "output_type": "stream",
     "text": [
      "We couldn't process this post because it was:  nan\n",
      "We couldn't process this post because it was:  nan\n",
      "We couldn't process this post because it was:  nan\n",
      "We couldn't process this post because it was:  nan\n",
      "We couldn't process this post because it was:  nan\n",
      "We couldn't process this post because it was:  nan\n",
      "We couldn't process this post because it was:  nan\n",
      "We couldn't process this post because it was:  nan\n",
      "We couldn't process this post because it was:  nan\n",
      "We couldn't process this post because it was:  nan\n"
     ]
    },
    {
     "name": "stderr",
     "output_type": "stream",
     "text": [
      "\r",
      " 68%|██████▊   | 500/732 [08:50<09:25,  2.44s/it]"
     ]
    },
    {
     "name": "stdout",
     "output_type": "stream",
     "text": [
      "We couldn't process this post because it was:  nan\n",
      "We couldn't process this post because it was:  nan\n",
      "We couldn't process this post because it was:  nan\n"
     ]
    },
    {
     "name": "stderr",
     "output_type": "stream",
     "text": [
      "\r",
      " 68%|██████▊   | 501/732 [08:51<08:39,  2.25s/it]"
     ]
    },
    {
     "name": "stdout",
     "output_type": "stream",
     "text": [
      "We couldn't process this post because it was:  nan\n",
      "We couldn't process this post because it was:  nan\n",
      "We couldn't process this post because it was:  nan\n",
      "We couldn't process this post because it was:  nan\n",
      "We couldn't process this post because it was:  nan\n"
     ]
    },
    {
     "name": "stderr",
     "output_type": "stream",
     "text": [
      "\r",
      " 69%|██████▊   | 502/732 [08:53<07:27,  1.95s/it]"
     ]
    },
    {
     "name": "stdout",
     "output_type": "stream",
     "text": [
      "We couldn't process this post because it was:  nan\n",
      "We couldn't process this post because it was:  nan\n",
      "We couldn't process this post because it was:  nan\n",
      "We couldn't process this post because it was:  nan\n",
      "We couldn't process this post because it was:  nan\n",
      "We couldn't process this post because it was:  nan\n",
      "We couldn't process this post because it was:  nan\n"
     ]
    },
    {
     "name": "stderr",
     "output_type": "stream",
     "text": [
      "\r",
      " 69%|██████▊   | 503/732 [08:54<07:05,  1.86s/it]"
     ]
    },
    {
     "name": "stdout",
     "output_type": "stream",
     "text": [
      "We couldn't process this post because it was:  nan\n",
      "We couldn't process this post because it was:  nan\n",
      "We couldn't process this post because it was:  nan\n",
      "We couldn't process this post because it was:  nan\n",
      "We couldn't process this post because it was:  nan\n",
      "We couldn't process this post because it was:  nan\n",
      "We couldn't process this post because it was:  nan\n",
      "We couldn't process this post because it was:  nan\n",
      "We couldn't process this post because it was:  nan\n",
      "We couldn't process this post because it was:  nan\n",
      "We couldn't process this post because it was:  nan\n",
      "We couldn't process this post because it was:  nan\n"
     ]
    },
    {
     "name": "stderr",
     "output_type": "stream",
     "text": [
      "\r",
      " 69%|██████▉   | 504/732 [08:56<06:37,  1.74s/it]"
     ]
    },
    {
     "name": "stdout",
     "output_type": "stream",
     "text": [
      "We couldn't process this post because it was:  nan\n",
      "We couldn't process this post because it was:  nan\n",
      "We couldn't process this post because it was:  nan\n",
      "We couldn't process this post because it was:  nan\n",
      "We couldn't process this post because it was:  nan\n",
      "We couldn't process this post because it was:  nan\n",
      "We couldn't process this post because it was:  nan\n",
      "We couldn't process this post because it was:  nan\n"
     ]
    },
    {
     "name": "stderr",
     "output_type": "stream",
     "text": [
      "\r",
      " 69%|██████▉   | 505/732 [08:57<05:59,  1.59s/it]"
     ]
    },
    {
     "name": "stdout",
     "output_type": "stream",
     "text": [
      "We couldn't process this post because it was:  nan\n",
      "We couldn't process this post because it was:  nan\n",
      "We couldn't process this post because it was:  nan\n",
      "We couldn't process this post because it was:  nan\n",
      "We couldn't process this post because it was:  nan\n",
      "We couldn't process this post because it was:  nan\n",
      "We couldn't process this post because it was:  nan\n",
      "We couldn't process this post because it was:  nan\n",
      "We couldn't process this post because it was:  nan\n",
      "We couldn't process this post because it was:  nan\n",
      "We couldn't process this post because it was:  nan\n",
      "We couldn't process this post because it was:  nan\n",
      "We couldn't process this post because it was:  nan\n",
      "We couldn't process this post because it was:  nan\n",
      "We couldn't process this post because it was:  nan\n"
     ]
    },
    {
     "name": "stderr",
     "output_type": "stream",
     "text": [
      "\r",
      " 69%|██████▉   | 506/732 [08:59<06:25,  1.71s/it]"
     ]
    },
    {
     "name": "stdout",
     "output_type": "stream",
     "text": [
      "We couldn't process this post because it was:  nan\n",
      "We couldn't process this post because it was:  nan\n",
      "We couldn't process this post because it was:  nan\n",
      "We couldn't process this post because it was:  nan\n",
      "We couldn't process this post because it was:  nan\n",
      "We couldn't process this post because it was:  nan\n",
      "We couldn't process this post because it was:  nan\n",
      "We couldn't process this post because it was:  nan\n"
     ]
    },
    {
     "name": "stderr",
     "output_type": "stream",
     "text": [
      "\r",
      " 69%|██████▉   | 507/732 [09:01<06:35,  1.76s/it]"
     ]
    },
    {
     "name": "stdout",
     "output_type": "stream",
     "text": [
      "We couldn't process this post because it was:  nan\n",
      "We couldn't process this post because it was:  nan\n",
      "We couldn't process this post because it was:  nan\n",
      "We couldn't process this post because it was:  nan\n",
      "We couldn't process this post because it was:  nan\n",
      "We couldn't process this post because it was:  nan\n",
      "We couldn't process this post because it was:  nan\n",
      "We couldn't process this post because it was:  nan\n",
      "We couldn't process this post because it was:  nan\n",
      "We couldn't process this post because it was:  nan\n",
      "We couldn't process this post because it was:  nan\n"
     ]
    },
    {
     "name": "stderr",
     "output_type": "stream",
     "text": [
      "\r",
      " 69%|██████▉   | 508/732 [09:03<06:25,  1.72s/it]"
     ]
    },
    {
     "name": "stdout",
     "output_type": "stream",
     "text": [
      "We couldn't process this post because it was:  nan\n",
      "We couldn't process this post because it was:  nan\n",
      "We couldn't process this post because it was:  nan\n",
      "We couldn't process this post because it was:  nan\n",
      "We couldn't process this post because it was:  nan\n",
      "We couldn't process this post because it was:  nan\n",
      "We couldn't process this post because it was:  nan\n",
      "We couldn't process this post because it was:  nan\n"
     ]
    },
    {
     "name": "stderr",
     "output_type": "stream",
     "text": [
      "\r",
      " 70%|██████▉   | 509/732 [09:04<05:59,  1.61s/it]"
     ]
    },
    {
     "name": "stdout",
     "output_type": "stream",
     "text": [
      "We couldn't process this post because it was:  nan\n",
      "We couldn't process this post because it was:  nan\n",
      "We couldn't process this post because it was:  nan\n",
      "We couldn't process this post because it was:  nan\n",
      "We couldn't process this post because it was:  nan\n",
      "We couldn't process this post because it was:  nan\n",
      "We couldn't process this post because it was:  nan\n",
      "We couldn't process this post because it was:  nan\n",
      "We couldn't process this post because it was:  nan\n",
      "We couldn't process this post because it was:  nan\n",
      "We couldn't process this post because it was:  nan\n",
      "We couldn't process this post because it was:  nan\n"
     ]
    },
    {
     "name": "stderr",
     "output_type": "stream",
     "text": [
      "\r",
      " 70%|██████▉   | 510/732 [09:07<07:43,  2.09s/it]"
     ]
    },
    {
     "name": "stdout",
     "output_type": "stream",
     "text": [
      "We couldn't process this post because it was:  nan\n",
      "We couldn't process this post because it was:  nan\n",
      "We couldn't process this post because it was:  nan\n",
      "We couldn't process this post because it was:  nan\n",
      "We couldn't process this post because it was:  nan\n"
     ]
    },
    {
     "name": "stderr",
     "output_type": "stream",
     "text": [
      "\r",
      " 70%|██████▉   | 511/732 [09:09<07:09,  1.95s/it]"
     ]
    },
    {
     "name": "stdout",
     "output_type": "stream",
     "text": [
      "We couldn't process this post because it was:  nan\n",
      "We couldn't process this post because it was:  nan\n",
      "We couldn't process this post because it was:  nan\n"
     ]
    },
    {
     "name": "stderr",
     "output_type": "stream",
     "text": [
      "\r",
      " 70%|██████▉   | 512/732 [09:10<06:35,  1.80s/it]"
     ]
    },
    {
     "name": "stdout",
     "output_type": "stream",
     "text": [
      "We couldn't process this post because it was:  nan\n",
      "We couldn't process this post because it was:  nan\n",
      "We couldn't process this post because it was:  nan\n",
      "We couldn't process this post because it was:  nan\n",
      "We couldn't process this post because it was:  nan\n",
      "We couldn't process this post because it was:  nan\n",
      "We couldn't process this post because it was:  nan\n"
     ]
    },
    {
     "name": "stderr",
     "output_type": "stream",
     "text": [
      "\r",
      " 70%|███████   | 513/732 [09:13<07:28,  2.05s/it]"
     ]
    },
    {
     "name": "stdout",
     "output_type": "stream",
     "text": [
      "We couldn't process this post because it was:  nan\n",
      "We couldn't process this post because it was:  nan\n",
      "We couldn't process this post because it was:  nan\n",
      "We couldn't process this post because it was:  nan\n",
      "We couldn't process this post because it was:  nan\n",
      "We couldn't process this post because it was:  nan\n",
      "We couldn't process this post because it was:  nan\n",
      "We couldn't process this post because it was:  nan\n",
      "We couldn't process this post because it was:  nan\n",
      "We couldn't process this post because it was:  nan\n"
     ]
    },
    {
     "name": "stderr",
     "output_type": "stream",
     "text": [
      "\r",
      " 70%|███████   | 514/732 [09:15<07:42,  2.12s/it]"
     ]
    },
    {
     "name": "stdout",
     "output_type": "stream",
     "text": [
      "We couldn't process this post because it was:  nan\n",
      "We couldn't process this post because it was:  nan\n",
      "We couldn't process this post because it was:  nan\n",
      "We couldn't process this post because it was:  nan\n",
      "We couldn't process this post because it was:  nan\n",
      "We couldn't process this post because it was:  nan\n"
     ]
    },
    {
     "name": "stderr",
     "output_type": "stream",
     "text": [
      "\r",
      " 70%|███████   | 515/732 [09:16<06:54,  1.91s/it]"
     ]
    },
    {
     "name": "stdout",
     "output_type": "stream",
     "text": [
      "We couldn't process this post because it was:  nan\n",
      "We couldn't process this post because it was:  nan\n",
      "We couldn't process this post because it was:  nan\n",
      "We couldn't process this post because it was:  nan\n",
      "We couldn't process this post because it was:  nan\n",
      "We couldn't process this post because it was:  nan\n",
      "We couldn't process this post because it was:  nan\n",
      "We couldn't process this post because it was:  nan\n",
      "We couldn't process this post because it was:  nan\n",
      "We couldn't process this post because it was:  nan\n"
     ]
    },
    {
     "name": "stderr",
     "output_type": "stream",
     "text": [
      "\r",
      " 70%|███████   | 516/732 [09:20<08:14,  2.29s/it]"
     ]
    },
    {
     "name": "stdout",
     "output_type": "stream",
     "text": [
      "We couldn't process this post because it was:  nan\n",
      "We couldn't process this post because it was:  nan\n"
     ]
    },
    {
     "name": "stderr",
     "output_type": "stream",
     "text": [
      "\r",
      " 71%|███████   | 517/732 [09:21<07:21,  2.05s/it]"
     ]
    },
    {
     "name": "stdout",
     "output_type": "stream",
     "text": [
      "We couldn't process this post because it was:  nan\n",
      "We couldn't process this post because it was:  nan\n",
      "We couldn't process this post because it was:  nan\n",
      "We couldn't process this post because it was:  nan\n",
      "We couldn't process this post because it was:  nan\n",
      "We couldn't process this post because it was:  nan\n",
      "We couldn't process this post because it was:  nan\n",
      "We couldn't process this post because it was:  nan\n"
     ]
    },
    {
     "name": "stderr",
     "output_type": "stream",
     "text": [
      "\r",
      " 71%|███████   | 518/732 [09:23<07:36,  2.13s/it]"
     ]
    },
    {
     "name": "stdout",
     "output_type": "stream",
     "text": [
      "We couldn't process this post because it was:  nan\n",
      "We couldn't process this post because it was:  nan\n",
      "We couldn't process this post because it was:  nan\n",
      "We couldn't process this post because it was:  nan\n"
     ]
    },
    {
     "name": "stderr",
     "output_type": "stream",
     "text": [
      "\r",
      " 71%|███████   | 519/732 [09:26<08:10,  2.31s/it]"
     ]
    },
    {
     "name": "stdout",
     "output_type": "stream",
     "text": [
      "We couldn't process this post because it was:  nan\n",
      "We couldn't process this post because it was:  nan\n",
      "We couldn't process this post because it was:  nan\n",
      "We couldn't process this post because it was:  nan\n",
      "We couldn't process this post because it was:  nan\n",
      "We couldn't process this post because it was:  nan\n",
      "We couldn't process this post because it was:  nan\n",
      "We couldn't process this post because it was:  nan\n",
      "We couldn't process this post because it was:  nan\n",
      "We couldn't process this post because it was:  nan\n"
     ]
    },
    {
     "name": "stderr",
     "output_type": "stream",
     "text": [
      "\r",
      " 71%|███████   | 520/732 [09:28<07:24,  2.10s/it]"
     ]
    },
    {
     "name": "stdout",
     "output_type": "stream",
     "text": [
      "We couldn't process this post because it was:  nan\n",
      "We couldn't process this post because it was:  nan\n",
      "We couldn't process this post because it was:  nan\n",
      "We couldn't process this post because it was:  nan\n",
      "We couldn't process this post because it was:  nan\n",
      "We couldn't process this post because it was:  nan\n",
      "We couldn't process this post because it was:  nan\n",
      "We couldn't process this post because it was:  nan\n",
      "We couldn't process this post because it was:  nan\n"
     ]
    },
    {
     "name": "stderr",
     "output_type": "stream",
     "text": [
      "\r",
      " 71%|███████   | 521/732 [09:30<07:08,  2.03s/it]"
     ]
    },
    {
     "name": "stdout",
     "output_type": "stream",
     "text": [
      "We couldn't process this post because it was:  nan\n",
      "We couldn't process this post because it was:  nan\n",
      "We couldn't process this post because it was:  nan\n",
      "We couldn't process this post because it was:  nan\n",
      "We couldn't process this post because it was:  nan\n"
     ]
    },
    {
     "name": "stderr",
     "output_type": "stream",
     "text": [
      "\r",
      " 71%|███████▏  | 522/732 [09:32<07:11,  2.05s/it]"
     ]
    },
    {
     "name": "stdout",
     "output_type": "stream",
     "text": [
      "We couldn't process this post because it was:  nan\n",
      "We couldn't process this post because it was:  nan\n",
      "We couldn't process this post because it was:  nan\n",
      "We couldn't process this post because it was:  nan\n",
      "We couldn't process this post because it was:  nan\n",
      "We couldn't process this post because it was:  nan\n",
      "We couldn't process this post because it was:  nan\n",
      "We couldn't process this post because it was:  nan\n",
      "We couldn't process this post because it was:  nan\n"
     ]
    },
    {
     "name": "stderr",
     "output_type": "stream",
     "text": [
      "\r",
      " 71%|███████▏  | 523/732 [09:34<07:14,  2.08s/it]"
     ]
    },
    {
     "name": "stdout",
     "output_type": "stream",
     "text": [
      "We couldn't process this post because it was:  nan\n",
      "We couldn't process this post because it was:  nan\n",
      "We couldn't process this post because it was:  nan\n",
      "We couldn't process this post because it was:  nan\n",
      "We couldn't process this post because it was:  nan\n",
      "We couldn't process this post because it was:  nan\n",
      "We couldn't process this post because it was:  nan\n",
      "We couldn't process this post because it was:  nan\n",
      "We couldn't process this post because it was:  nan\n",
      "We couldn't process this post because it was:  nan\n",
      "We couldn't process this post because it was:  nan\n",
      "We couldn't process this post because it was:  nan\n"
     ]
    },
    {
     "name": "stderr",
     "output_type": "stream",
     "text": [
      "\r",
      " 72%|███████▏  | 524/732 [09:36<06:42,  1.93s/it]"
     ]
    },
    {
     "name": "stdout",
     "output_type": "stream",
     "text": [
      "We couldn't process this post because it was:  nan\n",
      "We couldn't process this post because it was:  nan\n",
      "We couldn't process this post because it was:  nan\n",
      "We couldn't process this post because it was:  nan\n",
      "We couldn't process this post because it was:  nan\n",
      "We couldn't process this post because it was:  nan\n",
      "We couldn't process this post because it was:  nan\n"
     ]
    },
    {
     "name": "stderr",
     "output_type": "stream",
     "text": [
      "\r",
      " 72%|███████▏  | 525/732 [09:37<06:42,  1.94s/it]"
     ]
    },
    {
     "name": "stdout",
     "output_type": "stream",
     "text": [
      "We couldn't process this post because it was:  nan\n",
      "We couldn't process this post because it was:  nan\n",
      "We couldn't process this post because it was:  nan\n",
      "We couldn't process this post because it was:  nan\n",
      "We couldn't process this post because it was:  nan\n",
      "We couldn't process this post because it was:  nan\n",
      "We couldn't process this post because it was:  nan\n",
      "We couldn't process this post because it was:  nan\n"
     ]
    },
    {
     "name": "stderr",
     "output_type": "stream",
     "text": [
      "\r",
      " 72%|███████▏  | 526/732 [09:39<05:57,  1.74s/it]"
     ]
    },
    {
     "name": "stdout",
     "output_type": "stream",
     "text": [
      "We couldn't process this post because it was:  nan\n",
      "We couldn't process this post because it was:  nan\n",
      "We couldn't process this post because it was:  nan\n"
     ]
    },
    {
     "name": "stderr",
     "output_type": "stream",
     "text": [
      "\r",
      " 72%|███████▏  | 527/732 [09:40<05:55,  1.73s/it]"
     ]
    },
    {
     "name": "stdout",
     "output_type": "stream",
     "text": [
      "We couldn't process this post because it was:  nan\n",
      "We couldn't process this post because it was:  nan\n",
      "We couldn't process this post because it was:  nan\n",
      "We couldn't process this post because it was:  nan\n",
      "We couldn't process this post because it was:  nan\n",
      "We couldn't process this post because it was:  nan\n"
     ]
    },
    {
     "name": "stderr",
     "output_type": "stream",
     "text": [
      "\r",
      " 72%|███████▏  | 528/732 [09:43<06:18,  1.86s/it]"
     ]
    },
    {
     "name": "stdout",
     "output_type": "stream",
     "text": [
      "We couldn't process this post because it was:  nan\n",
      "We couldn't process this post because it was:  nan\n",
      "We couldn't process this post because it was:  nan\n",
      "We couldn't process this post because it was:  nan\n",
      "We couldn't process this post because it was:  nan\n",
      "We couldn't process this post because it was:  nan\n"
     ]
    },
    {
     "name": "stderr",
     "output_type": "stream",
     "text": [
      "\r",
      " 72%|███████▏  | 529/732 [09:45<06:49,  2.02s/it]"
     ]
    },
    {
     "name": "stdout",
     "output_type": "stream",
     "text": [
      "We couldn't process this post because it was:  nan\n",
      "We couldn't process this post because it was:  nan\n",
      "We couldn't process this post because it was:  nan\n",
      "We couldn't process this post because it was:  nan\n",
      "We couldn't process this post because it was:  nan\n",
      "We couldn't process this post because it was:  nan\n",
      "We couldn't process this post because it was:  nan\n",
      "We couldn't process this post because it was:  nan\n",
      "We couldn't process this post because it was:  nan\n",
      "We couldn't process this post because it was:  nan\n"
     ]
    },
    {
     "name": "stderr",
     "output_type": "stream",
     "text": [
      "\r",
      " 72%|███████▏  | 530/732 [09:47<06:34,  1.95s/it]"
     ]
    },
    {
     "name": "stdout",
     "output_type": "stream",
     "text": [
      "We couldn't process this post because it was:  nan\n",
      "We couldn't process this post because it was:  nan\n",
      "We couldn't process this post because it was:  nan\n"
     ]
    },
    {
     "name": "stderr",
     "output_type": "stream",
     "text": [
      "\r",
      " 73%|███████▎  | 531/732 [09:49<06:43,  2.01s/it]"
     ]
    },
    {
     "name": "stdout",
     "output_type": "stream",
     "text": [
      "We couldn't process this post because it was:  nan\n",
      "We couldn't process this post because it was:  nan\n",
      "We couldn't process this post because it was:  nan\n",
      "We couldn't process this post because it was:  nan\n",
      "We couldn't process this post because it was:  nan\n",
      "We couldn't process this post because it was:  nan\n",
      "We couldn't process this post because it was:  nan\n"
     ]
    },
    {
     "name": "stderr",
     "output_type": "stream",
     "text": [
      "\r",
      " 73%|███████▎  | 532/732 [09:50<05:52,  1.76s/it]"
     ]
    },
    {
     "name": "stdout",
     "output_type": "stream",
     "text": [
      "We couldn't process this post because it was:  nan\n",
      "We couldn't process this post because it was:  nan\n",
      "We couldn't process this post because it was:  nan\n",
      "We couldn't process this post because it was:  nan\n",
      "We couldn't process this post because it was:  nan\n",
      "We couldn't process this post because it was:  nan\n",
      "We couldn't process this post because it was:  nan\n",
      "We couldn't process this post because it was:  nan\n",
      "We couldn't process this post because it was:  nan\n",
      "We couldn't process this post because it was:  nan\n"
     ]
    },
    {
     "name": "stderr",
     "output_type": "stream",
     "text": [
      "\r",
      " 73%|███████▎  | 533/732 [09:52<05:51,  1.76s/it]"
     ]
    },
    {
     "name": "stdout",
     "output_type": "stream",
     "text": [
      "We couldn't process this post because it was:  nan\n",
      "We couldn't process this post because it was:  nan\n",
      "We couldn't process this post because it was:  nan\n",
      "We couldn't process this post because it was:  nan\n",
      "We couldn't process this post because it was:  nan\n",
      "We couldn't process this post because it was:  nan\n",
      "We couldn't process this post because it was:  nan\n",
      "We couldn't process this post because it was:  nan\n",
      "We couldn't process this post because it was:  nan\n",
      "We couldn't process this post because it was:  nan\n",
      "We couldn't process this post because it was:  nan\n"
     ]
    },
    {
     "name": "stderr",
     "output_type": "stream",
     "text": [
      "\r",
      " 73%|███████▎  | 534/732 [09:54<05:46,  1.75s/it]"
     ]
    },
    {
     "name": "stdout",
     "output_type": "stream",
     "text": [
      "We couldn't process this post because it was:  nan\n",
      "We couldn't process this post because it was:  nan\n",
      "We couldn't process this post because it was:  nan\n",
      "We couldn't process this post because it was:  nan\n"
     ]
    },
    {
     "name": "stderr",
     "output_type": "stream",
     "text": [
      "\r",
      " 73%|███████▎  | 535/732 [09:55<05:35,  1.70s/it]"
     ]
    },
    {
     "name": "stdout",
     "output_type": "stream",
     "text": [
      "We couldn't process this post because it was:  nan\n",
      "We couldn't process this post because it was:  nan\n",
      "We couldn't process this post because it was:  nan\n",
      "We couldn't process this post because it was:  nan\n",
      "We couldn't process this post because it was:  nan\n",
      "We couldn't process this post because it was:  nan\n",
      "We couldn't process this post because it was:  nan\n"
     ]
    },
    {
     "name": "stderr",
     "output_type": "stream",
     "text": [
      "\r",
      " 73%|███████▎  | 536/732 [09:58<06:41,  2.05s/it]"
     ]
    },
    {
     "name": "stdout",
     "output_type": "stream",
     "text": [
      "We couldn't process this post because it was:  nan\n",
      "We couldn't process this post because it was:  nan\n",
      "We couldn't process this post because it was:  nan\n",
      "We couldn't process this post because it was:  nan\n",
      "We couldn't process this post because it was:  nan\n",
      "We couldn't process this post because it was:  nan\n",
      "We couldn't process this post because it was:  nan\n",
      "We couldn't process this post because it was:  nan\n"
     ]
    },
    {
     "name": "stderr",
     "output_type": "stream",
     "text": [
      "\r",
      " 73%|███████▎  | 537/732 [09:59<06:02,  1.86s/it]"
     ]
    },
    {
     "name": "stdout",
     "output_type": "stream",
     "text": [
      "We couldn't process this post because it was:  nan\n",
      "We couldn't process this post because it was:  nan\n",
      "We couldn't process this post because it was:  nan\n",
      "We couldn't process this post because it was:  nan\n",
      "We couldn't process this post because it was:  nan\n",
      "We couldn't process this post because it was:  nan\n",
      "We couldn't process this post because it was:  nan\n"
     ]
    },
    {
     "name": "stderr",
     "output_type": "stream",
     "text": [
      "\r",
      " 73%|███████▎  | 538/732 [10:02<06:11,  1.91s/it]"
     ]
    },
    {
     "name": "stdout",
     "output_type": "stream",
     "text": [
      "We couldn't process this post because it was:  nan\n",
      "We couldn't process this post because it was:  nan\n",
      "We couldn't process this post because it was:  nan\n",
      "We couldn't process this post because it was:  nan\n"
     ]
    },
    {
     "name": "stderr",
     "output_type": "stream",
     "text": [
      "\r",
      " 74%|███████▎  | 539/732 [10:05<07:44,  2.41s/it]"
     ]
    },
    {
     "name": "stdout",
     "output_type": "stream",
     "text": [
      "We couldn't process this post because it was:  nan\n",
      "We couldn't process this post because it was:  nan\n",
      "We couldn't process this post because it was:  nan\n",
      "We couldn't process this post because it was:  nan\n",
      "We couldn't process this post because it was:  nan\n",
      "We couldn't process this post because it was:  nan\n",
      "We couldn't process this post because it was:  nan\n",
      "We couldn't process this post because it was:  nan\n"
     ]
    },
    {
     "name": "stderr",
     "output_type": "stream",
     "text": [
      "\r",
      " 74%|███████▍  | 540/732 [10:06<06:32,  2.05s/it]"
     ]
    },
    {
     "name": "stdout",
     "output_type": "stream",
     "text": [
      "We couldn't process this post because it was:  nan\n",
      "We couldn't process this post because it was:  nan\n",
      "We couldn't process this post because it was:  nan\n",
      "We couldn't process this post because it was:  nan\n",
      "We couldn't process this post because it was:  nan\n"
     ]
    },
    {
     "name": "stderr",
     "output_type": "stream",
     "text": [
      "\r",
      " 74%|███████▍  | 541/732 [10:08<05:48,  1.83s/it]"
     ]
    },
    {
     "name": "stdout",
     "output_type": "stream",
     "text": [
      "We couldn't process this post because it was:  nan\n",
      "We couldn't process this post because it was:  nan\n",
      "We couldn't process this post because it was:  nan\n",
      "We couldn't process this post because it was:  nan\n",
      "We couldn't process this post because it was:  nan\n",
      "We couldn't process this post because it was:  nan\n",
      "We couldn't process this post because it was:  nan\n",
      "We couldn't process this post because it was:  nan\n",
      "We couldn't process this post because it was:  nan\n",
      "We couldn't process this post because it was:  nan\n",
      "We couldn't process this post because it was:  nan\n",
      "We couldn't process this post because it was:  nan\n",
      "We couldn't process this post because it was:  nan\n"
     ]
    },
    {
     "name": "stderr",
     "output_type": "stream",
     "text": [
      "\r",
      " 74%|███████▍  | 542/732 [10:09<05:40,  1.79s/it]"
     ]
    },
    {
     "name": "stdout",
     "output_type": "stream",
     "text": [
      "We couldn't process this post because it was:  nan\n",
      "We couldn't process this post because it was:  nan\n",
      "We couldn't process this post because it was:  nan\n",
      "We couldn't process this post because it was:  nan\n",
      "We couldn't process this post because it was:  nan\n",
      "We couldn't process this post because it was:  nan\n",
      "We couldn't process this post because it was:  nan\n",
      "We couldn't process this post because it was:  nan\n",
      "We couldn't process this post because it was:  nan\n",
      "We couldn't process this post because it was:  nan\n"
     ]
    },
    {
     "name": "stderr",
     "output_type": "stream",
     "text": [
      "\r",
      " 74%|███████▍  | 543/732 [10:12<06:03,  1.92s/it]"
     ]
    },
    {
     "name": "stdout",
     "output_type": "stream",
     "text": [
      "We couldn't process this post because it was:  nan\n",
      "We couldn't process this post because it was:  nan\n",
      "We couldn't process this post because it was:  nan\n",
      "We couldn't process this post because it was:  nan\n"
     ]
    },
    {
     "name": "stderr",
     "output_type": "stream",
     "text": [
      "\r",
      " 74%|███████▍  | 544/732 [10:13<05:22,  1.71s/it]"
     ]
    },
    {
     "name": "stdout",
     "output_type": "stream",
     "text": [
      "We couldn't process this post because it was:  nan\n",
      "We couldn't process this post because it was:  nan\n",
      "We couldn't process this post because it was:  nan\n",
      "We couldn't process this post because it was:  nan\n",
      "We couldn't process this post because it was:  nan\n",
      "We couldn't process this post because it was:  nan\n",
      "We couldn't process this post because it was:  nan\n",
      "We couldn't process this post because it was:  nan\n"
     ]
    },
    {
     "name": "stderr",
     "output_type": "stream",
     "text": [
      "\r",
      " 74%|███████▍  | 545/732 [10:14<05:14,  1.68s/it]"
     ]
    },
    {
     "name": "stdout",
     "output_type": "stream",
     "text": [
      "We couldn't process this post because it was:  nan\n",
      "We couldn't process this post because it was:  nan\n",
      "We couldn't process this post because it was:  nan\n",
      "We couldn't process this post because it was:  nan\n"
     ]
    },
    {
     "name": "stderr",
     "output_type": "stream",
     "text": [
      "\r",
      " 75%|███████▍  | 546/732 [10:16<05:08,  1.66s/it]"
     ]
    },
    {
     "name": "stdout",
     "output_type": "stream",
     "text": [
      "We couldn't process this post because it was:  nan\n",
      "We couldn't process this post because it was:  nan\n",
      "We couldn't process this post because it was:  nan\n",
      "We couldn't process this post because it was:  nan\n"
     ]
    },
    {
     "name": "stderr",
     "output_type": "stream",
     "text": [
      "\r",
      " 75%|███████▍  | 547/732 [10:18<05:13,  1.70s/it]"
     ]
    },
    {
     "name": "stdout",
     "output_type": "stream",
     "text": [
      "We couldn't process this post because it was:  nan\n",
      "We couldn't process this post because it was:  nan\n",
      "We couldn't process this post because it was:  nan\n",
      "We couldn't process this post because it was:  nan\n",
      "We couldn't process this post because it was:  nan\n",
      "We couldn't process this post because it was:  nan\n",
      "We couldn't process this post because it was:  nan\n"
     ]
    },
    {
     "name": "stderr",
     "output_type": "stream",
     "text": [
      "\r",
      " 75%|███████▍  | 548/732 [10:19<04:53,  1.59s/it]"
     ]
    },
    {
     "name": "stdout",
     "output_type": "stream",
     "text": [
      "We couldn't process this post because it was:  nan\n",
      "We couldn't process this post because it was:  nan\n",
      "We couldn't process this post because it was:  nan\n",
      "We couldn't process this post because it was:  nan\n",
      "We couldn't process this post because it was:  nan\n",
      "We couldn't process this post because it was:  nan\n",
      "We couldn't process this post because it was:  nan\n",
      "We couldn't process this post because it was:  nan\n",
      "We couldn't process this post because it was:  nan\n",
      "We couldn't process this post because it was:  nan\n"
     ]
    },
    {
     "name": "stderr",
     "output_type": "stream",
     "text": [
      "\r",
      " 75%|███████▌  | 549/732 [10:20<04:36,  1.51s/it]"
     ]
    },
    {
     "name": "stdout",
     "output_type": "stream",
     "text": [
      "We couldn't process this post because it was:  nan\n",
      "We couldn't process this post because it was:  nan\n",
      "We couldn't process this post because it was:  nan\n",
      "We couldn't process this post because it was:  nan\n",
      "We couldn't process this post because it was:  nan\n",
      "We couldn't process this post because it was:  nan\n",
      "We couldn't process this post because it was:  nan\n"
     ]
    },
    {
     "name": "stderr",
     "output_type": "stream",
     "text": [
      "\r",
      " 75%|███████▌  | 550/732 [10:22<04:54,  1.62s/it]"
     ]
    },
    {
     "name": "stdout",
     "output_type": "stream",
     "text": [
      "We couldn't process this post because it was:  nan\n",
      "We couldn't process this post because it was:  nan\n",
      "We couldn't process this post because it was:  nan\n",
      "We couldn't process this post because it was:  nan\n",
      "We couldn't process this post because it was:  nan\n",
      "We couldn't process this post because it was:  nan\n",
      "We couldn't process this post because it was:  nan\n"
     ]
    },
    {
     "name": "stderr",
     "output_type": "stream",
     "text": [
      "\r",
      " 75%|███████▌  | 551/732 [10:25<05:35,  1.85s/it]"
     ]
    },
    {
     "name": "stdout",
     "output_type": "stream",
     "text": [
      "We couldn't process this post because it was:  nan\n",
      "We couldn't process this post because it was:  nan\n",
      "We couldn't process this post because it was:  nan\n",
      "We couldn't process this post because it was:  nan\n",
      "We couldn't process this post because it was:  nan\n",
      "We couldn't process this post because it was:  nan\n",
      "We couldn't process this post because it was:  nan\n"
     ]
    },
    {
     "name": "stderr",
     "output_type": "stream",
     "text": [
      "\r",
      " 75%|███████▌  | 552/732 [10:26<05:25,  1.81s/it]"
     ]
    },
    {
     "name": "stdout",
     "output_type": "stream",
     "text": [
      "We couldn't process this post because it was:  nan\n",
      "We couldn't process this post because it was:  nan\n",
      "We couldn't process this post because it was:  nan\n",
      "We couldn't process this post because it was:  nan\n",
      "We couldn't process this post because it was:  nan\n"
     ]
    },
    {
     "name": "stderr",
     "output_type": "stream",
     "text": [
      "\r",
      " 76%|███████▌  | 553/732 [10:29<05:58,  2.00s/it]"
     ]
    },
    {
     "name": "stdout",
     "output_type": "stream",
     "text": [
      "We couldn't process this post because it was:  nan\n",
      "We couldn't process this post because it was:  nan\n",
      "We couldn't process this post because it was:  nan\n"
     ]
    },
    {
     "name": "stderr",
     "output_type": "stream",
     "text": [
      "\r",
      " 76%|███████▌  | 554/732 [10:31<05:58,  2.02s/it]"
     ]
    },
    {
     "name": "stdout",
     "output_type": "stream",
     "text": [
      "We couldn't process this post because it was:  nan\n",
      "We couldn't process this post because it was:  nan\n",
      "We couldn't process this post because it was:  nan\n",
      "We couldn't process this post because it was:  nan\n",
      "We couldn't process this post because it was:  nan\n",
      "We couldn't process this post because it was:  nan\n"
     ]
    },
    {
     "name": "stderr",
     "output_type": "stream",
     "text": [
      "\r",
      " 76%|███████▌  | 555/732 [10:33<06:00,  2.04s/it]"
     ]
    },
    {
     "name": "stdout",
     "output_type": "stream",
     "text": [
      "We couldn't process this post because it was:  nan\n",
      "We couldn't process this post because it was:  nan\n",
      "We couldn't process this post because it was:  nan\n",
      "We couldn't process this post because it was:  nan\n"
     ]
    },
    {
     "name": "stderr",
     "output_type": "stream",
     "text": [
      "\r",
      " 76%|███████▌  | 556/732 [10:35<05:48,  1.98s/it]"
     ]
    },
    {
     "name": "stdout",
     "output_type": "stream",
     "text": [
      "We couldn't process this post because it was:  nan\n",
      "We couldn't process this post because it was:  nan\n",
      "We couldn't process this post because it was:  nan\n",
      "We couldn't process this post because it was:  nan\n",
      "We couldn't process this post because it was:  nan\n",
      "We couldn't process this post because it was:  nan\n"
     ]
    },
    {
     "name": "stderr",
     "output_type": "stream",
     "text": [
      "\r",
      " 76%|███████▌  | 557/732 [10:37<06:20,  2.17s/it]"
     ]
    },
    {
     "name": "stdout",
     "output_type": "stream",
     "text": [
      "We couldn't process this post because it was:  nan\n",
      "We couldn't process this post because it was:  nan\n",
      "We couldn't process this post because it was:  nan\n",
      "We couldn't process this post because it was:  nan\n",
      "We couldn't process this post because it was:  nan\n",
      "We couldn't process this post because it was:  nan\n",
      "We couldn't process this post because it was:  nan\n"
     ]
    },
    {
     "name": "stderr",
     "output_type": "stream",
     "text": [
      "\r",
      " 76%|███████▌  | 558/732 [10:40<06:54,  2.38s/it]"
     ]
    },
    {
     "name": "stdout",
     "output_type": "stream",
     "text": [
      "We couldn't process this post because it was:  nan\n",
      "We couldn't process this post because it was:  nan\n",
      "We couldn't process this post because it was:  nan\n",
      "We couldn't process this post because it was:  nan\n"
     ]
    },
    {
     "name": "stderr",
     "output_type": "stream",
     "text": [
      "\r",
      " 76%|███████▋  | 559/732 [10:42<06:14,  2.16s/it]"
     ]
    },
    {
     "name": "stdout",
     "output_type": "stream",
     "text": [
      "We couldn't process this post because it was:  nan\n",
      "We couldn't process this post because it was:  nan\n",
      "We couldn't process this post because it was:  nan\n",
      "We couldn't process this post because it was:  nan\n",
      "We couldn't process this post because it was:  nan\n",
      "We couldn't process this post because it was:  nan\n",
      "We couldn't process this post because it was:  nan\n",
      "We couldn't process this post because it was:  nan\n",
      "We couldn't process this post because it was:  nan\n"
     ]
    },
    {
     "name": "stderr",
     "output_type": "stream",
     "text": [
      "\r",
      " 77%|███████▋  | 560/732 [10:45<06:30,  2.27s/it]"
     ]
    },
    {
     "name": "stdout",
     "output_type": "stream",
     "text": [
      "We couldn't process this post because it was:  nan\n",
      "We couldn't process this post because it was:  nan\n",
      "We couldn't process this post because it was:  nan\n"
     ]
    },
    {
     "name": "stderr",
     "output_type": "stream",
     "text": [
      "\r",
      " 77%|███████▋  | 561/732 [10:46<05:49,  2.05s/it]"
     ]
    },
    {
     "name": "stdout",
     "output_type": "stream",
     "text": [
      "We couldn't process this post because it was:  nan\n",
      "We couldn't process this post because it was:  nan\n",
      "We couldn't process this post because it was:  nan\n"
     ]
    },
    {
     "name": "stderr",
     "output_type": "stream",
     "text": [
      "\r",
      " 77%|███████▋  | 562/732 [10:47<05:16,  1.86s/it]"
     ]
    },
    {
     "name": "stdout",
     "output_type": "stream",
     "text": [
      "We couldn't process this post because it was:  nan\n",
      "We couldn't process this post because it was:  nan\n",
      "We couldn't process this post because it was:  nan\n",
      "We couldn't process this post because it was:  nan\n",
      "We couldn't process this post because it was:  nan\n",
      "We couldn't process this post because it was:  nan\n",
      "We couldn't process this post because it was:  nan\n",
      "We couldn't process this post because it was:  nan\n",
      "We couldn't process this post because it was:  nan\n"
     ]
    },
    {
     "name": "stderr",
     "output_type": "stream",
     "text": [
      "\r",
      " 77%|███████▋  | 563/732 [10:50<05:40,  2.02s/it]"
     ]
    },
    {
     "name": "stdout",
     "output_type": "stream",
     "text": [
      "We couldn't process this post because it was:  nan\n",
      "We couldn't process this post because it was:  nan\n",
      "We couldn't process this post because it was:  nan\n",
      "We couldn't process this post because it was:  nan\n",
      "We couldn't process this post because it was:  nan\n",
      "We couldn't process this post because it was:  nan\n",
      "We couldn't process this post because it was:  nan\n",
      "We couldn't process this post because it was:  nan\n",
      "We couldn't process this post because it was:  nan\n",
      "We couldn't process this post because it was:  nan\n",
      "We couldn't process this post because it was:  nan\n"
     ]
    },
    {
     "name": "stderr",
     "output_type": "stream",
     "text": [
      "\r",
      " 77%|███████▋  | 564/732 [10:52<05:23,  1.93s/it]"
     ]
    },
    {
     "name": "stdout",
     "output_type": "stream",
     "text": [
      "We couldn't process this post because it was:  nan\n",
      "We couldn't process this post because it was:  nan\n",
      "We couldn't process this post because it was:  nan\n",
      "We couldn't process this post because it was:  nan\n",
      "We couldn't process this post because it was:  nan\n",
      "We couldn't process this post because it was:  nan\n"
     ]
    },
    {
     "name": "stderr",
     "output_type": "stream",
     "text": [
      "\r",
      " 77%|███████▋  | 565/732 [10:54<05:57,  2.14s/it]"
     ]
    },
    {
     "name": "stdout",
     "output_type": "stream",
     "text": [
      "We couldn't process this post because it was:  nan\n",
      "We couldn't process this post because it was:  nan\n",
      "We couldn't process this post because it was:  nan\n",
      "We couldn't process this post because it was:  nan\n",
      "We couldn't process this post because it was:  nan\n",
      "We couldn't process this post because it was:  nan\n",
      "We couldn't process this post because it was:  nan\n"
     ]
    },
    {
     "name": "stderr",
     "output_type": "stream",
     "text": [
      "\r",
      " 77%|███████▋  | 566/732 [10:56<05:34,  2.02s/it]"
     ]
    },
    {
     "name": "stdout",
     "output_type": "stream",
     "text": [
      "We couldn't process this post because it was:  nan\n",
      "We couldn't process this post because it was:  nan\n",
      "We couldn't process this post because it was:  nan\n",
      "We couldn't process this post because it was:  nan\n",
      "We couldn't process this post because it was:  nan\n",
      "We couldn't process this post because it was:  nan\n"
     ]
    },
    {
     "name": "stderr",
     "output_type": "stream",
     "text": [
      "\r",
      " 77%|███████▋  | 567/732 [11:00<07:31,  2.73s/it]"
     ]
    },
    {
     "name": "stdout",
     "output_type": "stream",
     "text": [
      "We couldn't process this post because it was:  nan\n",
      "We couldn't process this post because it was:  nan\n",
      "We couldn't process this post because it was:  nan\n",
      "We couldn't process this post because it was:  nan\n",
      "We couldn't process this post because it was:  nan\n",
      "We couldn't process this post because it was:  nan\n",
      "We couldn't process this post because it was:  nan\n",
      "We couldn't process this post because it was:  nan\n"
     ]
    },
    {
     "name": "stderr",
     "output_type": "stream",
     "text": [
      "\r",
      " 78%|███████▊  | 568/732 [11:03<07:06,  2.60s/it]"
     ]
    },
    {
     "name": "stdout",
     "output_type": "stream",
     "text": [
      "We couldn't process this post because it was:  nan\n",
      "We couldn't process this post because it was:  nan\n"
     ]
    },
    {
     "name": "stderr",
     "output_type": "stream",
     "text": [
      "\r",
      " 78%|███████▊  | 569/732 [11:04<06:25,  2.37s/it]"
     ]
    },
    {
     "name": "stdout",
     "output_type": "stream",
     "text": [
      "We couldn't process this post because it was:  nan\n",
      "We couldn't process this post because it was:  nan\n",
      "We couldn't process this post because it was:  nan\n",
      "We couldn't process this post because it was:  nan\n",
      "We couldn't process this post because it was:  nan\n",
      "We couldn't process this post because it was:  nan\n"
     ]
    },
    {
     "name": "stderr",
     "output_type": "stream",
     "text": [
      "\r",
      " 78%|███████▊  | 570/732 [11:07<06:23,  2.37s/it]"
     ]
    },
    {
     "name": "stdout",
     "output_type": "stream",
     "text": [
      "We couldn't process this post because it was:  nan\n",
      "We couldn't process this post because it was:  nan\n",
      "We couldn't process this post because it was:  nan\n",
      "We couldn't process this post because it was:  nan\n",
      "We couldn't process this post because it was:  nan\n",
      "We couldn't process this post because it was:  nan\n"
     ]
    },
    {
     "name": "stderr",
     "output_type": "stream",
     "text": [
      "\r",
      " 78%|███████▊  | 571/732 [11:08<05:45,  2.15s/it]"
     ]
    },
    {
     "name": "stdout",
     "output_type": "stream",
     "text": [
      "We couldn't process this post because it was:  nan\n",
      "We couldn't process this post because it was:  nan\n",
      "We couldn't process this post because it was:  nan\n",
      "We couldn't process this post because it was:  nan\n",
      "We couldn't process this post because it was:  nan\n",
      "We couldn't process this post because it was:  nan\n"
     ]
    },
    {
     "name": "stderr",
     "output_type": "stream",
     "text": [
      "\r",
      " 78%|███████▊  | 572/732 [11:10<05:25,  2.03s/it]"
     ]
    },
    {
     "name": "stdout",
     "output_type": "stream",
     "text": [
      "We couldn't process this post because it was:  nan\n",
      "We couldn't process this post because it was:  nan\n",
      "We couldn't process this post because it was:  nan\n",
      "We couldn't process this post because it was:  nan\n",
      "We couldn't process this post because it was:  nan\n"
     ]
    },
    {
     "name": "stderr",
     "output_type": "stream",
     "text": [
      "\r",
      " 78%|███████▊  | 573/732 [11:12<05:17,  2.00s/it]"
     ]
    },
    {
     "name": "stdout",
     "output_type": "stream",
     "text": [
      "We couldn't process this post because it was:  nan\n",
      "We couldn't process this post because it was:  nan\n",
      "We couldn't process this post because it was:  nan\n",
      "We couldn't process this post because it was:  nan\n",
      "We couldn't process this post because it was:  nan\n"
     ]
    },
    {
     "name": "stderr",
     "output_type": "stream",
     "text": [
      "\r",
      " 78%|███████▊  | 574/732 [11:14<05:23,  2.05s/it]"
     ]
    },
    {
     "name": "stdout",
     "output_type": "stream",
     "text": [
      "We couldn't process this post because it was:  nan\n",
      "We couldn't process this post because it was:  nan\n",
      "We couldn't process this post because it was:  nan\n",
      "We couldn't process this post because it was:  nan\n",
      "We couldn't process this post because it was:  nan\n",
      "We couldn't process this post because it was:  nan\n",
      "We couldn't process this post because it was:  nan\n",
      "We couldn't process this post because it was:  nan\n",
      "We couldn't process this post because it was:  nan\n"
     ]
    },
    {
     "name": "stderr",
     "output_type": "stream",
     "text": [
      "\r",
      " 79%|███████▊  | 575/732 [11:17<05:29,  2.10s/it]"
     ]
    },
    {
     "name": "stdout",
     "output_type": "stream",
     "text": [
      "We couldn't process this post because it was:  nan\n",
      "We couldn't process this post because it was:  nan\n",
      "We couldn't process this post because it was:  nan\n",
      "We couldn't process this post because it was:  nan\n"
     ]
    },
    {
     "name": "stderr",
     "output_type": "stream",
     "text": [
      "\r",
      " 79%|███████▊  | 576/732 [11:18<05:17,  2.03s/it]"
     ]
    },
    {
     "name": "stdout",
     "output_type": "stream",
     "text": [
      "We couldn't process this post because it was:  nan\n",
      "We couldn't process this post because it was:  nan\n",
      "We couldn't process this post because it was:  nan\n"
     ]
    },
    {
     "name": "stderr",
     "output_type": "stream",
     "text": [
      "\r",
      " 79%|███████▉  | 577/732 [11:22<06:16,  2.43s/it]"
     ]
    },
    {
     "name": "stdout",
     "output_type": "stream",
     "text": [
      "We couldn't process this post because it was:  nan\n",
      "We couldn't process this post because it was:  nan\n",
      "We couldn't process this post because it was:  nan\n",
      "We couldn't process this post because it was:  nan\n",
      "We couldn't process this post because it was:  nan\n"
     ]
    },
    {
     "name": "stderr",
     "output_type": "stream",
     "text": [
      "\r",
      " 79%|███████▉  | 578/732 [11:24<06:01,  2.35s/it]"
     ]
    },
    {
     "name": "stdout",
     "output_type": "stream",
     "text": [
      "We couldn't process this post because it was:  nan\n",
      "We couldn't process this post because it was:  nan\n",
      "We couldn't process this post because it was:  nan\n",
      "We couldn't process this post because it was:  nan\n",
      "We couldn't process this post because it was:  nan\n"
     ]
    },
    {
     "name": "stderr",
     "output_type": "stream",
     "text": [
      "\r",
      " 79%|███████▉  | 579/732 [11:26<05:50,  2.29s/it]"
     ]
    },
    {
     "name": "stdout",
     "output_type": "stream",
     "text": [
      "We couldn't process this post because it was:  nan\n",
      "We couldn't process this post because it was:  nan\n",
      "We couldn't process this post because it was:  nan\n",
      "We couldn't process this post because it was:  nan\n",
      "We couldn't process this post because it was:  nan\n",
      "We couldn't process this post because it was:  nan\n",
      "We couldn't process this post because it was:  nan\n"
     ]
    },
    {
     "name": "stderr",
     "output_type": "stream",
     "text": [
      "\r",
      " 79%|███████▉  | 580/732 [11:28<05:29,  2.17s/it]"
     ]
    },
    {
     "name": "stdout",
     "output_type": "stream",
     "text": [
      "We couldn't process this post because it was:  nan\n",
      "We couldn't process this post because it was:  nan\n",
      "We couldn't process this post because it was:  nan\n",
      "We couldn't process this post because it was:  nan\n",
      "We couldn't process this post because it was:  nan\n",
      "We couldn't process this post because it was:  nan\n",
      "We couldn't process this post because it was:  nan\n",
      "We couldn't process this post because it was:  nan\n",
      "We couldn't process this post because it was:  nan\n",
      "We couldn't process this post because it was:  nan\n"
     ]
    },
    {
     "name": "stderr",
     "output_type": "stream",
     "text": [
      "\r",
      " 79%|███████▉  | 581/732 [11:30<05:34,  2.22s/it]"
     ]
    },
    {
     "name": "stdout",
     "output_type": "stream",
     "text": [
      "We couldn't process this post because it was:  nan\n",
      "We couldn't process this post because it was:  nan\n",
      "We couldn't process this post because it was:  nan\n",
      "We couldn't process this post because it was:  nan\n",
      "We couldn't process this post because it was:  nan\n"
     ]
    },
    {
     "name": "stderr",
     "output_type": "stream",
     "text": [
      "\r",
      " 80%|███████▉  | 582/732 [11:32<05:10,  2.07s/it]"
     ]
    },
    {
     "name": "stdout",
     "output_type": "stream",
     "text": [
      "We couldn't process this post because it was:  nan\n",
      "We couldn't process this post because it was:  nan\n",
      "We couldn't process this post because it was:  nan\n",
      "We couldn't process this post because it was:  nan\n",
      "We couldn't process this post because it was:  nan\n",
      "We couldn't process this post because it was:  nan\n",
      "We couldn't process this post because it was:  nan\n"
     ]
    },
    {
     "name": "stderr",
     "output_type": "stream",
     "text": [
      "\r",
      " 80%|███████▉  | 583/732 [11:34<05:06,  2.06s/it]"
     ]
    },
    {
     "name": "stdout",
     "output_type": "stream",
     "text": [
      "We couldn't process this post because it was:  nan\n",
      "We couldn't process this post because it was:  nan\n"
     ]
    },
    {
     "name": "stderr",
     "output_type": "stream",
     "text": [
      "\r",
      " 80%|███████▉  | 584/732 [11:38<06:07,  2.49s/it]"
     ]
    },
    {
     "name": "stdout",
     "output_type": "stream",
     "text": [
      "We couldn't process this post because it was:  nan\n",
      "We couldn't process this post because it was:  nan\n",
      "We couldn't process this post because it was:  nan\n",
      "We couldn't process this post because it was:  nan\n",
      "We couldn't process this post because it was:  nan\n",
      "We couldn't process this post because it was:  nan\n"
     ]
    },
    {
     "name": "stderr",
     "output_type": "stream",
     "text": [
      "\r",
      " 80%|███████▉  | 585/732 [11:39<05:28,  2.24s/it]"
     ]
    },
    {
     "name": "stdout",
     "output_type": "stream",
     "text": [
      "We couldn't process this post because it was:  nan\n"
     ]
    },
    {
     "name": "stderr",
     "output_type": "stream",
     "text": [
      "\r",
      " 80%|████████  | 586/732 [11:41<05:06,  2.10s/it]"
     ]
    },
    {
     "name": "stdout",
     "output_type": "stream",
     "text": [
      "We couldn't process this post because it was:  nan\n",
      "We couldn't process this post because it was:  nan\n",
      "We couldn't process this post because it was:  nan\n",
      "We couldn't process this post because it was:  nan\n",
      "We couldn't process this post because it was:  nan\n",
      "We couldn't process this post because it was:  nan\n",
      "We couldn't process this post because it was:  nan\n",
      "We couldn't process this post because it was:  nan\n",
      "We couldn't process this post because it was:  nan\n"
     ]
    },
    {
     "name": "stderr",
     "output_type": "stream",
     "text": [
      "\r",
      " 80%|████████  | 587/732 [11:43<05:01,  2.08s/it]"
     ]
    },
    {
     "name": "stdout",
     "output_type": "stream",
     "text": [
      "We couldn't process this post because it was:  nan\n",
      "We couldn't process this post because it was:  nan\n",
      "We couldn't process this post because it was:  nan\n",
      "We couldn't process this post because it was:  nan\n",
      "We couldn't process this post because it was:  nan\n"
     ]
    },
    {
     "name": "stderr",
     "output_type": "stream",
     "text": [
      "\r",
      " 80%|████████  | 588/732 [11:46<05:20,  2.22s/it]"
     ]
    },
    {
     "name": "stdout",
     "output_type": "stream",
     "text": [
      "We couldn't process this post because it was:  nan\n",
      "We couldn't process this post because it was:  nan\n",
      "We couldn't process this post because it was:  nan\n",
      "We couldn't process this post because it was:  nan\n",
      "We couldn't process this post because it was:  nan\n"
     ]
    },
    {
     "name": "stderr",
     "output_type": "stream",
     "text": [
      "\r",
      " 80%|████████  | 589/732 [11:47<05:00,  2.10s/it]"
     ]
    },
    {
     "name": "stdout",
     "output_type": "stream",
     "text": [
      "We couldn't process this post because it was:  nan\n",
      "We couldn't process this post because it was:  nan\n",
      "We couldn't process this post because it was:  nan\n",
      "We couldn't process this post because it was:  nan\n",
      "We couldn't process this post because it was:  nan\n"
     ]
    },
    {
     "name": "stderr",
     "output_type": "stream",
     "text": [
      "\r",
      " 81%|████████  | 590/732 [11:49<04:49,  2.04s/it]"
     ]
    },
    {
     "name": "stdout",
     "output_type": "stream",
     "text": [
      "We couldn't process this post because it was:  nan\n",
      "We couldn't process this post because it was:  nan\n",
      "We couldn't process this post because it was:  nan\n",
      "We couldn't process this post because it was:  nan\n",
      "We couldn't process this post because it was:  nan\n"
     ]
    },
    {
     "name": "stderr",
     "output_type": "stream",
     "text": [
      "\r",
      " 81%|████████  | 591/732 [11:51<04:36,  1.96s/it]"
     ]
    },
    {
     "name": "stdout",
     "output_type": "stream",
     "text": [
      "We couldn't process this post because it was:  nan\n",
      "We couldn't process this post because it was:  nan\n"
     ]
    },
    {
     "name": "stderr",
     "output_type": "stream",
     "text": [
      "\r",
      " 81%|████████  | 592/732 [11:53<04:26,  1.90s/it]"
     ]
    },
    {
     "name": "stdout",
     "output_type": "stream",
     "text": [
      "We couldn't process this post because it was:  nan\n",
      "We couldn't process this post because it was:  nan\n",
      "We couldn't process this post because it was:  nan\n"
     ]
    },
    {
     "name": "stderr",
     "output_type": "stream",
     "text": [
      "\r",
      " 81%|████████  | 593/732 [11:55<04:41,  2.02s/it]"
     ]
    },
    {
     "name": "stdout",
     "output_type": "stream",
     "text": [
      "We couldn't process this post because it was:  nan\n",
      "We couldn't process this post because it was:  nan\n",
      "We couldn't process this post because it was:  nan\n"
     ]
    },
    {
     "name": "stderr",
     "output_type": "stream",
     "text": [
      "\r",
      " 81%|████████  | 594/732 [11:58<05:13,  2.27s/it]"
     ]
    },
    {
     "name": "stdout",
     "output_type": "stream",
     "text": [
      "We couldn't process this post because it was:  nan\n",
      "We couldn't process this post because it was:  nan\n",
      "We couldn't process this post because it was:  nan\n"
     ]
    },
    {
     "name": "stderr",
     "output_type": "stream",
     "text": [
      "\r",
      " 81%|████████▏ | 595/732 [12:02<06:14,  2.74s/it]"
     ]
    },
    {
     "name": "stdout",
     "output_type": "stream",
     "text": [
      "We couldn't process this post because it was:  nan\n",
      "We couldn't process this post because it was:  nan\n",
      "We couldn't process this post because it was:  nan\n",
      "We couldn't process this post because it was:  nan\n",
      "We couldn't process this post because it was:  nan\n",
      "We couldn't process this post because it was:  nan\n",
      "We couldn't process this post because it was:  nan\n",
      "We couldn't process this post because it was:  nan\n"
     ]
    },
    {
     "name": "stderr",
     "output_type": "stream",
     "text": [
      "\r",
      " 81%|████████▏ | 596/732 [12:04<05:46,  2.55s/it]"
     ]
    },
    {
     "name": "stdout",
     "output_type": "stream",
     "text": [
      "We couldn't process this post because it was:  nan\n",
      "We couldn't process this post because it was:  nan\n",
      "We couldn't process this post because it was:  nan\n"
     ]
    },
    {
     "name": "stderr",
     "output_type": "stream",
     "text": [
      "\r",
      " 82%|████████▏ | 597/732 [12:07<06:00,  2.67s/it]"
     ]
    },
    {
     "name": "stdout",
     "output_type": "stream",
     "text": [
      "We couldn't process this post because it was:  nan\n"
     ]
    },
    {
     "name": "stderr",
     "output_type": "stream",
     "text": [
      "\r",
      " 82%|████████▏ | 598/732 [12:09<05:46,  2.58s/it]"
     ]
    },
    {
     "name": "stdout",
     "output_type": "stream",
     "text": [
      "We couldn't process this post because it was:  nan\n",
      "We couldn't process this post because it was:  nan\n",
      "We couldn't process this post because it was:  nan\n"
     ]
    },
    {
     "name": "stderr",
     "output_type": "stream",
     "text": [
      "\r",
      " 82%|████████▏ | 599/732 [12:12<06:02,  2.73s/it]"
     ]
    },
    {
     "name": "stdout",
     "output_type": "stream",
     "text": [
      "We couldn't process this post because it was:  nan\n",
      "We couldn't process this post because it was:  nan\n"
     ]
    },
    {
     "name": "stderr",
     "output_type": "stream",
     "text": [
      "\r",
      " 82%|████████▏ | 600/732 [12:16<06:26,  2.93s/it]"
     ]
    },
    {
     "name": "stdout",
     "output_type": "stream",
     "text": [
      "We couldn't process this post because it was:  nan\n"
     ]
    },
    {
     "name": "stderr",
     "output_type": "stream",
     "text": [
      "\r",
      " 82%|████████▏ | 601/732 [12:18<05:43,  2.62s/it]"
     ]
    },
    {
     "name": "stdout",
     "output_type": "stream",
     "text": [
      "We couldn't process this post because it was:  nan\n",
      "We couldn't process this post because it was:  nan\n",
      "We couldn't process this post because it was:  nan\n",
      "We couldn't process this post because it was:  nan\n",
      "We couldn't process this post because it was:  nan\n"
     ]
    },
    {
     "name": "stderr",
     "output_type": "stream",
     "text": [
      "\r",
      " 82%|████████▏ | 602/732 [12:19<05:08,  2.38s/it]"
     ]
    },
    {
     "name": "stdout",
     "output_type": "stream",
     "text": [
      "We couldn't process this post because it was:  nan\n",
      "We couldn't process this post because it was:  nan\n"
     ]
    },
    {
     "name": "stderr",
     "output_type": "stream",
     "text": [
      "\r",
      " 82%|████████▏ | 603/732 [12:21<04:48,  2.23s/it]"
     ]
    },
    {
     "name": "stdout",
     "output_type": "stream",
     "text": [
      "We couldn't process this post because it was:  nan\n"
     ]
    },
    {
     "name": "stderr",
     "output_type": "stream",
     "text": [
      " 83%|████████▎ | 605/732 [12:27<05:19,  2.52s/it]"
     ]
    },
    {
     "name": "stdout",
     "output_type": "stream",
     "text": [
      "We couldn't process this post because it was:  nan\n"
     ]
    },
    {
     "name": "stderr",
     "output_type": "stream",
     "text": [
      "\r",
      " 83%|████████▎ | 606/732 [12:29<04:52,  2.32s/it]"
     ]
    },
    {
     "name": "stdout",
     "output_type": "stream",
     "text": [
      "We couldn't process this post because it was:  nan\n"
     ]
    },
    {
     "name": "stderr",
     "output_type": "stream",
     "text": [
      "\r",
      " 83%|████████▎ | 607/732 [12:31<04:36,  2.21s/it]"
     ]
    },
    {
     "name": "stdout",
     "output_type": "stream",
     "text": [
      "We couldn't process this post because it was:  nan\n",
      "We couldn't process this post because it was:  nan\n",
      "We couldn't process this post because it was:  nan\n",
      "We couldn't process this post because it was:  nan\n",
      "We couldn't process this post because it was:  nan\n"
     ]
    },
    {
     "name": "stderr",
     "output_type": "stream",
     "text": [
      "\r",
      " 83%|████████▎ | 608/732 [12:33<04:22,  2.12s/it]"
     ]
    },
    {
     "name": "stdout",
     "output_type": "stream",
     "text": [
      "We couldn't process this post because it was:  nan\n",
      "We couldn't process this post because it was:  nan\n",
      "We couldn't process this post because it was:  nan\n"
     ]
    },
    {
     "name": "stderr",
     "output_type": "stream",
     "text": [
      "\r",
      " 83%|████████▎ | 609/732 [12:36<04:47,  2.33s/it]"
     ]
    },
    {
     "name": "stdout",
     "output_type": "stream",
     "text": [
      "We couldn't process this post because it was:  nan\n"
     ]
    },
    {
     "name": "stderr",
     "output_type": "stream",
     "text": [
      "\r",
      " 83%|████████▎ | 610/732 [12:38<04:53,  2.40s/it]"
     ]
    },
    {
     "name": "stdout",
     "output_type": "stream",
     "text": [
      "We couldn't process this post because it was:  nan\n",
      "We couldn't process this post because it was:  nan\n"
     ]
    },
    {
     "name": "stderr",
     "output_type": "stream",
     "text": [
      "\r",
      " 83%|████████▎ | 611/732 [12:41<05:05,  2.53s/it]"
     ]
    },
    {
     "name": "stdout",
     "output_type": "stream",
     "text": [
      "We couldn't process this post because it was:  nan\n",
      "We couldn't process this post because it was:  nan\n",
      "We couldn't process this post because it was:  nan\n"
     ]
    },
    {
     "name": "stderr",
     "output_type": "stream",
     "text": [
      "\r",
      " 84%|████████▎ | 612/732 [12:44<05:20,  2.67s/it]"
     ]
    },
    {
     "name": "stdout",
     "output_type": "stream",
     "text": [
      "We couldn't process this post because it was:  nan\n",
      "We couldn't process this post because it was:  nan\n",
      "We couldn't process this post because it was:  nan\n"
     ]
    },
    {
     "name": "stderr",
     "output_type": "stream",
     "text": [
      "\r",
      " 84%|████████▎ | 613/732 [12:55<10:07,  5.11s/it]"
     ]
    },
    {
     "name": "stdout",
     "output_type": "stream",
     "text": [
      "We couldn't process this post because it was:  nan\n",
      "We couldn't process this post because it was:  nan\n",
      "We couldn't process this post because it was:  nan\n",
      "We couldn't process this post because it was:  nan\n"
     ]
    },
    {
     "name": "stderr",
     "output_type": "stream",
     "text": [
      "\r",
      " 84%|████████▍ | 614/732 [12:58<08:32,  4.35s/it]"
     ]
    },
    {
     "name": "stdout",
     "output_type": "stream",
     "text": [
      "We couldn't process this post because it was:  nan\n"
     ]
    },
    {
     "name": "stderr",
     "output_type": "stream",
     "text": [
      "\r",
      " 84%|████████▍ | 615/732 [12:59<07:01,  3.60s/it]"
     ]
    },
    {
     "name": "stdout",
     "output_type": "stream",
     "text": [
      "We couldn't process this post because it was:  nan\n"
     ]
    },
    {
     "name": "stderr",
     "output_type": "stream",
     "text": [
      "\r",
      " 84%|████████▍ | 616/732 [13:03<06:41,  3.46s/it]"
     ]
    },
    {
     "name": "stdout",
     "output_type": "stream",
     "text": [
      "We couldn't process this post because it was:  nan\n"
     ]
    },
    {
     "name": "stderr",
     "output_type": "stream",
     "text": [
      " 84%|████████▍ | 618/732 [13:08<05:56,  3.13s/it]"
     ]
    },
    {
     "name": "stdout",
     "output_type": "stream",
     "text": [
      "We couldn't process this post because it was:  nan\n",
      "We couldn't process this post because it was:  nan\n"
     ]
    },
    {
     "name": "stderr",
     "output_type": "stream",
     "text": [
      "\r",
      " 85%|████████▍ | 619/732 [13:10<05:05,  2.70s/it]"
     ]
    },
    {
     "name": "stdout",
     "output_type": "stream",
     "text": [
      "We couldn't process this post because it was:  nan\n"
     ]
    },
    {
     "name": "stderr",
     "output_type": "stream",
     "text": [
      "\r",
      " 85%|████████▍ | 620/732 [13:12<04:52,  2.61s/it]"
     ]
    },
    {
     "name": "stdout",
     "output_type": "stream",
     "text": [
      "We couldn't process this post because it was:  nan\n",
      "We couldn't process this post because it was:  nan\n"
     ]
    },
    {
     "name": "stderr",
     "output_type": "stream",
     "text": [
      "\r",
      " 85%|████████▍ | 621/732 [13:15<04:44,  2.56s/it]"
     ]
    },
    {
     "name": "stdout",
     "output_type": "stream",
     "text": [
      "We couldn't process this post because it was:  nan\n",
      "We couldn't process this post because it was:  nan\n",
      "We couldn't process this post because it was:  nan\n"
     ]
    },
    {
     "name": "stderr",
     "output_type": "stream",
     "text": [
      "\r",
      " 85%|████████▍ | 622/732 [13:17<04:27,  2.43s/it]"
     ]
    },
    {
     "name": "stdout",
     "output_type": "stream",
     "text": [
      "We couldn't process this post because it was:  nan\n",
      "We couldn't process this post because it was:  nan\n",
      "We couldn't process this post because it was:  nan\n",
      "We couldn't process this post because it was:  nan\n",
      "We couldn't process this post because it was:  nan\n",
      "We couldn't process this post because it was:  nan\n"
     ]
    },
    {
     "name": "stderr",
     "output_type": "stream",
     "text": [
      "\r",
      " 85%|████████▌ | 623/732 [13:20<04:39,  2.56s/it]"
     ]
    },
    {
     "name": "stdout",
     "output_type": "stream",
     "text": [
      "We couldn't process this post because it was:  nan\n",
      "We couldn't process this post because it was:  nan\n"
     ]
    },
    {
     "name": "stderr",
     "output_type": "stream",
     "text": [
      "\r",
      " 85%|████████▌ | 624/732 [13:23<04:59,  2.77s/it]"
     ]
    },
    {
     "name": "stdout",
     "output_type": "stream",
     "text": [
      "We couldn't process this post because it was:  nan\n"
     ]
    },
    {
     "name": "stderr",
     "output_type": "stream",
     "text": [
      "\r",
      " 85%|████████▌ | 625/732 [13:25<04:24,  2.47s/it]"
     ]
    },
    {
     "name": "stdout",
     "output_type": "stream",
     "text": [
      "We couldn't process this post because it was:  nan\n",
      "We couldn't process this post because it was:  nan\n",
      "We couldn't process this post because it was:  nan\n",
      "We couldn't process this post because it was:  nan\n"
     ]
    },
    {
     "name": "stderr",
     "output_type": "stream",
     "text": [
      "\r",
      " 86%|████████▌ | 626/732 [13:27<04:08,  2.35s/it]"
     ]
    },
    {
     "name": "stdout",
     "output_type": "stream",
     "text": [
      "We couldn't process this post because it was:  nan\n",
      "We couldn't process this post because it was:  nan\n",
      "We couldn't process this post because it was:  nan\n"
     ]
    },
    {
     "name": "stderr",
     "output_type": "stream",
     "text": [
      "\r",
      " 86%|████████▌ | 627/732 [13:29<04:11,  2.39s/it]"
     ]
    },
    {
     "name": "stdout",
     "output_type": "stream",
     "text": [
      "We couldn't process this post because it was:  nan\n",
      "We couldn't process this post because it was:  nan\n",
      "We couldn't process this post because it was:  nan\n",
      "We couldn't process this post because it was:  nan\n",
      "We couldn't process this post because it was:  nan\n",
      "We couldn't process this post because it was:  nan\n"
     ]
    },
    {
     "name": "stderr",
     "output_type": "stream",
     "text": [
      "\r",
      " 86%|████████▌ | 628/732 [13:35<05:33,  3.21s/it]"
     ]
    },
    {
     "name": "stdout",
     "output_type": "stream",
     "text": [
      "We couldn't process this post because it was:  nan\n"
     ]
    },
    {
     "name": "stderr",
     "output_type": "stream",
     "text": [
      "\r",
      " 86%|████████▌ | 629/732 [13:37<04:57,  2.89s/it]"
     ]
    },
    {
     "name": "stdout",
     "output_type": "stream",
     "text": [
      "We couldn't process this post because it was:  nan\n"
     ]
    },
    {
     "name": "stderr",
     "output_type": "stream",
     "text": [
      "\r",
      " 86%|████████▌ | 630/732 [13:39<04:30,  2.65s/it]"
     ]
    },
    {
     "name": "stdout",
     "output_type": "stream",
     "text": [
      "We couldn't process this post because it was:  nan\n",
      "We couldn't process this post because it was:  nan\n"
     ]
    },
    {
     "name": "stderr",
     "output_type": "stream",
     "text": [
      "\r",
      " 86%|████████▌ | 631/732 [13:41<04:11,  2.49s/it]"
     ]
    },
    {
     "name": "stdout",
     "output_type": "stream",
     "text": [
      "We couldn't process this post because it was:  nan\n",
      "We couldn't process this post because it was:  nan\n"
     ]
    },
    {
     "name": "stderr",
     "output_type": "stream",
     "text": [
      "\r",
      " 86%|████████▋ | 632/732 [13:43<04:01,  2.41s/it]"
     ]
    },
    {
     "name": "stdout",
     "output_type": "stream",
     "text": [
      "We couldn't process this post because it was:  nan\n",
      "We couldn't process this post because it was:  nan\n",
      "We couldn't process this post because it was:  nan\n"
     ]
    },
    {
     "name": "stderr",
     "output_type": "stream",
     "text": [
      "\r",
      " 86%|████████▋ | 633/732 [13:46<04:21,  2.64s/it]"
     ]
    },
    {
     "name": "stdout",
     "output_type": "stream",
     "text": [
      "We couldn't process this post because it was:  nan\n",
      "We couldn't process this post because it was:  nan\n"
     ]
    },
    {
     "name": "stderr",
     "output_type": "stream",
     "text": [
      "\r",
      " 87%|████████▋ | 634/732 [13:49<04:10,  2.55s/it]"
     ]
    },
    {
     "name": "stdout",
     "output_type": "stream",
     "text": [
      "We couldn't process this post because it was:  nan\n",
      "We couldn't process this post because it was:  nan\n",
      "We couldn't process this post because it was:  nan\n",
      "We couldn't process this post because it was:  nan\n"
     ]
    },
    {
     "name": "stderr",
     "output_type": "stream",
     "text": [
      "\r",
      " 87%|████████▋ | 635/732 [13:54<05:20,  3.30s/it]"
     ]
    },
    {
     "name": "stdout",
     "output_type": "stream",
     "text": [
      "We couldn't process this post because it was:  nan\n",
      "We couldn't process this post because it was:  nan\n"
     ]
    },
    {
     "name": "stderr",
     "output_type": "stream",
     "text": [
      "\r",
      " 87%|████████▋ | 636/732 [13:56<04:55,  3.07s/it]"
     ]
    },
    {
     "name": "stdout",
     "output_type": "stream",
     "text": [
      "We couldn't process this post because it was:  nan\n",
      "We couldn't process this post because it was:  nan\n",
      "We couldn't process this post because it was:  nan\n",
      "We couldn't process this post because it was:  nan\n",
      "We couldn't process this post because it was:  nan\n"
     ]
    },
    {
     "name": "stderr",
     "output_type": "stream",
     "text": [
      " 87%|████████▋ | 638/732 [14:00<03:54,  2.49s/it]"
     ]
    },
    {
     "name": "stdout",
     "output_type": "stream",
     "text": [
      "We couldn't process this post because it was:  nan\n",
      "We couldn't process this post because it was:  nan\n",
      "We couldn't process this post because it was:  nan\n"
     ]
    },
    {
     "name": "stderr",
     "output_type": "stream",
     "text": [
      "\r",
      " 87%|████████▋ | 639/732 [14:03<03:50,  2.48s/it]"
     ]
    },
    {
     "name": "stdout",
     "output_type": "stream",
     "text": [
      "We couldn't process this post because it was:  nan\n",
      "We couldn't process this post because it was:  nan\n",
      "We couldn't process this post because it was:  nan\n"
     ]
    },
    {
     "name": "stderr",
     "output_type": "stream",
     "text": [
      "\r",
      " 87%|████████▋ | 640/732 [14:05<03:55,  2.56s/it]"
     ]
    },
    {
     "name": "stdout",
     "output_type": "stream",
     "text": [
      "We couldn't process this post because it was:  nan\n",
      "We couldn't process this post because it was:  nan\n",
      "We couldn't process this post because it was:  nan\n",
      "We couldn't process this post because it was:  nan\n",
      "We couldn't process this post because it was:  nan\n"
     ]
    },
    {
     "name": "stderr",
     "output_type": "stream",
     "text": [
      "\r",
      " 88%|████████▊ | 641/732 [14:08<03:58,  2.62s/it]"
     ]
    },
    {
     "name": "stdout",
     "output_type": "stream",
     "text": [
      "We couldn't process this post because it was:  nan\n"
     ]
    },
    {
     "name": "stderr",
     "output_type": "stream",
     "text": [
      "\r",
      " 88%|████████▊ | 642/732 [14:11<03:50,  2.56s/it]"
     ]
    },
    {
     "name": "stdout",
     "output_type": "stream",
     "text": [
      "We couldn't process this post because it was:  nan\n",
      "We couldn't process this post because it was:  nan\n"
     ]
    },
    {
     "name": "stderr",
     "output_type": "stream",
     "text": [
      "\r",
      " 88%|████████▊ | 643/732 [14:13<03:45,  2.53s/it]"
     ]
    },
    {
     "name": "stdout",
     "output_type": "stream",
     "text": [
      "We couldn't process this post because it was:  nan\n"
     ]
    },
    {
     "name": "stderr",
     "output_type": "stream",
     "text": [
      "\r",
      " 88%|████████▊ | 644/732 [14:15<03:36,  2.47s/it]"
     ]
    },
    {
     "name": "stdout",
     "output_type": "stream",
     "text": [
      "We couldn't process this post because it was:  nan\n",
      "We couldn't process this post because it was:  nan\n",
      "We couldn't process this post because it was:  nan\n",
      "We couldn't process this post because it was:  nan\n",
      "We couldn't process this post because it was:  nan\n"
     ]
    },
    {
     "name": "stderr",
     "output_type": "stream",
     "text": [
      "\r",
      " 88%|████████▊ | 645/732 [14:18<03:29,  2.41s/it]"
     ]
    },
    {
     "name": "stdout",
     "output_type": "stream",
     "text": [
      "We couldn't process this post because it was:  nan\n",
      "We couldn't process this post because it was:  nan\n",
      "We couldn't process this post because it was:  nan\n",
      "We couldn't process this post because it was:  nan\n",
      "We couldn't process this post because it was:  nan\n",
      "We couldn't process this post because it was:  nan\n"
     ]
    },
    {
     "name": "stderr",
     "output_type": "stream",
     "text": [
      "\r",
      " 88%|████████▊ | 646/732 [14:20<03:21,  2.34s/it]"
     ]
    },
    {
     "name": "stdout",
     "output_type": "stream",
     "text": [
      "We couldn't process this post because it was:  nan\n",
      "We couldn't process this post because it was:  nan\n"
     ]
    },
    {
     "name": "stderr",
     "output_type": "stream",
     "text": [
      "\r",
      " 88%|████████▊ | 647/732 [14:23<03:31,  2.49s/it]"
     ]
    },
    {
     "name": "stdout",
     "output_type": "stream",
     "text": [
      "We couldn't process this post because it was:  nan\n",
      "We couldn't process this post because it was:  nan\n",
      "We couldn't process this post because it was:  nan\n"
     ]
    },
    {
     "name": "stderr",
     "output_type": "stream",
     "text": [
      "\r",
      " 89%|████████▊ | 648/732 [14:25<03:35,  2.56s/it]"
     ]
    },
    {
     "name": "stdout",
     "output_type": "stream",
     "text": [
      "We couldn't process this post because it was:  nan\n",
      "We couldn't process this post because it was:  nan\n",
      "We couldn't process this post because it was:  nan\n",
      "We couldn't process this post because it was:  nan\n"
     ]
    },
    {
     "name": "stderr",
     "output_type": "stream",
     "text": [
      " 89%|████████▉ | 650/732 [14:29<03:07,  2.28s/it]"
     ]
    },
    {
     "name": "stdout",
     "output_type": "stream",
     "text": [
      "We couldn't process this post because it was:  nan\n",
      "We couldn't process this post because it was:  nan\n",
      "We couldn't process this post because it was:  nan\n",
      "We couldn't process this post because it was:  nan\n",
      "We couldn't process this post because it was:  nan\n"
     ]
    },
    {
     "name": "stderr",
     "output_type": "stream",
     "text": [
      "\r",
      " 89%|████████▉ | 651/732 [14:33<03:27,  2.56s/it]"
     ]
    },
    {
     "name": "stdout",
     "output_type": "stream",
     "text": [
      "We couldn't process this post because it was:  nan\n",
      "We couldn't process this post because it was:  nan\n",
      "We couldn't process this post because it was:  nan\n"
     ]
    },
    {
     "name": "stderr",
     "output_type": "stream",
     "text": [
      "\r",
      " 89%|████████▉ | 652/732 [14:34<03:08,  2.36s/it]"
     ]
    },
    {
     "name": "stdout",
     "output_type": "stream",
     "text": [
      "We couldn't process this post because it was:  nan\n",
      "We couldn't process this post because it was:  nan\n"
     ]
    },
    {
     "name": "stderr",
     "output_type": "stream",
     "text": [
      "\r",
      " 89%|████████▉ | 653/732 [14:36<02:48,  2.14s/it]"
     ]
    },
    {
     "name": "stdout",
     "output_type": "stream",
     "text": [
      "We couldn't process this post because it was:  nan\n",
      "We couldn't process this post because it was:  nan\n",
      "We couldn't process this post because it was:  nan\n",
      "We couldn't process this post because it was:  nan\n",
      "We couldn't process this post because it was:  nan\n"
     ]
    },
    {
     "name": "stderr",
     "output_type": "stream",
     "text": [
      "\r",
      " 89%|████████▉ | 654/732 [14:38<02:37,  2.02s/it]"
     ]
    },
    {
     "name": "stdout",
     "output_type": "stream",
     "text": [
      "We couldn't process this post because it was:  nan\n"
     ]
    },
    {
     "name": "stderr",
     "output_type": "stream",
     "text": [
      "\r",
      " 89%|████████▉ | 655/732 [14:41<02:53,  2.25s/it]"
     ]
    },
    {
     "name": "stdout",
     "output_type": "stream",
     "text": [
      "We couldn't process this post because it was:  nan\n",
      "We couldn't process this post because it was:  nan\n"
     ]
    },
    {
     "name": "stderr",
     "output_type": "stream",
     "text": [
      "\r",
      " 90%|████████▉ | 656/732 [14:45<03:43,  2.94s/it]"
     ]
    },
    {
     "name": "stdout",
     "output_type": "stream",
     "text": [
      "We couldn't process this post because it was:  nan\n",
      "We couldn't process this post because it was:  nan\n"
     ]
    },
    {
     "name": "stderr",
     "output_type": "stream",
     "text": [
      "\r",
      " 90%|████████▉ | 657/732 [14:47<03:23,  2.72s/it]"
     ]
    },
    {
     "name": "stdout",
     "output_type": "stream",
     "text": [
      "We couldn't process this post because it was:  nan\n"
     ]
    },
    {
     "name": "stderr",
     "output_type": "stream",
     "text": [
      "\r",
      " 90%|████████▉ | 658/732 [14:50<03:10,  2.57s/it]"
     ]
    },
    {
     "name": "stdout",
     "output_type": "stream",
     "text": [
      "We couldn't process this post because it was:  nan\n",
      "We couldn't process this post because it was:  nan\n"
     ]
    },
    {
     "name": "stderr",
     "output_type": "stream",
     "text": [
      "\r",
      " 90%|█████████ | 659/732 [14:52<02:54,  2.40s/it]"
     ]
    },
    {
     "name": "stdout",
     "output_type": "stream",
     "text": [
      "We couldn't process this post because it was:  nan\n",
      "We couldn't process this post because it was:  nan\n"
     ]
    },
    {
     "name": "stderr",
     "output_type": "stream",
     "text": [
      "\r",
      " 90%|█████████ | 660/732 [14:54<02:52,  2.40s/it]"
     ]
    },
    {
     "name": "stdout",
     "output_type": "stream",
     "text": [
      "We couldn't process this post because it was:  nan\n",
      "We couldn't process this post because it was:  nan\n",
      "We couldn't process this post because it was:  nan\n",
      "We couldn't process this post because it was:  nan\n",
      "We couldn't process this post because it was:  nan\n",
      "We couldn't process this post because it was:  nan\n",
      "We couldn't process this post because it was:  nan\n",
      "We couldn't process this post because it was:  nan\n"
     ]
    },
    {
     "name": "stderr",
     "output_type": "stream",
     "text": [
      "\r",
      " 90%|█████████ | 661/732 [14:56<02:51,  2.42s/it]"
     ]
    },
    {
     "name": "stdout",
     "output_type": "stream",
     "text": [
      "We couldn't process this post because it was:  nan\n"
     ]
    },
    {
     "name": "stderr",
     "output_type": "stream",
     "text": [
      "\r",
      " 90%|█████████ | 662/732 [14:59<02:52,  2.46s/it]"
     ]
    },
    {
     "name": "stdout",
     "output_type": "stream",
     "text": [
      "We couldn't process this post because it was:  nan\n",
      "We couldn't process this post because it was:  nan\n",
      "We couldn't process this post because it was:  nan\n",
      "We couldn't process this post because it was:  nan\n"
     ]
    },
    {
     "name": "stderr",
     "output_type": "stream",
     "text": [
      "\r",
      " 91%|█████████ | 663/732 [15:02<02:56,  2.55s/it]"
     ]
    },
    {
     "name": "stdout",
     "output_type": "stream",
     "text": [
      "We couldn't process this post because it was:  nan\n",
      "We couldn't process this post because it was:  nan\n",
      "We couldn't process this post because it was:  nan\n",
      "We couldn't process this post because it was:  nan\n"
     ]
    },
    {
     "name": "stderr",
     "output_type": "stream",
     "text": [
      "\r",
      " 91%|█████████ | 664/732 [15:04<02:54,  2.57s/it]"
     ]
    },
    {
     "name": "stdout",
     "output_type": "stream",
     "text": [
      "We couldn't process this post because it was:  nan\n",
      "We couldn't process this post because it was:  nan\n",
      "We couldn't process this post because it was:  nan\n",
      "We couldn't process this post because it was:  nan\n",
      "We couldn't process this post because it was:  nan\n"
     ]
    },
    {
     "name": "stderr",
     "output_type": "stream",
     "text": [
      "\r",
      " 91%|█████████ | 665/732 [15:06<02:38,  2.37s/it]"
     ]
    },
    {
     "name": "stdout",
     "output_type": "stream",
     "text": [
      "We couldn't process this post because it was:  nan\n",
      "We couldn't process this post because it was:  nan\n"
     ]
    },
    {
     "name": "stderr",
     "output_type": "stream",
     "text": [
      "\r",
      " 91%|█████████ | 666/732 [15:10<02:54,  2.64s/it]"
     ]
    },
    {
     "name": "stdout",
     "output_type": "stream",
     "text": [
      "We couldn't process this post because it was:  nan\n",
      "We couldn't process this post because it was:  nan\n"
     ]
    },
    {
     "name": "stderr",
     "output_type": "stream",
     "text": [
      "\r",
      " 91%|█████████ | 667/732 [15:12<02:44,  2.54s/it]"
     ]
    },
    {
     "name": "stdout",
     "output_type": "stream",
     "text": [
      "We couldn't process this post because it was:  nan\n",
      "We couldn't process this post because it was:  nan\n",
      "We couldn't process this post because it was:  nan\n"
     ]
    },
    {
     "name": "stderr",
     "output_type": "stream",
     "text": [
      "\r",
      " 91%|█████████▏| 668/732 [15:15<02:51,  2.68s/it]"
     ]
    },
    {
     "name": "stdout",
     "output_type": "stream",
     "text": [
      "We couldn't process this post because it was:  nan\n"
     ]
    },
    {
     "name": "stderr",
     "output_type": "stream",
     "text": [
      "\r",
      " 91%|█████████▏| 669/732 [15:18<02:57,  2.82s/it]"
     ]
    },
    {
     "name": "stdout",
     "output_type": "stream",
     "text": [
      "We couldn't process this post because it was:  nan\n",
      "We couldn't process this post because it was:  nan\n",
      "We couldn't process this post because it was:  nan\n"
     ]
    },
    {
     "name": "stderr",
     "output_type": "stream",
     "text": [
      "\r",
      " 92%|█████████▏| 670/732 [15:20<02:40,  2.60s/it]"
     ]
    },
    {
     "name": "stdout",
     "output_type": "stream",
     "text": [
      "We couldn't process this post because it was:  nan\n",
      "We couldn't process this post because it was:  nan\n"
     ]
    },
    {
     "name": "stderr",
     "output_type": "stream",
     "text": [
      "\r",
      " 92%|█████████▏| 671/732 [15:24<02:56,  2.89s/it]"
     ]
    },
    {
     "name": "stdout",
     "output_type": "stream",
     "text": [
      "We couldn't process this post because it was:  nan\n"
     ]
    },
    {
     "name": "stderr",
     "output_type": "stream",
     "text": [
      "\r",
      " 92%|█████████▏| 672/732 [15:27<02:58,  2.97s/it]"
     ]
    },
    {
     "name": "stdout",
     "output_type": "stream",
     "text": [
      "We couldn't process this post because it was:  nan\n",
      "We couldn't process this post because it was:  nan\n",
      "We couldn't process this post because it was:  nan\n",
      "We couldn't process this post because it was:  nan\n",
      "We couldn't process this post because it was:  nan\n",
      "We couldn't process this post because it was:  nan\n"
     ]
    },
    {
     "name": "stderr",
     "output_type": "stream",
     "text": [
      " 92%|█████████▏| 674/732 [15:32<02:37,  2.71s/it]"
     ]
    },
    {
     "name": "stdout",
     "output_type": "stream",
     "text": [
      "We couldn't process this post because it was:  nan\n",
      "We couldn't process this post because it was:  nan\n",
      "We couldn't process this post because it was:  nan\n",
      "We couldn't process this post because it was:  nan\n",
      "We couldn't process this post because it was:  nan\n",
      "We couldn't process this post because it was:  nan\n"
     ]
    },
    {
     "name": "stderr",
     "output_type": "stream",
     "text": [
      "\r",
      " 92%|█████████▏| 675/732 [15:34<02:29,  2.63s/it]"
     ]
    },
    {
     "name": "stdout",
     "output_type": "stream",
     "text": [
      "We couldn't process this post because it was:  nan\n",
      "We couldn't process this post because it was:  nan\n"
     ]
    },
    {
     "name": "stderr",
     "output_type": "stream",
     "text": [
      "\r",
      " 92%|█████████▏| 676/732 [15:37<02:27,  2.63s/it]"
     ]
    },
    {
     "name": "stdout",
     "output_type": "stream",
     "text": [
      "We couldn't process this post because it was:  nan\n",
      "We couldn't process this post because it was:  nan\n",
      "We couldn't process this post because it was:  nan\n",
      "We couldn't process this post because it was:  nan\n"
     ]
    },
    {
     "name": "stderr",
     "output_type": "stream",
     "text": [
      "\r",
      " 92%|█████████▏| 677/732 [15:39<02:22,  2.60s/it]"
     ]
    },
    {
     "name": "stdout",
     "output_type": "stream",
     "text": [
      "We couldn't process this post because it was:  nan\n",
      "We couldn't process this post because it was:  nan\n"
     ]
    },
    {
     "name": "stderr",
     "output_type": "stream",
     "text": [
      "\r",
      " 93%|█████████▎| 678/732 [15:42<02:15,  2.50s/it]"
     ]
    },
    {
     "name": "stdout",
     "output_type": "stream",
     "text": [
      "We couldn't process this post because it was:  nan\n",
      "We couldn't process this post because it was:  nan\n",
      "We couldn't process this post because it was:  nan\n"
     ]
    },
    {
     "name": "stderr",
     "output_type": "stream",
     "text": [
      "\r",
      " 93%|█████████▎| 679/732 [15:44<02:05,  2.36s/it]"
     ]
    },
    {
     "name": "stdout",
     "output_type": "stream",
     "text": [
      "We couldn't process this post because it was:  nan\n",
      "We couldn't process this post because it was:  nan\n",
      "We couldn't process this post because it was:  nan\n",
      "We couldn't process this post because it was:  nan\n"
     ]
    },
    {
     "name": "stderr",
     "output_type": "stream",
     "text": [
      "\r",
      " 93%|█████████▎| 680/732 [15:46<01:57,  2.25s/it]"
     ]
    },
    {
     "name": "stdout",
     "output_type": "stream",
     "text": [
      "We couldn't process this post because it was:  nan\n",
      "We couldn't process this post because it was:  nan\n",
      "We couldn't process this post because it was:  nan\n",
      "We couldn't process this post because it was:  nan\n",
      "We couldn't process this post because it was:  nan\n",
      "We couldn't process this post because it was:  nan\n",
      "We couldn't process this post because it was:  nan\n",
      "We couldn't process this post because it was:  nan\n"
     ]
    },
    {
     "name": "stderr",
     "output_type": "stream",
     "text": [
      "\r",
      " 93%|█████████▎| 681/732 [15:47<01:47,  2.12s/it]"
     ]
    },
    {
     "name": "stdout",
     "output_type": "stream",
     "text": [
      "We couldn't process this post because it was:  nan\n",
      "We couldn't process this post because it was:  nan\n"
     ]
    },
    {
     "name": "stderr",
     "output_type": "stream",
     "text": [
      "\r",
      " 93%|█████████▎| 682/732 [15:50<01:50,  2.21s/it]"
     ]
    },
    {
     "name": "stdout",
     "output_type": "stream",
     "text": [
      "We couldn't process this post because it was:  nan\n",
      "We couldn't process this post because it was:  nan\n"
     ]
    },
    {
     "name": "stderr",
     "output_type": "stream",
     "text": [
      "\r",
      " 93%|█████████▎| 683/732 [15:52<01:48,  2.21s/it]"
     ]
    },
    {
     "name": "stdout",
     "output_type": "stream",
     "text": [
      "We couldn't process this post because it was:  nan\n"
     ]
    },
    {
     "name": "stderr",
     "output_type": "stream",
     "text": [
      "\r",
      " 93%|█████████▎| 684/732 [15:54<01:37,  2.02s/it]"
     ]
    },
    {
     "name": "stdout",
     "output_type": "stream",
     "text": [
      "We couldn't process this post because it was:  nan\n"
     ]
    },
    {
     "name": "stderr",
     "output_type": "stream",
     "text": [
      "\r",
      " 94%|█████████▎| 685/732 [15:55<01:28,  1.88s/it]"
     ]
    },
    {
     "name": "stdout",
     "output_type": "stream",
     "text": [
      "We couldn't process this post because it was:  nan\n",
      "We couldn't process this post because it was:  nan\n",
      "We couldn't process this post because it was:  nan\n",
      "We couldn't process this post because it was:  nan\n"
     ]
    },
    {
     "name": "stderr",
     "output_type": "stream",
     "text": [
      "\r",
      " 94%|█████████▎| 686/732 [15:57<01:24,  1.85s/it]"
     ]
    },
    {
     "name": "stdout",
     "output_type": "stream",
     "text": [
      "We couldn't process this post because it was:  nan\n",
      "We couldn't process this post because it was:  nan\n",
      "We couldn't process this post because it was:  nan\n",
      "We couldn't process this post because it was:  nan\n",
      "We couldn't process this post because it was:  nan\n"
     ]
    },
    {
     "name": "stderr",
     "output_type": "stream",
     "text": [
      "\r",
      " 94%|█████████▍| 687/732 [15:59<01:31,  2.03s/it]"
     ]
    },
    {
     "name": "stdout",
     "output_type": "stream",
     "text": [
      "We couldn't process this post because it was:  nan\n"
     ]
    },
    {
     "name": "stderr",
     "output_type": "stream",
     "text": [
      "\r",
      " 94%|█████████▍| 688/732 [16:02<01:35,  2.16s/it]"
     ]
    },
    {
     "name": "stdout",
     "output_type": "stream",
     "text": [
      "We couldn't process this post because it was:  nan\n",
      "We couldn't process this post because it was:  nan\n",
      "We couldn't process this post because it was:  nan\n",
      "We couldn't process this post because it was:  nan\n"
     ]
    },
    {
     "name": "stderr",
     "output_type": "stream",
     "text": [
      "\r",
      " 94%|█████████▍| 689/732 [16:05<01:47,  2.49s/it]"
     ]
    },
    {
     "name": "stdout",
     "output_type": "stream",
     "text": [
      "We couldn't process this post because it was:  nan\n",
      "We couldn't process this post because it was:  nan\n",
      "We couldn't process this post because it was:  nan\n"
     ]
    },
    {
     "name": "stderr",
     "output_type": "stream",
     "text": [
      "\r",
      " 94%|█████████▍| 690/732 [16:07<01:41,  2.41s/it]"
     ]
    },
    {
     "name": "stdout",
     "output_type": "stream",
     "text": [
      "We couldn't process this post because it was:  nan\n",
      "We couldn't process this post because it was:  nan\n",
      "We couldn't process this post because it was:  nan\n",
      "We couldn't process this post because it was:  nan\n",
      "We couldn't process this post because it was:  nan\n",
      "We couldn't process this post because it was:  nan\n",
      "We couldn't process this post because it was:  nan\n",
      "We couldn't process this post because it was:  nan\n"
     ]
    },
    {
     "name": "stderr",
     "output_type": "stream",
     "text": [
      "\r",
      " 94%|█████████▍| 691/732 [16:10<01:37,  2.37s/it]"
     ]
    },
    {
     "name": "stdout",
     "output_type": "stream",
     "text": [
      "We couldn't process this post because it was:  nan\n",
      "We couldn't process this post because it was:  nan\n"
     ]
    },
    {
     "name": "stderr",
     "output_type": "stream",
     "text": [
      "\r",
      " 95%|█████████▍| 692/732 [16:13<01:45,  2.63s/it]"
     ]
    },
    {
     "name": "stdout",
     "output_type": "stream",
     "text": [
      "We couldn't process this post because it was:  nan\n"
     ]
    },
    {
     "name": "stderr",
     "output_type": "stream",
     "text": [
      "\r",
      " 95%|█████████▍| 693/732 [16:17<01:57,  3.01s/it]"
     ]
    },
    {
     "name": "stdout",
     "output_type": "stream",
     "text": [
      "We couldn't process this post because it was:  nan\n",
      "We couldn't process this post because it was:  nan\n"
     ]
    },
    {
     "name": "stderr",
     "output_type": "stream",
     "text": [
      "\r",
      " 95%|█████████▍| 694/732 [16:19<01:43,  2.73s/it]"
     ]
    },
    {
     "name": "stdout",
     "output_type": "stream",
     "text": [
      "We couldn't process this post because it was:  nan\n",
      "We couldn't process this post because it was:  nan\n",
      "We couldn't process this post because it was:  nan\n"
     ]
    },
    {
     "name": "stderr",
     "output_type": "stream",
     "text": [
      "\r",
      " 95%|█████████▍| 695/732 [16:22<01:41,  2.76s/it]"
     ]
    },
    {
     "name": "stdout",
     "output_type": "stream",
     "text": [
      "We couldn't process this post because it was:  nan\n",
      "We couldn't process this post because it was:  nan\n",
      "We couldn't process this post because it was:  nan\n"
     ]
    },
    {
     "name": "stderr",
     "output_type": "stream",
     "text": [
      "\r",
      " 95%|█████████▌| 696/732 [16:23<01:29,  2.47s/it]"
     ]
    },
    {
     "name": "stdout",
     "output_type": "stream",
     "text": [
      "We couldn't process this post because it was:  nan\n",
      "We couldn't process this post because it was:  nan\n",
      "We couldn't process this post because it was:  nan\n",
      "We couldn't process this post because it was:  nan\n",
      "We couldn't process this post because it was:  nan\n"
     ]
    },
    {
     "name": "stderr",
     "output_type": "stream",
     "text": [
      "\r",
      " 95%|█████████▌| 697/732 [16:26<01:27,  2.49s/it]"
     ]
    },
    {
     "name": "stdout",
     "output_type": "stream",
     "text": [
      "We couldn't process this post because it was:  nan\n",
      "We couldn't process this post because it was:  nan\n"
     ]
    },
    {
     "name": "stderr",
     "output_type": "stream",
     "text": [
      "\r",
      " 95%|█████████▌| 698/732 [16:28<01:16,  2.25s/it]"
     ]
    },
    {
     "name": "stdout",
     "output_type": "stream",
     "text": [
      "We couldn't process this post because it was:  nan\n",
      "We couldn't process this post because it was:  nan\n",
      "We couldn't process this post because it was:  nan\n",
      "We couldn't process this post because it was:  nan\n",
      "We couldn't process this post because it was:  nan\n"
     ]
    },
    {
     "name": "stderr",
     "output_type": "stream",
     "text": [
      "\r",
      " 95%|█████████▌| 699/732 [16:31<01:20,  2.43s/it]"
     ]
    },
    {
     "name": "stdout",
     "output_type": "stream",
     "text": [
      "We couldn't process this post because it was:  nan\n",
      "We couldn't process this post because it was:  nan\n"
     ]
    },
    {
     "name": "stderr",
     "output_type": "stream",
     "text": [
      "\r",
      " 96%|█████████▌| 700/732 [16:33<01:21,  2.53s/it]"
     ]
    },
    {
     "name": "stdout",
     "output_type": "stream",
     "text": [
      "We couldn't process this post because it was:  nan\n"
     ]
    },
    {
     "name": "stderr",
     "output_type": "stream",
     "text": [
      "\r",
      " 96%|█████████▌| 701/732 [16:36<01:19,  2.57s/it]"
     ]
    },
    {
     "name": "stdout",
     "output_type": "stream",
     "text": [
      "We couldn't process this post because it was:  nan\n"
     ]
    },
    {
     "name": "stderr",
     "output_type": "stream",
     "text": [
      "\r",
      " 96%|█████████▌| 702/732 [16:38<01:13,  2.44s/it]"
     ]
    },
    {
     "name": "stdout",
     "output_type": "stream",
     "text": [
      "We couldn't process this post because it was:  nan\n",
      "We couldn't process this post because it was:  nan\n",
      "We couldn't process this post because it was:  nan\n"
     ]
    },
    {
     "name": "stderr",
     "output_type": "stream",
     "text": [
      "\r",
      " 96%|█████████▌| 703/732 [16:40<01:10,  2.42s/it]"
     ]
    },
    {
     "name": "stdout",
     "output_type": "stream",
     "text": [
      "We couldn't process this post because it was:  nan\n",
      "We couldn't process this post because it was:  nan\n"
     ]
    },
    {
     "name": "stderr",
     "output_type": "stream",
     "text": [
      " 96%|█████████▋| 705/732 [16:43<00:50,  1.86s/it]"
     ]
    },
    {
     "name": "stdout",
     "output_type": "stream",
     "text": [
      "We couldn't process this post because it was:  nan\n",
      "We couldn't process this post because it was:  nan\n",
      "We couldn't process this post because it was:  nan\n"
     ]
    },
    {
     "name": "stderr",
     "output_type": "stream",
     "text": [
      " 97%|█████████▋| 707/732 [16:51<01:07,  2.70s/it]"
     ]
    },
    {
     "name": "stdout",
     "output_type": "stream",
     "text": [
      "We couldn't process this post because it was:  nan\n",
      "We couldn't process this post because it was:  nan\n",
      "We couldn't process this post because it was:  nan\n"
     ]
    },
    {
     "name": "stderr",
     "output_type": "stream",
     "text": [
      "\r",
      " 97%|█████████▋| 708/732 [16:54<01:06,  2.75s/it]"
     ]
    },
    {
     "name": "stdout",
     "output_type": "stream",
     "text": [
      "We couldn't process this post because it was:  nan\n",
      "We couldn't process this post because it was:  nan\n",
      "We couldn't process this post because it was:  nan\n",
      "We couldn't process this post because it was:  nan\n",
      "We couldn't process this post because it was:  nan\n",
      "We couldn't process this post because it was:  nan\n"
     ]
    },
    {
     "name": "stderr",
     "output_type": "stream",
     "text": [
      "\r",
      " 97%|█████████▋| 709/732 [16:56<00:59,  2.61s/it]"
     ]
    },
    {
     "name": "stdout",
     "output_type": "stream",
     "text": [
      "We couldn't process this post because it was:  nan\n",
      "We couldn't process this post because it was:  nan\n",
      "We couldn't process this post because it was:  nan\n"
     ]
    },
    {
     "name": "stderr",
     "output_type": "stream",
     "text": [
      " 97%|█████████▋| 711/732 [17:01<00:52,  2.49s/it]"
     ]
    },
    {
     "name": "stdout",
     "output_type": "stream",
     "text": [
      "We couldn't process this post because it was:  nan\n",
      "We couldn't process this post because it was:  nan\n"
     ]
    },
    {
     "name": "stderr",
     "output_type": "stream",
     "text": [
      "\r",
      " 97%|█████████▋| 712/732 [17:03<00:51,  2.55s/it]"
     ]
    },
    {
     "name": "stdout",
     "output_type": "stream",
     "text": [
      "We couldn't process this post because it was:  nan\n",
      "We couldn't process this post because it was:  nan\n",
      "We couldn't process this post because it was:  nan\n",
      "We couldn't process this post because it was:  nan\n",
      "We couldn't process this post because it was:  nan\n"
     ]
    },
    {
     "name": "stderr",
     "output_type": "stream",
     "text": [
      "\r",
      " 97%|█████████▋| 713/732 [17:06<00:47,  2.51s/it]"
     ]
    },
    {
     "name": "stdout",
     "output_type": "stream",
     "text": [
      "We couldn't process this post because it was:  nan\n",
      "We couldn't process this post because it was:  nan\n",
      "We couldn't process this post because it was:  nan\n",
      "We couldn't process this post because it was:  nan\n",
      "We couldn't process this post because it was:  nan\n",
      "We couldn't process this post because it was:  nan\n"
     ]
    },
    {
     "name": "stderr",
     "output_type": "stream",
     "text": [
      "\r",
      " 98%|█████████▊| 714/732 [17:09<00:47,  2.64s/it]"
     ]
    },
    {
     "name": "stdout",
     "output_type": "stream",
     "text": [
      "We couldn't process this post because it was:  nan\n"
     ]
    },
    {
     "name": "stderr",
     "output_type": "stream",
     "text": [
      " 98%|█████████▊| 716/732 [17:13<00:39,  2.46s/it]"
     ]
    },
    {
     "name": "stdout",
     "output_type": "stream",
     "text": [
      "We couldn't process this post because it was:  nan\n",
      "We couldn't process this post because it was:  nan\n",
      "We couldn't process this post because it was:  nan\n"
     ]
    },
    {
     "name": "stderr",
     "output_type": "stream",
     "text": [
      " 98%|█████████▊| 718/732 [17:20<00:39,  2.84s/it]"
     ]
    },
    {
     "name": "stdout",
     "output_type": "stream",
     "text": [
      "We couldn't process this post because it was:  nan\n",
      "We couldn't process this post because it was:  nan\n",
      "We couldn't process this post because it was:  nan\n",
      "We couldn't process this post because it was:  nan\n"
     ]
    },
    {
     "name": "stderr",
     "output_type": "stream",
     "text": [
      "\r",
      " 98%|█████████▊| 719/732 [17:23<00:37,  2.88s/it]"
     ]
    },
    {
     "name": "stdout",
     "output_type": "stream",
     "text": [
      "We couldn't process this post because it was:  nan\n",
      "We couldn't process this post because it was:  nan\n"
     ]
    },
    {
     "name": "stderr",
     "output_type": "stream",
     "text": [
      "\r",
      " 98%|█████████▊| 720/732 [17:25<00:33,  2.83s/it]"
     ]
    },
    {
     "name": "stdout",
     "output_type": "stream",
     "text": [
      "We couldn't process this post because it was:  nan\n",
      "We couldn't process this post because it was:  nan\n",
      "We couldn't process this post because it was:  nan\n",
      "We couldn't process this post because it was:  nan\n",
      "We couldn't process this post because it was:  nan\n",
      "We couldn't process this post because it was:  nan\n"
     ]
    },
    {
     "name": "stderr",
     "output_type": "stream",
     "text": [
      "\r",
      " 98%|█████████▊| 721/732 [17:28<00:31,  2.88s/it]"
     ]
    },
    {
     "name": "stdout",
     "output_type": "stream",
     "text": [
      "We couldn't process this post because it was:  nan\n",
      "We couldn't process this post because it was:  nan\n"
     ]
    },
    {
     "name": "stderr",
     "output_type": "stream",
     "text": [
      "\r",
      " 99%|█████████▊| 722/732 [17:31<00:27,  2.75s/it]"
     ]
    },
    {
     "name": "stdout",
     "output_type": "stream",
     "text": [
      "We couldn't process this post because it was:  nan\n",
      "We couldn't process this post because it was:  nan\n"
     ]
    },
    {
     "name": "stderr",
     "output_type": "stream",
     "text": [
      "\r",
      " 99%|█████████▉| 723/732 [17:34<00:24,  2.74s/it]"
     ]
    },
    {
     "name": "stdout",
     "output_type": "stream",
     "text": [
      "We couldn't process this post because it was:  nan\n"
     ]
    },
    {
     "name": "stderr",
     "output_type": "stream",
     "text": [
      "\r",
      " 99%|█████████▉| 724/732 [17:37<00:23,  2.88s/it]"
     ]
    },
    {
     "name": "stdout",
     "output_type": "stream",
     "text": [
      "We couldn't process this post because it was:  nan\n",
      "We couldn't process this post because it was:  nan\n",
      "We couldn't process this post because it was:  nan\n",
      "We couldn't process this post because it was:  nan\n"
     ]
    },
    {
     "name": "stderr",
     "output_type": "stream",
     "text": [
      "\r",
      " 99%|█████████▉| 725/732 [17:40<00:21,  3.00s/it]"
     ]
    },
    {
     "name": "stdout",
     "output_type": "stream",
     "text": [
      "We couldn't process this post because it was:  nan\n"
     ]
    },
    {
     "name": "stderr",
     "output_type": "stream",
     "text": [
      "\r",
      " 99%|█████████▉| 726/732 [17:42<00:16,  2.78s/it]"
     ]
    },
    {
     "name": "stdout",
     "output_type": "stream",
     "text": [
      "We couldn't process this post because it was:  nan\n",
      "We couldn't process this post because it was:  nan\n",
      "We couldn't process this post because it was:  nan\n"
     ]
    },
    {
     "name": "stderr",
     "output_type": "stream",
     "text": [
      "\r",
      " 99%|█████████▉| 727/732 [17:44<00:12,  2.56s/it]"
     ]
    },
    {
     "name": "stdout",
     "output_type": "stream",
     "text": [
      "We couldn't process this post because it was:  nan\n"
     ]
    },
    {
     "name": "stderr",
     "output_type": "stream",
     "text": [
      "\r",
      " 99%|█████████▉| 728/732 [17:50<00:13,  3.38s/it]"
     ]
    },
    {
     "name": "stdout",
     "output_type": "stream",
     "text": [
      "We couldn't process this post because it was:  nan\n",
      "We couldn't process this post because it was:  nan\n",
      "We couldn't process this post because it was:  nan\n"
     ]
    },
    {
     "name": "stderr",
     "output_type": "stream",
     "text": [
      "\r",
      "100%|█████████▉| 729/732 [17:52<00:08,  3.00s/it]"
     ]
    },
    {
     "name": "stdout",
     "output_type": "stream",
     "text": [
      "We couldn't process this post because it was:  nan\n",
      "We couldn't process this post because it was:  nan\n",
      "We couldn't process this post because it was:  nan\n",
      "We couldn't process this post because it was:  nan\n",
      "We couldn't process this post because it was:  nan\n",
      "We couldn't process this post because it was:  nan\n"
     ]
    },
    {
     "name": "stderr",
     "output_type": "stream",
     "text": [
      "\r",
      "100%|█████████▉| 730/732 [17:54<00:05,  2.83s/it]"
     ]
    },
    {
     "name": "stdout",
     "output_type": "stream",
     "text": [
      "We couldn't process this post because it was:  nan\n",
      "We couldn't process this post because it was:  nan\n",
      "We couldn't process this post because it was:  nan\n",
      "We couldn't process this post because it was:  nan\n"
     ]
    },
    {
     "name": "stderr",
     "output_type": "stream",
     "text": [
      "\r",
      "100%|█████████▉| 731/732 [17:58<00:03,  3.20s/it]"
     ]
    },
    {
     "name": "stdout",
     "output_type": "stream",
     "text": [
      "We couldn't process this post because it was:  nan\n",
      "We couldn't process this post because it was:  nan\n",
      "We couldn't process this post because it was:  nan\n",
      "We couldn't process this post because it was:  nan\n",
      "We couldn't process this post because it was:  nan\n",
      "We couldn't process this post because it was:  nan\n"
     ]
    },
    {
     "name": "stderr",
     "output_type": "stream",
     "text": [
      "100%|██████████| 732/732 [18:01<00:00,  1.48s/it]\n"
     ]
    }
   ],
   "source": [
    "#prophet expects a dataframe with (date, value)\n",
    "prophet_input = pd.DataFrame(columns = ['ds','y'])\n",
    "analyzer = SentimentIntensityAnalyzer()\n",
    "for i in tqdm(range(0, len(data))):\n",
    "    texts = data[i]['text'].values\n",
    "    date = data[i]['time'].iloc[0] #date will be the same for all values in list, just pick first\n",
    "    #iterate over the posts in the texts list\n",
    "    for j in texts:\n",
    "        try:\n",
    "            vs = analyzer.polarity_scores(j)\n",
    "            new_data = pd.DataFrame([[date, vs['compound']]], columns = ['ds','y'])\n",
    "            prophet_input = pd.concat([prophet_input, new_data], ignore_index = True)\n",
    "        except:\n",
    "            print(\"We couldn't process this post because it was: \", j)\n",
    "            continue\n"
   ]
  },
  {
   "cell_type": "code",
   "execution_count": 96,
   "id": "robust-photograph",
   "metadata": {},
   "outputs": [],
   "source": [
    "#need to split dataframe that was created above into four chunks (based on year) and then groupby date\n",
    "data_2017 = prophet_input[prophet_input['ds'].dt.year == 2017] \n",
    "data_2018 = prophet_input[prophet_input['ds'].dt.year == 2018] \n",
    "data_2019 = prophet_input[prophet_input['ds'].dt.year == 2019] \n",
    "data_2020 = prophet_input[prophet_input['ds'].dt.year == 2020] \n",
    "grouped_2017 = data_2017.groupby([data_2017['ds'].dt.date]).mean()\n",
    "grouped_2018 = data_2018.groupby([data_2018['ds'].dt.date]).mean()\n",
    "grouped_2019 = data_2019.groupby([data_2019['ds'].dt.date]).mean()\n",
    "grouped_2020 = data_2020.groupby([data_2020['ds'].dt.date]).mean()\n",
    "df_2017 = grouped_2017.reset_index()\n",
    "df_2018 = grouped_2018.reset_index()\n",
    "df_2019 = grouped_2019.reset_index()\n",
    "df_2020 = grouped_2020.reset_index()\n",
    "df_all_years = pd.concat([df_2017,df_2018,df_2019,df_2020])\n",
    "#df_all_years.to_csv(\"VADER_all_years.csv\")"
   ]
  },
  {
   "cell_type": "code",
   "execution_count": 97,
   "id": "numerical-princess",
   "metadata": {},
   "outputs": [
    {
     "data": {
      "image/png": "[encoded data removed]",
      "text/plain": [
       "<Figure size 432x288 with 1 Axes>"
      ]
     },
     "metadata": {
      "needs_background": "light"
     },
     "output_type": "display_data"
    }
   ],
   "source": [
    "#periodgram of data\n",
    "f, Pxx_den = signal.periodogram(df_all_years['y'])\n",
    "plt.semilogy(f, Pxx_den)\n",
    "plt.ylim([1e-7, 1e2])\n",
    "plt.xlabel('frequency [Hz]')\n",
    "plt.ylabel('PSD [V**2/Hz]')\n",
    "plt.show()"
   ]
  },
  {
   "cell_type": "code",
   "execution_count": 98,
   "id": "adopted-programming",
   "metadata": {},
   "outputs": [
    {
     "name": "stderr",
     "output_type": "stream",
     "text": [
      "INFO:fbprophet:Disabling yearly seasonality. Run prophet with yearly_seasonality=True to override this.\n",
      "INFO:fbprophet:Disabling daily seasonality. Run prophet with daily_seasonality=True to override this.\n"
     ]
    },
    {
     "data": {
      "image/png": "[encoded data removed]",
      "text/plain": [
       "<Figure size 720x432 with 1 Axes>"
      ]
     },
     "metadata": {},
     "output_type": "display_data"
    }
   ],
   "source": [
    "#start fitting data using Prophet model\n",
    "m_2017 = Prophet(weekly_seasonality=False)\n",
    "#fit model with 2017 data, use the to predict 2018 data\n",
    "m_2017.fit(df_2017)\n",
    "future_2018 = m_2017.make_future_dataframe(periods=365)[-365:]\n",
    "forecast_2018 = m_2017.predict(future_2018)\n",
    "y_hat_2018 = forecast_2018[['ds','yhat']]\n",
    "fig1 = m_2017.plot(forecast_2018)\n",
    "#m_2017.plot_components(forecast_2018)"
   ]
  },
  {
   "cell_type": "code",
   "execution_count": 99,
   "id": "standard-acoustic",
   "metadata": {},
   "outputs": [
    {
     "name": "stdout",
     "output_type": "stream",
     "text": [
      "[[ 1.         -0.21839599]\n",
      " [-0.21839599  1.        ]]\n"
     ]
    },
    {
     "data": {
      "image/png": "[encoded data removed]",
      "text/plain": [
       "<Figure size 432x288 with 1 Axes>"
      ]
     },
     "metadata": {
      "needs_background": "light"
     },
     "output_type": "display_data"
    }
   ],
   "source": [
    "#plot predicted_2018 vs true_2018 to check for similarities\n",
    "plt.plot(y_hat_2018['ds'], y_hat_2018['yhat'])\n",
    "plt.plot(df_2018['ds'],df_2018['y'])\n",
    "#find correlation between the two values as well\n",
    "y_hat_2018_trim = y_hat_2018.iloc[::2]\n",
    "print(np.corrcoef(y_hat_2018_trim['yhat'], df_2018['y']))"
   ]
  },
  {
   "cell_type": "code",
   "execution_count": 100,
   "id": "computational-malpractice",
   "metadata": {},
   "outputs": [
    {
     "name": "stderr",
     "output_type": "stream",
     "text": [
      "INFO:fbprophet:Disabling yearly seasonality. Run prophet with yearly_seasonality=True to override this.\n",
      "INFO:fbprophet:Disabling daily seasonality. Run prophet with daily_seasonality=True to override this.\n"
     ]
    },
    {
     "data": {
      "image/png": "[encoded data removed]",
      "text/plain": [
       "<Figure size 720x432 with 1 Axes>"
      ]
     },
     "metadata": {},
     "output_type": "display_data"
    }
   ],
   "source": [
    "m_2018 = Prophet(weekly_seasonality=False)\n",
    "#fit model with 2018 data, use the to predict 2019 data\n",
    "m_2018.fit(df_2018)\n",
    "future_2019 = m_2018.make_future_dataframe(periods=365)[-365:]\n",
    "forecast_2019 = m_2018.predict(future_2019)\n",
    "y_hat_2019 = forecast_2019[['ds','yhat']]\n",
    "y_hat_2019 = y_hat_2019.iloc[::2]\n",
    "fig2 = m_2018.plot(forecast_2019)"
   ]
  },
  {
   "cell_type": "code",
   "execution_count": 101,
   "id": "geological-insider",
   "metadata": {},
   "outputs": [
    {
     "data": {
      "text/plain": [
       "array([[1.        , 0.01744866],\n",
       "       [0.01744866, 1.        ]])"
      ]
     },
     "execution_count": 101,
     "metadata": {},
     "output_type": "execute_result"
    },
    {
     "data": {
      "image/png": "[encoded data removed]",
      "text/plain": [
       "<Figure size 432x288 with 1 Axes>"
      ]
     },
     "metadata": {
      "needs_background": "light"
     },
     "output_type": "display_data"
    }
   ],
   "source": [
    "#plot predicted_2019 vs true_2019 to check for similarities\n",
    "plt.plot(y_hat_2019['ds'], y_hat_2019['yhat'])\n",
    "plt.plot(df_2019['ds'],df_2019['y'])\n",
    "#find the correlation between y_hat and y_true\n",
    "y_hat_2019_trim = y_hat_2019.iloc[::2]\n",
    "np.corrcoef(y_hat_2019['yhat'], df_2019['y'])"
   ]
  },
  {
   "cell_type": "code",
   "execution_count": 102,
   "id": "alpha-marine",
   "metadata": {},
   "outputs": [
    {
     "name": "stderr",
     "output_type": "stream",
     "text": [
      "INFO:fbprophet:Disabling yearly seasonality. Run prophet with yearly_seasonality=True to override this.\n",
      "INFO:fbprophet:Disabling daily seasonality. Run prophet with daily_seasonality=True to override this.\n"
     ]
    },
    {
     "data": {
      "image/png": "[encoded data removed]",
      "text/plain": [
       "<Figure size 720x432 with 1 Axes>"
      ]
     },
     "metadata": {},
     "output_type": "display_data"
    }
   ],
   "source": [
    "m_2019 = Prophet(weekly_seasonality=False)\n",
    "#fit model with 2018 data, use the to predict 2019 data\n",
    "m_2019.fit(df_2019)\n",
    "future_2020 = m_2019.make_future_dataframe(periods=365)[-365:]\n",
    "forecast_2020 = m_2019.predict(future_2020)\n",
    "y_hat_2020 = forecast_2020[['ds','yhat']]\n",
    "fig3 = m_2019.plot(forecast_2020)"
   ]
  },
  {
   "cell_type": "code",
   "execution_count": 103,
   "id": "legislative-bacon",
   "metadata": {},
   "outputs": [
    {
     "data": {
      "text/plain": [
       "array([[1.        , 0.21839599],\n",
       "       [0.21839599, 1.        ]])"
      ]
     },
     "execution_count": 103,
     "metadata": {},
     "output_type": "execute_result"
    },
    {
     "data": {
      "image/png": "[encoded data removed]",
      "text/plain": [
       "<Figure size 432x288 with 1 Axes>"
      ]
     },
     "metadata": {
      "needs_background": "light"
     },
     "output_type": "display_data"
    }
   ],
   "source": [
    "plt.plot(y_hat_2020['ds'], y_hat_2020['yhat'])\n",
    "plt.plot(df_2020['ds'],df_2020['y'])\n",
    "#find the correlation between y_hat and y_true\n",
    "y_hat_2020_trim = y_hat_2020.iloc[::2]\n",
    "np.corrcoef(y_hat_2020_trim['yhat'], df_2020['y'])"
   ]
  },
  {
   "cell_type": "code",
   "execution_count": 104,
   "id": "selective-japanese",
   "metadata": {},
   "outputs": [
    {
     "name": "stderr",
     "output_type": "stream",
     "text": [
      "INFO:fbprophet:Disabling daily seasonality. Run prophet with daily_seasonality=True to override this.\n"
     ]
    },
    {
     "data": {
      "image/png": "[encoded data removed]",
      "text/plain": [
       "<Figure size 720x432 with 1 Axes>"
      ]
     },
     "metadata": {},
     "output_type": "display_data"
    }
   ],
   "source": [
    "#try fitting 2017-2019 to predit 2020\n",
    "df_pre2020 = pd.concat([df_2017,df_2018,df_2019])\n",
    "m_2020 = Prophet(yearly_seasonality=True, weekly_seasonality=False)\n",
    "m_2020.fit(df_pre2020)\n",
    "future_all = m_2020.make_future_dataframe(periods=365)[-365:]\n",
    "forecast_2020_all = m_2020.predict(future_all)\n",
    "y_hat_2020_all = forecast_2020_all[['ds','yhat']]\n",
    "fig4 = m_2020.plot(forecast_2020_all)"
   ]
  },
  {
   "cell_type": "code",
   "execution_count": 105,
   "id": "bright-falls",
   "metadata": {},
   "outputs": [
    {
     "data": {
      "text/plain": [
       "array([[ 1.      , -0.008737],\n",
       "       [-0.008737,  1.      ]])"
      ]
     },
     "execution_count": 105,
     "metadata": {},
     "output_type": "execute_result"
    },
    {
     "data": {
      "image/png": "[encoded data removed]",
      "text/plain": [
       "<Figure size 432x288 with 1 Axes>"
      ]
     },
     "metadata": {
      "needs_background": "light"
     },
     "output_type": "display_data"
    }
   ],
   "source": [
    "plt.plot(y_hat_2020_all['ds'], y_hat_2020_all['yhat'])\n",
    "plt.plot(df_2020['ds'],df_2020['y'])\n",
    "#find correlation between true and predicted value\n",
    "y_hat_2020_all_trim = y_hat_2020_all.iloc[::2]\n",
    "np.corrcoef(y_hat_2020_all_trim['yhat'], df_2020['y'])"
   ]
  },
  {
   "cell_type": "code",
   "execution_count": 106,
   "id": "inside-fifty",
   "metadata": {},
   "outputs": [],
   "source": [
    "#TODO: Check for correlation between these two years\n",
    "#TODO: investigate changepoints of the prophet model\n",
    "#TODO: Try to smooth initial data more\n"
   ]
  }
 ],
 "metadata": {
  "kernelspec": {
   "display_name": "Python 3",
   "language": "python",
   "name": "python3"
  },
  "language_info": {
   "codemirror_mode": {
    "name": "ipython",
    "version": 3
   },
   "file_extension": ".py",
   "mimetype": "text/x-python",
   "name": "python",
   "nbconvert_exporter": "python",
   "pygments_lexer": "ipython3",
   "version": "3.7.9"
  }
 },
 "nbformat": 4,
 "nbformat_minor": 5
}
