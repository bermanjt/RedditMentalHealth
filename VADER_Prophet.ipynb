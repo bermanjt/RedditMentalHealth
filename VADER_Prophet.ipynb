{
 "cells": [
  {
   "cell_type": "code",
   "execution_count": 1,
   "id": "photographic-basics",
   "metadata": {},
   "outputs": [],
   "source": [
    "import pandas as pd\n",
    "import os\n",
    "from datetime import datetime\n",
    "from tqdm import tqdm\n",
    "from vaderSentiment.vaderSentiment import SentimentIntensityAnalyzer\n",
    "from fbprophet import Prophet\n",
    "import plotly\n",
    "from fbprophet.plot import plot_plotly, plot_components_plotly\n",
    "import matplotlib.pyplot as plt\n",
    "from matplotlib.pyplot import figure\n",
    "from scipy import signal\n",
    "import numpy as np\n",
    "import altair as alt"
   ]
  },
  {
   "cell_type": "code",
   "execution_count": 2,
   "id": "enabling-connecticut",
   "metadata": {},
   "outputs": [],
   "source": [
    "#change this to be whatever subreddit you want to analyze\n",
    "subreddit = 'Depression_Help'"
   ]
  },
  {
   "cell_type": "code",
   "execution_count": 3,
   "id": "final-marsh",
   "metadata": {},
   "outputs": [
    {
     "data": {
      "text/html": [
       "<div>\n",
       "<style scoped>\n",
       "    .dataframe tbody tr th:only-of-type {\n",
       "        vertical-align: middle;\n",
       "    }\n",
       "\n",
       "    .dataframe tbody tr th {\n",
       "        vertical-align: top;\n",
       "    }\n",
       "\n",
       "    .dataframe thead th {\n",
       "        text-align: right;\n",
       "    }\n",
       "</style>\n",
       "<table border=\"1\" class=\"dataframe\">\n",
       "  <thead>\n",
       "    <tr style=\"text-align: right;\">\n",
       "      <th></th>\n",
       "      <th>text</th>\n",
       "      <th>time</th>\n",
       "      <th>score</th>\n",
       "    </tr>\n",
       "  </thead>\n",
       "  <tbody>\n",
       "    <tr>\n",
       "      <th>0</th>\n",
       "      <td>I don't even know where to begin. I've never ...</td>\n",
       "      <td>01Jan2017</td>\n",
       "      <td>7</td>\n",
       "    </tr>\n",
       "    <tr>\n",
       "      <th>1</th>\n",
       "      <td>Earlier this year I lost a pillar in my life t...</td>\n",
       "      <td>01Jan2017</td>\n",
       "      <td>2</td>\n",
       "    </tr>\n",
       "    <tr>\n",
       "      <th>2</th>\n",
       "      <td>I am so filled with anger and rage I can't kee...</td>\n",
       "      <td>01Jan2017</td>\n",
       "      <td>3</td>\n",
       "    </tr>\n",
       "    <tr>\n",
       "      <th>3</th>\n",
       "      <td>I drink, to excess, then I get sad. Really sad...</td>\n",
       "      <td>01Jan2017</td>\n",
       "      <td>2</td>\n",
       "    </tr>\n",
       "    <tr>\n",
       "      <th>4</th>\n",
       "      <td>My closest childhood friend has had a rough se...</td>\n",
       "      <td>01Jan2017</td>\n",
       "      <td>3</td>\n",
       "    </tr>\n",
       "  </tbody>\n",
       "</table>\n",
       "</div>"
      ],
      "text/plain": [
       "                                                text       time score\n",
       "0   I don't even know where to begin. I've never ...  01Jan2017     7\n",
       "1  Earlier this year I lost a pillar in my life t...  01Jan2017     2\n",
       "2  I am so filled with anger and rage I can't kee...  01Jan2017     3\n",
       "3  I drink, to excess, then I get sad. Really sad...  01Jan2017     2\n",
       "4  My closest childhood friend has had a rough se...  01Jan2017     3"
      ]
     },
     "execution_count": 3,
     "metadata": {},
     "output_type": "execute_result"
    }
   ],
   "source": [
    "df = pd.read_csv(f'{subreddit}_data/raw_data_2017/01Jan2017.csv').drop(['Unnamed: 0'], axis = 1)\n",
    "for year in range(2017,2021):\n",
    "    #TODO: Change when changing subreddit\n",
    "    for file in os.listdir(f'{subreddit}_data/raw_data_{year}'):\n",
    "        if file[-3:] == 'csv':\n",
    "            #TODO: Change when changing subreddit\n",
    "            df_new = pd.read_csv(f'{subreddit}_data/raw_data_{year}/{file}').drop(['Unnamed: 0'], axis=1)\n",
    "            df_new.time = df_new.time.apply(lambda x: file[:-4])\n",
    "            df = pd.concat([df, df_new]).reset_index(drop=True)\n",
    "df.head()\n"
   ]
  },
  {
   "cell_type": "code",
   "execution_count": 4,
   "id": "golden-purse",
   "metadata": {},
   "outputs": [],
   "source": [
    "df.time = df.time.apply(lambda x: datetime.strptime(x, '%d%b%Y'))\n",
    "df = df.sort_values('time')"
   ]
  },
  {
   "cell_type": "code",
   "execution_count": 5,
   "id": "constitutional-mixer",
   "metadata": {},
   "outputs": [],
   "source": [
    "dates = sorted([datetime.strftime(datetime.strptime(file[:-4], '%d%b%Y'), '%Y-%m-%d') \\\n",
    "                for year in range(2017, 2021) \\\n",
    "                for file in os.listdir(f'{subreddit}_data/raw_data_{year}') \\\n",
    "                if file[-3:] == 'csv'])\n",
    "data = []\n",
    "df_text = df[df['text'] != '[deleted]']\n",
    "\n",
    "for date in dates:\n",
    "    data.append(df_text[df_text['time'] == datetime.strptime(date, '%Y-%m-%d')])"
   ]
  },
  {
   "cell_type": "code",
   "execution_count": 6,
   "id": "primary-christopher",
   "metadata": {
    "scrolled": true
   },
   "outputs": [
    {
     "name": "stderr",
     "output_type": "stream",
     "text": [
      "100%|██████████| 692/692 [04:05<00:00,  2.82it/s]\n"
     ]
    }
   ],
   "source": [
    "#prophet expects a dataframe with (date, value)\n",
    "prophet_input = pd.DataFrame(columns = ['ds','y'])\n",
    "analyzer = SentimentIntensityAnalyzer()\n",
    "for i in tqdm(range(0, len(data))):\n",
    "    texts = data[i]['text'].values\n",
    "    if (len(texts) == 0): \n",
    "        continue\n",
    "    date = data[i]['time'].iloc[0] #date will be the same for all values in list, just pick first\n",
    "    #iterate over the posts in the texts list\n",
    "    for j in texts:\n",
    "        try:\n",
    "            vs = analyzer.polarity_scores(j)\n",
    "            new_data = pd.DataFrame([[date, vs['compound']]], columns = ['ds','y'])\n",
    "            prophet_input = pd.concat([prophet_input, new_data], ignore_index = True)\n",
    "        except:\n",
    "            print(\"We couldn't process this post because it was: \", j)\n",
    "            continue\n"
   ]
  },
  {
   "cell_type": "code",
   "execution_count": 7,
   "id": "balanced-start",
   "metadata": {},
   "outputs": [],
   "source": [
    "#need to split dataframe that was created above into four chunks (based on year) and then groupby date\n",
    "data_2017 = prophet_input[prophet_input['ds'].dt.year == 2017] \n",
    "data_2018 = prophet_input[prophet_input['ds'].dt.year == 2018] \n",
    "data_2019 = prophet_input[prophet_input['ds'].dt.year == 2019] \n",
    "data_2020 = prophet_input[prophet_input['ds'].dt.year == 2020] \n",
    "grouped_2017 = data_2017.groupby([data_2017['ds'].dt.date]).mean()\n",
    "grouped_2018 = data_2018.groupby([data_2018['ds'].dt.date]).mean()\n",
    "grouped_2019 = data_2019.groupby([data_2019['ds'].dt.date]).mean()\n",
    "grouped_2020 = data_2020.groupby([data_2020['ds'].dt.date]).mean()\n",
    "df_2017 = grouped_2017.reset_index()\n",
    "df_2018 = grouped_2018.reset_index()\n",
    "df_2019 = grouped_2019.reset_index()\n",
    "df_2020 = grouped_2020.reset_index()\n",
    "df_all_years = pd.concat([df_2017,df_2018,df_2019,df_2020])\n",
    "df_all_years.set_index('ds', inplace = True)"
   ]
  },
  {
   "cell_type": "code",
   "execution_count": 8,
   "id": "standard-latest",
   "metadata": {},
   "outputs": [],
   "source": [
    "freq = df_all_years.reset_index().rename(columns ={'ds': 'date', 'y':'Average Vader Score'})\n",
    "#get rolling average of all data and plot it overtime\n",
    "smoothed_vader_score = df_all_years.rolling(30).mean().reset_index().rename(columns ={'ds': 'date', 'y':'Average Vader Score'})\n",
    "#convert to datetime because altair was being weird\n",
    "freq[\"date\"] = pd.to_datetime(freq[\"date\"])\n",
    "smoothed_vader_score[\"date\"] = pd.to_datetime(smoothed_vader_score[\"date\"])\n",
    "series = alt.Chart(freq).mark_line(opacity=0.3,\n",
    "                                  ).encode(x='date', y='Average Vader Score'\n",
    "                                  ).properties(title=f'VADER compound score of post on r/{subreddit}' \n",
    "                                  ).interactive(bind_y=False)\n",
    "\n",
    "smoothed = alt.Chart(smoothed_vader_score.reset_index()).mark_line(\n",
    "                                                           ).encode(x='date', y='Average Vader Score'\n",
    "                                                           ).properties(title=f'Vader score of r/{subreddit} Posts' \n",
    "                                                           ).interactive(bind_y=False)\n",
    "\n",
    "chart = (series + smoothed).properties(width=800, height=300)\n",
    "chart.save(f'figures/{subreddit}/VADER_Score.html')\n"
   ]
  },
  {
   "cell_type": "code",
   "execution_count": 9,
   "id": "weekly-remove",
   "metadata": {},
   "outputs": [
    {
     "name": "stdout",
     "output_type": "stream",
     "text": [
      "ds\n",
      "2017-01-01   -0.412406\n",
      "2017-01-03    0.406394\n",
      "2017-01-05    0.491135\n",
      "2017-01-07    0.606189\n",
      "2017-01-09    0.411971\n",
      "                ...   \n",
      "2020-12-22    0.503179\n",
      "2020-12-24    0.859734\n",
      "2020-12-26    0.611158\n",
      "2020-12-28    0.748556\n",
      "2020-12-30    0.407316\n",
      "Name: y, Length: 690, dtype: float64\n"
     ]
    },
    {
     "data": {
      "text/plain": [
       "<matplotlib.collections.PolyCollection at 0x1a21f85ad0>"
      ]
     },
     "execution_count": 9,
     "metadata": {},
     "output_type": "execute_result"
    },
    {
     "data": {
      "image/png": "[encoded data removed]",
      "text/plain": [
       "<Figure size 432x288 with 1 Axes>"
      ]
     },
     "metadata": {
      "needs_background": "light"
     },
     "output_type": "display_data"
    }
   ],
   "source": [
    "# prophet_input['ds'] = prophet_input['ds'].apply(lambda x: x.replace(day = 1))\n",
    "mean_df = prophet_input.groupby(prophet_input['ds'].dt.date).mean().rolling(30)\n",
    "std_df = prophet_input.groupby(prophet_input['ds'].dt.date).std().rolling(30)\n",
    "\n",
    "plt.plot(mean_df['y'],'-')\n",
    "print(mean_df['y']+std_df['y'])\n",
    "\n",
    "plt.fill_between(mean_df.index, mean_df['y']+std_df['y'], mean_df['y']-std_df['y'], color='gray')"
   ]
  },
  {
   "cell_type": "code",
   "execution_count": 18,
   "id": "lyric-catalog",
   "metadata": {},
   "outputs": [
    {
     "name": "stdout",
     "output_type": "stream",
     "text": [
      "             ds         y\n",
      "0    2017-01-01       NaN\n",
      "1    2017-01-03       NaN\n",
      "2    2017-01-05       NaN\n",
      "3    2017-01-07       NaN\n",
      "4    2017-01-09       NaN\n",
      "..          ...       ...\n",
      "685  2020-12-22  0.590084\n",
      "686  2020-12-24  0.570243\n",
      "687  2020-12-26  0.564071\n",
      "688  2020-12-28  0.568837\n",
      "689  2020-12-30  0.593827\n",
      "\n",
      "[690 rows x 2 columns]\n"
     ]
    }
   ],
   "source": [
    "df_all = pd.concat([data_2017,data_2018,data_2019,data_2020])\n",
    "df_low_VADER = df_all[df_all['y'] < -0.05]\n",
    "posts_per_day_low_VADER = df_low_VADER.groupby([df_low_VADER['ds'].dt.date]).count().drop(columns=['ds'])\n",
    "posts_per_day = df_all.groupby([df_all['ds'].dt.date]).count().drop(columns=['ds'])\n",
    "\n",
    "normalized_VADER_count = (posts_per_day_low_VADER/posts_per_day)\n",
    "smoothed_VADER = normalized_VADER_count.rolling(7).mean().reset_index()\n",
    "print(smoothed_VADER)\n",
    "smoothed_VADER['ds'] = pd.to_datetime(smoothed_VADER['ds'])\n",
    "\n",
    "VADER_Norm_Posts = alt.Chart(smoothed_VADER).interactive(bind_y=False).mark_line(opacity=0.3).encode(x='ds',y='y').properties(title=f'Frequency of posts with compound score less than -0.05 on r/{subreddit} normalized by number of posts (on that day)')\n",
    "chart = (VADER_Norm_Posts).properties(width=800, height=300)\n",
    "chart.save(f'figures/{subreddit}/Frequency_of_low_VADER_norm_posts.html')"
   ]
  },
  {
   "cell_type": "code",
   "execution_count": null,
   "id": "modern-baseline",
   "metadata": {},
   "outputs": [],
   "source": [
    "trend = pd.read_csv(f'{subreddit}_data/subscriber_count.csv')\n",
    "trend['subscribers'] = trend['subscribers'].interpolate()\n",
    "trend['date'] = trend['date'].apply(lambda x: datetime.strptime(x, '%Y-%m-%d %H:%M').replace(hour=0, minute=0))\n",
    "overlap = pd.DataFrame()\n",
    "dates = freq[freq['date'].isin(trend.date)]['date']\n",
    "overlap['date'] = dates\n",
    "overlap_subs = trend[trend['date'].isin(dates)].reset_index().drop(['index'], axis=1)\n",
    "overlap_subs_new = overlap_subs.set_index('date')\n",
    "normalized_VADER_subscribers = (posts_per_day_low_VADER['y']/overlap_subs_new['subscribers'])\n",
    "df_subs = pd.DataFrame({'date': a, 'count':normalized_VADER_subscribers}).reset_index().drop(columns=['index'])\n",
    "df_subs['date'] = pd.to_datetime(df['date'])\n",
    "df_new_subs = df_subs\n",
    "df_new_subs['count'] = df_new_subs['count'].rolling(7).mean()\n",
    "#VADER_Norm_Subs = alt.Chart(df_subs).interactive(bind_y=False).mark_line(opacity=0.3).encode(x='date', y='count').properties(title=f'Frequency of posts with compound score less than -0.05 on r/{subreddit} normalized by number of subscribers (on that day)')\n",
    "VADER_Norm_Subs_rolling = alt.Chart(df_new_subs).mark_line(opacity=0.3).interactive(bind_y=False).encode(x='date', y='count')\n",
    "chart = (VADER_Norm_Subs_rolling).properties(width=800, height=300)\n",
    "chart.save(f'figures/{subreddit}/Frequency_of_low_VADER_norm_subs.html')\n",
    "\n",
    "\n",
    "\n"
   ]
  },
  {
   "cell_type": "markdown",
   "id": "awful-gates",
   "metadata": {},
   "source": [
    "## Everything below this line is for predicting with Prophet, TBD if this will still even be used"
   ]
  },
  {
   "cell_type": "code",
   "execution_count": null,
   "id": "crazy-dominant",
   "metadata": {},
   "outputs": [],
   "source": [
    "#periodgram of data\n",
    "f, Pxx_den = signal.periodogram(df_all_years['y'])\n",
    "plt.semilogy(f, Pxx_den)\n",
    "plt.ylim([1e-7, 1e2])\n",
    "plt.xlabel('frequency [Hz]')\n",
    "plt.ylabel('PSD [V**2/Hz]')\n",
    "plt.show()"
   ]
  },
  {
   "cell_type": "code",
   "execution_count": null,
   "id": "adopted-programming",
   "metadata": {},
   "outputs": [],
   "source": [
    "#start fitting data using Prophet model\n",
    "m_2017 = Prophet(weekly_seasonality=False)\n",
    "#fit model with 2017 data, use the to predict 2018 data\n",
    "m_2017.fit(df_2017)\n",
    "future_2018 = m_2017.make_future_dataframe(periods=365)[-365:]\n",
    "forecast_2018 = m_2017.predict(future_2018)\n",
    "y_hat_2018 = forecast_2018[['ds','yhat']]\n",
    "fig1 = m_2017.plot(forecast_2018)\n",
    "#m_2017.plot_components(forecast_2018)"
   ]
  },
  {
   "cell_type": "code",
   "execution_count": null,
   "id": "standard-acoustic",
   "metadata": {},
   "outputs": [],
   "source": [
    "#plot predicted_2018 vs true_2018 to check for similarities\n",
    "plt.plot(y_hat_2018['ds'], y_hat_2018['yhat'])\n",
    "plt.plot(df_2018['ds'],df_2018['y'])\n",
    "#find correlation between the two values as well\n",
    "y_hat_2018_trim = y_hat_2018.iloc[::2]\n",
    "print(np.corrcoef(y_hat_2018_trim['yhat'], df_2018['y']))"
   ]
  },
  {
   "cell_type": "code",
   "execution_count": null,
   "id": "prepared-jerusalem",
   "metadata": {},
   "outputs": [],
   "source": [
    "m_2018 = Prophet(weekly_seasonality=False)\n",
    "#fit model with 2018 data, use the to predict 2019 data\n",
    "m_2018.fit(df_2018)\n",
    "future_2019 = m_2018.make_future_dataframe(periods=365)[-365:]\n",
    "forecast_2019 = m_2018.predict(future_2019)\n",
    "y_hat_2019 = forecast_2019[['ds','yhat']]\n",
    "y_hat_2019 = y_hat_2019.iloc[::2]\n",
    "fig2 = m_2018.plot(forecast_2019)"
   ]
  },
  {
   "cell_type": "code",
   "execution_count": null,
   "id": "nominated-senegal",
   "metadata": {},
   "outputs": [],
   "source": [
    "#plot predicted_2019 vs true_2019 to check for similarities\n",
    "plt.plot(y_hat_2019['ds'], y_hat_2019['yhat'])\n",
    "plt.plot(df_2019['ds'],df_2019['y'])\n",
    "#find the correlation between y_hat and y_true\n",
    "y_hat_2019_trim = y_hat_2019.iloc[::2]\n",
    "np.corrcoef(y_hat_2019['yhat'], df_2019['y'])"
   ]
  },
  {
   "cell_type": "code",
   "execution_count": null,
   "id": "happy-spirit",
   "metadata": {},
   "outputs": [],
   "source": [
    "m_2019 = Prophet(weekly_seasonality=False)\n",
    "#fit model with 2018 data, use the to predict 2019 data\n",
    "m_2019.fit(df_2019)\n",
    "future_2020 = m_2019.make_future_dataframe(periods=365)[-365:]\n",
    "forecast_2020 = m_2019.predict(future_2020)\n",
    "y_hat_2020 = forecast_2020[['ds','yhat']]\n",
    "fig3 = m_2019.plot(forecast_2020)"
   ]
  },
  {
   "cell_type": "code",
   "execution_count": null,
   "id": "lyric-extension",
   "metadata": {},
   "outputs": [],
   "source": [
    "plt.plot(y_hat_2020['ds'], y_hat_2020['yhat'])\n",
    "plt.plot(df_2020['ds'],df_2020['y'])\n",
    "#find the correlation between y_hat and y_true\n",
    "y_hat_2020_trim = y_hat_2020.iloc[::2]\n",
    "np.corrcoef(y_hat_2020_trim['yhat'], df_2020['y'])"
   ]
  },
  {
   "cell_type": "code",
   "execution_count": null,
   "id": "living-cursor",
   "metadata": {},
   "outputs": [],
   "source": [
    "#try fitting 2017-2019 to predit 2020\n",
    "df_pre2020 = pd.concat([df_2017,df_2018,df_2019])\n",
    "m_2020 = Prophet(weekly_seasonality=False, yearly_seasonality=True)\n",
    "m_2020.fit(df_pre2020)\n",
    "future_all = m_2020.make_future_dataframe(periods=365)[-365:]\n",
    "forecast_2020_all = m_2020.predict(future_all)\n",
    "y_hat_2020_all = forecast_2020_all[['ds','yhat']]\n",
    "fig4 = m_2020.plot(forecast_2020_all)"
   ]
  },
  {
   "cell_type": "code",
   "execution_count": null,
   "id": "unlikely-stability",
   "metadata": {},
   "outputs": [],
   "source": [
    "plt.plot(y_hat_2020_all['ds'], y_hat_2020_all['yhat'])\n",
    "plt.plot(df_2020['ds'],df_2020['y'])\n",
    "#find correlation between true and predicted value\n",
    "y_hat_2020_all_trim = y_hat_2020_all.iloc[::2]\n",
    "np.corrcoef(y_hat_2020_all_trim['yhat'], df_2020['y'])"
   ]
  },
  {
   "cell_type": "code",
   "execution_count": null,
   "id": "inside-fifty",
   "metadata": {},
   "outputs": [],
   "source": [
    "#TODO: Check for correlation between these two years\n",
    "#TODO: investigate changepoints of the prophet model\n",
    "#TODO: Try to smooth initial data more\n"
   ]
  },
  {
   "cell_type": "code",
   "execution_count": null,
   "id": "sustained-finding",
   "metadata": {},
   "outputs": [],
   "source": []
  }
 ],
 "metadata": {
  "kernelspec": {
   "display_name": "Python 3",
   "language": "python",
   "name": "python3"
  },
  "language_info": {
   "codemirror_mode": {
    "name": "ipython",
    "version": 3
   },
   "file_extension": ".py",
   "mimetype": "text/x-python",
   "name": "python",
   "nbconvert_exporter": "python",
   "pygments_lexer": "ipython3",
   "version": "3.7.9"
  }
 },
 "nbformat": 4,
 "nbformat_minor": 5
}
